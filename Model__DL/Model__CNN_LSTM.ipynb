{
  "nbformat": 4,
  "nbformat_minor": 0,
  "metadata": {
    "colab": {
      "name": "Model__CNN_LSTM",
      "provenance": [],
      "collapsed_sections": [
        "V-PLhB0PxXM7",
        "bu7-xHlEyrht",
        "3Uvv_C1Cxeuw",
        "aTed41xMUhNB",
        "NaimpmsdU53y",
        "raadxEyHYONe"
      ],
      "mount_file_id": "1vNMeVH6Wok2_r1ce2gYhvh_iMSM-FzZm",
      "authorship_tag": "ABX9TyOBur72Xi4skWon4R8bt8va",
      "include_colab_link": true
    },
    "kernelspec": {
      "display_name": "Python 3",
      "name": "python3"
    },
    "language_info": {
      "name": "python"
    },
    "widgets": {
      "application/vnd.jupyter.widget-state+json": {
        "37541f6a1fb44daa8df4402228b9b9fc": {
          "model_module": "@jupyter-widgets/controls",
          "model_name": "HBoxModel",
          "state": {
            "_view_name": "HBoxView",
            "_dom_classes": [],
            "_model_name": "HBoxModel",
            "_view_module": "@jupyter-widgets/controls",
            "_model_module_version": "1.5.0",
            "_view_count": null,
            "_view_module_version": "1.5.0",
            "box_style": "",
            "layout": "IPY_MODEL_c9ecd0a522444bd09784951bcebffa91",
            "_model_module": "@jupyter-widgets/controls",
            "children": [
              "IPY_MODEL_61ea8c9f3c954fd3b26ddc15c80f1185",
              "IPY_MODEL_ca532ea808f149b795a3b418d19ddc5c"
            ]
          }
        },
        "c9ecd0a522444bd09784951bcebffa91": {
          "model_module": "@jupyter-widgets/base",
          "model_name": "LayoutModel",
          "state": {
            "_view_name": "LayoutView",
            "grid_template_rows": null,
            "right": null,
            "justify_content": null,
            "_view_module": "@jupyter-widgets/base",
            "overflow": null,
            "_model_module_version": "1.2.0",
            "_view_count": null,
            "flex_flow": null,
            "width": null,
            "min_width": null,
            "border": null,
            "align_items": null,
            "bottom": null,
            "_model_module": "@jupyter-widgets/base",
            "top": null,
            "grid_column": null,
            "overflow_y": null,
            "overflow_x": null,
            "grid_auto_flow": null,
            "grid_area": null,
            "grid_template_columns": null,
            "flex": null,
            "_model_name": "LayoutModel",
            "justify_items": null,
            "grid_row": null,
            "max_height": null,
            "align_content": null,
            "visibility": null,
            "align_self": null,
            "height": null,
            "min_height": null,
            "padding": null,
            "grid_auto_rows": null,
            "grid_gap": null,
            "max_width": null,
            "order": null,
            "_view_module_version": "1.2.0",
            "grid_template_areas": null,
            "object_position": null,
            "object_fit": null,
            "grid_auto_columns": null,
            "margin": null,
            "display": null,
            "left": null
          }
        },
        "61ea8c9f3c954fd3b26ddc15c80f1185": {
          "model_module": "@jupyter-widgets/controls",
          "model_name": "FloatProgressModel",
          "state": {
            "_view_name": "ProgressView",
            "style": "IPY_MODEL_6ae9d65bf3d7418db84b0d6faf47c7a6",
            "_dom_classes": [],
            "description": "100%",
            "_model_name": "FloatProgressModel",
            "bar_style": "success",
            "max": 7,
            "_view_module": "@jupyter-widgets/controls",
            "_model_module_version": "1.5.0",
            "value": 7,
            "_view_count": null,
            "_view_module_version": "1.5.0",
            "orientation": "horizontal",
            "min": 0,
            "description_tooltip": null,
            "_model_module": "@jupyter-widgets/controls",
            "layout": "IPY_MODEL_bec2e6d42c2c440fbe9210223ed31dd2"
          }
        },
        "ca532ea808f149b795a3b418d19ddc5c": {
          "model_module": "@jupyter-widgets/controls",
          "model_name": "HTMLModel",
          "state": {
            "_view_name": "HTMLView",
            "style": "IPY_MODEL_1d5306911cc54c688b0585d8f98100d0",
            "_dom_classes": [],
            "description": "",
            "_model_name": "HTMLModel",
            "placeholder": "​",
            "_view_module": "@jupyter-widgets/controls",
            "_model_module_version": "1.5.0",
            "value": " 7/7 [01:11&lt;00:00, 10.25s/it]",
            "_view_count": null,
            "_view_module_version": "1.5.0",
            "description_tooltip": null,
            "_model_module": "@jupyter-widgets/controls",
            "layout": "IPY_MODEL_80cc312ecd7e44afb7dff00908baadc9"
          }
        },
        "6ae9d65bf3d7418db84b0d6faf47c7a6": {
          "model_module": "@jupyter-widgets/controls",
          "model_name": "ProgressStyleModel",
          "state": {
            "_view_name": "StyleView",
            "_model_name": "ProgressStyleModel",
            "description_width": "initial",
            "_view_module": "@jupyter-widgets/base",
            "_model_module_version": "1.5.0",
            "_view_count": null,
            "_view_module_version": "1.2.0",
            "bar_color": null,
            "_model_module": "@jupyter-widgets/controls"
          }
        },
        "bec2e6d42c2c440fbe9210223ed31dd2": {
          "model_module": "@jupyter-widgets/base",
          "model_name": "LayoutModel",
          "state": {
            "_view_name": "LayoutView",
            "grid_template_rows": null,
            "right": null,
            "justify_content": null,
            "_view_module": "@jupyter-widgets/base",
            "overflow": null,
            "_model_module_version": "1.2.0",
            "_view_count": null,
            "flex_flow": null,
            "width": null,
            "min_width": null,
            "border": null,
            "align_items": null,
            "bottom": null,
            "_model_module": "@jupyter-widgets/base",
            "top": null,
            "grid_column": null,
            "overflow_y": null,
            "overflow_x": null,
            "grid_auto_flow": null,
            "grid_area": null,
            "grid_template_columns": null,
            "flex": null,
            "_model_name": "LayoutModel",
            "justify_items": null,
            "grid_row": null,
            "max_height": null,
            "align_content": null,
            "visibility": null,
            "align_self": null,
            "height": null,
            "min_height": null,
            "padding": null,
            "grid_auto_rows": null,
            "grid_gap": null,
            "max_width": null,
            "order": null,
            "_view_module_version": "1.2.0",
            "grid_template_areas": null,
            "object_position": null,
            "object_fit": null,
            "grid_auto_columns": null,
            "margin": null,
            "display": null,
            "left": null
          }
        },
        "1d5306911cc54c688b0585d8f98100d0": {
          "model_module": "@jupyter-widgets/controls",
          "model_name": "DescriptionStyleModel",
          "state": {
            "_view_name": "StyleView",
            "_model_name": "DescriptionStyleModel",
            "description_width": "",
            "_view_module": "@jupyter-widgets/base",
            "_model_module_version": "1.5.0",
            "_view_count": null,
            "_view_module_version": "1.2.0",
            "_model_module": "@jupyter-widgets/controls"
          }
        },
        "80cc312ecd7e44afb7dff00908baadc9": {
          "model_module": "@jupyter-widgets/base",
          "model_name": "LayoutModel",
          "state": {
            "_view_name": "LayoutView",
            "grid_template_rows": null,
            "right": null,
            "justify_content": null,
            "_view_module": "@jupyter-widgets/base",
            "overflow": null,
            "_model_module_version": "1.2.0",
            "_view_count": null,
            "flex_flow": null,
            "width": null,
            "min_width": null,
            "border": null,
            "align_items": null,
            "bottom": null,
            "_model_module": "@jupyter-widgets/base",
            "top": null,
            "grid_column": null,
            "overflow_y": null,
            "overflow_x": null,
            "grid_auto_flow": null,
            "grid_area": null,
            "grid_template_columns": null,
            "flex": null,
            "_model_name": "LayoutModel",
            "justify_items": null,
            "grid_row": null,
            "max_height": null,
            "align_content": null,
            "visibility": null,
            "align_self": null,
            "height": null,
            "min_height": null,
            "padding": null,
            "grid_auto_rows": null,
            "grid_gap": null,
            "max_width": null,
            "order": null,
            "_view_module_version": "1.2.0",
            "grid_template_areas": null,
            "object_position": null,
            "object_fit": null,
            "grid_auto_columns": null,
            "margin": null,
            "display": null,
            "left": null
          }
        },
        "21e0b3b59df64927b0ac759f7461900b": {
          "model_module": "@jupyter-widgets/controls",
          "model_name": "HBoxModel",
          "state": {
            "_view_name": "HBoxView",
            "_dom_classes": [],
            "_model_name": "HBoxModel",
            "_view_module": "@jupyter-widgets/controls",
            "_model_module_version": "1.5.0",
            "_view_count": null,
            "_view_module_version": "1.5.0",
            "box_style": "",
            "layout": "IPY_MODEL_674352ecb4e54548b6648c0db0eb03c0",
            "_model_module": "@jupyter-widgets/controls",
            "children": [
              "IPY_MODEL_01b2524bd03940b184dbb29df955090a",
              "IPY_MODEL_e1d1e645c3c942208b5196a272982139"
            ]
          }
        },
        "674352ecb4e54548b6648c0db0eb03c0": {
          "model_module": "@jupyter-widgets/base",
          "model_name": "LayoutModel",
          "state": {
            "_view_name": "LayoutView",
            "grid_template_rows": null,
            "right": null,
            "justify_content": null,
            "_view_module": "@jupyter-widgets/base",
            "overflow": null,
            "_model_module_version": "1.2.0",
            "_view_count": null,
            "flex_flow": null,
            "width": null,
            "min_width": null,
            "border": null,
            "align_items": null,
            "bottom": null,
            "_model_module": "@jupyter-widgets/base",
            "top": null,
            "grid_column": null,
            "overflow_y": null,
            "overflow_x": null,
            "grid_auto_flow": null,
            "grid_area": null,
            "grid_template_columns": null,
            "flex": null,
            "_model_name": "LayoutModel",
            "justify_items": null,
            "grid_row": null,
            "max_height": null,
            "align_content": null,
            "visibility": null,
            "align_self": null,
            "height": null,
            "min_height": null,
            "padding": null,
            "grid_auto_rows": null,
            "grid_gap": null,
            "max_width": null,
            "order": null,
            "_view_module_version": "1.2.0",
            "grid_template_areas": null,
            "object_position": null,
            "object_fit": null,
            "grid_auto_columns": null,
            "margin": null,
            "display": null,
            "left": null
          }
        },
        "01b2524bd03940b184dbb29df955090a": {
          "model_module": "@jupyter-widgets/controls",
          "model_name": "FloatProgressModel",
          "state": {
            "_view_name": "ProgressView",
            "style": "IPY_MODEL_051063d147d349e89f8e1a890a1d3873",
            "_dom_classes": [],
            "description": "100%",
            "_model_name": "FloatProgressModel",
            "bar_style": "success",
            "max": 7,
            "_view_module": "@jupyter-widgets/controls",
            "_model_module_version": "1.5.0",
            "value": 7,
            "_view_count": null,
            "_view_module_version": "1.5.0",
            "orientation": "horizontal",
            "min": 0,
            "description_tooltip": null,
            "_model_module": "@jupyter-widgets/controls",
            "layout": "IPY_MODEL_2554db7d36eb40e6acc77dac1fe24e58"
          }
        },
        "e1d1e645c3c942208b5196a272982139": {
          "model_module": "@jupyter-widgets/controls",
          "model_name": "HTMLModel",
          "state": {
            "_view_name": "HTMLView",
            "style": "IPY_MODEL_42b5f8f20ee542e68c9feaff18fde49e",
            "_dom_classes": [],
            "description": "",
            "_model_name": "HTMLModel",
            "placeholder": "​",
            "_view_module": "@jupyter-widgets/controls",
            "_model_module_version": "1.5.0",
            "value": " 7/7 [00:00&lt;00:00, 33.48it/s]",
            "_view_count": null,
            "_view_module_version": "1.5.0",
            "description_tooltip": null,
            "_model_module": "@jupyter-widgets/controls",
            "layout": "IPY_MODEL_cc02291056bf4995a5015ae71cd879c4"
          }
        },
        "051063d147d349e89f8e1a890a1d3873": {
          "model_module": "@jupyter-widgets/controls",
          "model_name": "ProgressStyleModel",
          "state": {
            "_view_name": "StyleView",
            "_model_name": "ProgressStyleModel",
            "description_width": "initial",
            "_view_module": "@jupyter-widgets/base",
            "_model_module_version": "1.5.0",
            "_view_count": null,
            "_view_module_version": "1.2.0",
            "bar_color": null,
            "_model_module": "@jupyter-widgets/controls"
          }
        },
        "2554db7d36eb40e6acc77dac1fe24e58": {
          "model_module": "@jupyter-widgets/base",
          "model_name": "LayoutModel",
          "state": {
            "_view_name": "LayoutView",
            "grid_template_rows": null,
            "right": null,
            "justify_content": null,
            "_view_module": "@jupyter-widgets/base",
            "overflow": null,
            "_model_module_version": "1.2.0",
            "_view_count": null,
            "flex_flow": null,
            "width": null,
            "min_width": null,
            "border": null,
            "align_items": null,
            "bottom": null,
            "_model_module": "@jupyter-widgets/base",
            "top": null,
            "grid_column": null,
            "overflow_y": null,
            "overflow_x": null,
            "grid_auto_flow": null,
            "grid_area": null,
            "grid_template_columns": null,
            "flex": null,
            "_model_name": "LayoutModel",
            "justify_items": null,
            "grid_row": null,
            "max_height": null,
            "align_content": null,
            "visibility": null,
            "align_self": null,
            "height": null,
            "min_height": null,
            "padding": null,
            "grid_auto_rows": null,
            "grid_gap": null,
            "max_width": null,
            "order": null,
            "_view_module_version": "1.2.0",
            "grid_template_areas": null,
            "object_position": null,
            "object_fit": null,
            "grid_auto_columns": null,
            "margin": null,
            "display": null,
            "left": null
          }
        },
        "42b5f8f20ee542e68c9feaff18fde49e": {
          "model_module": "@jupyter-widgets/controls",
          "model_name": "DescriptionStyleModel",
          "state": {
            "_view_name": "StyleView",
            "_model_name": "DescriptionStyleModel",
            "description_width": "",
            "_view_module": "@jupyter-widgets/base",
            "_model_module_version": "1.5.0",
            "_view_count": null,
            "_view_module_version": "1.2.0",
            "_model_module": "@jupyter-widgets/controls"
          }
        },
        "cc02291056bf4995a5015ae71cd879c4": {
          "model_module": "@jupyter-widgets/base",
          "model_name": "LayoutModel",
          "state": {
            "_view_name": "LayoutView",
            "grid_template_rows": null,
            "right": null,
            "justify_content": null,
            "_view_module": "@jupyter-widgets/base",
            "overflow": null,
            "_model_module_version": "1.2.0",
            "_view_count": null,
            "flex_flow": null,
            "width": null,
            "min_width": null,
            "border": null,
            "align_items": null,
            "bottom": null,
            "_model_module": "@jupyter-widgets/base",
            "top": null,
            "grid_column": null,
            "overflow_y": null,
            "overflow_x": null,
            "grid_auto_flow": null,
            "grid_area": null,
            "grid_template_columns": null,
            "flex": null,
            "_model_name": "LayoutModel",
            "justify_items": null,
            "grid_row": null,
            "max_height": null,
            "align_content": null,
            "visibility": null,
            "align_self": null,
            "height": null,
            "min_height": null,
            "padding": null,
            "grid_auto_rows": null,
            "grid_gap": null,
            "max_width": null,
            "order": null,
            "_view_module_version": "1.2.0",
            "grid_template_areas": null,
            "object_position": null,
            "object_fit": null,
            "grid_auto_columns": null,
            "margin": null,
            "display": null,
            "left": null
          }
        },
        "45472acb5bf94618a955a2688997bf46": {
          "model_module": "@jupyter-widgets/controls",
          "model_name": "HBoxModel",
          "state": {
            "_view_name": "HBoxView",
            "_dom_classes": [],
            "_model_name": "HBoxModel",
            "_view_module": "@jupyter-widgets/controls",
            "_model_module_version": "1.5.0",
            "_view_count": null,
            "_view_module_version": "1.5.0",
            "box_style": "",
            "layout": "IPY_MODEL_8698ecc6c0c64a2ab7d705b800446db8",
            "_model_module": "@jupyter-widgets/controls",
            "children": [
              "IPY_MODEL_6bba06d64838412caefca7bb7dd5f519",
              "IPY_MODEL_50e81d61226f40f6a53c371e84204bfd"
            ]
          }
        },
        "8698ecc6c0c64a2ab7d705b800446db8": {
          "model_module": "@jupyter-widgets/base",
          "model_name": "LayoutModel",
          "state": {
            "_view_name": "LayoutView",
            "grid_template_rows": null,
            "right": null,
            "justify_content": null,
            "_view_module": "@jupyter-widgets/base",
            "overflow": null,
            "_model_module_version": "1.2.0",
            "_view_count": null,
            "flex_flow": null,
            "width": null,
            "min_width": null,
            "border": null,
            "align_items": null,
            "bottom": null,
            "_model_module": "@jupyter-widgets/base",
            "top": null,
            "grid_column": null,
            "overflow_y": null,
            "overflow_x": null,
            "grid_auto_flow": null,
            "grid_area": null,
            "grid_template_columns": null,
            "flex": null,
            "_model_name": "LayoutModel",
            "justify_items": null,
            "grid_row": null,
            "max_height": null,
            "align_content": null,
            "visibility": null,
            "align_self": null,
            "height": null,
            "min_height": null,
            "padding": null,
            "grid_auto_rows": null,
            "grid_gap": null,
            "max_width": null,
            "order": null,
            "_view_module_version": "1.2.0",
            "grid_template_areas": null,
            "object_position": null,
            "object_fit": null,
            "grid_auto_columns": null,
            "margin": null,
            "display": null,
            "left": null
          }
        },
        "6bba06d64838412caefca7bb7dd5f519": {
          "model_module": "@jupyter-widgets/controls",
          "model_name": "FloatProgressModel",
          "state": {
            "_view_name": "ProgressView",
            "style": "IPY_MODEL_08bd177d537b43bb974b7386e6f26ceb",
            "_dom_classes": [],
            "description": "100%",
            "_model_name": "FloatProgressModel",
            "bar_style": "success",
            "max": 4,
            "_view_module": "@jupyter-widgets/controls",
            "_model_module_version": "1.5.0",
            "value": 4,
            "_view_count": null,
            "_view_module_version": "1.5.0",
            "orientation": "horizontal",
            "min": 0,
            "description_tooltip": null,
            "_model_module": "@jupyter-widgets/controls",
            "layout": "IPY_MODEL_9d530b02f50c4d69b9d21a5105998ab4"
          }
        },
        "50e81d61226f40f6a53c371e84204bfd": {
          "model_module": "@jupyter-widgets/controls",
          "model_name": "HTMLModel",
          "state": {
            "_view_name": "HTMLView",
            "style": "IPY_MODEL_90669fd8de5440bb84b629bbf4210903",
            "_dom_classes": [],
            "description": "",
            "_model_name": "HTMLModel",
            "placeholder": "​",
            "_view_module": "@jupyter-widgets/controls",
            "_model_module_version": "1.5.0",
            "value": " 4/4 [00:01&lt;00:00,  2.04it/s]",
            "_view_count": null,
            "_view_module_version": "1.5.0",
            "description_tooltip": null,
            "_model_module": "@jupyter-widgets/controls",
            "layout": "IPY_MODEL_b037342bbfeb419ba462c8eef34635d5"
          }
        },
        "08bd177d537b43bb974b7386e6f26ceb": {
          "model_module": "@jupyter-widgets/controls",
          "model_name": "ProgressStyleModel",
          "state": {
            "_view_name": "StyleView",
            "_model_name": "ProgressStyleModel",
            "description_width": "initial",
            "_view_module": "@jupyter-widgets/base",
            "_model_module_version": "1.5.0",
            "_view_count": null,
            "_view_module_version": "1.2.0",
            "bar_color": null,
            "_model_module": "@jupyter-widgets/controls"
          }
        },
        "9d530b02f50c4d69b9d21a5105998ab4": {
          "model_module": "@jupyter-widgets/base",
          "model_name": "LayoutModel",
          "state": {
            "_view_name": "LayoutView",
            "grid_template_rows": null,
            "right": null,
            "justify_content": null,
            "_view_module": "@jupyter-widgets/base",
            "overflow": null,
            "_model_module_version": "1.2.0",
            "_view_count": null,
            "flex_flow": null,
            "width": null,
            "min_width": null,
            "border": null,
            "align_items": null,
            "bottom": null,
            "_model_module": "@jupyter-widgets/base",
            "top": null,
            "grid_column": null,
            "overflow_y": null,
            "overflow_x": null,
            "grid_auto_flow": null,
            "grid_area": null,
            "grid_template_columns": null,
            "flex": null,
            "_model_name": "LayoutModel",
            "justify_items": null,
            "grid_row": null,
            "max_height": null,
            "align_content": null,
            "visibility": null,
            "align_self": null,
            "height": null,
            "min_height": null,
            "padding": null,
            "grid_auto_rows": null,
            "grid_gap": null,
            "max_width": null,
            "order": null,
            "_view_module_version": "1.2.0",
            "grid_template_areas": null,
            "object_position": null,
            "object_fit": null,
            "grid_auto_columns": null,
            "margin": null,
            "display": null,
            "left": null
          }
        },
        "90669fd8de5440bb84b629bbf4210903": {
          "model_module": "@jupyter-widgets/controls",
          "model_name": "DescriptionStyleModel",
          "state": {
            "_view_name": "StyleView",
            "_model_name": "DescriptionStyleModel",
            "description_width": "",
            "_view_module": "@jupyter-widgets/base",
            "_model_module_version": "1.5.0",
            "_view_count": null,
            "_view_module_version": "1.2.0",
            "_model_module": "@jupyter-widgets/controls"
          }
        },
        "b037342bbfeb419ba462c8eef34635d5": {
          "model_module": "@jupyter-widgets/base",
          "model_name": "LayoutModel",
          "state": {
            "_view_name": "LayoutView",
            "grid_template_rows": null,
            "right": null,
            "justify_content": null,
            "_view_module": "@jupyter-widgets/base",
            "overflow": null,
            "_model_module_version": "1.2.0",
            "_view_count": null,
            "flex_flow": null,
            "width": null,
            "min_width": null,
            "border": null,
            "align_items": null,
            "bottom": null,
            "_model_module": "@jupyter-widgets/base",
            "top": null,
            "grid_column": null,
            "overflow_y": null,
            "overflow_x": null,
            "grid_auto_flow": null,
            "grid_area": null,
            "grid_template_columns": null,
            "flex": null,
            "_model_name": "LayoutModel",
            "justify_items": null,
            "grid_row": null,
            "max_height": null,
            "align_content": null,
            "visibility": null,
            "align_self": null,
            "height": null,
            "min_height": null,
            "padding": null,
            "grid_auto_rows": null,
            "grid_gap": null,
            "max_width": null,
            "order": null,
            "_view_module_version": "1.2.0",
            "grid_template_areas": null,
            "object_position": null,
            "object_fit": null,
            "grid_auto_columns": null,
            "margin": null,
            "display": null,
            "left": null
          }
        },
        "9ba7220e057c40f3b7d85d85690df80a": {
          "model_module": "@jupyter-widgets/controls",
          "model_name": "HBoxModel",
          "state": {
            "_view_name": "HBoxView",
            "_dom_classes": [],
            "_model_name": "HBoxModel",
            "_view_module": "@jupyter-widgets/controls",
            "_model_module_version": "1.5.0",
            "_view_count": null,
            "_view_module_version": "1.5.0",
            "box_style": "",
            "layout": "IPY_MODEL_694d40887a974355a44bfc9f9eb9de72",
            "_model_module": "@jupyter-widgets/controls",
            "children": [
              "IPY_MODEL_134bf26f20724d869c6b10672cfd38b3",
              "IPY_MODEL_711d5525fd4043378703ee6fd9bded94"
            ]
          }
        },
        "694d40887a974355a44bfc9f9eb9de72": {
          "model_module": "@jupyter-widgets/base",
          "model_name": "LayoutModel",
          "state": {
            "_view_name": "LayoutView",
            "grid_template_rows": null,
            "right": null,
            "justify_content": null,
            "_view_module": "@jupyter-widgets/base",
            "overflow": null,
            "_model_module_version": "1.2.0",
            "_view_count": null,
            "flex_flow": null,
            "width": null,
            "min_width": null,
            "border": null,
            "align_items": null,
            "bottom": null,
            "_model_module": "@jupyter-widgets/base",
            "top": null,
            "grid_column": null,
            "overflow_y": null,
            "overflow_x": null,
            "grid_auto_flow": null,
            "grid_area": null,
            "grid_template_columns": null,
            "flex": null,
            "_model_name": "LayoutModel",
            "justify_items": null,
            "grid_row": null,
            "max_height": null,
            "align_content": null,
            "visibility": null,
            "align_self": null,
            "height": null,
            "min_height": null,
            "padding": null,
            "grid_auto_rows": null,
            "grid_gap": null,
            "max_width": null,
            "order": null,
            "_view_module_version": "1.2.0",
            "grid_template_areas": null,
            "object_position": null,
            "object_fit": null,
            "grid_auto_columns": null,
            "margin": null,
            "display": null,
            "left": null
          }
        },
        "134bf26f20724d869c6b10672cfd38b3": {
          "model_module": "@jupyter-widgets/controls",
          "model_name": "FloatProgressModel",
          "state": {
            "_view_name": "ProgressView",
            "style": "IPY_MODEL_cd92757900784240aaeb796097f2b9df",
            "_dom_classes": [],
            "description": "100%",
            "_model_name": "FloatProgressModel",
            "bar_style": "success",
            "max": 3,
            "_view_module": "@jupyter-widgets/controls",
            "_model_module_version": "1.5.0",
            "value": 3,
            "_view_count": null,
            "_view_module_version": "1.5.0",
            "orientation": "horizontal",
            "min": 0,
            "description_tooltip": null,
            "_model_module": "@jupyter-widgets/controls",
            "layout": "IPY_MODEL_d7696a0b238c497384f8e8988c8420f2"
          }
        },
        "711d5525fd4043378703ee6fd9bded94": {
          "model_module": "@jupyter-widgets/controls",
          "model_name": "HTMLModel",
          "state": {
            "_view_name": "HTMLView",
            "style": "IPY_MODEL_dff87874954344e3887e56d0220e9435",
            "_dom_classes": [],
            "description": "",
            "_model_name": "HTMLModel",
            "placeholder": "​",
            "_view_module": "@jupyter-widgets/controls",
            "_model_module_version": "1.5.0",
            "value": " 3/3 [00:01&lt;00:00,  1.61it/s]",
            "_view_count": null,
            "_view_module_version": "1.5.0",
            "description_tooltip": null,
            "_model_module": "@jupyter-widgets/controls",
            "layout": "IPY_MODEL_f7d164fd0ee643c095936f2afeb5de6a"
          }
        },
        "cd92757900784240aaeb796097f2b9df": {
          "model_module": "@jupyter-widgets/controls",
          "model_name": "ProgressStyleModel",
          "state": {
            "_view_name": "StyleView",
            "_model_name": "ProgressStyleModel",
            "description_width": "initial",
            "_view_module": "@jupyter-widgets/base",
            "_model_module_version": "1.5.0",
            "_view_count": null,
            "_view_module_version": "1.2.0",
            "bar_color": null,
            "_model_module": "@jupyter-widgets/controls"
          }
        },
        "d7696a0b238c497384f8e8988c8420f2": {
          "model_module": "@jupyter-widgets/base",
          "model_name": "LayoutModel",
          "state": {
            "_view_name": "LayoutView",
            "grid_template_rows": null,
            "right": null,
            "justify_content": null,
            "_view_module": "@jupyter-widgets/base",
            "overflow": null,
            "_model_module_version": "1.2.0",
            "_view_count": null,
            "flex_flow": null,
            "width": null,
            "min_width": null,
            "border": null,
            "align_items": null,
            "bottom": null,
            "_model_module": "@jupyter-widgets/base",
            "top": null,
            "grid_column": null,
            "overflow_y": null,
            "overflow_x": null,
            "grid_auto_flow": null,
            "grid_area": null,
            "grid_template_columns": null,
            "flex": null,
            "_model_name": "LayoutModel",
            "justify_items": null,
            "grid_row": null,
            "max_height": null,
            "align_content": null,
            "visibility": null,
            "align_self": null,
            "height": null,
            "min_height": null,
            "padding": null,
            "grid_auto_rows": null,
            "grid_gap": null,
            "max_width": null,
            "order": null,
            "_view_module_version": "1.2.0",
            "grid_template_areas": null,
            "object_position": null,
            "object_fit": null,
            "grid_auto_columns": null,
            "margin": null,
            "display": null,
            "left": null
          }
        },
        "dff87874954344e3887e56d0220e9435": {
          "model_module": "@jupyter-widgets/controls",
          "model_name": "DescriptionStyleModel",
          "state": {
            "_view_name": "StyleView",
            "_model_name": "DescriptionStyleModel",
            "description_width": "",
            "_view_module": "@jupyter-widgets/base",
            "_model_module_version": "1.5.0",
            "_view_count": null,
            "_view_module_version": "1.2.0",
            "_model_module": "@jupyter-widgets/controls"
          }
        },
        "f7d164fd0ee643c095936f2afeb5de6a": {
          "model_module": "@jupyter-widgets/base",
          "model_name": "LayoutModel",
          "state": {
            "_view_name": "LayoutView",
            "grid_template_rows": null,
            "right": null,
            "justify_content": null,
            "_view_module": "@jupyter-widgets/base",
            "overflow": null,
            "_model_module_version": "1.2.0",
            "_view_count": null,
            "flex_flow": null,
            "width": null,
            "min_width": null,
            "border": null,
            "align_items": null,
            "bottom": null,
            "_model_module": "@jupyter-widgets/base",
            "top": null,
            "grid_column": null,
            "overflow_y": null,
            "overflow_x": null,
            "grid_auto_flow": null,
            "grid_area": null,
            "grid_template_columns": null,
            "flex": null,
            "_model_name": "LayoutModel",
            "justify_items": null,
            "grid_row": null,
            "max_height": null,
            "align_content": null,
            "visibility": null,
            "align_self": null,
            "height": null,
            "min_height": null,
            "padding": null,
            "grid_auto_rows": null,
            "grid_gap": null,
            "max_width": null,
            "order": null,
            "_view_module_version": "1.2.0",
            "grid_template_areas": null,
            "object_position": null,
            "object_fit": null,
            "grid_auto_columns": null,
            "margin": null,
            "display": null,
            "left": null
          }
        },
        "8a57771cb7fc41c69d70b2da6c92a69d": {
          "model_module": "@jupyter-widgets/controls",
          "model_name": "HBoxModel",
          "state": {
            "_dom_classes": [],
            "_model_module": "@jupyter-widgets/controls",
            "_model_module_version": "1.5.0",
            "_model_name": "HBoxModel",
            "_view_count": null,
            "_view_module": "@jupyter-widgets/controls",
            "_view_module_version": "1.5.0",
            "_view_name": "HBoxView",
            "box_style": "",
            "children": [
              "IPY_MODEL_ed5fa9d75b9e4c3f8b5da6a615fedcb9",
              "IPY_MODEL_d14a03f339bd46529755246e2560e4d3"
            ],
            "layout": "IPY_MODEL_9553c69069e54073b9a414a347965bcc"
          }
        },
        "ed5fa9d75b9e4c3f8b5da6a615fedcb9": {
          "model_module": "@jupyter-widgets/controls",
          "model_name": "FloatProgressModel",
          "state": {
            "_dom_classes": [],
            "_model_module": "@jupyter-widgets/controls",
            "_model_module_version": "1.5.0",
            "_model_name": "FloatProgressModel",
            "_view_count": null,
            "_view_module": "@jupyter-widgets/controls",
            "_view_module_version": "1.5.0",
            "_view_name": "ProgressView",
            "bar_style": "success",
            "description": "100%",
            "description_tooltip": null,
            "layout": "IPY_MODEL_7c68fc396ba749abb3bc4f96da980efe",
            "max": 7,
            "min": 0,
            "orientation": "horizontal",
            "style": "IPY_MODEL_6e1b2465d861491e9b5c943bfa109964",
            "value": 7
          }
        },
        "d14a03f339bd46529755246e2560e4d3": {
          "model_module": "@jupyter-widgets/controls",
          "model_name": "HTMLModel",
          "state": {
            "_dom_classes": [],
            "_model_module": "@jupyter-widgets/controls",
            "_model_module_version": "1.5.0",
            "_model_name": "HTMLModel",
            "_view_count": null,
            "_view_module": "@jupyter-widgets/controls",
            "_view_module_version": "1.5.0",
            "_view_name": "HTMLView",
            "description": "",
            "description_tooltip": null,
            "layout": "IPY_MODEL_b2429bae81a64f53a8960a6e972dc4b0",
            "placeholder": "​",
            "style": "IPY_MODEL_39615116103b4ad68ea58abc480d6f57",
            "value": " 7/7 [00:14&lt;00:00,  2.05s/it]"
          }
        },
        "9553c69069e54073b9a414a347965bcc": {
          "model_module": "@jupyter-widgets/base",
          "model_name": "LayoutModel",
          "state": {
            "_model_module": "@jupyter-widgets/base",
            "_model_module_version": "1.2.0",
            "_model_name": "LayoutModel",
            "_view_count": null,
            "_view_module": "@jupyter-widgets/base",
            "_view_module_version": "1.2.0",
            "_view_name": "LayoutView",
            "align_content": null,
            "align_items": null,
            "align_self": null,
            "border": null,
            "bottom": null,
            "display": null,
            "flex": null,
            "flex_flow": null,
            "grid_area": null,
            "grid_auto_columns": null,
            "grid_auto_flow": null,
            "grid_auto_rows": null,
            "grid_column": null,
            "grid_gap": null,
            "grid_row": null,
            "grid_template_areas": null,
            "grid_template_columns": null,
            "grid_template_rows": null,
            "height": null,
            "justify_content": null,
            "justify_items": null,
            "left": null,
            "margin": null,
            "max_height": null,
            "max_width": null,
            "min_height": null,
            "min_width": null,
            "object_fit": null,
            "object_position": null,
            "order": null,
            "overflow": null,
            "overflow_x": null,
            "overflow_y": null,
            "padding": null,
            "right": null,
            "top": null,
            "visibility": null,
            "width": null
          }
        },
        "7c68fc396ba749abb3bc4f96da980efe": {
          "model_module": "@jupyter-widgets/base",
          "model_name": "LayoutModel",
          "state": {
            "_model_module": "@jupyter-widgets/base",
            "_model_module_version": "1.2.0",
            "_model_name": "LayoutModel",
            "_view_count": null,
            "_view_module": "@jupyter-widgets/base",
            "_view_module_version": "1.2.0",
            "_view_name": "LayoutView",
            "align_content": null,
            "align_items": null,
            "align_self": null,
            "border": null,
            "bottom": null,
            "display": null,
            "flex": null,
            "flex_flow": null,
            "grid_area": null,
            "grid_auto_columns": null,
            "grid_auto_flow": null,
            "grid_auto_rows": null,
            "grid_column": null,
            "grid_gap": null,
            "grid_row": null,
            "grid_template_areas": null,
            "grid_template_columns": null,
            "grid_template_rows": null,
            "height": null,
            "justify_content": null,
            "justify_items": null,
            "left": null,
            "margin": null,
            "max_height": null,
            "max_width": null,
            "min_height": null,
            "min_width": null,
            "object_fit": null,
            "object_position": null,
            "order": null,
            "overflow": null,
            "overflow_x": null,
            "overflow_y": null,
            "padding": null,
            "right": null,
            "top": null,
            "visibility": null,
            "width": null
          }
        },
        "6e1b2465d861491e9b5c943bfa109964": {
          "model_module": "@jupyter-widgets/controls",
          "model_name": "ProgressStyleModel",
          "state": {
            "_model_module": "@jupyter-widgets/controls",
            "_model_module_version": "1.5.0",
            "_model_name": "ProgressStyleModel",
            "_view_count": null,
            "_view_module": "@jupyter-widgets/base",
            "_view_module_version": "1.2.0",
            "_view_name": "StyleView",
            "bar_color": null,
            "description_width": "initial"
          }
        },
        "b2429bae81a64f53a8960a6e972dc4b0": {
          "model_module": "@jupyter-widgets/base",
          "model_name": "LayoutModel",
          "state": {
            "_model_module": "@jupyter-widgets/base",
            "_model_module_version": "1.2.0",
            "_model_name": "LayoutModel",
            "_view_count": null,
            "_view_module": "@jupyter-widgets/base",
            "_view_module_version": "1.2.0",
            "_view_name": "LayoutView",
            "align_content": null,
            "align_items": null,
            "align_self": null,
            "border": null,
            "bottom": null,
            "display": null,
            "flex": null,
            "flex_flow": null,
            "grid_area": null,
            "grid_auto_columns": null,
            "grid_auto_flow": null,
            "grid_auto_rows": null,
            "grid_column": null,
            "grid_gap": null,
            "grid_row": null,
            "grid_template_areas": null,
            "grid_template_columns": null,
            "grid_template_rows": null,
            "height": null,
            "justify_content": null,
            "justify_items": null,
            "left": null,
            "margin": null,
            "max_height": null,
            "max_width": null,
            "min_height": null,
            "min_width": null,
            "object_fit": null,
            "object_position": null,
            "order": null,
            "overflow": null,
            "overflow_x": null,
            "overflow_y": null,
            "padding": null,
            "right": null,
            "top": null,
            "visibility": null,
            "width": null
          }
        },
        "39615116103b4ad68ea58abc480d6f57": {
          "model_module": "@jupyter-widgets/controls",
          "model_name": "DescriptionStyleModel",
          "state": {
            "_model_module": "@jupyter-widgets/controls",
            "_model_module_version": "1.5.0",
            "_model_name": "DescriptionStyleModel",
            "_view_count": null,
            "_view_module": "@jupyter-widgets/base",
            "_view_module_version": "1.2.0",
            "_view_name": "StyleView",
            "description_width": ""
          }
        },
        "e7a8a2cafd48423ba131884a0ca1ebef": {
          "model_module": "@jupyter-widgets/controls",
          "model_name": "HBoxModel",
          "state": {
            "_dom_classes": [],
            "_model_module": "@jupyter-widgets/controls",
            "_model_module_version": "1.5.0",
            "_model_name": "HBoxModel",
            "_view_count": null,
            "_view_module": "@jupyter-widgets/controls",
            "_view_module_version": "1.5.0",
            "_view_name": "HBoxView",
            "box_style": "",
            "children": [
              "IPY_MODEL_8a618606fae5485bb9aa6476cde77482",
              "IPY_MODEL_1d1bb357888c4378b0f3f5aeeb84821c"
            ],
            "layout": "IPY_MODEL_fb37f8d367354125877a4064cdbdf628"
          }
        },
        "8a618606fae5485bb9aa6476cde77482": {
          "model_module": "@jupyter-widgets/controls",
          "model_name": "FloatProgressModel",
          "state": {
            "_dom_classes": [],
            "_model_module": "@jupyter-widgets/controls",
            "_model_module_version": "1.5.0",
            "_model_name": "FloatProgressModel",
            "_view_count": null,
            "_view_module": "@jupyter-widgets/controls",
            "_view_module_version": "1.5.0",
            "_view_name": "ProgressView",
            "bar_style": "success",
            "description": "100%",
            "description_tooltip": null,
            "layout": "IPY_MODEL_53323039c3bc4c54989759442b780a3c",
            "max": 4,
            "min": 0,
            "orientation": "horizontal",
            "style": "IPY_MODEL_ef84eacd273549d394ffd5e9f08915d1",
            "value": 4
          }
        },
        "1d1bb357888c4378b0f3f5aeeb84821c": {
          "model_module": "@jupyter-widgets/controls",
          "model_name": "HTMLModel",
          "state": {
            "_dom_classes": [],
            "_model_module": "@jupyter-widgets/controls",
            "_model_module_version": "1.5.0",
            "_model_name": "HTMLModel",
            "_view_count": null,
            "_view_module": "@jupyter-widgets/controls",
            "_view_module_version": "1.5.0",
            "_view_name": "HTMLView",
            "description": "",
            "description_tooltip": null,
            "layout": "IPY_MODEL_36550e857bcc44d5abf82fe5ac188eb9",
            "placeholder": "​",
            "style": "IPY_MODEL_7d2ab91086bc41ef905a7d952e1c9efb",
            "value": " 4/4 [00:00&lt;00:00, 13.95it/s]"
          }
        },
        "fb37f8d367354125877a4064cdbdf628": {
          "model_module": "@jupyter-widgets/base",
          "model_name": "LayoutModel",
          "state": {
            "_model_module": "@jupyter-widgets/base",
            "_model_module_version": "1.2.0",
            "_model_name": "LayoutModel",
            "_view_count": null,
            "_view_module": "@jupyter-widgets/base",
            "_view_module_version": "1.2.0",
            "_view_name": "LayoutView",
            "align_content": null,
            "align_items": null,
            "align_self": null,
            "border": null,
            "bottom": null,
            "display": null,
            "flex": null,
            "flex_flow": null,
            "grid_area": null,
            "grid_auto_columns": null,
            "grid_auto_flow": null,
            "grid_auto_rows": null,
            "grid_column": null,
            "grid_gap": null,
            "grid_row": null,
            "grid_template_areas": null,
            "grid_template_columns": null,
            "grid_template_rows": null,
            "height": null,
            "justify_content": null,
            "justify_items": null,
            "left": null,
            "margin": null,
            "max_height": null,
            "max_width": null,
            "min_height": null,
            "min_width": null,
            "object_fit": null,
            "object_position": null,
            "order": null,
            "overflow": null,
            "overflow_x": null,
            "overflow_y": null,
            "padding": null,
            "right": null,
            "top": null,
            "visibility": null,
            "width": null
          }
        },
        "53323039c3bc4c54989759442b780a3c": {
          "model_module": "@jupyter-widgets/base",
          "model_name": "LayoutModel",
          "state": {
            "_model_module": "@jupyter-widgets/base",
            "_model_module_version": "1.2.0",
            "_model_name": "LayoutModel",
            "_view_count": null,
            "_view_module": "@jupyter-widgets/base",
            "_view_module_version": "1.2.0",
            "_view_name": "LayoutView",
            "align_content": null,
            "align_items": null,
            "align_self": null,
            "border": null,
            "bottom": null,
            "display": null,
            "flex": null,
            "flex_flow": null,
            "grid_area": null,
            "grid_auto_columns": null,
            "grid_auto_flow": null,
            "grid_auto_rows": null,
            "grid_column": null,
            "grid_gap": null,
            "grid_row": null,
            "grid_template_areas": null,
            "grid_template_columns": null,
            "grid_template_rows": null,
            "height": null,
            "justify_content": null,
            "justify_items": null,
            "left": null,
            "margin": null,
            "max_height": null,
            "max_width": null,
            "min_height": null,
            "min_width": null,
            "object_fit": null,
            "object_position": null,
            "order": null,
            "overflow": null,
            "overflow_x": null,
            "overflow_y": null,
            "padding": null,
            "right": null,
            "top": null,
            "visibility": null,
            "width": null
          }
        },
        "ef84eacd273549d394ffd5e9f08915d1": {
          "model_module": "@jupyter-widgets/controls",
          "model_name": "ProgressStyleModel",
          "state": {
            "_model_module": "@jupyter-widgets/controls",
            "_model_module_version": "1.5.0",
            "_model_name": "ProgressStyleModel",
            "_view_count": null,
            "_view_module": "@jupyter-widgets/base",
            "_view_module_version": "1.2.0",
            "_view_name": "StyleView",
            "bar_color": null,
            "description_width": "initial"
          }
        },
        "36550e857bcc44d5abf82fe5ac188eb9": {
          "model_module": "@jupyter-widgets/base",
          "model_name": "LayoutModel",
          "state": {
            "_model_module": "@jupyter-widgets/base",
            "_model_module_version": "1.2.0",
            "_model_name": "LayoutModel",
            "_view_count": null,
            "_view_module": "@jupyter-widgets/base",
            "_view_module_version": "1.2.0",
            "_view_name": "LayoutView",
            "align_content": null,
            "align_items": null,
            "align_self": null,
            "border": null,
            "bottom": null,
            "display": null,
            "flex": null,
            "flex_flow": null,
            "grid_area": null,
            "grid_auto_columns": null,
            "grid_auto_flow": null,
            "grid_auto_rows": null,
            "grid_column": null,
            "grid_gap": null,
            "grid_row": null,
            "grid_template_areas": null,
            "grid_template_columns": null,
            "grid_template_rows": null,
            "height": null,
            "justify_content": null,
            "justify_items": null,
            "left": null,
            "margin": null,
            "max_height": null,
            "max_width": null,
            "min_height": null,
            "min_width": null,
            "object_fit": null,
            "object_position": null,
            "order": null,
            "overflow": null,
            "overflow_x": null,
            "overflow_y": null,
            "padding": null,
            "right": null,
            "top": null,
            "visibility": null,
            "width": null
          }
        },
        "7d2ab91086bc41ef905a7d952e1c9efb": {
          "model_module": "@jupyter-widgets/controls",
          "model_name": "DescriptionStyleModel",
          "state": {
            "_model_module": "@jupyter-widgets/controls",
            "_model_module_version": "1.5.0",
            "_model_name": "DescriptionStyleModel",
            "_view_count": null,
            "_view_module": "@jupyter-widgets/base",
            "_view_module_version": "1.2.0",
            "_view_name": "StyleView",
            "description_width": ""
          }
        },
        "35ccef13ec5b4a6faccab9043251eb55": {
          "model_module": "@jupyter-widgets/controls",
          "model_name": "HBoxModel",
          "state": {
            "_dom_classes": [],
            "_model_module": "@jupyter-widgets/controls",
            "_model_module_version": "1.5.0",
            "_model_name": "HBoxModel",
            "_view_count": null,
            "_view_module": "@jupyter-widgets/controls",
            "_view_module_version": "1.5.0",
            "_view_name": "HBoxView",
            "box_style": "",
            "children": [
              "IPY_MODEL_14a0314ad28542408beeb84fbfc3e42a",
              "IPY_MODEL_852630d2bd6045a083dfde5604491ef0"
            ],
            "layout": "IPY_MODEL_eae2304a26d64f27bfcf495522c2bc8c"
          }
        },
        "14a0314ad28542408beeb84fbfc3e42a": {
          "model_module": "@jupyter-widgets/controls",
          "model_name": "FloatProgressModel",
          "state": {
            "_dom_classes": [],
            "_model_module": "@jupyter-widgets/controls",
            "_model_module_version": "1.5.0",
            "_model_name": "FloatProgressModel",
            "_view_count": null,
            "_view_module": "@jupyter-widgets/controls",
            "_view_module_version": "1.5.0",
            "_view_name": "ProgressView",
            "bar_style": "success",
            "description": "100%",
            "description_tooltip": null,
            "layout": "IPY_MODEL_d6299093832a4495a1f3e8fc59f7d257",
            "max": 3,
            "min": 0,
            "orientation": "horizontal",
            "style": "IPY_MODEL_73d40da82dca4a80a61b6178953411e4",
            "value": 3
          }
        },
        "852630d2bd6045a083dfde5604491ef0": {
          "model_module": "@jupyter-widgets/controls",
          "model_name": "HTMLModel",
          "state": {
            "_dom_classes": [],
            "_model_module": "@jupyter-widgets/controls",
            "_model_module_version": "1.5.0",
            "_model_name": "HTMLModel",
            "_view_count": null,
            "_view_module": "@jupyter-widgets/controls",
            "_view_module_version": "1.5.0",
            "_view_name": "HTMLView",
            "description": "",
            "description_tooltip": null,
            "layout": "IPY_MODEL_53093228638b4baf98325faebd05940b",
            "placeholder": "​",
            "style": "IPY_MODEL_bd485ce520094c1c98e03d1fe390682e",
            "value": " 3/3 [00:00&lt;00:00, 19.45it/s]"
          }
        },
        "eae2304a26d64f27bfcf495522c2bc8c": {
          "model_module": "@jupyter-widgets/base",
          "model_name": "LayoutModel",
          "state": {
            "_model_module": "@jupyter-widgets/base",
            "_model_module_version": "1.2.0",
            "_model_name": "LayoutModel",
            "_view_count": null,
            "_view_module": "@jupyter-widgets/base",
            "_view_module_version": "1.2.0",
            "_view_name": "LayoutView",
            "align_content": null,
            "align_items": null,
            "align_self": null,
            "border": null,
            "bottom": null,
            "display": null,
            "flex": null,
            "flex_flow": null,
            "grid_area": null,
            "grid_auto_columns": null,
            "grid_auto_flow": null,
            "grid_auto_rows": null,
            "grid_column": null,
            "grid_gap": null,
            "grid_row": null,
            "grid_template_areas": null,
            "grid_template_columns": null,
            "grid_template_rows": null,
            "height": null,
            "justify_content": null,
            "justify_items": null,
            "left": null,
            "margin": null,
            "max_height": null,
            "max_width": null,
            "min_height": null,
            "min_width": null,
            "object_fit": null,
            "object_position": null,
            "order": null,
            "overflow": null,
            "overflow_x": null,
            "overflow_y": null,
            "padding": null,
            "right": null,
            "top": null,
            "visibility": null,
            "width": null
          }
        },
        "d6299093832a4495a1f3e8fc59f7d257": {
          "model_module": "@jupyter-widgets/base",
          "model_name": "LayoutModel",
          "state": {
            "_model_module": "@jupyter-widgets/base",
            "_model_module_version": "1.2.0",
            "_model_name": "LayoutModel",
            "_view_count": null,
            "_view_module": "@jupyter-widgets/base",
            "_view_module_version": "1.2.0",
            "_view_name": "LayoutView",
            "align_content": null,
            "align_items": null,
            "align_self": null,
            "border": null,
            "bottom": null,
            "display": null,
            "flex": null,
            "flex_flow": null,
            "grid_area": null,
            "grid_auto_columns": null,
            "grid_auto_flow": null,
            "grid_auto_rows": null,
            "grid_column": null,
            "grid_gap": null,
            "grid_row": null,
            "grid_template_areas": null,
            "grid_template_columns": null,
            "grid_template_rows": null,
            "height": null,
            "justify_content": null,
            "justify_items": null,
            "left": null,
            "margin": null,
            "max_height": null,
            "max_width": null,
            "min_height": null,
            "min_width": null,
            "object_fit": null,
            "object_position": null,
            "order": null,
            "overflow": null,
            "overflow_x": null,
            "overflow_y": null,
            "padding": null,
            "right": null,
            "top": null,
            "visibility": null,
            "width": null
          }
        },
        "73d40da82dca4a80a61b6178953411e4": {
          "model_module": "@jupyter-widgets/controls",
          "model_name": "ProgressStyleModel",
          "state": {
            "_model_module": "@jupyter-widgets/controls",
            "_model_module_version": "1.5.0",
            "_model_name": "ProgressStyleModel",
            "_view_count": null,
            "_view_module": "@jupyter-widgets/base",
            "_view_module_version": "1.2.0",
            "_view_name": "StyleView",
            "bar_color": null,
            "description_width": "initial"
          }
        },
        "53093228638b4baf98325faebd05940b": {
          "model_module": "@jupyter-widgets/base",
          "model_name": "LayoutModel",
          "state": {
            "_model_module": "@jupyter-widgets/base",
            "_model_module_version": "1.2.0",
            "_model_name": "LayoutModel",
            "_view_count": null,
            "_view_module": "@jupyter-widgets/base",
            "_view_module_version": "1.2.0",
            "_view_name": "LayoutView",
            "align_content": null,
            "align_items": null,
            "align_self": null,
            "border": null,
            "bottom": null,
            "display": null,
            "flex": null,
            "flex_flow": null,
            "grid_area": null,
            "grid_auto_columns": null,
            "grid_auto_flow": null,
            "grid_auto_rows": null,
            "grid_column": null,
            "grid_gap": null,
            "grid_row": null,
            "grid_template_areas": null,
            "grid_template_columns": null,
            "grid_template_rows": null,
            "height": null,
            "justify_content": null,
            "justify_items": null,
            "left": null,
            "margin": null,
            "max_height": null,
            "max_width": null,
            "min_height": null,
            "min_width": null,
            "object_fit": null,
            "object_position": null,
            "order": null,
            "overflow": null,
            "overflow_x": null,
            "overflow_y": null,
            "padding": null,
            "right": null,
            "top": null,
            "visibility": null,
            "width": null
          }
        },
        "bd485ce520094c1c98e03d1fe390682e": {
          "model_module": "@jupyter-widgets/controls",
          "model_name": "DescriptionStyleModel",
          "state": {
            "_model_module": "@jupyter-widgets/controls",
            "_model_module_version": "1.5.0",
            "_model_name": "DescriptionStyleModel",
            "_view_count": null,
            "_view_module": "@jupyter-widgets/base",
            "_view_module_version": "1.2.0",
            "_view_name": "StyleView",
            "description_width": ""
          }
        }
      }
    }
  },
  "cells": [
    {
      "cell_type": "markdown",
      "metadata": {
        "id": "view-in-github",
        "colab_type": "text"
      },
      "source": [
        "<a href=\"https://colab.research.google.com/github/farhanfuadabir/ASL-DataGlove/blob/main/Model__DL/Model__CNN_LSTM.ipynb\" target=\"_parent\"><img src=\"https://colab.research.google.com/assets/colab-badge.svg\" alt=\"Open In Colab\"/></a>"
      ]
    },
    {
      "cell_type": "markdown",
      "metadata": {
        "id": "TKz-06wTxKbt"
      },
      "source": [
        "# **Import** Data\n",
        "\n"
      ]
    },
    {
      "cell_type": "code",
      "metadata": {
        "colab": {
          "base_uri": "https://localhost:8080/"
        },
        "id": "PwXb5PMlaOyP",
        "outputId": "ee1fa485-46be-45b8-dbfe-a9320ef81bf1"
      },
      "source": [
        "!unzip -q /content/\\*.zip"
      ],
      "execution_count": null,
      "outputs": [
        {
          "output_type": "stream",
          "text": [
            "\n",
            "7 archives were successfully processed.\n"
          ],
          "name": "stdout"
        }
      ]
    },
    {
      "cell_type": "markdown",
      "metadata": {
        "id": "V-PLhB0PxXM7"
      },
      "source": [
        "# **Load** Dependencies"
      ]
    },
    {
      "cell_type": "code",
      "metadata": {
        "id": "Erl7gSKzOqvW"
      },
      "source": [
        "import os\n",
        "import pandas as pd\n",
        "import numpy as np\n",
        "import scipy as sp\n",
        "import librosa as lb\n",
        "from joblib import load, dump\n",
        "from tqdm.notebook import tqdm\n",
        "from sklearn import preprocessing\n",
        "import matplotlib.pyplot as plt\n",
        "from keras.models import Sequential\n",
        "from keras.layers import Dense\n",
        "from keras.layers import Flatten\n",
        "from keras.layers import Dropout\n",
        "from keras.layers import LSTM\n",
        "from keras.layers import TimeDistributed\n",
        "from keras.layers.convolutional import Conv1D\n",
        "from keras.layers.convolutional import MaxPooling1D\n",
        "from keras.utils import to_categorical"
      ],
      "execution_count": null,
      "outputs": []
    },
    {
      "cell_type": "markdown",
      "metadata": {
        "id": "bu7-xHlEyrht"
      },
      "source": [
        "# **Constants**"
      ]
    },
    {
      "cell_type": "code",
      "metadata": {
        "colab": {
          "base_uri": "https://localhost:8080/"
        },
        "id": "QUXP-NlmmJjV",
        "outputId": "ff7da757-973d-489f-8b07-2a4b6d512040"
      },
      "source": [
        "# Get user list\n",
        "# _, filenames, _ = next(os.walk(\"/content/Hand-Gesture-Recognition/ContinuousDataAcquisitionPython/Data_032021\"))\n",
        "# users = [os.path.splitext(x)[0] for x in filenames]\n",
        "# users = sorted(users, key=lambda x: (len(x), x))\n",
        "users = ['001', '002', '003', '004', '005', '006', '007']\n",
        "print(users)"
      ],
      "execution_count": null,
      "outputs": [
        {
          "output_type": "stream",
          "text": [
            "['001', '002', '003', '004', '005', '006', '007']\n"
          ],
          "name": "stdout"
        }
      ]
    },
    {
      "cell_type": "code",
      "metadata": {
        "colab": {
          "base_uri": "https://localhost:8080/"
        },
        "id": "7cgj5QFqNlQL",
        "outputId": "e68073f6-7854-433c-f90f-399779c394f8"
      },
      "source": [
        "# Indicate segmentLength, recorditeration according to the 'serialDataAcquisition_segmented.py' script\n",
        "segmentLength = 150\n",
        "recorditeration = 10\n",
        "\n",
        "# ColumnNames according to the 'serialDataAcquisition_segmented.py' script\n",
        "columnName = ['timestamp', 'user_id',\n",
        "              'flex_1', 'flex_2', 'flex_3', 'flex_4', 'flex_5',\n",
        "              'Qw', 'Qx', 'Qy', 'Qz',\n",
        "              'GYRx', 'GYRy', 'GYRz',\n",
        "              'ACCx', 'ACCy', 'ACCz',\n",
        "              'ACCx_body', 'ACCy_body', 'ACCz_body',\n",
        "              'ACCx_world', 'ACCy_world', 'ACCz_world']\n",
        "\n",
        "# gestures = get_gesture_names(userPath)\n",
        "gestures = ['a', 'b', 'c', 'd', 'e', 'f', 'g', 'h', 'i', 'j', 'k', 'l', 'm', \n",
        "            'n', 'o', 'p', 'q', 'r', 's', 't', 'u', 'v', 'w', 'x', 'y', 'z',\n",
        "            'bad', 'deaf', 'fine', 'good', 'goodbye', 'hello', 'hungry',\n",
        "            'me', 'no', 'please', 'sorry', 'thankyou', 'yes', 'you']\n",
        "\n",
        "print('Gesture List: ', gestures)\n",
        "print('Number of Gestures: ', len(gestures))\n",
        "\n",
        "label_encoder = preprocessing.LabelEncoder()\n",
        "label_encoder.fit(gestures)\n",
        "print(\"Number of Gestures Encoded: \", len(label_encoder.classes_))"
      ],
      "execution_count": null,
      "outputs": [
        {
          "output_type": "stream",
          "text": [
            "Gesture List:  ['a', 'b', 'c', 'd', 'e', 'f', 'g', 'h', 'i', 'j', 'k', 'l', 'm', 'n', 'o', 'p', 'q', 'r', 's', 't', 'u', 'v', 'w', 'x', 'y', 'z', 'bad', 'deaf', 'fine', 'good', 'goodbye', 'hello', 'hungry', 'me', 'no', 'please', 'sorry', 'thankyou', 'yes', 'you']\n",
            "Number of Gestures:  40\n",
            "Number of Gestures Encoded:  40\n"
          ],
          "name": "stdout"
        }
      ]
    },
    {
      "cell_type": "markdown",
      "metadata": {
        "id": "3Uvv_C1Cxeuw"
      },
      "source": [
        "# **Load** Functions"
      ]
    },
    {
      "cell_type": "code",
      "metadata": {
        "id": "j3CLG4MFlc78"
      },
      "source": [
        "# Extract user list from the Dataset\n",
        "\n",
        "def get_user_list(userPath):\n",
        "  _, filenames, _ = next(os.walk(\"/content/Hand-Gesture-Recognition/ContinuousDataAcquisitionPython/Data_032021\"))\n",
        "  users = [os.path.splitext(x)[0] for x in filenames]\n",
        "  users = sorted(users, key=lambda x: (len(x), x))\n",
        "  \n",
        "  return users"
      ],
      "execution_count": null,
      "outputs": []
    },
    {
      "cell_type": "code",
      "metadata": {
        "id": "TgmBj5EZT7vv"
      },
      "source": [
        "# Extract gesture names from the filenames\n",
        "\n",
        "def get_gesture_names(userPath):\n",
        "  _, _, filenames = next(os.walk(userPath))\n",
        "  gestures = [os.path.splitext(x)[0] for x in filenames]\n",
        "  gestures = sorted(gestures, key=lambda x: (len(x), x))\n",
        "\n",
        "  return gestures"
      ],
      "execution_count": null,
      "outputs": []
    },
    {
      "cell_type": "code",
      "metadata": {
        "id": "I4VnjoAjqtF0"
      },
      "source": [
        "# Extract rolling median and rolling mean filters on each channel\n",
        "\n",
        "def apply_rolling_filters(path=''):\n",
        "\n",
        "  # SPIKE REMOVAL FOR ALL USERS -> ROLLING MEDIAN[3]\n",
        "  users = ['001', '002', '003', '004', '005', '006', '007']\n",
        "  channels = [\"flex_1\", \"flex_2\", \"flex_3\", \"flex_4\", \"flex_5\"]\n",
        "\n",
        "  gestures = ['a', 'b', 'c', 'd', 'e', 'f', 'g', 'h', 'i', 'j', 'k', 'l', 'm', \n",
        "              'n', 'o', 'p', 'q', 'r', 's', 't', 'u', 'v', 'w', 'x', 'y', 'z',\n",
        "              'bad', 'deaf', 'fine', 'good', 'goodbye', 'hello', 'hungry',\n",
        "              'me', 'no', 'please', 'sorry', 'thankyou', 'yes', 'you']\n",
        "\n",
        "  for user in users:\n",
        "    for gesture in gestures:\n",
        "      data = pd.read_csv(path + user + '/' + gesture + '.csv')\n",
        "      for mode in channels:\n",
        "        data[mode] = data[mode].rolling(3, center=True).median()\n",
        "        data = data.fillna(method='bfill')\n",
        "        data = data.fillna(method='ffill')\n",
        "      data.to_csv(path + user + '/' + gesture + '.csv', index=False)\n",
        "\n",
        "\n",
        "  # SMOOTHING FOR USER 2 ('a'-'m') -> ROLLING AVERAGE[10]\n",
        "  users = ['002']\n",
        "  channels = [\"flex_1\", \"flex_2\", \"flex_3\", \"flex_4\", \"flex_5\"]\n",
        "\n",
        "  gestures = ['a', 'b', 'c', 'd', 'e', 'f', 'g', 'h', 'i', 'j', 'k', 'l', 'm']\n",
        "\n",
        "  for user in users:\n",
        "    for gesture in gestures:\n",
        "      data = pd.read_csv(path + user + '/' + gesture + '.csv')\n",
        "      for mode in channels:\n",
        "        data[mode] = data[mode].rolling(10, center=True).mean()\n",
        "        data = data.fillna(method='bfill')\n",
        "        data = data.fillna(method='ffill')\n",
        "      data.to_csv(path + user + '/' + gesture + '.csv', index=False)\n",
        "\n",
        "\n",
        "  # SMOOTHING FOR USER 4 -> ROLLING AVERAGE[10]\n",
        "  users = ['004']\n",
        "  channels = [\"flex_1\", \"flex_2\", \"flex_3\", \"flex_4\", \"flex_5\"]\n",
        "\n",
        "  gestures = ['a', 'b', 'c', 'd', 'e', 'f', 'g', 'h', 'i', 'j', 'k', 'l', 'm', \n",
        "              'n', 'o', 'p', 'q', 'r', 's', 't', 'u', 'v', 'w', 'x', 'y', 'z',\n",
        "              'bad', 'deaf', 'fine', 'good', 'goodbye', 'hello', 'hungry',\n",
        "              'me', 'no', 'please', 'sorry', 'thankyou', 'yes', 'you']\n",
        "\n",
        "  for user in users:\n",
        "    for gesture in gestures:\n",
        "      data = pd.read_csv(path + user + '/' + gesture + '.csv')\n",
        "      for mode in channels:\n",
        "        data[mode] = data[mode].rolling(10, center=True).mean()\n",
        "        data = data.fillna(method='bfill')\n",
        "        data = data.fillna(method='ffill')\n",
        "      data.to_csv(path + user + '/' + gesture + '.csv', index=False)\n",
        "\n",
        "\n",
        "  # SMOOTHING FOR USER 6 (ASL words) -> ROLLING AVERAGE[10]\n",
        "  users = ['006']\n",
        "  channels = [\"flex_1\", \"flex_2\", \"flex_3\", \"flex_4\", \"flex_5\"]\n",
        "\n",
        "  gestures = ['bad', 'deaf', 'fine', 'good', 'goodbye', 'hello', 'hungry',\n",
        "              'me', 'no', 'please', 'sorry', 'thankyou', 'yes', 'you']\n",
        "\n",
        "  for user in users:\n",
        "    for gesture in gestures:\n",
        "      data = pd.read_csv(path + user + '/' + gesture + '.csv')\n",
        "      for mode in channels:\n",
        "        data[mode] = data[mode].rolling(10, center=True).mean()\n",
        "        data = data.fillna(method='bfill')\n",
        "        data = data.fillna(method='ffill')\n",
        "      data.to_csv(path + user + '/' + gesture + '.csv', index=False)\n",
        "\n",
        "\n",
        "  # SMOOTHING FOR ALL USERS -> ROLLING AVERAGE[10]\n",
        "  users = ['001', '002', '003', '004', '005', '006', '007']\n",
        "  channels = [\"flex_1\", \"flex_2\", \"flex_3\", \"flex_4\", \"flex_5\"]\n",
        "\n",
        "  gestures = ['a', 'b', 'c', 'd', 'e', 'f', 'g', 'h', 'i', 'j', 'k', 'l', 'm', \n",
        "              'n', 'o', 'p', 'q', 'r', 's', 't', 'u', 'v', 'w', 'x', 'y', 'z',\n",
        "              'bad', 'deaf', 'fine', 'good', 'goodbye', 'hello', 'hungry',\n",
        "              'me', 'no', 'please', 'sorry', 'thankyou', 'yes', 'you']\n",
        "\n",
        "  for user in users:\n",
        "    for gesture in gestures:\n",
        "      data = pd.read_csv(path + user + '/' + gesture + '.csv')\n",
        "      for mode in channels:\n",
        "        data[mode] = data[mode].rolling(10, center=True).mean()\n",
        "        data = data.fillna(method='bfill')\n",
        "        data = data.fillna(method='ffill')\n",
        "      data.to_csv(path + user + '/' + gesture + '.csv', index=False)"
      ],
      "execution_count": null,
      "outputs": []
    },
    {
      "cell_type": "code",
      "metadata": {
        "id": "ViqjdzyYUFEn"
      },
      "source": [
        "# Extract Channels From Raw Dataset\n",
        "\n",
        "def extract_channels(columns, segmentLength, recorditeration, \n",
        "                     userPath, storePath, writeFormat='JOBLIB'):\n",
        "  # Make a directory named 'Channels' in the 'storePath' if there is none already\n",
        "  if not os.path.isdir(storePath):\n",
        "    currentPath = os.getcwd()\n",
        "    os.mkdir(currentPath + '/' + storePath)\n",
        "    print(\"Created Folder: \", currentPath + '/' + storePath)\n",
        "\n",
        "  if 'user_id' in columns:\n",
        "    columns.remove('user_id')\n",
        "\n",
        "  for file in gestures:\n",
        "    # Make a directory after the gesture name in the 'Channels' folder, if there is none already\n",
        "    if not os.path.isdir(storePath + '/' + file):\n",
        "      currentPath = os.getcwd()\n",
        "      os.mkdir(currentPath + '/' + storePath + '/' + file)\n",
        "\n",
        "    source = pd.read_csv(userPath + '/' + file + '.csv')    \n",
        "    \n",
        "    for channel in columns:\n",
        "      temp = source[channel].to_numpy()    \n",
        "      arr = np.expand_dims(temp, axis=0).reshape(-1,segmentLength)\n",
        "      if writeFormat.lower() == 'joblib':\n",
        "        dump(arr, storePath + '/' + file + '/' + channel + '.joblib')\n",
        "      elif writeFormat.lower() == 'csv':\n",
        "        np.savetxt(storePath + '/' + file + '/' + channel + '.csv', arr, delimiter=\",\")\n",
        "      else:\n",
        "        raise ValueError(\"Invalid WriteFormat. This function can only write 'CSV' or 'JOBLIB'.\")\n",
        "  \n",
        "  compile_channels(columns, storePath)\n",
        "\n",
        "\n",
        "def compile_channels(columnName, storePath, verbose=False):\n",
        "  for channel in columnName:\n",
        "    df = pd.DataFrame()\n",
        "\n",
        "    for file in gestures:\n",
        "      temp = load(storePath + '/' + file + '/' + channel + '.joblib')\n",
        "      temp = pd.DataFrame(temp)\n",
        "      #to add label with the data\n",
        "      temp = temp.assign(label=file)   \n",
        "      df = df.append(temp, ignore_index=True)\n",
        "    \n",
        "    if verbose == True:\n",
        "      print('Processing ', channel, '... Done | shape: ', df.shape)\n",
        "    \n",
        "    if not os.path.isdir(storePath + '/Channels'):\n",
        "      currentPath = os.getcwd()\n",
        "      os.mkdir(currentPath + '/' + storePath + '/Channels')\n",
        "    \n",
        "    dump(df['label'], storePath + '/label' + '.joblib')\n",
        "    df = df.drop(['label'], axis=1).to_numpy()\n",
        "    dump(df, storePath + '/Channels/' + channel + '.joblib')"
      ],
      "execution_count": null,
      "outputs": []
    },
    {
      "cell_type": "code",
      "metadata": {
        "id": "SezR3p0FBsfZ"
      },
      "source": [
        "# Scale Channels Per User within (0, 1)\n",
        "\n",
        "def scale_channels_per_user(users, channels, gestures, path=''):\n",
        "\n",
        "  print(users)\n",
        "  print(channels)\n",
        "  print(gestures)\n",
        "\n",
        "  max = [[] for i in range(len(users))]\n",
        "  min = [[] for i in range(len(users))]\n",
        "\n",
        "  max_gesture = [[] for i in range(len(users))]\n",
        "  min_gesture = [[] for i in range(len(users))]\n",
        "  for idx_user, user in enumerate(users):\n",
        "    for channel in channels:\n",
        "      max_array = np.zeros([recorditeration, segmentLength])\n",
        "      min_array = np.full((recorditeration, segmentLength), 1000) \n",
        "      for gesture in gestures:\n",
        "        data = load(path + user + '/Processed/' + gesture + '/' + channel + '.joblib')\n",
        "        if np.max(data) > np.max(max_array):\n",
        "          max_temp = gesture\n",
        "        if np.min(data) < np.min(min_array):\n",
        "          min_temp = gesture\n",
        "        max_array = np.maximum(max_array, data)\n",
        "        min_array = np.minimum(min_array, data)\n",
        "      max[idx_user].append(np.max(max_array))\n",
        "      min[idx_user].append(np.min(min_array))\n",
        "      max_gesture[idx_user].append(max_temp)\n",
        "      min_gesture[idx_user].append(min_temp)\n",
        "\n",
        "  for idx_user, user in enumerate(users):\n",
        "    for idx_channel, channel in enumerate(channels):\n",
        "      for gesture in gestures:\n",
        "        data = load(path + user + '/Processed/' + gesture + '/' + channel + '.joblib')\n",
        "        data = (data - min[idx_user][idx_channel]) / (max[idx_user][idx_channel] - min[idx_user][idx_channel])\n",
        "        dump(data, path + user + '/Processed/' + gesture + '/' + channel + '.joblib')\n",
        "\n",
        "  print(\"max array: \", max)\n",
        "  print(\"max at gestures: \", max_gesture)\n",
        "  print(\"max array length: \", len(max))\n",
        "  print(\"min array: \", min)\n",
        "  print(\"min at gestures: \", min_gesture)\n",
        "  print(\"min array length: \", len(min))"
      ],
      "execution_count": null,
      "outputs": []
    },
    {
      "cell_type": "markdown",
      "metadata": {
        "id": "aTed41xMUhNB"
      },
      "source": [
        "# **Load** Feature Extraction Functions"
      ]
    },
    {
      "cell_type": "code",
      "metadata": {
        "id": "Hqb55Vm5UgwN"
      },
      "source": [
        "# def correlation(x):\n",
        "#   cor = []\n",
        "#   for n in range(x.shape[0]):\n",
        "#     cor.append(np.correlate(x[n, :], x[n, :])[0])\n",
        "#   return np.array(cor)\n",
        "# #\n",
        "\n",
        "# def mean_crossing_rate(x):\n",
        "#   mcr = []\n",
        "#   for n in range(x.shape[0]):\n",
        "#     mcr.append(lb.feature.zero_crossing_rate(x[n, :] - np.mean(x[n, :]))[0, 0])\n",
        "#   return np.array(mcr)\n",
        "\n",
        "\n",
        "# def get_entropy(x, axis = 1):\n",
        "#   x = x / np.sum(x, axis = axis, keepdims=True)\n",
        "#   entropy = np.sum(sp.special.entr(x), axis = axis)\n",
        "#   return entropy\n",
        "\n",
        "\n",
        "# def number_of_peaks(x):\n",
        "#   npk = []\n",
        "#   for n in range(x.shape[0]):\n",
        "#     thres = (np.max(x[n, :]) / 3)\n",
        "#     peaks, _ = sp.signal.find_peaks(x[n, :], thres)\n",
        "#     npk.append(len(peaks))\n",
        "#   return np.array(npk, dtype=float)\n",
        "\n",
        "\n",
        "# def get_stat_features(x, axis=1, prefix=''):\n",
        "\n",
        "#   # print('Calculating Features...', end = \" \")\n",
        "#   min = np.min(x, axis = axis)\n",
        "#   max = np.max(x, axis = axis)\n",
        "#   std = np.std(x, axis = axis)\n",
        "#   avg = np.mean(x, axis = axis)\n",
        "#   var = np.var(x, axis = axis)\n",
        "#   ptp = np.ptp(x, axis = axis)\n",
        "#   mrc = np.max(np.diff(x, axis = axis), axis = axis)\n",
        "#   arc = np.mean(np.diff(x, axis = axis), axis = axis)\n",
        "#   src = np.std(np.diff(x, axis = axis), axis = axis)\n",
        "#   mad = sp.stats.median_absolute_deviation(x, axis = axis)\n",
        "#   iqr = sp.stats.iqr(x, axis = axis)\n",
        "#   cor = correlation(x)\n",
        "#   mcr = mean_crossing_rate(x)\n",
        "#   rms = np.sum(np.square(x), axis = axis)\n",
        "#   # print('Done!')\n",
        "  \n",
        "#   feature_names = ['min', 'max', 'std', 'avg', 'var', \n",
        "#                    'ptp', 'mrc', 'arc', 'src', 'mad', \n",
        "#                    'iqr', 'cor', 'mcr', 'rms']\n",
        "#   columnName = [prefix + '_' + sub for sub in feature_names]\n",
        "\n",
        "#   stat_features = pd.DataFrame(np.stack((min, max, std, avg, \n",
        "#                                          var, ptp, mrc, arc, \n",
        "#                                          src, mad, iqr, cor, \n",
        "#                                          mcr, rms), axis=1), columns=columnName)\n",
        "\n",
        "#   return stat_features\n",
        " \n",
        "\n",
        "# def get_freq_features(x, axis=1, fs=100, nperseg=150, prefix=''):\n",
        "\n",
        "#   # print('Calculating Features...', end = \" \")\n",
        "#   freq, psd = sp.signal.welch(x, fs, nperseg = nperseg, axis = axis)\n",
        "#   mpw = np.max(psd, axis = axis)\n",
        "#   ent = get_entropy(psd, axis = axis)\n",
        "#   ctf = np.divide(np.sum((freq * psd), axis = axis), np.sum(psd, axis = axis))\n",
        "#   mxf = np.argmax(psd, axis = axis)\n",
        "#   enr = np.sum(np.square(psd), axis = axis) / nperseg\n",
        "#   skw = sp.stats.skew(x, axis = axis)\n",
        "#   kut = sp.stats.kurtosis(x, axis = axis)\n",
        "#   npk = number_of_peaks(psd)\n",
        "#   # print('Done!')\n",
        "\n",
        "#   feature_names = ['mpw', 'ent', 'ctf', 'mxf', 'enr', 'skw', 'kut', 'npk']\n",
        "#   columnName = [prefix + '_' + sub for sub in feature_names]\n",
        "\n",
        "#   freq_features = pd.DataFrame(np.stack((mpw, ent, ctf, mxf, enr, skw, \n",
        "#                                          kut, npk), axis=1), columns=columnName)\n",
        "\n",
        "#   return freq_features\n",
        "\n",
        "\n",
        "# def get_mutual_features(x, y, z, axis=1, nperseg=150, prefix=''):\n",
        "#   cxy = []\n",
        "#   cxz = []\n",
        "#   cyz = []\n",
        "#   vxy = []\n",
        "#   vxz = []\n",
        "#   vyz = []\n",
        "#   # print('Calculating Features...', end = \" \")\n",
        "#   for n in range(x.shape[0]):\n",
        "#     cxy.append(np.corrcoef(x[n, :].ravel(), y[n, :].ravel())[0, 1])\n",
        "#     cxz.append(np.corrcoef(x[n, :].ravel(), z[n, :].ravel())[0, 1])\n",
        "#     cyz.append(np.corrcoef(y[n, :].ravel(), z[n, :].ravel())[0, 1])\n",
        "#     vxy.append(np.cov(x[n, :].ravel(), y[n, :].ravel())[0, 1])\n",
        "#     vxz.append(np.cov(x[n, :].ravel(), z[n, :].ravel())[0, 1])\n",
        "#     vyz.append(np.cov(y[n, :].ravel(), z[n, :].ravel())[0, 1])\n",
        "#   cxy = np.array(cxy)\n",
        "#   cxz = np.array(cxz)\n",
        "#   cyz = np.array(cyz)\n",
        "#   vxy = np.array(vxy)\n",
        "#   vxz = np.array(vxz)\n",
        "#   vyz = np.array(vyz)\n",
        "#   sma = (np.trapz(x, axis = axis) + np.trapz(x, axis = axis) + np.trapz(x, axis = axis)) / nperseg\n",
        "#   # print('Done!')\n",
        "\n",
        "#   feature_names = ['cxy', 'cxz', 'cyz', 'vxy', 'vxz', 'vyz', 'sma']\n",
        "#   columnName = [prefix + '_' + sub for sub in feature_names]\n",
        "\n",
        "#   mutual_features = pd.DataFrame(np.stack((cxy, cxz, cyz, vxy, vxz, vyz, sma), \n",
        "#                                         axis=1), columns=columnName)\n",
        "\n",
        "#   return mutual_features\n",
        "\n",
        "\n",
        "# def get_velocity(x, axis = 1, nperseg = 150):\n",
        "#   return np.trapz(x, axis = axis) / nperseg\n",
        "\n",
        "\n",
        "# def get_fft_coefs(x, fs = 100, n = 20, axis = 1):\n",
        "#   # print('Calculating Features...', end = \" \")\n",
        "#   _, psd = sp.signal.welch(x, fs, nperseg = n, axis = axis)\n",
        "#   # print('Done!')\n",
        "#   return psd"
      ],
      "execution_count": null,
      "outputs": []
    },
    {
      "cell_type": "code",
      "metadata": {
        "id": "modXEnYLwqkm"
      },
      "source": [
        "# def extract_features(storePath):\n",
        "\n",
        "#   FLEX1 = load(storePath + '/Channels/flex_1.joblib')\n",
        "#   FLEX2 = load(storePath + '/Channels/flex_2.joblib')\n",
        "#   FLEX3 = load(storePath + '/Channels/flex_3.joblib')\n",
        "#   FLEX4 = load(storePath + '/Channels/flex_4.joblib')\n",
        "#   FLEX5 = load(storePath + '/Channels/flex_5.joblib')\n",
        "\n",
        "#   ACCx = load(storePath + '/Channels/ACCx_world.joblib')\n",
        "#   ACCy = load(storePath + '/Channels/ACCy_world.joblib')\n",
        "#   ACCz = load(storePath + '/Channels/ACCz_world.joblib')\n",
        "\n",
        "#   ACCm = np.sqrt(ACCx**2 + ACCy**2 + ACCz**2)\n",
        "#   dump(ACCm, storePath + '/Channels/ACCm_world.joblib')\n",
        "\n",
        "#   GYRx = load(storePath + '/Channels/GYRx.joblib')\n",
        "#   GYRy = load(storePath + '/Channels/GYRy.joblib')\n",
        "#   GYRz = load(storePath + '/Channels/GYRz.joblib')\n",
        "\n",
        "#   GYRm = np.sqrt(GYRx**2 + GYRy**2 + GYRz**2)\n",
        "#   dump(GYRm, storePath + '/Channels/GYRm.joblib')\n",
        "\n",
        "#   stat_ACCx = get_stat_features(ACCx, axis=1, prefix=\"ACCx\")\n",
        "#   stat_ACCy = get_stat_features(ACCy, prefix=\"ACCy\")\n",
        "#   stat_ACCz = get_stat_features(ACCz, prefix=\"ACCz\")\n",
        "#   stat_ACCm = get_stat_features(ACCm, prefix=\"ACCm\")\n",
        "#   stat_GYRx = get_stat_features(GYRx, prefix=\"GYRx\")\n",
        "#   stat_GYRy = get_stat_features(GYRy, prefix=\"GYRy\")\n",
        "#   stat_GYRz = get_stat_features(GYRz, prefix=\"GYRz\")\n",
        "#   stat_GYRm = get_stat_features(GYRm, prefix=\"GYRm\")\n",
        "#   stat_FLEX1 = get_stat_features(FLEX1, prefix=\"FLEX1\")\n",
        "#   stat_FLEX2 = get_stat_features(FLEX2, prefix=\"FLEX2\")\n",
        "#   stat_FLEX3 = get_stat_features(FLEX3, prefix=\"FLEX3\")\n",
        "#   stat_FLEX4 = get_stat_features(FLEX4, prefix=\"FLEX4\")\n",
        "#   stat_FLEX5 = get_stat_features(FLEX5, prefix=\"FLEX5\")\n",
        "\n",
        "#   freq_ACCx = get_freq_features(ACCx, prefix=\"ACCx\")\n",
        "#   freq_ACCy = get_freq_features(ACCy, prefix=\"ACCy\")\n",
        "#   freq_ACCz = get_freq_features(ACCz, prefix=\"ACCz\")\n",
        "#   freq_ACCm = get_freq_features(ACCm, prefix=\"ACCm\")\n",
        "#   freq_GYRx = get_freq_features(GYRx, prefix=\"GYRx\")\n",
        "#   freq_GYRy = get_freq_features(GYRy, prefix=\"GYRy\")\n",
        "#   freq_GYRz = get_freq_features(GYRz, prefix=\"GYRz\")\n",
        "#   freq_GYRm = get_freq_features(GYRm, prefix=\"GYRm\")\n",
        "#   freq_FLEX1 = get_freq_features(FLEX1, prefix=\"FLEX1\")\n",
        "#   freq_FLEX2 = get_freq_features(FLEX2, prefix=\"FLEX2\")\n",
        "#   freq_FLEX3 = get_freq_features(FLEX3, prefix=\"FLEX3\")\n",
        "#   freq_FLEX4 = get_freq_features(FLEX4, prefix=\"FLEX4\")\n",
        "#   freq_FLEX5 = get_freq_features(FLEX5, prefix=\"FLEX5\")\n",
        "\n",
        "#   mutual_ACC = get_mutual_features(ACCx, ACCy, ACCz, prefix='ACC')\n",
        "#   mutual_GYR = get_mutual_features(GYRx, GYRy, GYRz, prefix='GYR')\n",
        "\n",
        "#   X = pd.concat([stat_ACCx, stat_ACCy, stat_ACCz, stat_ACCm, \n",
        "#                 stat_GYRx, stat_GYRy, stat_GYRz, stat_GYRm,\n",
        "#                 stat_FLEX1, stat_FLEX2, stat_FLEX3, stat_FLEX4, stat_FLEX5,\n",
        "#                 freq_ACCx, freq_ACCy, freq_ACCz, freq_ACCm,\n",
        "#                 freq_GYRx, freq_GYRy, freq_GYRz, freq_GYRm,\n",
        "#                 freq_FLEX1, freq_FLEX2, freq_FLEX3, freq_FLEX4, freq_FLEX5,\n",
        "#                 mutual_ACC, mutual_GYR], axis=1)\n",
        "\n",
        "#   return X\n"
      ],
      "execution_count": null,
      "outputs": []
    },
    {
      "cell_type": "markdown",
      "metadata": {
        "id": "08yD2mDgFiuC"
      },
      "source": [
        "# **Preprocess** and **Extract** Channels "
      ]
    },
    {
      "cell_type": "code",
      "metadata": {
        "colab": {
          "base_uri": "https://localhost:8080/",
          "height": 321,
          "referenced_widgets": [
            "37541f6a1fb44daa8df4402228b9b9fc",
            "c9ecd0a522444bd09784951bcebffa91",
            "61ea8c9f3c954fd3b26ddc15c80f1185",
            "ca532ea808f149b795a3b418d19ddc5c",
            "6ae9d65bf3d7418db84b0d6faf47c7a6",
            "bec2e6d42c2c440fbe9210223ed31dd2",
            "1d5306911cc54c688b0585d8f98100d0",
            "80cc312ecd7e44afb7dff00908baadc9"
          ]
        },
        "id": "LXQO46PMPBEe",
        "outputId": "174a8785-9d51-48f2-eb1c-5de24fff64da"
      },
      "source": [
        "# Apply Rolling Filters\n",
        "print(\"Applying Rolling Filters...\", end='')\n",
        "apply_rolling_filters()\n",
        "print(\"Done\\n\\n\")\n",
        "\n",
        "\n",
        "# Extract Channels\n",
        "print(\"Extracting Channels...\\n\")\n",
        "\n",
        "for user in tqdm(users):\n",
        "  userPath = user\n",
        "  storePath = userPath + '/' + 'Processed'\n",
        "  extract_channels(columnName, segmentLength, recorditeration, \n",
        "                   userPath=userPath, storePath=storePath, writeFormat='joblib')\n",
        "print(\"Done\\n\\n\")\n",
        "\n",
        "\n",
        "# # Scale Channels\n",
        "# print(\"Applying Scaling...\", end='')\n",
        "# scale_channels_per_user(users=users, channels=['flex_1', 'flex_2', 'flex_3', \n",
        "#                                          'flex_4', 'flex_5'], gestures=gestures)\n",
        "# print(\"Done\\n\\n\")\n"
      ],
      "execution_count": null,
      "outputs": [
        {
          "output_type": "stream",
          "text": [
            "Applying Rolling Filters...Done\n",
            "\n",
            "\n",
            "Extracting Channels...\n",
            "\n"
          ],
          "name": "stdout"
        },
        {
          "output_type": "display_data",
          "data": {
            "application/vnd.jupyter.widget-view+json": {
              "model_id": "37541f6a1fb44daa8df4402228b9b9fc",
              "version_minor": 0,
              "version_major": 2
            },
            "text/plain": [
              "HBox(children=(FloatProgress(value=0.0, max=7.0), HTML(value='')))"
            ]
          },
          "metadata": {
            "tags": []
          }
        },
        {
          "output_type": "stream",
          "text": [
            "Created Folder:  /content/001/Processed\n",
            "Created Folder:  /content/002/Processed\n",
            "Created Folder:  /content/003/Processed\n",
            "Created Folder:  /content/004/Processed\n",
            "Created Folder:  /content/005/Processed\n",
            "Created Folder:  /content/006/Processed\n",
            "Created Folder:  /content/007/Processed\n",
            "\n",
            "Done\n",
            "\n",
            "\n"
          ],
          "name": "stdout"
        }
      ]
    },
    {
      "cell_type": "code",
      "metadata": {
        "colab": {
          "base_uri": "https://localhost:8080/"
        },
        "id": "O8yoamtae1xC",
        "outputId": "dfb5ebb2-1d3b-4443-b505-19922c7f590c"
      },
      "source": [
        " \n",
        "# load a list of files and return as a 3d numpy array\n",
        "def stack_channels(filenames, path):\n",
        "\tloaded = list()\n",
        "\tfor name in filenames:\n",
        "\t\tdata = load(path + name)\n",
        "\t\tloaded.append(data)\n",
        "\t# stack group so that features are the 3rd dimension\n",
        "\tloaded = np.dstack(loaded)\n",
        "\treturn loaded\n",
        " \n",
        "# load a dataset group, such as train or test\n",
        "def load_dataset(path):\n",
        "  channel_path = 'Channels/'\n",
        "  # load all 3 files as a single array\n",
        "  filenames = ['ACCx_world.joblib', 'ACCy_world.joblib', 'ACCz_world.joblib', 'GYRx.joblib', 'GYRy.joblib', 'GYRz.joblib', 'flex_1.joblib', 'flex_2.joblib', 'flex_3.joblib', 'flex_4.joblib', 'flex_5.joblib']\n",
        "  # load input data\n",
        "  X = stack_channels(filenames, path + channel_path)\n",
        "  # load class output\n",
        "  y = load(path + 'label.joblib').to_numpy()\n",
        "  # one-hot-encode labels\n",
        "  y = to_categorical(label_encoder.transform(y))\n",
        "  return X, y\n",
        " \n",
        "# load the dataset, returns train and test X and y elements\n",
        "# def load_dataset(path):\n",
        "#   # load all train\n",
        "#   trainX, trainy = load_dataset_group('train', path)\n",
        "#   print('trainX shape: ', trainX.shape, '   |   trainy shape: ', trainy.shape)\n",
        "#   # load all test\n",
        "#   testX, testy = load_dataset_group('test', path)\n",
        "#   print('testX shape: ', testX.shape, '   |   testy shape: ', testy.shape)\n",
        "#   # zero-offset class values\n",
        "#   trainy = trainy - 1\n",
        "#   testy = testy - 1\n",
        "#   # one hot encode y\n",
        "#   trainy = to_categorical(trainy)\n",
        "#   testy = to_categorical(testy)\n",
        "#   print('Final Dataset shape: \\n\\nTrain Set: ', end='')\n",
        "#   print(trainX.shape, '<----->', trainy.shape, '\\nTest Set: ', testX.shape, '<----->', testy.shape)\n",
        "#   return trainX, trainy, testX, testy\n",
        "\n",
        "\n",
        "\n",
        "# load data\n",
        "user = '001'\n",
        "dataset_path = '/content/' + user + '/Processed/'\n",
        "X, y = load_dataset(dataset_path)\n",
        "\n",
        "print(X.shape)\n",
        "print(y.shape)"
      ],
      "execution_count": null,
      "outputs": [
        {
          "output_type": "stream",
          "text": [
            "(400, 150, 11)\n",
            "(400, 40)\n"
          ],
          "name": "stdout"
        }
      ]
    },
    {
      "cell_type": "code",
      "metadata": {
        "colab": {
          "base_uri": "https://localhost:8080/",
          "height": 117,
          "referenced_widgets": [
            "21e0b3b59df64927b0ac759f7461900b",
            "674352ecb4e54548b6648c0db0eb03c0",
            "01b2524bd03940b184dbb29df955090a",
            "e1d1e645c3c942208b5196a272982139",
            "051063d147d349e89f8e1a890a1d3873",
            "2554db7d36eb40e6acc77dac1fe24e58",
            "42b5f8f20ee542e68c9feaff18fde49e",
            "cc02291056bf4995a5015ae71cd879c4"
          ]
        },
        "id": "ZNLDo_dm0WmH",
        "outputId": "99325b1e-ea25-4bf2-c3ca-a8ad97941502"
      },
      "source": [
        "# Extract Features\n",
        "print(\"Extracting Channels and Labels...\\n\")\n",
        "channel_sets = []\n",
        "label_sets = []\n",
        "\n",
        "for user in tqdm(users):\n",
        "  channel_path = '/content/' + user + '/Processed/'\n",
        "  X_temp, y_temp = load_dataset(channel_path)\n",
        "  channel_sets.append(X_temp)\n",
        "  label_sets.append(y_temp)\n",
        "print(\"Done\")"
      ],
      "execution_count": null,
      "outputs": [
        {
          "output_type": "stream",
          "text": [
            "Extracting Channels and Labels...\n",
            "\n"
          ],
          "name": "stdout"
        },
        {
          "output_type": "display_data",
          "data": {
            "application/vnd.jupyter.widget-view+json": {
              "model_id": "21e0b3b59df64927b0ac759f7461900b",
              "version_minor": 0,
              "version_major": 2
            },
            "text/plain": [
              "HBox(children=(FloatProgress(value=0.0, max=7.0), HTML(value='')))"
            ]
          },
          "metadata": {
            "tags": []
          }
        },
        {
          "output_type": "stream",
          "text": [
            "\n",
            "Done\n"
          ],
          "name": "stdout"
        }
      ]
    },
    {
      "cell_type": "code",
      "metadata": {
        "colab": {
          "base_uri": "https://localhost:8080/"
        },
        "id": "OYA-VztT1GH_",
        "outputId": "6665c310-2078-4d06-aaee-913cdd9cf6d4"
      },
      "source": [
        "# test_users = ['002', '004', '007']\n",
        "test_users = ['002', '004', '007']\n",
        "train_users = [x for x in users if x not in test_users]\n",
        "\n",
        "print(\"Train Set User ID: \", train_users)\n",
        "print(\"Test Set User ID: \", test_users)"
      ],
      "execution_count": null,
      "outputs": [
        {
          "output_type": "stream",
          "text": [
            "Train Set User ID:  ['001', '003', '005', '006']\n",
            "Test Set User ID:  ['002', '004', '007']\n"
          ],
          "name": "stdout"
        }
      ]
    },
    {
      "cell_type": "code",
      "metadata": {
        "colab": {
          "base_uri": "https://localhost:8080/",
          "height": 251,
          "referenced_widgets": [
            "45472acb5bf94618a955a2688997bf46",
            "8698ecc6c0c64a2ab7d705b800446db8",
            "6bba06d64838412caefca7bb7dd5f519",
            "50e81d61226f40f6a53c371e84204bfd",
            "08bd177d537b43bb974b7386e6f26ceb",
            "9d530b02f50c4d69b9d21a5105998ab4",
            "90669fd8de5440bb84b629bbf4210903",
            "b037342bbfeb419ba462c8eef34635d5",
            "9ba7220e057c40f3b7d85d85690df80a",
            "694d40887a974355a44bfc9f9eb9de72",
            "134bf26f20724d869c6b10672cfd38b3",
            "711d5525fd4043378703ee6fd9bded94",
            "cd92757900784240aaeb796097f2b9df",
            "d7696a0b238c497384f8e8988c8420f2",
            "dff87874954344e3887e56d0220e9435",
            "f7d164fd0ee643c095936f2afeb5de6a"
          ]
        },
        "id": "blmdglkZ1LVe",
        "outputId": "60550ea3-fbd9-42c1-b12a-86d6051fb83d"
      },
      "source": [
        "print(\"Compiling Train Set... \")\n",
        "\n",
        "X_train = np.zeros(channel_sets[0].shape)\n",
        "y_train = np.zeros(label_sets[0].shape)\n",
        "\n",
        "for user in tqdm(train_users):\n",
        "  X_train = np.append(X_train, channel_sets[int(user)-1], axis=0)\n",
        "  y_train = np.append(y_train, label_sets[int(user)-1], axis=0)\n",
        "\n",
        "print(\"X_train shape: \", X_train.shape)\n",
        "print(\"y_train shape: \", y_train.shape)\n",
        "\n",
        "\n",
        "print(\"\\n\\nCompiling Train Set... \")\n",
        "\n",
        "X_test = np.zeros(channel_sets[0].shape)\n",
        "y_test = np.zeros(label_sets[0].shape)\n",
        "\n",
        "for user in tqdm(test_users):\n",
        "  X_test = np.append(X_test, channel_sets[int(user)-1], axis=0)\n",
        "  y_test = np.append(y_test, label_sets[int(user)-1], axis=0)\n",
        "\n",
        "print(\"X_test shape: \", X_test.shape)\n",
        "print(\"y_test shape: \", y_test.shape)"
      ],
      "execution_count": null,
      "outputs": [
        {
          "output_type": "stream",
          "text": [
            "Compiling Train Set... \n"
          ],
          "name": "stdout"
        },
        {
          "output_type": "display_data",
          "data": {
            "application/vnd.jupyter.widget-view+json": {
              "model_id": "45472acb5bf94618a955a2688997bf46",
              "version_minor": 0,
              "version_major": 2
            },
            "text/plain": [
              "HBox(children=(FloatProgress(value=0.0, max=4.0), HTML(value='')))"
            ]
          },
          "metadata": {
            "tags": []
          }
        },
        {
          "output_type": "stream",
          "text": [
            "\n",
            "X_train shape:  (2000, 150, 11)\n",
            "y_train shape:  (2000, 40)\n",
            "\n",
            "\n",
            "Compiling Train Set... \n"
          ],
          "name": "stdout"
        },
        {
          "output_type": "display_data",
          "data": {
            "application/vnd.jupyter.widget-view+json": {
              "model_id": "9ba7220e057c40f3b7d85d85690df80a",
              "version_minor": 0,
              "version_major": 2
            },
            "text/plain": [
              "HBox(children=(FloatProgress(value=0.0, max=3.0), HTML(value='')))"
            ]
          },
          "metadata": {
            "tags": []
          }
        },
        {
          "output_type": "stream",
          "text": [
            "\n",
            "X_test shape:  (1600, 150, 11)\n",
            "y_test shape:  (1600, 40)\n"
          ],
          "name": "stdout"
        }
      ]
    },
    {
      "cell_type": "markdown",
      "metadata": {
        "id": "XakzGf-_z4hT"
      },
      "source": [
        "# **CNN-LSTM** Model"
      ]
    },
    {
      "cell_type": "code",
      "metadata": {
        "id": "3acpXxpme1rN"
      },
      "source": [
        "from keras import backend as K\n",
        "\n",
        "def recall_m(y_true, y_pred):\n",
        "  true_positives = K.sum(K.round(K.clip(y_true * y_pred, 0, 1)))\n",
        "  possible_positives = K.sum(K.round(K.clip(y_true, 0, 1)))\n",
        "  recall = true_positives / (possible_positives + K.epsilon())\n",
        "  return recall\n",
        "\n",
        "def precision_m(y_true, y_pred):\n",
        "  true_positives = K.sum(K.round(K.clip(y_true * y_pred, 0, 1)))\n",
        "  predicted_positives = K.sum(K.round(K.clip(y_pred, 0, 1)))\n",
        "  precision = true_positives / (predicted_positives + K.epsilon())\n",
        "  return precision\n",
        "\n",
        "def f1_m(y_true, y_pred):\n",
        "  precision = precision_m(y_true, y_pred)\n",
        "  recall = recall_m(y_true, y_pred)\n",
        "  return 2*((precision*recall)/(precision+recall+K.epsilon()))\n",
        "\n",
        "# fit and evaluate a model\n",
        "def evaluate_model(trainX, trainy, testX, testy, verbose, epochs, batch_size):\n",
        "  n_timesteps, n_features, n_outputs = trainX.shape[1], trainX.shape[2], trainy.shape[1]\n",
        "  # reshape data into time steps of sub-sequences\n",
        "  # n_steps, n_length = 10, 100\n",
        "  n_steps, n_length = 3, 50\n",
        "  trainX = trainX.reshape((trainX.shape[0], n_steps, n_length, n_features))\n",
        "  testX = testX.reshape((testX.shape[0], n_steps, n_length, n_features))\n",
        "  # define model\n",
        "  model = Sequential()\n",
        "  model.add(TimeDistributed(Conv1D(filters=64, kernel_size=3, activation='relu'), input_shape=(None,n_length,n_features)))\n",
        "  model.add(TimeDistributed(Conv1D(filters=64, kernel_size=3, activation='relu')))\n",
        "  model.add(TimeDistributed(Dropout(0.5)))\n",
        "  model.add(TimeDistributed(MaxPooling1D(pool_size=2)))\n",
        "  model.add(TimeDistributed(Flatten()))\n",
        "  model.add(LSTM(100))\n",
        "  model.add(Dropout(0.5))\n",
        "  model.add(Dense(100, activation='relu'))\n",
        "  model.add(Dense(n_outputs, activation='softmax'))\n",
        "  model.compile(loss='categorical_crossentropy', optimizer='adam', \n",
        "                metrics=['accuracy', f1_m, precision_m, recall_m])\n",
        "  print(model.summary())\n",
        "  print('\\n\\n')\n",
        "  # fit network\n",
        "  # model.fit(trainX, trainy, epochs=epochs, batch_size=batch_size, verbose=verbose)\n",
        "  # # evaluate model\n",
        "  # _, accuracy = model.evaluate(testX, testy, batch_size=batch_size, verbose=0)\n",
        "  import time\n",
        "  t_start = time.clock()\n",
        "  from keras import callbacks \n",
        "  earlystopping = callbacks.EarlyStopping(monitor =\"val_loss\", mode =\"min\", \n",
        "                                          patience = 20, verbose = 1, \n",
        "                                          restore_best_weights = True) \n",
        "\n",
        "  history = model.fit(trainX, trainy, batch_size = batch_size,  \n",
        "                      epochs = epochs, validation_data =(testX, testy),  \n",
        "                      callbacks =[earlystopping]) \n",
        "  #history = model.fit(trainX, trainy, epochs=epochs, batch_size=batch_size, verbose=verbose)\n",
        "\n",
        "  t_end = time.clock()\n",
        "\n",
        "  print('\\n\\n\\n')\n",
        "\n",
        "  #_, accuracy_train = model.evaluate(X_train, y_train)\n",
        "  loss_train, accuracy_train, f1_score_train, precision_train, recall_train = model.evaluate(trainX, trainy, verbose=1)\n",
        "  print('Train Accuracy: %.2f' % (accuracy_train*100))\n",
        "  print('Train F1 Score: %.2f' % (f1_score_train*100))\n",
        "  print('Train Time: ', t_end - t_start)\n",
        "\n",
        "  t_start = time.clock()\n",
        "  #_, accuracy_test = model.evaluate(X_test, y_test)\n",
        "  loss_test, accuracy_test, f1_score_test, precision_test, recall_test = model.evaluate(testX, testy, verbose=1)\n",
        "  print('Test Accuracy: %.2f' % (accuracy_test*100))\n",
        "  print('Test F1 Score: %.2f' % (f1_score_test*100))\n",
        "  t_end = time.clock()\n",
        "  print('Test Time: ', t_end - t_start)\n",
        "\n",
        "  return f1_score_test, history\n",
        " \n",
        "# summarize scores\n",
        "def summarize_results(scores):\n",
        "\tprint(scores)\n",
        "\tm, s = np.mean(scores), np.std(scores)\n",
        "\tprint('Accuracy: %.3f%% (+/-%.3f)' % (m, s))\n",
        " \n",
        "# run an experiment\n",
        "def run_experiment(repeats=10, verbose=True, epochs=10, batch_size=32):\n",
        "  # repeat experiment\n",
        "  scores = list()\n",
        "  for r in tqdm(range(repeats)):\n",
        "    score, history = evaluate_model(trainX, trainy, testX, testy, verbose, epochs, batch_size)\n",
        "    print('%.3f' % (score * 100.0))\n",
        "    scores.append(score)\n",
        "  # summarize results\n",
        "  summarize_results(scores)"
      ],
      "execution_count": null,
      "outputs": []
    },
    {
      "cell_type": "markdown",
      "metadata": {
        "id": "e903Kduh0EUj"
      },
      "source": [
        "# **Train**"
      ]
    },
    {
      "cell_type": "code",
      "metadata": {
        "id": "RFlsIBthe1nX",
        "colab": {
          "base_uri": "https://localhost:8080/"
        },
        "outputId": "4c630e0c-642f-46a0-9323-c0e8f6e3a1b0"
      },
      "source": [
        "# for single iteration\n",
        "score, history = evaluate_model(X_train, y_train, X_test, y_test, verbose=True, epochs=150, batch_size=16)\n",
        "print('Score:', '%.3f' % (score * 100.0))"
      ],
      "execution_count": null,
      "outputs": [
        {
          "output_type": "stream",
          "text": [
            "Model: \"sequential\"\n",
            "_________________________________________________________________\n",
            "Layer (type)                 Output Shape              Param #   \n",
            "=================================================================\n",
            "time_distributed (TimeDistri (None, None, 48, 64)      2176      \n",
            "_________________________________________________________________\n",
            "time_distributed_1 (TimeDist (None, None, 46, 64)      12352     \n",
            "_________________________________________________________________\n",
            "time_distributed_2 (TimeDist (None, None, 46, 64)      0         \n",
            "_________________________________________________________________\n",
            "time_distributed_3 (TimeDist (None, None, 23, 64)      0         \n",
            "_________________________________________________________________\n",
            "time_distributed_4 (TimeDist (None, None, 1472)        0         \n",
            "_________________________________________________________________\n",
            "lstm (LSTM)                  (None, 100)               629200    \n",
            "_________________________________________________________________\n",
            "dropout_1 (Dropout)          (None, 100)               0         \n",
            "_________________________________________________________________\n",
            "dense (Dense)                (None, 100)               10100     \n",
            "_________________________________________________________________\n",
            "dense_1 (Dense)              (None, 40)                4040      \n",
            "=================================================================\n",
            "Total params: 657,868\n",
            "Trainable params: 657,868\n",
            "Non-trainable params: 0\n",
            "_________________________________________________________________\n",
            "None\n",
            "\n",
            "\n",
            "\n",
            "Epoch 1/150\n"
          ],
          "name": "stdout"
        },
        {
          "output_type": "stream",
          "text": [
            "/usr/local/lib/python3.7/dist-packages/ipykernel_launcher.py:48: DeprecationWarning: time.clock has been deprecated in Python 3.3 and will be removed from Python 3.8: use time.perf_counter or time.process_time instead\n"
          ],
          "name": "stderr"
        },
        {
          "output_type": "stream",
          "text": [
            "125/125 [==============================] - 7s 34ms/step - loss: 2.9458 - accuracy: 0.0606 - f1_m: 0.0011 - precision_m: 0.0085 - recall_m: 5.9968e-04 - val_loss: 2.4319 - val_accuracy: 0.1037 - val_f1_m: 0.0000e+00 - val_precision_m: 0.0000e+00 - val_recall_m: 0.0000e+00\n",
            "Epoch 2/150\n",
            "125/125 [==============================] - 4s 28ms/step - loss: 2.5547 - accuracy: 0.0785 - f1_m: 0.0110 - precision_m: 0.0715 - recall_m: 0.0060 - val_loss: 2.3161 - val_accuracy: 0.1356 - val_f1_m: 0.0173 - val_precision_m: 0.0300 - val_recall_m: 0.0125\n",
            "Epoch 3/150\n",
            "125/125 [==============================] - 4s 29ms/step - loss: 2.3884 - accuracy: 0.1138 - f1_m: 0.0511 - precision_m: 0.2591 - recall_m: 0.0289 - val_loss: 2.2250 - val_accuracy: 0.1269 - val_f1_m: 0.0307 - val_precision_m: 0.0712 - val_recall_m: 0.0213\n",
            "Epoch 4/150\n",
            "125/125 [==============================] - 4s 29ms/step - loss: 2.3913 - accuracy: 0.1260 - f1_m: 0.0462 - precision_m: 0.2058 - recall_m: 0.0272 - val_loss: 2.3045 - val_accuracy: 0.0881 - val_f1_m: 0.0170 - val_precision_m: 0.0317 - val_recall_m: 0.0125\n",
            "Epoch 5/150\n",
            "125/125 [==============================] - 4s 29ms/step - loss: 2.3824 - accuracy: 0.1033 - f1_m: 0.0631 - precision_m: 0.2637 - recall_m: 0.0373 - val_loss: 2.1599 - val_accuracy: 0.1300 - val_f1_m: 0.0375 - val_precision_m: 0.1100 - val_recall_m: 0.0244\n",
            "Epoch 6/150\n",
            "125/125 [==============================] - 4s 29ms/step - loss: 2.2699 - accuracy: 0.1312 - f1_m: 0.0647 - precision_m: 0.2478 - recall_m: 0.0385 - val_loss: 2.2906 - val_accuracy: 0.1056 - val_f1_m: 0.0533 - val_precision_m: 0.1213 - val_recall_m: 0.0362\n",
            "Epoch 7/150\n",
            "125/125 [==============================] - 4s 30ms/step - loss: 2.3377 - accuracy: 0.1267 - f1_m: 0.0697 - precision_m: 0.2132 - recall_m: 0.0434 - val_loss: 2.3348 - val_accuracy: 0.1088 - val_f1_m: 0.0451 - val_precision_m: 0.0879 - val_recall_m: 0.0312\n",
            "Epoch 8/150\n",
            "125/125 [==============================] - 4s 29ms/step - loss: 2.3073 - accuracy: 0.1433 - f1_m: 0.0714 - precision_m: 0.2737 - recall_m: 0.0438 - val_loss: 2.4331 - val_accuracy: 0.1025 - val_f1_m: 0.0560 - val_precision_m: 0.1177 - val_recall_m: 0.0400\n",
            "Epoch 9/150\n",
            "125/125 [==============================] - 4s 30ms/step - loss: 2.4896 - accuracy: 0.1019 - f1_m: 0.0381 - precision_m: 0.1207 - recall_m: 0.0235 - val_loss: 2.2064 - val_accuracy: 0.0850 - val_f1_m: 0.0395 - val_precision_m: 0.0913 - val_recall_m: 0.0269\n",
            "Epoch 10/150\n",
            "125/125 [==============================] - 4s 29ms/step - loss: 2.4438 - accuracy: 0.1043 - f1_m: 0.0551 - precision_m: 0.1686 - recall_m: 0.0337 - val_loss: 2.2098 - val_accuracy: 0.1069 - val_f1_m: 0.0452 - val_precision_m: 0.0913 - val_recall_m: 0.0312\n",
            "Epoch 11/150\n",
            "125/125 [==============================] - 4s 30ms/step - loss: 2.4082 - accuracy: 0.1142 - f1_m: 0.0580 - precision_m: 0.2114 - recall_m: 0.0360 - val_loss: 2.1377 - val_accuracy: 0.1125 - val_f1_m: 0.0272 - val_precision_m: 0.0700 - val_recall_m: 0.0175\n",
            "Epoch 12/150\n",
            "125/125 [==============================] - 4s 30ms/step - loss: 2.5436 - accuracy: 0.1063 - f1_m: 0.0422 - precision_m: 0.1586 - recall_m: 0.0260 - val_loss: 2.2295 - val_accuracy: 0.0850 - val_f1_m: 0.0307 - val_precision_m: 0.0736 - val_recall_m: 0.0206\n",
            "Epoch 13/150\n",
            "125/125 [==============================] - 4s 29ms/step - loss: 2.6050 - accuracy: 0.1128 - f1_m: 0.0454 - precision_m: 0.0974 - recall_m: 0.0308 - val_loss: 2.2680 - val_accuracy: 0.0950 - val_f1_m: 0.0346 - val_precision_m: 0.0662 - val_recall_m: 0.0250\n",
            "Epoch 14/150\n",
            "125/125 [==============================] - 4s 29ms/step - loss: 2.5321 - accuracy: 0.0937 - f1_m: 0.0301 - precision_m: 0.0736 - recall_m: 0.0194 - val_loss: 2.3947 - val_accuracy: 0.0856 - val_f1_m: 0.0283 - val_precision_m: 0.0666 - val_recall_m: 0.0213\n",
            "Epoch 15/150\n",
            "125/125 [==============================] - 4s 29ms/step - loss: 2.7995 - accuracy: 0.0888 - f1_m: 0.0247 - precision_m: 0.0719 - recall_m: 0.0160 - val_loss: 2.1620 - val_accuracy: 0.0831 - val_f1_m: 0.0284 - val_precision_m: 0.0600 - val_recall_m: 0.0188\n",
            "Epoch 16/150\n",
            "125/125 [==============================] - 4s 30ms/step - loss: 2.5695 - accuracy: 0.1069 - f1_m: 0.0440 - precision_m: 0.1280 - recall_m: 0.0276 - val_loss: 2.1733 - val_accuracy: 0.1025 - val_f1_m: 0.0360 - val_precision_m: 0.0800 - val_recall_m: 0.0237\n",
            "Epoch 17/150\n",
            "125/125 [==============================] - 4s 29ms/step - loss: 2.4136 - accuracy: 0.1023 - f1_m: 0.0263 - precision_m: 0.0699 - recall_m: 0.0177 - val_loss: 2.1099 - val_accuracy: 0.0794 - val_f1_m: 0.0373 - val_precision_m: 0.0800 - val_recall_m: 0.0250\n",
            "Epoch 18/150\n",
            "125/125 [==============================] - 4s 30ms/step - loss: 2.5034 - accuracy: 0.0940 - f1_m: 0.0201 - precision_m: 0.0534 - recall_m: 0.0131 - val_loss: 2.1240 - val_accuracy: 0.0919 - val_f1_m: 0.0284 - val_precision_m: 0.0600 - val_recall_m: 0.0188\n",
            "Epoch 19/150\n",
            "125/125 [==============================] - 4s 31ms/step - loss: 2.4374 - accuracy: 0.1018 - f1_m: 0.0400 - precision_m: 0.0964 - recall_m: 0.0261 - val_loss: 2.1812 - val_accuracy: 0.0769 - val_f1_m: 0.0000e+00 - val_precision_m: 0.0000e+00 - val_recall_m: 0.0000e+00\n",
            "Epoch 20/150\n",
            "125/125 [==============================] - 4s 31ms/step - loss: 2.6166 - accuracy: 0.0875 - f1_m: 0.0243 - precision_m: 0.0478 - recall_m: 0.0169 - val_loss: 2.0904 - val_accuracy: 0.0981 - val_f1_m: 0.0367 - val_precision_m: 0.0800 - val_recall_m: 0.0244\n",
            "Epoch 21/150\n",
            "125/125 [==============================] - 4s 31ms/step - loss: 2.5485 - accuracy: 0.0883 - f1_m: 0.0360 - precision_m: 0.0777 - recall_m: 0.0250 - val_loss: 2.1345 - val_accuracy: 0.3431 - val_f1_m: 0.0453 - val_precision_m: 0.0917 - val_recall_m: 0.0312\n",
            "Epoch 22/150\n",
            "125/125 [==============================] - 4s 30ms/step - loss: 2.5734 - accuracy: 0.0917 - f1_m: 0.0329 - precision_m: 0.0963 - recall_m: 0.0217 - val_loss: 2.0811 - val_accuracy: 0.0850 - val_f1_m: 0.0106 - val_precision_m: 0.0300 - val_recall_m: 0.0069\n",
            "Epoch 23/150\n",
            "125/125 [==============================] - 4s 31ms/step - loss: 2.6746 - accuracy: 0.0838 - f1_m: 0.0216 - precision_m: 0.0428 - recall_m: 0.0151 - val_loss: 2.1898 - val_accuracy: 0.0844 - val_f1_m: 0.0095 - val_precision_m: 0.0200 - val_recall_m: 0.0063\n",
            "Epoch 24/150\n",
            "125/125 [==============================] - 4s 30ms/step - loss: 2.6879 - accuracy: 0.0893 - f1_m: 0.0270 - precision_m: 0.0613 - recall_m: 0.0178 - val_loss: 2.1628 - val_accuracy: 0.0925 - val_f1_m: 0.0472 - val_precision_m: 0.1129 - val_recall_m: 0.0319\n",
            "Epoch 25/150\n",
            "125/125 [==============================] - 4s 30ms/step - loss: 2.6583 - accuracy: 0.0851 - f1_m: 0.0380 - precision_m: 0.0804 - recall_m: 0.0258 - val_loss: 2.1605 - val_accuracy: 0.0931 - val_f1_m: 0.0284 - val_precision_m: 0.0700 - val_recall_m: 0.0188\n",
            "Epoch 26/150\n",
            "125/125 [==============================] - 4s 30ms/step - loss: 2.6248 - accuracy: 0.0787 - f1_m: 0.0256 - precision_m: 0.0592 - recall_m: 0.0182 - val_loss: 2.2293 - val_accuracy: 0.0750 - val_f1_m: 0.0255 - val_precision_m: 0.0600 - val_recall_m: 0.0169\n",
            "Epoch 27/150\n",
            "125/125 [==============================] - 4s 30ms/step - loss: 2.7663 - accuracy: 0.0816 - f1_m: 0.0134 - precision_m: 0.0306 - recall_m: 0.0092 - val_loss: 2.2903 - val_accuracy: 0.0750 - val_f1_m: 0.0000e+00 - val_precision_m: 0.0000e+00 - val_recall_m: 0.0000e+00\n",
            "Epoch 28/150\n",
            "125/125 [==============================] - 4s 30ms/step - loss: 2.7851 - accuracy: 0.0596 - f1_m: 0.0071 - precision_m: 0.0129 - recall_m: 0.0056 - val_loss: 2.2726 - val_accuracy: 0.0681 - val_f1_m: 0.0052 - val_precision_m: 0.0200 - val_recall_m: 0.0031\n",
            "Epoch 29/150\n",
            "125/125 [==============================] - 4s 30ms/step - loss: 2.7956 - accuracy: 0.0665 - f1_m: 0.0121 - precision_m: 0.0272 - recall_m: 0.0082 - val_loss: 2.2977 - val_accuracy: 0.0675 - val_f1_m: 0.0000e+00 - val_precision_m: 0.0000e+00 - val_recall_m: 0.0000e+00\n",
            "Epoch 30/150\n",
            "125/125 [==============================] - 4s 31ms/step - loss: 2.7514 - accuracy: 0.0642 - f1_m: 0.0118 - precision_m: 0.0295 - recall_m: 0.0081 - val_loss: 2.3068 - val_accuracy: 0.0531 - val_f1_m: 0.0000e+00 - val_precision_m: 0.0000e+00 - val_recall_m: 0.0000e+00\n",
            "Epoch 31/150\n",
            "125/125 [==============================] - 4s 29ms/step - loss: 2.9200 - accuracy: 0.0572 - f1_m: 0.0071 - precision_m: 0.0151 - recall_m: 0.0048 - val_loss: 2.2816 - val_accuracy: 0.0425 - val_f1_m: 0.0000e+00 - val_precision_m: 0.0000e+00 - val_recall_m: 0.0000e+00\n",
            "Epoch 32/150\n",
            "125/125 [==============================] - 4s 29ms/step - loss: 2.8107 - accuracy: 0.0416 - f1_m: 0.0066 - precision_m: 0.0122 - recall_m: 0.0046 - val_loss: 2.4928 - val_accuracy: 0.0319 - val_f1_m: 0.0000e+00 - val_precision_m: 0.0000e+00 - val_recall_m: 0.0000e+00\n",
            "Epoch 33/150\n",
            "125/125 [==============================] - 4s 30ms/step - loss: 3.0829 - accuracy: 0.0399 - f1_m: 0.0086 - precision_m: 0.0186 - recall_m: 0.0057 - val_loss: 2.4218 - val_accuracy: 0.0444 - val_f1_m: 0.0000e+00 - val_precision_m: 0.0000e+00 - val_recall_m: 0.0000e+00\n",
            "Epoch 34/150\n",
            "125/125 [==============================] - 4s 30ms/step - loss: 3.0409 - accuracy: 0.0439 - f1_m: 0.0067 - precision_m: 0.0128 - recall_m: 0.0047 - val_loss: 2.4906 - val_accuracy: 0.0519 - val_f1_m: 0.0000e+00 - val_precision_m: 0.0000e+00 - val_recall_m: 0.0000e+00\n",
            "Epoch 35/150\n",
            "125/125 [==============================] - 4s 30ms/step - loss: 3.1585 - accuracy: 0.0291 - f1_m: 5.5593e-04 - precision_m: 0.0014 - recall_m: 3.4889e-04 - val_loss: 2.5913 - val_accuracy: 0.0256 - val_f1_m: 0.0000e+00 - val_precision_m: 0.0000e+00 - val_recall_m: 0.0000e+00\n",
            "Epoch 36/150\n",
            "125/125 [==============================] - 4s 30ms/step - loss: 2.9906 - accuracy: 0.0347 - f1_m: 0.0041 - precision_m: 0.0099 - recall_m: 0.0027 - val_loss: 2.6130 - val_accuracy: 0.0344 - val_f1_m: 0.0000e+00 - val_precision_m: 0.0000e+00 - val_recall_m: 0.0000e+00\n",
            "Epoch 37/150\n",
            "125/125 [==============================] - 4s 30ms/step - loss: 3.0706 - accuracy: 0.0379 - f1_m: 1.9649e-04 - precision_m: 8.3509e-04 - recall_m: 1.1134e-04 - val_loss: 2.6299 - val_accuracy: 0.0188 - val_f1_m: 0.0000e+00 - val_precision_m: 0.0000e+00 - val_recall_m: 0.0000e+00\n",
            "Epoch 38/150\n",
            "125/125 [==============================] - 4s 30ms/step - loss: 3.0616 - accuracy: 0.0398 - f1_m: 1.6725e-04 - precision_m: 6.7301e-04 - recall_m: 9.5937e-05 - val_loss: 2.6320 - val_accuracy: 0.0256 - val_f1_m: 0.0000e+00 - val_precision_m: 0.0000e+00 - val_recall_m: 0.0000e+00\n",
            "Epoch 39/150\n",
            "125/125 [==============================] - 4s 30ms/step - loss: 3.1024 - accuracy: 0.0388 - f1_m: 0.0012 - precision_m: 0.0018 - recall_m: 8.7879e-04 - val_loss: 2.6339 - val_accuracy: 0.0250 - val_f1_m: 0.0000e+00 - val_precision_m: 0.0000e+00 - val_recall_m: 0.0000e+00\n",
            "Epoch 40/150\n",
            "125/125 [==============================] - 4s 30ms/step - loss: 3.0642 - accuracy: 0.0381 - f1_m: 0.0050 - precision_m: 0.0127 - recall_m: 0.0032 - val_loss: 2.6221 - val_accuracy: 0.0338 - val_f1_m: 0.0000e+00 - val_precision_m: 0.0000e+00 - val_recall_m: 0.0000e+00\n",
            "Epoch 41/150\n",
            "125/125 [==============================] - 4s 31ms/step - loss: 3.1337 - accuracy: 0.0448 - f1_m: 0.0025 - precision_m: 0.0052 - recall_m: 0.0018 - val_loss: 2.6221 - val_accuracy: 0.0437 - val_f1_m: 0.0000e+00 - val_precision_m: 0.0000e+00 - val_recall_m: 0.0000e+00\n",
            "Epoch 42/150\n",
            "125/125 [==============================] - 4s 31ms/step - loss: 3.0786 - accuracy: 0.0353 - f1_m: 0.0000e+00 - precision_m: 0.0000e+00 - recall_m: 0.0000e+00 - val_loss: 2.6134 - val_accuracy: 0.0538 - val_f1_m: 0.0000e+00 - val_precision_m: 0.0000e+00 - val_recall_m: 0.0000e+00\n",
            "Restoring model weights from the end of the best epoch.\n",
            "Epoch 00042: early stopping\n",
            "\n",
            "\n",
            "\n",
            "\n"
          ],
          "name": "stdout"
        },
        {
          "output_type": "stream",
          "text": [
            "/usr/local/lib/python3.7/dist-packages/ipykernel_launcher.py:59: DeprecationWarning: time.clock has been deprecated in Python 3.3 and will be removed from Python 3.8: use time.perf_counter or time.process_time instead\n"
          ],
          "name": "stderr"
        },
        {
          "output_type": "stream",
          "text": [
            "63/63 [==============================] - 1s 10ms/step - loss: 2.2320 - accuracy: 0.0865 - f1_m: 0.0242 - precision_m: 0.0794 - recall_m: 0.0149\n",
            "Train Accuracy: 8.65\n",
            "Train F1 Score: 2.42\n",
            "Train Time:  264.037753\n",
            "12/50 [======>.......................] - ETA: 0s - loss: 0.0000e+00 - accuracy: 0.0000e+00 - f1_m: 0.0000e+00 - precision_m: 0.0000e+00 - recall_m: 0.0000e+00"
          ],
          "name": "stdout"
        },
        {
          "output_type": "stream",
          "text": [
            "/usr/local/lib/python3.7/dist-packages/ipykernel_launcher.py:69: DeprecationWarning: time.clock has been deprecated in Python 3.3 and will be removed from Python 3.8: use time.perf_counter or time.process_time instead\n"
          ],
          "name": "stderr"
        },
        {
          "output_type": "stream",
          "text": [
            "50/50 [==============================] - 0s 10ms/step - loss: 2.0811 - accuracy: 0.0850 - f1_m: 0.0107 - precision_m: 0.0400 - recall_m: 0.0069\n",
            "Test Accuracy: 8.50\n",
            "Test F1 Score: 1.07\n",
            "Test Time:  0.8259110000000192\n",
            "Score: 1.074\n"
          ],
          "name": "stdout"
        },
        {
          "output_type": "stream",
          "text": [
            "/usr/local/lib/python3.7/dist-packages/ipykernel_launcher.py:74: DeprecationWarning: time.clock has been deprecated in Python 3.3 and will be removed from Python 3.8: use time.perf_counter or time.process_time instead\n"
          ],
          "name": "stderr"
        }
      ]
    },
    {
      "cell_type": "code",
      "metadata": {
        "id": "vBe8k9IHe1j_",
        "colab": {
          "base_uri": "https://localhost:8080/",
          "height": 295
        },
        "outputId": "e9d8610d-abf6-49c4-8d08-abcded3d0db4"
      },
      "source": [
        "import matplotlib.pyplot as plt\n",
        "plt.plot(history.history['loss'])\n",
        "# plt.plot(history.history['val_loss'])\n",
        "plt.title('Model Accuracy')\n",
        "plt.ylabel('accuracy')\n",
        "plt.xlabel('epoch')\n",
        "plt.legend(['train', 'test'], loc='upper left')\n",
        "plt.show()"
      ],
      "execution_count": null,
      "outputs": [
        {
          "output_type": "display_data",
          "data": {
            "image/png": "[encoded data removed]",
            "text/plain": [
              "<Figure size 432x288 with 1 Axes>"
            ]
          },
          "metadata": {
            "tags": [],
            "needs_background": "light"
          }
        }
      ]
    },
    {
      "cell_type": "code",
      "metadata": {
        "id": "drAX5VxFe1gJ"
      },
      "source": [
        ""
      ],
      "execution_count": null,
      "outputs": []
    },
    {
      "cell_type": "code",
      "metadata": {
        "id": "54LVIdNce1b0"
      },
      "source": [
        ""
      ],
      "execution_count": null,
      "outputs": []
    },
    {
      "cell_type": "markdown",
      "metadata": {
        "id": "p-ABKEFtxxoP"
      },
      "source": [
        "# **Extract** Features and Labels"
      ]
    },
    {
      "cell_type": "code",
      "metadata": {
        "colab": {
          "base_uri": "https://localhost:8080/",
          "referenced_widgets": [
            "8a57771cb7fc41c69d70b2da6c92a69d",
            "ed5fa9d75b9e4c3f8b5da6a615fedcb9",
            "d14a03f339bd46529755246e2560e4d3",
            "9553c69069e54073b9a414a347965bcc",
            "7c68fc396ba749abb3bc4f96da980efe",
            "6e1b2465d861491e9b5c943bfa109964",
            "b2429bae81a64f53a8960a6e972dc4b0",
            "39615116103b4ad68ea58abc480d6f57"
          ]
        },
        "id": "XNSEvqgDEhAO",
        "outputId": "6747fc99-33fb-4a84-eda7-0dfd303b6abf"
      },
      "source": [
        "# Extract Features\n",
        "print(\"Extracting Features and Labels...\\n\")\n",
        "feature_sets = []\n",
        "label_sets = []\n",
        "\n",
        "for user in tqdm(users):\n",
        "  userPath = user\n",
        "  storePath = userPath + '/' + 'Processed'\n",
        "  X_temp = extract_features(storePath)\n",
        "  y_temp = load(storePath + '/label.joblib')\n",
        "  y_temp = y_temp.to_numpy().ravel()\n",
        "  y_temp = label_encoder.transform(y_temp)\n",
        "  feature_sets.append(X_temp)\n",
        "  label_sets.append(y_temp)\n",
        "print(\"Done\")"
      ],
      "execution_count": null,
      "outputs": [
        {
          "output_type": "stream",
          "text": [
            "Extracting Features and Labels...\n",
            "\n"
          ],
          "name": "stdout"
        },
        {
          "output_type": "display_data",
          "data": {
            "application/vnd.jupyter.widget-view+json": {
              "model_id": "8a57771cb7fc41c69d70b2da6c92a69d",
              "version_major": 2,
              "version_minor": 0
            },
            "text/plain": [
              "HBox(children=(FloatProgress(value=0.0, max=7.0), HTML(value='')))"
            ]
          },
          "metadata": {
            "tags": []
          }
        },
        {
          "output_type": "stream",
          "text": [
            "\n",
            "Done\n"
          ],
          "name": "stdout"
        }
      ]
    },
    {
      "cell_type": "code",
      "metadata": {
        "colab": {
          "base_uri": "https://localhost:8080/"
        },
        "id": "NubgWRKmCu3R",
        "outputId": "0bd34a5f-36cd-4195-a5d3-979f8516b430"
      },
      "source": [
        "print(len(gestures))"
      ],
      "execution_count": null,
      "outputs": [
        {
          "output_type": "stream",
          "text": [
            "40\n"
          ],
          "name": "stdout"
        }
      ]
    },
    {
      "cell_type": "markdown",
      "metadata": {
        "id": "z6iM3n3bezCv"
      },
      "source": [
        "# **Set** Train and Test Sets"
      ]
    },
    {
      "cell_type": "code",
      "metadata": {
        "colab": {
          "base_uri": "https://localhost:8080/"
        },
        "id": "dOEnxffgYwtc",
        "outputId": "35d9d0f8-3c60-40df-f949-c23b864cc5f5"
      },
      "source": [
        "test_users = ['002', '004', '007']\n",
        "# test_users = ['001', '003', '005']\n",
        "train_users = [x for x in users if x not in test_users]\n",
        "\n",
        "print(\"Train Set User ID: \", train_users)\n",
        "print(\"Test Set User ID: \", test_users)"
      ],
      "execution_count": null,
      "outputs": [
        {
          "output_type": "stream",
          "text": [
            "Train Set User ID:  ['001', '003', '005', '006']\n",
            "Test Set User ID:  ['002', '004', '007']\n"
          ],
          "name": "stdout"
        }
      ]
    },
    {
      "cell_type": "markdown",
      "metadata": {
        "id": "3lyn8dM6FXYm"
      },
      "source": [
        "## **Compile** Train and Test Sets"
      ]
    },
    {
      "cell_type": "code",
      "metadata": {
        "colab": {
          "base_uri": "https://localhost:8080/",
          "height": 302,
          "referenced_widgets": [
            "e7a8a2cafd48423ba131884a0ca1ebef",
            "8a618606fae5485bb9aa6476cde77482",
            "1d1bb357888c4378b0f3f5aeeb84821c",
            "fb37f8d367354125877a4064cdbdf628",
            "53323039c3bc4c54989759442b780a3c",
            "ef84eacd273549d394ffd5e9f08915d1",
            "36550e857bcc44d5abf82fe5ac188eb9",
            "7d2ab91086bc41ef905a7d952e1c9efb",
            "35ccef13ec5b4a6faccab9043251eb55",
            "14a0314ad28542408beeb84fbfc3e42a",
            "852630d2bd6045a083dfde5604491ef0",
            "eae2304a26d64f27bfcf495522c2bc8c",
            "d6299093832a4495a1f3e8fc59f7d257",
            "73d40da82dca4a80a61b6178953411e4",
            "53093228638b4baf98325faebd05940b",
            "bd485ce520094c1c98e03d1fe390682e"
          ]
        },
        "id": "LX5r6yglI5Y_",
        "outputId": "ab9bfbd0-e901-48d3-a0d9-975bac68853b"
      },
      "source": [
        "print(\"Compiling Train Set... \")\n",
        "\n",
        "X_train = pd.DataFrame()\n",
        "y_train = np.array([])\n",
        "\n",
        "for user in tqdm(train_users):\n",
        "  X_train = X_train.append(feature_sets[int(user)-1], ignore_index=True)\n",
        "  y_train = np.append(y_train, label_sets[int(user)-1])\n",
        "\n",
        "print(\"X_train shape: \", X_train.shape)\n",
        "print(\"y_train shape: \", y_train.shape)\n",
        "\n",
        "\n",
        "print(\"\\n\\nCompiling Train Set... \")\n",
        "\n",
        "X_test = pd.DataFrame()\n",
        "y_test = np.array([])\n",
        "\n",
        "for user in tqdm(test_users):\n",
        "  X_test = X_test.append(feature_sets[int(user)-1], ignore_index=True)\n",
        "  y_test = np.append(y_test, label_sets[int(user)-1])\n",
        "\n",
        "print(\"X_test shape: \", X_test.shape)\n",
        "print(\"y_test shape: \", y_test.shape)\n",
        "\n",
        "\n",
        "from sklearn.metrics import accuracy_score\n",
        "from sklearn.ensemble import RandomForestClassifier\n",
        "from sklearn.svm import SVC\n",
        "from sklearn.pipeline import Pipeline\n",
        "from sklearn.preprocessing import StandardScaler\n",
        "\n",
        "accuracy = 0\n",
        "num_iter = 10\n",
        "failed_classes = set()\n",
        "for i in range(num_iter):\n",
        "  pipe = Pipeline([('nomalizer', StandardScaler()), ('clf', RandomForestClassifier(n_estimators=100))])\n",
        "  # clf = RandomForestClassifier(n_estimators=100)\n",
        "  pipe.fit(X_train,y_train)\n",
        "  y_pred = pipe.predict(X_test)\n",
        "  accuracy += accuracy_score(y_test,y_pred)\n",
        "  failed_classes = failed_classes.union(set(y_test.astype(int)) - set(y_pred.astype(int)))\n",
        "accuracy /= num_iter\n",
        "\n",
        "# accuracy = 0\n",
        "# num_iter = 10\n",
        "# failed_classes = set()\n",
        "# for i in range(num_iter):\n",
        "#   clf = RandomForestClassifier(n_estimators=100)\n",
        "#   # clf = SVC()\n",
        "#   clf.fit(X_train,y_train)\n",
        "#   y_pred = clf.predict(X_test)\n",
        "#   accuracy += accuracy_score(y_test,y_pred)\n",
        "#   failed_classes = failed_classes.union(set(y_test.astype(int)) - set(y_pred.astype(int)))\n",
        "# accuracy /= num_iter\n",
        "\n",
        "failed_classes = label_encoder.inverse_transform(list(failed_classes))\n",
        "\n",
        "print(\"\\nAccuracy Score: %0.2f\" %(accuracy_score(y_test,y_pred)))\n",
        "print(\"Failed Classes: \", failed_classes)"
      ],
      "execution_count": null,
      "outputs": [
        {
          "output_type": "stream",
          "text": [
            "Compiling Train Set... \n"
          ],
          "name": "stdout"
        },
        {
          "output_type": "display_data",
          "data": {
            "application/vnd.jupyter.widget-view+json": {
              "model_id": "e7a8a2cafd48423ba131884a0ca1ebef",
              "version_major": 2,
              "version_minor": 0
            },
            "text/plain": [
              "HBox(children=(FloatProgress(value=0.0, max=4.0), HTML(value='')))"
            ]
          },
          "metadata": {
            "tags": []
          }
        },
        {
          "output_type": "stream",
          "text": [
            "\n",
            "X_train shape:  (1600, 300)\n",
            "y_train shape:  (1600,)\n",
            "\n",
            "\n",
            "Compiling Train Set... \n"
          ],
          "name": "stdout"
        },
        {
          "output_type": "display_data",
          "data": {
            "application/vnd.jupyter.widget-view+json": {
              "model_id": "35ccef13ec5b4a6faccab9043251eb55",
              "version_major": 2,
              "version_minor": 0
            },
            "text/plain": [
              "HBox(children=(FloatProgress(value=0.0, max=3.0), HTML(value='')))"
            ]
          },
          "metadata": {
            "tags": []
          }
        },
        {
          "output_type": "stream",
          "text": [
            "\n",
            "X_test shape:  (1200, 300)\n",
            "y_test shape:  (1200,)\n",
            "\n",
            "Accuracy Score: 0.73\n",
            "Failed Classes:  []\n"
          ],
          "name": "stdout"
        }
      ]
    },
    {
      "cell_type": "markdown",
      "metadata": {
        "id": "YWxUixE6UGzW"
      },
      "source": [
        "# **Classify**"
      ]
    },
    {
      "cell_type": "code",
      "metadata": {
        "cellView": "form",
        "colab": {
          "base_uri": "https://localhost:8080/"
        },
        "id": "kYKRD2w0bX9D",
        "outputId": "03ef62f9-e787-45fc-fd3a-8a7360cb0e07"
      },
      "source": [
        "#@title #**Classifier**\n",
        "\n",
        "from sklearn.model_selection import train_test_split, cross_val_score\n",
        "from sklearn.metrics import classification_report, confusion_matrix, accuracy_score\n",
        "from sklearn.decomposition import PCA\n",
        "from sklearn.preprocessing import StandardScaler, LabelEncoder\n",
        "from sklearn.linear_model import LogisticRegression\n",
        "from sklearn.svm import SVC\n",
        "from sklearn.neighbors import KNeighborsClassifier\n",
        "from sklearn import tree\n",
        "from sklearn.neural_network import MLPClassifier\n",
        "from sklearn.neighbors import KNeighborsClassifier\n",
        "from sklearn.ensemble import GradientBoostingClassifier, AdaBoostClassifier\n",
        "from sklearn.gaussian_process.kernels import RBF\n",
        "from sklearn.ensemble import RandomForestClassifier\n",
        "from sklearn.naive_bayes import GaussianNB\n",
        "from sklearn.discriminant_analysis import QuadraticDiscriminantAnalysis\n",
        "from sklearn.gaussian_process import GaussianProcessClassifier\n",
        "from sklearn.metrics import plot_confusion_matrix\n",
        "from sklearn.utils import shuffle\n",
        "\n",
        "\n",
        "dict_classifiers = {\n",
        "    \"Logistic Regression\": LogisticRegression(max_iter=1000,solver='saga'),\n",
        "    \"Nearest Neighbors\": KNeighborsClassifier(),\n",
        "    \"RBF SVM\": SVC(C=10000,gamma=0.1),\n",
        "    \"Linear SVM\": SVC(kernel='linear'),\n",
        "    \"Gradient Boosting Classifier\": GradientBoostingClassifier(n_estimators=1000),\n",
        "    \"Decision Tree\": tree.DecisionTreeClassifier(),\n",
        "    \"Random Forest\": RandomForestClassifier(n_estimators=100),\n",
        "    \"Neural Net\": MLPClassifier(alpha = 1),\n",
        "    \"Naive Bayes\": GaussianNB(),\n",
        "    \"AdaBoost\": AdaBoostClassifier(),\n",
        "    \"QDA\": QuadraticDiscriminantAnalysis(),\n",
        "    \"Gaussian Process\": GaussianProcessClassifier()\n",
        "}\n",
        "\n",
        "#@markdown ###Select classifier\n",
        "classifier = \"Random Forest\" #@param [\"Logistic Regression\", \"Nearest Neighbors\", \"RBF SVM\", \"Linear SVM\", \"Gradient Boosting Classifier\", \"Decision Tree\", \"Random Forest\", \"Neural Net\", \"Naive Bayes\", \"AdaBoost\", \"QDA\", \"Gaussian Process\"]\n",
        "clf = dict_classifiers[classifier]\n",
        "\n",
        "X_train, y_train = shuffle(X_train, y_train, random_state=1234)\n",
        "\n",
        "clf.fit(X_train,y_train)\n",
        "y_pred = clf.predict(X_test)\n",
        "\n",
        "print(\"Test Accuracy: %0.2f\" %(accuracy_score(y_test,y_pred)))\n",
        "if len(set(y_test)) > len(set(y_pred)):\n",
        "  print(\"The model did not predict the following classes at all...\")\n",
        "  print(label_encoder.inverse_transform(list(set(y_test.astype(int)) - set(y_pred.astype(int)))))\n",
        "\n",
        "print(\"\\n\\n\")\n",
        "\n",
        "show_classification_report = False #@param {type:\"boolean\"}\n",
        "if show_classification_report:\n",
        "  print(classification_report(y_test, y_pred))\n",
        "\n",
        "\n",
        "show_confusion_matrix = False #@param {type:\"boolean\"}\n",
        "if show_confusion_matrix:\n",
        "  fig, ax = plt.subplots(figsize=(15, 15))\n",
        "  title = \"Confusion Matrix\"\n",
        "  ax.set_title(title)\n",
        "  ax.set_facecolor('xkcd:white')\n",
        "\n",
        "  # Plot Confusion Matrix\n",
        "  plot_confusion_matrix(clf, X_test, y_test, ax=ax, display_labels=list(label_encoder.classes_))\n",
        "  # plot_confusion_matrix(clf, X_test, y_test, ax=ax, display_labels=list(label_encoder.classes_),\n",
        "  #                             cmap=plt.cm.Blues,\n",
        "  #                             normalize=None)\n",
        "\n",
        "  plt.xticks(rotation=90)\n",
        "  plt.show()\n",
        "\n",
        "#@markdown ---"
      ],
      "execution_count": null,
      "outputs": [
        {
          "output_type": "stream",
          "text": [
            "Test Accuracy: 0.64\n",
            "The model did not predict the following classes at all...\n",
            "['a' 'v' 'x' 'e' 'm' 'n' 's' 't']\n",
            "\n",
            "\n",
            "\n"
          ],
          "name": "stdout"
        }
      ]
    },
    {
      "cell_type": "markdown",
      "metadata": {
        "id": "NaimpmsdU53y"
      },
      "source": [
        "# **Train** Batch Classifier"
      ]
    },
    {
      "cell_type": "code",
      "metadata": {
        "colab": {
          "base_uri": "https://localhost:8080/",
          "height": 617
        },
        "id": "SB1I2O2h6eiH",
        "outputId": "a366ae3f-9044-440c-c7c6-ec2cedebe740"
      },
      "source": [
        "\n",
        "import pandas as pd\n",
        "import numpy as np\n",
        "# import seaborn as sns\n",
        "import matplotlib.pyplot as plt\n",
        "import time\n",
        "from sklearn.model_selection import train_test_split, cross_val_score\n",
        "from sklearn.metrics import classification_report, confusion_matrix, accuracy_score\n",
        "from sklearn.decomposition import PCA\n",
        "from sklearn.preprocessing import StandardScaler, LabelEncoder\n",
        "from sklearn.linear_model import LogisticRegression\n",
        "from sklearn.svm import SVC\n",
        "from sklearn.neighbors import KNeighborsClassifier\n",
        "from sklearn import tree\n",
        "from sklearn.neural_network import MLPClassifier\n",
        "from sklearn.neighbors import KNeighborsClassifier\n",
        "from sklearn.ensemble import GradientBoostingClassifier, AdaBoostClassifier\n",
        "from sklearn.gaussian_process.kernels import RBF\n",
        "from sklearn.ensemble import RandomForestClassifier\n",
        "from sklearn.naive_bayes import GaussianNB\n",
        "from sklearn.discriminant_analysis import QuadraticDiscriminantAnalysis\n",
        "from sklearn.gaussian_process import GaussianProcessClassifier\n",
        "\n",
        "\n",
        "dict_classifiers = {\n",
        "    \"Logistic Regression\": LogisticRegression(max_iter=1000,solver='saga'),\n",
        "    \"Nearest Neighbors\": KNeighborsClassifier(),\n",
        "    \"RBF SVM\": SVC(C=10000,gamma=0.1),\n",
        "    \"Linear SVM\": SVC(kernel='linear'),\n",
        "    \"Gradient Boosting Classifier\": GradientBoostingClassifier(n_estimators=1000),\n",
        "    \"Decision Tree\": tree.DecisionTreeClassifier(),\n",
        "    \"Random Forest\": RandomForestClassifier(n_estimators=1000),\n",
        "    \"Neural Net\": MLPClassifier(alpha = 1),\n",
        "    \"Naive Bayes\": GaussianNB(),\n",
        "    \"AdaBoost\": AdaBoostClassifier(),\n",
        "    \"QDA\": QuadraticDiscriminantAnalysis(),\n",
        "    \"Gaussian Process\": GaussianProcessClassifier()\n",
        "}\n",
        "\n",
        "dict_normalizers = {\n",
        "    'StandardScaler': \"StandardScaler\",\n",
        "    'MinMaxScaler':\"MinMaxScaler\",\n",
        "    'MaxAbsScaler':\"MaxAbsScaler\",\n",
        "    'RobustScaler':\"RobustScaler\",\n",
        "    'QuantileTransformer-Normal':\"QuantileTransformer(output_distribution='normal')\",\n",
        "    'QuantileTransformer-Uniform':\"QuantileTransformer(output_distribution='uniform')\",\n",
        "    'PowerTransformer-Yeo-Johnson':\"PowerTransformer(method='yeo-johnson')\",\n",
        "    'Normalizer':\"Normalizer\"\n",
        "}\n",
        "\n",
        "\n",
        "def batch_classify(X_train, Y_train, X_test, Y_test, no_classifiers = 5, verbose = True):\n",
        "    \"\"\"\n",
        "    This method, takes as input the X, Y matrices of the Train and Test set.\n",
        "    And fits them on all of the Classifiers specified in the dict_classifier.\n",
        "    The trained models, and accuracies are saved in a dictionary. The reason to use a dictionary\n",
        "    is because it is very easy to save the whole dictionary with the pickle module.\n",
        "\n",
        "    Usually, the SVM, Random Forest and Gradient Boosting Classifier take quiet some time to train.\n",
        "    So it is best to train them on a smaller dataset first and\n",
        "    decide whether you want to comment them out or not based on the test accuracy score.\n",
        "    \"\"\"\n",
        "\n",
        "    dict_models = {}\n",
        "    for classifier_name, classifier in list(dict_classifiers.items())[:no_classifiers]:\n",
        "        t_start = time.time()\n",
        "        classifier.fit(X_train, Y_train)\n",
        "        t_end = time.time()\n",
        "\n",
        "        t_diff = t_end - t_start\n",
        "        train_score = classifier.score(X_train, Y_train)\n",
        "        test_score = classifier.score(X_test, Y_test)\n",
        "\n",
        "        dict_models[classifier_name] = {'model': classifier, 'train_score': train_score, 'test_score': test_score, 'train_time': t_diff}\n",
        "        if verbose:\n",
        "            print(\"trained {c} in {f:.2f} s\".format(c=classifier_name, f=t_diff))\n",
        "    return dict_models\n",
        "\n",
        "\n",
        "\n",
        "def display_dict_models(dict_models, sort_by='test_score'):\n",
        "    cls = [key for key in dict_models.keys()]\n",
        "    test_s = [dict_models[key]['test_score'] for key in cls]\n",
        "    training_s = [dict_models[key]['train_score'] for key in cls]\n",
        "    training_t = [dict_models[key]['train_time'] for key in cls]\n",
        "\n",
        "    df_ = pd.DataFrame(data=np.zeros(shape=(len(cls),4)), columns = ['classifier', 'train_score', 'test_score', 'train_time'])\n",
        "    for ii in range(0,len(cls)):\n",
        "        df_.loc[ii, 'classifier'] = cls[ii]\n",
        "        df_.loc[ii, 'train_score'] = training_s[ii]\n",
        "        df_.loc[ii, 'test_score'] = test_s[ii]\n",
        "        df_.loc[ii, 'train_time'] = training_t[ii]\n",
        "\n",
        "    display(df_.sort_values(by=sort_by, ascending=False))\n",
        "\n",
        "\n",
        "# Train-Test Split\n",
        "# X_tr, X_test, y_tr, y_test = train_test_split(X_train, y_train, test_size = 0.20, random_state=1234)\n",
        "\n",
        "dict_models = batch_classify(X_train, y_train, X_test, y_test, no_classifiers = 10)\n",
        "display_dict_models(dict_models)"
      ],
      "execution_count": null,
      "outputs": [
        {
          "output_type": "stream",
          "text": [
            "/usr/local/lib/python3.7/dist-packages/sklearn/linear_model/_sag.py:330: ConvergenceWarning: The max_iter was reached which means the coef_ did not converge\n",
            "  \"the coef_ did not converge\", ConvergenceWarning)\n"
          ],
          "name": "stderr"
        },
        {
          "output_type": "stream",
          "text": [
            "trained Logistic Regression in 111.51 s\n",
            "trained Nearest Neighbors in 0.05 s\n",
            "trained RBF SVM in 2.41 s\n",
            "trained Linear SVM in 29.96 s\n",
            "trained Gradient Boosting Classifier in 327.13 s\n",
            "trained Decision Tree in 0.50 s\n",
            "trained Random Forest in 24.52 s\n"
          ],
          "name": "stdout"
        },
        {
          "output_type": "stream",
          "text": [
            "/usr/local/lib/python3.7/dist-packages/sklearn/neural_network/_multilayer_perceptron.py:571: ConvergenceWarning: Stochastic Optimizer: Maximum iterations (200) reached and the optimization hasn't converged yet.\n",
            "  % self.max_iter, ConvergenceWarning)\n"
          ],
          "name": "stderr"
        },
        {
          "output_type": "stream",
          "text": [
            "trained Neural Net in 15.50 s\n",
            "trained Naive Bayes in 0.01 s\n",
            "trained AdaBoost in 3.96 s\n"
          ],
          "name": "stdout"
        },
        {
          "output_type": "display_data",
          "data": {
            "text/html": [
              "<div>\n",
              "<style scoped>\n",
              "    .dataframe tbody tr th:only-of-type {\n",
              "        vertical-align: middle;\n",
              "    }\n",
              "\n",
              "    .dataframe tbody tr th {\n",
              "        vertical-align: top;\n",
              "    }\n",
              "\n",
              "    .dataframe thead th {\n",
              "        text-align: right;\n",
              "    }\n",
              "</style>\n",
              "<table border=\"1\" class=\"dataframe\">\n",
              "  <thead>\n",
              "    <tr style=\"text-align: right;\">\n",
              "      <th></th>\n",
              "      <th>classifier</th>\n",
              "      <th>train_score</th>\n",
              "      <th>test_score</th>\n",
              "      <th>train_time</th>\n",
              "    </tr>\n",
              "  </thead>\n",
              "  <tbody>\n",
              "    <tr>\n",
              "      <th>6</th>\n",
              "      <td>Random Forest</td>\n",
              "      <td>1.000000</td>\n",
              "      <td>0.736667</td>\n",
              "      <td>24.519986</td>\n",
              "    </tr>\n",
              "    <tr>\n",
              "      <th>5</th>\n",
              "      <td>Decision Tree</td>\n",
              "      <td>1.000000</td>\n",
              "      <td>0.597500</td>\n",
              "      <td>0.503465</td>\n",
              "    </tr>\n",
              "    <tr>\n",
              "      <th>8</th>\n",
              "      <td>Naive Bayes</td>\n",
              "      <td>0.871875</td>\n",
              "      <td>0.562500</td>\n",
              "      <td>0.012109</td>\n",
              "    </tr>\n",
              "    <tr>\n",
              "      <th>4</th>\n",
              "      <td>Gradient Boosting Classifier</td>\n",
              "      <td>1.000000</td>\n",
              "      <td>0.519167</td>\n",
              "      <td>327.129731</td>\n",
              "    </tr>\n",
              "    <tr>\n",
              "      <th>3</th>\n",
              "      <td>Linear SVM</td>\n",
              "      <td>0.977500</td>\n",
              "      <td>0.385000</td>\n",
              "      <td>29.956239</td>\n",
              "    </tr>\n",
              "    <tr>\n",
              "      <th>7</th>\n",
              "      <td>Neural Net</td>\n",
              "      <td>0.947500</td>\n",
              "      <td>0.341667</td>\n",
              "      <td>15.503918</td>\n",
              "    </tr>\n",
              "    <tr>\n",
              "      <th>0</th>\n",
              "      <td>Logistic Regression</td>\n",
              "      <td>0.643125</td>\n",
              "      <td>0.310000</td>\n",
              "      <td>111.513594</td>\n",
              "    </tr>\n",
              "    <tr>\n",
              "      <th>1</th>\n",
              "      <td>Nearest Neighbors</td>\n",
              "      <td>0.965625</td>\n",
              "      <td>0.288333</td>\n",
              "      <td>0.052150</td>\n",
              "    </tr>\n",
              "    <tr>\n",
              "      <th>9</th>\n",
              "      <td>AdaBoost</td>\n",
              "      <td>0.200625</td>\n",
              "      <td>0.182500</td>\n",
              "      <td>3.957951</td>\n",
              "    </tr>\n",
              "    <tr>\n",
              "      <th>2</th>\n",
              "      <td>RBF SVM</td>\n",
              "      <td>1.000000</td>\n",
              "      <td>0.025000</td>\n",
              "      <td>2.405984</td>\n",
              "    </tr>\n",
              "  </tbody>\n",
              "</table>\n",
              "</div>"
            ],
            "text/plain": [
              "                     classifier  train_score  test_score  train_time\n",
              "6                 Random Forest     1.000000    0.736667   24.519986\n",
              "5                 Decision Tree     1.000000    0.597500    0.503465\n",
              "8                   Naive Bayes     0.871875    0.562500    0.012109\n",
              "4  Gradient Boosting Classifier     1.000000    0.519167  327.129731\n",
              "3                    Linear SVM     0.977500    0.385000   29.956239\n",
              "7                    Neural Net     0.947500    0.341667   15.503918\n",
              "0           Logistic Regression     0.643125    0.310000  111.513594\n",
              "1             Nearest Neighbors     0.965625    0.288333    0.052150\n",
              "9                      AdaBoost     0.200625    0.182500    3.957951\n",
              "2                       RBF SVM     1.000000    0.025000    2.405984"
            ]
          },
          "metadata": {
            "tags": []
          }
        }
      ]
    },
    {
      "cell_type": "code",
      "metadata": {
        "colab": {
          "base_uri": "https://localhost:8080/",
          "height": 984
        },
        "id": "2eTRqt1yqt9Z",
        "outputId": "d3e117ea-1cf3-41ad-de28-d35cd1f5a97c"
      },
      "source": [
        "print(\"Compiling Train Set... \")\n",
        "\n",
        "X = pd.DataFrame()\n",
        "y = np.array([])\n",
        "\n",
        "for user in tqdm(users):\n",
        "  X = X.append(feature_sets[int(user)-1], ignore_index=True)\n",
        "  y = np.append(y, label_sets[int(user)-1])\n",
        "\n",
        "print(\"X shape: \", X.shape)\n",
        "print(\"y shape: \", y.shape)\n",
        "\n",
        "# Train-Test Split\n",
        "X_tr, X_test, y_tr, y_test = train_test_split(X, y, test_size = 0.50, random_state=1234)\n",
        "\n",
        "clf = RandomForestClassifier(n_estimators=100)\n",
        "\n",
        "# X, y = shuffle(X, y, random_state=42)\n",
        "\n",
        "clf.fit(X_tr,y_tr)\n",
        "y_pred = clf.predict(X_test)\n",
        "\n",
        "print(\"Test Accuracy: %0.2f\" %(accuracy_score(y_test,y_pred)))\n",
        "if len(set(y_test)) > len(set(y_pred)):\n",
        "  print(\"The model did not predict the following classes at all...\")\n",
        "  print(label_encoder.inverse_transform(list(set(y_test.astype(int)) - set(y_pred.astype(int)))))\n",
        "\n",
        "print(\"\\n\\n\")\n",
        "\n",
        "print(classification_report(y_test, y_pred))"
      ],
      "execution_count": null,
      "outputs": [
        {
          "output_type": "stream",
          "text": [
            "Compiling Train Set... \n"
          ],
          "name": "stdout"
        },
        {
          "output_type": "display_data",
          "data": {
            "application/vnd.jupyter.widget-view+json": {
              "model_id": "3ed2ace71a2e41d9b8e795c7817ad0e3",
              "version_major": 2,
              "version_minor": 0
            },
            "text/plain": [
              "HBox(children=(FloatProgress(value=0.0, max=7.0), HTML(value='')))"
            ]
          },
          "metadata": {
            "tags": []
          }
        },
        {
          "output_type": "stream",
          "text": [
            "\n",
            "X shape:  (2800, 300)\n",
            "y shape:  (2800,)\n",
            "Test Accuracy: 0.98\n",
            "\n",
            "\n",
            "\n",
            "              precision    recall  f1-score   support\n",
            "\n",
            "         0.0       0.97      1.00      0.98        30\n",
            "         1.0       1.00      1.00      1.00        42\n",
            "         2.0       1.00      1.00      1.00        34\n",
            "         3.0       0.89      0.92      0.90        36\n",
            "         4.0       0.97      0.97      0.97        37\n",
            "         5.0       1.00      1.00      1.00        41\n",
            "         6.0       1.00      1.00      1.00        31\n",
            "         7.0       1.00      1.00      1.00        30\n",
            "         8.0       1.00      1.00      1.00        37\n",
            "         9.0       1.00      1.00      1.00        37\n",
            "        10.0       1.00      0.94      0.97        34\n",
            "        11.0       0.97      1.00      0.98        30\n",
            "        12.0       1.00      1.00      1.00        38\n",
            "        13.0       1.00      1.00      1.00        41\n",
            "        14.0       1.00      1.00      1.00        39\n",
            "        15.0       1.00      1.00      1.00        32\n",
            "        16.0       1.00      1.00      1.00        28\n",
            "        17.0       0.97      1.00      0.99        33\n",
            "        18.0       0.95      1.00      0.97        35\n",
            "        19.0       1.00      1.00      1.00        29\n",
            "        20.0       0.97      1.00      0.99        35\n",
            "        21.0       1.00      1.00      1.00        35\n",
            "        22.0       1.00      1.00      1.00        33\n",
            "        23.0       0.95      1.00      0.97        35\n",
            "        24.0       1.00      1.00      1.00        31\n",
            "        25.0       1.00      1.00      1.00        37\n",
            "        26.0       0.92      1.00      0.96        33\n",
            "        27.0       1.00      0.77      0.87        35\n",
            "        28.0       1.00      0.88      0.94        33\n",
            "        29.0       1.00      1.00      1.00        41\n",
            "        30.0       1.00      0.84      0.91        37\n",
            "        31.0       0.94      1.00      0.97        33\n",
            "        32.0       0.89      1.00      0.94        32\n",
            "        33.0       0.93      1.00      0.96        37\n",
            "        34.0       1.00      1.00      1.00        40\n",
            "        35.0       0.97      1.00      0.99        39\n",
            "        36.0       1.00      1.00      1.00        30\n",
            "        37.0       1.00      1.00      1.00        35\n",
            "        38.0       1.00      0.95      0.97        37\n",
            "        39.0       1.00      1.00      1.00        38\n",
            "\n",
            "    accuracy                           0.98      1400\n",
            "   macro avg       0.98      0.98      0.98      1400\n",
            "weighted avg       0.98      0.98      0.98      1400\n",
            "\n"
          ],
          "name": "stdout"
        }
      ]
    },
    {
      "cell_type": "markdown",
      "metadata": {
        "id": "raadxEyHYONe"
      },
      "source": [
        "## **Plot** Confusion Matrix"
      ]
    },
    {
      "cell_type": "code",
      "metadata": {
        "colab": {
          "base_uri": "https://localhost:8080/",
          "height": 852
        },
        "id": "fOGPDUJ-YR3Z",
        "outputId": "88deac92-e89e-4459-95b3-00728824ca60"
      },
      "source": [
        "from sklearn.metrics import plot_confusion_matrix\n",
        "\n",
        "fig, ax = plt.subplots(figsize=(15, 15))\n",
        "title = \"Confusion Matrix\"\n",
        "ax.set_title(title)\n",
        "ax.set_facecolor('tab:gray')\n",
        "\n",
        "# Plot Confusion Matrix\n",
        "plot_confusion_matrix(clf, X_test, y_test, ax=ax, display_labels=list(label_encoder.classes_))\n",
        "# plot_confusion_matrix(clf, X_test, y_test, ax=ax, display_labels=list(label_encoder.classes_),\n",
        "#                             cmap=plt.cm.Blues,\n",
        "#                             normalize=None)\n",
        "\n",
        "plt.xticks(rotation=90)\n",
        "\n",
        "plt.savefig('confusion_matrix.jpg', format='jpg')\n",
        "plt.show()"
      ],
      "execution_count": null,
      "outputs": [
        {
          "output_type": "display_data",
          "data": {
            "image/png": "[encoded data removed]",
            "text/plain": [
              "<Figure size 1080x1080 with 2 Axes>"
            ]
          },
          "metadata": {
            "tags": []
          }
        }
      ]
    },
    {
      "cell_type": "markdown",
      "metadata": {
        "id": "k5-UDXRqvf7Q"
      },
      "source": [
        "# **Train** Batch Classifiers and Normalizers"
      ]
    },
    {
      "cell_type": "markdown",
      "metadata": {
        "id": "sInuOC58G3P9"
      },
      "source": [
        "### Function"
      ]
    },
    {
      "cell_type": "code",
      "metadata": {
        "id": "rz3xAqaKvoA2"
      },
      "source": [
        "import pandas as pd\n",
        "import numpy as np\n",
        "# import seaborn as sns\n",
        "import matplotlib.pyplot as plt\n",
        "import time\n",
        "from sklearn.model_selection import train_test_split, cross_val_score\n",
        "from sklearn.metrics import classification_report, confusion_matrix, accuracy_score\n",
        "from sklearn.decomposition import PCA\n",
        "from sklearn.preprocessing import StandardScaler, LabelEncoder\n",
        "from sklearn.linear_model import LogisticRegression\n",
        "from sklearn.svm import SVC\n",
        "from sklearn.neighbors import KNeighborsClassifier\n",
        "from sklearn import tree\n",
        "from sklearn.neural_network import MLPClassifier\n",
        "from sklearn.neighbors import KNeighborsClassifier\n",
        "from sklearn.ensemble import GradientBoostingClassifier, AdaBoostClassifier\n",
        "from sklearn.gaussian_process.kernels import RBF\n",
        "from sklearn.ensemble import RandomForestClassifier\n",
        "from sklearn.naive_bayes import GaussianNB\n",
        "from sklearn.discriminant_analysis import QuadraticDiscriminantAnalysis\n",
        "from sklearn.gaussian_process import GaussianProcessClassifier\n",
        "from sklearn.preprocessing import StandardScaler, MinMaxScaler, MaxAbsScaler, RobustScaler, QuantileTransformer, PowerTransformer, Normalizer\n",
        "\n",
        "dict_classifiers = {\n",
        "  \"Logistic Regression\": LogisticRegression(max_iter=1000,solver='saga'),\n",
        "  \"Nearest Neighbors\": KNeighborsClassifier(),\n",
        "  \"RBF SVM\": SVC(C=10000,gamma=0.1),\n",
        "  \"Linear SVM\": SVC(kernel='linear'),\n",
        "  \"Gradient Boosting Classifier\": GradientBoostingClassifier(n_estimators=100),\n",
        "  \"Decision Tree\": tree.DecisionTreeClassifier(),\n",
        "  \"Random Forest\": RandomForestClassifier(n_estimators=100),\n",
        "  \"Neural Net\": MLPClassifier(alpha = 1),\n",
        "  \"Naive Bayes\": GaussianNB(),\n",
        "  \"AdaBoost\": AdaBoostClassifier(),\n",
        "  \"QDA\": QuadraticDiscriminantAnalysis(),\n",
        "  \"Gaussian Process\": GaussianProcessClassifier()\n",
        "}\n",
        "\n",
        "dict_normalizers = {\n",
        "  'No Normalizer': None,\n",
        "  'StandardScaler': StandardScaler(),\n",
        "  'MinMaxScaler': MinMaxScaler(),\n",
        "  'MaxAbsScaler': MaxAbsScaler(),\n",
        "  'RobustScaler': RobustScaler(),\n",
        "  'QuantileTransformer-Normal': QuantileTransformer(output_distribution='normal'),\n",
        "  'QuantileTransformer-Uniform': QuantileTransformer(output_distribution='uniform'),\n",
        "  'PowerTransformer-Yeo-Johnson': PowerTransformer(method='yeo-johnson'),\n",
        "  'Normalizer': Normalizer()\n",
        "}\n",
        "\n",
        "\n",
        "def batch_classify(X_train, Y_train, X_test, Y_test, verbose = True):\n",
        "  \"\"\"\n",
        "  This method, takes as input the X, Y matrices of the Train and Test set.\n",
        "  And fits them on all of the Classifiers specified in the dict_classifier.\n",
        "  The trained models, and accuracies are saved in a dictionary. The reason to use a dictionary\n",
        "  is because it is very easy to save the whole dictionary with the pickle module.\n",
        "\n",
        "  Usually, the SVM, Random Forest and Gradient Boosting Classifier take quiet some time to train.\n",
        "  So it is best to train them on a smaller dataset first and\n",
        "  decide whether you want to comment them out or not based on the test accuracy score.\n",
        "  \"\"\"\n",
        "\n",
        "  dict_models = []\n",
        "  for classifier_name, classifier in list(dict_classifiers.items()):\n",
        "    for normalizer_name, normalizer in list(dict_normalizers.items()):\n",
        "      t_start = time.time()\n",
        "      pipe = Pipeline([('nomalizer', normalizer), ('clf', classifier)])\n",
        "      pipe.fit(X_train, Y_train)\n",
        "      t_end = time.time()\n",
        "\n",
        "      t_diff = t_end - t_start\n",
        "      train_score = pipe.score(X_train, Y_train)\n",
        "      test_score = pipe.score(X_test, Y_test)\n",
        "\n",
        "      dict_models.append([classifier_name, normalizer_name, train_score,\n",
        "                          test_score, t_diff])\n",
        "\n",
        "      if verbose:\n",
        "        print(\"trained {c} in {f:.2f} s\".format(c=classifier_name + '__' + normalizer_name, f=t_diff))\n",
        "  return dict_models\n",
        "\n",
        "\n",
        "def display_dict_models(dict_models, sort_by=\"Test_Score\"):\n",
        "  df = pd.DataFrame(dict_models, columns=[\"Classifier\", \"Normalizer\", \n",
        "                                          \"Train_Score\", \"Test_Score\", \n",
        "                                          \"Train_Time\"])\n",
        "  \n",
        "  df = df.sort_values(by=sort_by, ascending=False)\n",
        "  display(df)\n",
        "  df.to_csv(\"/content/drive/MyDrive/Hand-Gesture-Recognition/batch_classifier_result.csv\", index=False)\n"
      ],
      "execution_count": null,
      "outputs": []
    },
    {
      "cell_type": "markdown",
      "metadata": {
        "id": "VgV4xD1YG_kZ"
      },
      "source": [
        "### Code"
      ]
    },
    {
      "cell_type": "code",
      "metadata": {
        "id": "VZx5tj611w8u"
      },
      "source": [
        "# Train-Test Split\n",
        "# X_tr, X_test, y_tr, y_test = train_test_split(X_train, y_train, test_size = 0.20, random_state=1234)\n",
        "\n",
        "dict_models = batch_classify(X_train, y_train, X_test, y_test)\n",
        "display_dict_models(dict_models)"
      ],
      "execution_count": null,
      "outputs": []
    },
    {
      "cell_type": "markdown",
      "metadata": {
        "id": "x2DoRSohGRVD"
      },
      "source": [
        "#**Analysis_1** \n",
        "\n",
        "### Test set prediction result for each user"
      ]
    },
    {
      "cell_type": "markdown",
      "metadata": {
        "id": "tNMYMB39Jy8K"
      },
      "source": [
        "## **Code**"
      ]
    },
    {
      "cell_type": "code",
      "metadata": {
        "colab": {
          "background_save": true,
          "base_uri": "https://localhost:8080/"
        },
        "id": "zle_p-jVGk9J",
        "outputId": "f9448e3f-c79f-46ba-863d-b335050b8772"
      },
      "source": [
        "from sklearn.metrics import classification_report, confusion_matrix, accuracy_score\n",
        "from sklearn.utils import shuffle\n",
        "from sklearn.metrics import accuracy_score\n",
        "from sklearn.linear_model import LogisticRegression\n",
        "from sklearn.ensemble import RandomForestClassifier\n",
        "from sklearn.svm import SVC\n",
        "from sklearn.pipeline import Pipeline\n",
        "from sklearn.preprocessing import StandardScaler\n",
        "\n",
        "\n",
        "# selected_users = ['001', '002', '003']\n",
        "selected_users = users\n",
        "\n",
        "# Iterate over users as single test case\n",
        "for test_users in selected_users:\n",
        "  test_users = [test_users]\n",
        "  train_users = [x for x in selected_users if x not in test_users]\n",
        "\n",
        "  # Update X_train, y_train\n",
        "  X_train = pd.DataFrame()\n",
        "  y_train = np.array([])\n",
        "\n",
        "  if isinstance(train_users, list):\n",
        "    for user in train_users:\n",
        "      X_train = X_train.append(feature_sets[int(user)-1], ignore_index=True)\n",
        "      y_train = np.append(y_train, label_sets[int(user)-1])\n",
        "  else:\n",
        "    raise ValueError(\"Train set type must be a 'list'.\")\n",
        "  \n",
        "\n",
        "  # Update X_test, y_test\n",
        "  X_test = pd.DataFrame()\n",
        "  y_test = np.array([])\n",
        "\n",
        "  if isinstance(test_users, list):\n",
        "    for user in test_users:\n",
        "      X_test = X_test.append(feature_sets[int(user)-1], ignore_index=True)\n",
        "      y_test = np.append(y_test, label_sets[int(user)-1])\n",
        "  else:\n",
        "    raise ValueError(\"Test set type must be a 'list'.\")\n",
        "\n",
        "  X_train, y_train = shuffle(X_train, y_train, random_state=43)\n",
        "\n",
        "  # accuracy = 0\n",
        "  # num_iter = 5\n",
        "  # failed_classes = set()\n",
        "  # for i in range(num_iter):\n",
        "  #   clf = RandomForestClassifier(n_estimators=100)\n",
        "  #   clf.fit(X_train,y_train)\n",
        "  #   y_pred = clf.predict(X_test)\n",
        "  #   accuracy += accuracy_score(y_test,y_pred)\n",
        "  #   failed_classes = failed_classes.union(set(y_test.astype(int)) - set(y_pred.astype(int)))\n",
        "  # accuracy /= num_iter\n",
        "\n",
        "  # failed_classes = label_encoder.inverse_transform(list(failed_classes))\n",
        "\n",
        "\n",
        "  accuracy = 0\n",
        "  num_iter = 10\n",
        "  failed_classes = set()\n",
        "  for i in range(num_iter):\n",
        "    pipe = Pipeline([('nomalizer', StandardScaler()), ('clf', LogisticRegression(max_iter=1000,solver='saga'))])\n",
        "    # clf = RandomForestClassifier(n_estimators=100)\n",
        "    pipe.fit(X_train,y_train)\n",
        "    y_pred = pipe.predict(X_test)\n",
        "    accuracy += accuracy_score(y_test,y_pred)\n",
        "    failed_classes = failed_classes.union(set(y_test.astype(int)) - set(y_pred.astype(int)))\n",
        "  accuracy /= num_iter\n",
        "\n",
        "  failed_classes = label_encoder.inverse_transform(list(failed_classes))\n",
        "\n",
        "  print('|' , end=' ')\n",
        "  print(*train_users, sep=\", \", end=' ')\n",
        "  print('|' , end=' ')\n",
        "  print(*test_users, end=' ')\n",
        "  print('|' , end=' ')\n",
        "  print(\"%0.2f\" %(accuracy), end=' ')\n",
        "  print('|' , end=' ')\n",
        "  print(*failed_classes, sep=\", \", end=' ')\n",
        "  print('|' , end='\\n')\n"
      ],
      "execution_count": null,
      "outputs": [
        {
          "output_type": "stream",
          "text": [
            "/usr/local/lib/python3.7/dist-packages/sklearn/linear_model/_sag.py:330: ConvergenceWarning: The max_iter was reached which means the coef_ did not converge\n",
            "  \"the coef_ did not converge\", ConvergenceWarning)\n",
            "/usr/local/lib/python3.7/dist-packages/sklearn/linear_model/_sag.py:330: ConvergenceWarning: The max_iter was reached which means the coef_ did not converge\n",
            "  \"the coef_ did not converge\", ConvergenceWarning)\n",
            "/usr/local/lib/python3.7/dist-packages/sklearn/linear_model/_sag.py:330: ConvergenceWarning: The max_iter was reached which means the coef_ did not converge\n",
            "  \"the coef_ did not converge\", ConvergenceWarning)\n",
            "/usr/local/lib/python3.7/dist-packages/sklearn/linear_model/_sag.py:330: ConvergenceWarning: The max_iter was reached which means the coef_ did not converge\n",
            "  \"the coef_ did not converge\", ConvergenceWarning)\n",
            "/usr/local/lib/python3.7/dist-packages/sklearn/linear_model/_sag.py:330: ConvergenceWarning: The max_iter was reached which means the coef_ did not converge\n",
            "  \"the coef_ did not converge\", ConvergenceWarning)\n"
          ],
          "name": "stderr"
        },
        {
          "output_type": "error",
          "ename": "KeyboardInterrupt",
          "evalue": "ignored",
          "traceback": [
            "\u001b[0;31m---------------------------------------------------------------------------\u001b[0m",
            "\u001b[0;31mKeyboardInterrupt\u001b[0m                         Traceback (most recent call last)",
            "\u001b[0;32m<ipython-input-22-0dd4d03cb601>\u001b[0m in \u001b[0;36m<module>\u001b[0;34m()\u001b[0m\n\u001b[1;32m     62\u001b[0m     \u001b[0mpipe\u001b[0m \u001b[0;34m=\u001b[0m \u001b[0mPipeline\u001b[0m\u001b[0;34m(\u001b[0m\u001b[0;34m[\u001b[0m\u001b[0;34m(\u001b[0m\u001b[0;34m'nomalizer'\u001b[0m\u001b[0;34m,\u001b[0m \u001b[0mStandardScaler\u001b[0m\u001b[0;34m(\u001b[0m\u001b[0;34m)\u001b[0m\u001b[0;34m)\u001b[0m\u001b[0;34m,\u001b[0m \u001b[0;34m(\u001b[0m\u001b[0;34m'clf'\u001b[0m\u001b[0;34m,\u001b[0m \u001b[0mLogisticRegression\u001b[0m\u001b[0;34m(\u001b[0m\u001b[0mmax_iter\u001b[0m\u001b[0;34m=\u001b[0m\u001b[0;36m1000\u001b[0m\u001b[0;34m,\u001b[0m\u001b[0msolver\u001b[0m\u001b[0;34m=\u001b[0m\u001b[0;34m'saga'\u001b[0m\u001b[0;34m)\u001b[0m\u001b[0;34m)\u001b[0m\u001b[0;34m]\u001b[0m\u001b[0;34m)\u001b[0m\u001b[0;34m\u001b[0m\u001b[0;34m\u001b[0m\u001b[0m\n\u001b[1;32m     63\u001b[0m     \u001b[0;31m# clf = RandomForestClassifier(n_estimators=100)\u001b[0m\u001b[0;34m\u001b[0m\u001b[0;34m\u001b[0m\u001b[0;34m\u001b[0m\u001b[0m\n\u001b[0;32m---> 64\u001b[0;31m     \u001b[0mpipe\u001b[0m\u001b[0;34m.\u001b[0m\u001b[0mfit\u001b[0m\u001b[0;34m(\u001b[0m\u001b[0mX_train\u001b[0m\u001b[0;34m,\u001b[0m\u001b[0my_train\u001b[0m\u001b[0;34m)\u001b[0m\u001b[0;34m\u001b[0m\u001b[0;34m\u001b[0m\u001b[0m\n\u001b[0m\u001b[1;32m     65\u001b[0m     \u001b[0my_pred\u001b[0m \u001b[0;34m=\u001b[0m \u001b[0mpipe\u001b[0m\u001b[0;34m.\u001b[0m\u001b[0mpredict\u001b[0m\u001b[0;34m(\u001b[0m\u001b[0mX_test\u001b[0m\u001b[0;34m)\u001b[0m\u001b[0;34m\u001b[0m\u001b[0;34m\u001b[0m\u001b[0m\n\u001b[1;32m     66\u001b[0m     \u001b[0maccuracy\u001b[0m \u001b[0;34m+=\u001b[0m \u001b[0maccuracy_score\u001b[0m\u001b[0;34m(\u001b[0m\u001b[0my_test\u001b[0m\u001b[0;34m,\u001b[0m\u001b[0my_pred\u001b[0m\u001b[0;34m)\u001b[0m\u001b[0;34m\u001b[0m\u001b[0;34m\u001b[0m\u001b[0m\n",
            "\u001b[0;32m/usr/local/lib/python3.7/dist-packages/sklearn/pipeline.py\u001b[0m in \u001b[0;36mfit\u001b[0;34m(self, X, y, **fit_params)\u001b[0m\n\u001b[1;32m    352\u001b[0m                                  self._log_message(len(self.steps) - 1)):\n\u001b[1;32m    353\u001b[0m             \u001b[0;32mif\u001b[0m \u001b[0mself\u001b[0m\u001b[0;34m.\u001b[0m\u001b[0m_final_estimator\u001b[0m \u001b[0;34m!=\u001b[0m \u001b[0;34m'passthrough'\u001b[0m\u001b[0;34m:\u001b[0m\u001b[0;34m\u001b[0m\u001b[0;34m\u001b[0m\u001b[0m\n\u001b[0;32m--> 354\u001b[0;31m                 \u001b[0mself\u001b[0m\u001b[0;34m.\u001b[0m\u001b[0m_final_estimator\u001b[0m\u001b[0;34m.\u001b[0m\u001b[0mfit\u001b[0m\u001b[0;34m(\u001b[0m\u001b[0mXt\u001b[0m\u001b[0;34m,\u001b[0m \u001b[0my\u001b[0m\u001b[0;34m,\u001b[0m \u001b[0;34m**\u001b[0m\u001b[0mfit_params\u001b[0m\u001b[0;34m)\u001b[0m\u001b[0;34m\u001b[0m\u001b[0;34m\u001b[0m\u001b[0m\n\u001b[0m\u001b[1;32m    355\u001b[0m         \u001b[0;32mreturn\u001b[0m \u001b[0mself\u001b[0m\u001b[0;34m\u001b[0m\u001b[0;34m\u001b[0m\u001b[0m\n\u001b[1;32m    356\u001b[0m \u001b[0;34m\u001b[0m\u001b[0m\n",
            "\u001b[0;32m/usr/local/lib/python3.7/dist-packages/sklearn/linear_model/_logistic.py\u001b[0m in \u001b[0;36mfit\u001b[0;34m(self, X, y, sample_weight)\u001b[0m\n\u001b[1;32m   1599\u001b[0m                       \u001b[0mpenalty\u001b[0m\u001b[0;34m=\u001b[0m\u001b[0mpenalty\u001b[0m\u001b[0;34m,\u001b[0m \u001b[0mmax_squared_sum\u001b[0m\u001b[0;34m=\u001b[0m\u001b[0mmax_squared_sum\u001b[0m\u001b[0;34m,\u001b[0m\u001b[0;34m\u001b[0m\u001b[0;34m\u001b[0m\u001b[0m\n\u001b[1;32m   1600\u001b[0m                       sample_weight=sample_weight)\n\u001b[0;32m-> 1601\u001b[0;31m             for class_, warm_start_coef_ in zip(classes_, warm_start_coef))\n\u001b[0m\u001b[1;32m   1602\u001b[0m \u001b[0;34m\u001b[0m\u001b[0m\n\u001b[1;32m   1603\u001b[0m         \u001b[0mfold_coefs_\u001b[0m\u001b[0;34m,\u001b[0m \u001b[0m_\u001b[0m\u001b[0;34m,\u001b[0m \u001b[0mn_iter_\u001b[0m \u001b[0;34m=\u001b[0m \u001b[0mzip\u001b[0m\u001b[0;34m(\u001b[0m\u001b[0;34m*\u001b[0m\u001b[0mfold_coefs_\u001b[0m\u001b[0;34m)\u001b[0m\u001b[0;34m\u001b[0m\u001b[0;34m\u001b[0m\u001b[0m\n",
            "\u001b[0;32m/usr/local/lib/python3.7/dist-packages/joblib/parallel.py\u001b[0m in \u001b[0;36m__call__\u001b[0;34m(self, iterable)\u001b[0m\n\u001b[1;32m   1039\u001b[0m             \u001b[0;31m# remaining jobs.\u001b[0m\u001b[0;34m\u001b[0m\u001b[0;34m\u001b[0m\u001b[0;34m\u001b[0m\u001b[0m\n\u001b[1;32m   1040\u001b[0m             \u001b[0mself\u001b[0m\u001b[0;34m.\u001b[0m\u001b[0m_iterating\u001b[0m \u001b[0;34m=\u001b[0m \u001b[0;32mFalse\u001b[0m\u001b[0;34m\u001b[0m\u001b[0;34m\u001b[0m\u001b[0m\n\u001b[0;32m-> 1041\u001b[0;31m             \u001b[0;32mif\u001b[0m \u001b[0mself\u001b[0m\u001b[0;34m.\u001b[0m\u001b[0mdispatch_one_batch\u001b[0m\u001b[0;34m(\u001b[0m\u001b[0miterator\u001b[0m\u001b[0;34m)\u001b[0m\u001b[0;34m:\u001b[0m\u001b[0;34m\u001b[0m\u001b[0;34m\u001b[0m\u001b[0m\n\u001b[0m\u001b[1;32m   1042\u001b[0m                 \u001b[0mself\u001b[0m\u001b[0;34m.\u001b[0m\u001b[0m_iterating\u001b[0m \u001b[0;34m=\u001b[0m \u001b[0mself\u001b[0m\u001b[0;34m.\u001b[0m\u001b[0m_original_iterator\u001b[0m \u001b[0;32mis\u001b[0m \u001b[0;32mnot\u001b[0m \u001b[0;32mNone\u001b[0m\u001b[0;34m\u001b[0m\u001b[0;34m\u001b[0m\u001b[0m\n\u001b[1;32m   1043\u001b[0m \u001b[0;34m\u001b[0m\u001b[0m\n",
            "\u001b[0;32m/usr/local/lib/python3.7/dist-packages/joblib/parallel.py\u001b[0m in \u001b[0;36mdispatch_one_batch\u001b[0;34m(self, iterator)\u001b[0m\n\u001b[1;32m    857\u001b[0m                 \u001b[0;32mreturn\u001b[0m \u001b[0;32mFalse\u001b[0m\u001b[0;34m\u001b[0m\u001b[0;34m\u001b[0m\u001b[0m\n\u001b[1;32m    858\u001b[0m             \u001b[0;32melse\u001b[0m\u001b[0;34m:\u001b[0m\u001b[0;34m\u001b[0m\u001b[0;34m\u001b[0m\u001b[0m\n\u001b[0;32m--> 859\u001b[0;31m                 \u001b[0mself\u001b[0m\u001b[0;34m.\u001b[0m\u001b[0m_dispatch\u001b[0m\u001b[0;34m(\u001b[0m\u001b[0mtasks\u001b[0m\u001b[0;34m)\u001b[0m\u001b[0;34m\u001b[0m\u001b[0;34m\u001b[0m\u001b[0m\n\u001b[0m\u001b[1;32m    860\u001b[0m                 \u001b[0;32mreturn\u001b[0m \u001b[0;32mTrue\u001b[0m\u001b[0;34m\u001b[0m\u001b[0;34m\u001b[0m\u001b[0m\n\u001b[1;32m    861\u001b[0m \u001b[0;34m\u001b[0m\u001b[0m\n",
            "\u001b[0;32m/usr/local/lib/python3.7/dist-packages/joblib/parallel.py\u001b[0m in \u001b[0;36m_dispatch\u001b[0;34m(self, batch)\u001b[0m\n\u001b[1;32m    775\u001b[0m         \u001b[0;32mwith\u001b[0m \u001b[0mself\u001b[0m\u001b[0;34m.\u001b[0m\u001b[0m_lock\u001b[0m\u001b[0;34m:\u001b[0m\u001b[0;34m\u001b[0m\u001b[0;34m\u001b[0m\u001b[0m\n\u001b[1;32m    776\u001b[0m             \u001b[0mjob_idx\u001b[0m \u001b[0;34m=\u001b[0m \u001b[0mlen\u001b[0m\u001b[0;34m(\u001b[0m\u001b[0mself\u001b[0m\u001b[0;34m.\u001b[0m\u001b[0m_jobs\u001b[0m\u001b[0;34m)\u001b[0m\u001b[0;34m\u001b[0m\u001b[0;34m\u001b[0m\u001b[0m\n\u001b[0;32m--> 777\u001b[0;31m             \u001b[0mjob\u001b[0m \u001b[0;34m=\u001b[0m \u001b[0mself\u001b[0m\u001b[0;34m.\u001b[0m\u001b[0m_backend\u001b[0m\u001b[0;34m.\u001b[0m\u001b[0mapply_async\u001b[0m\u001b[0;34m(\u001b[0m\u001b[0mbatch\u001b[0m\u001b[0;34m,\u001b[0m \u001b[0mcallback\u001b[0m\u001b[0;34m=\u001b[0m\u001b[0mcb\u001b[0m\u001b[0;34m)\u001b[0m\u001b[0;34m\u001b[0m\u001b[0;34m\u001b[0m\u001b[0m\n\u001b[0m\u001b[1;32m    778\u001b[0m             \u001b[0;31m# A job can complete so quickly than its callback is\u001b[0m\u001b[0;34m\u001b[0m\u001b[0;34m\u001b[0m\u001b[0;34m\u001b[0m\u001b[0m\n\u001b[1;32m    779\u001b[0m             \u001b[0;31m# called before we get here, causing self._jobs to\u001b[0m\u001b[0;34m\u001b[0m\u001b[0;34m\u001b[0m\u001b[0;34m\u001b[0m\u001b[0m\n",
            "\u001b[0;32m/usr/local/lib/python3.7/dist-packages/joblib/_parallel_backends.py\u001b[0m in \u001b[0;36mapply_async\u001b[0;34m(self, func, callback)\u001b[0m\n\u001b[1;32m    206\u001b[0m     \u001b[0;32mdef\u001b[0m \u001b[0mapply_async\u001b[0m\u001b[0;34m(\u001b[0m\u001b[0mself\u001b[0m\u001b[0;34m,\u001b[0m \u001b[0mfunc\u001b[0m\u001b[0;34m,\u001b[0m \u001b[0mcallback\u001b[0m\u001b[0;34m=\u001b[0m\u001b[0;32mNone\u001b[0m\u001b[0;34m)\u001b[0m\u001b[0;34m:\u001b[0m\u001b[0;34m\u001b[0m\u001b[0;34m\u001b[0m\u001b[0m\n\u001b[1;32m    207\u001b[0m         \u001b[0;34m\"\"\"Schedule a func to be run\"\"\"\u001b[0m\u001b[0;34m\u001b[0m\u001b[0;34m\u001b[0m\u001b[0m\n\u001b[0;32m--> 208\u001b[0;31m         \u001b[0mresult\u001b[0m \u001b[0;34m=\u001b[0m \u001b[0mImmediateResult\u001b[0m\u001b[0;34m(\u001b[0m\u001b[0mfunc\u001b[0m\u001b[0;34m)\u001b[0m\u001b[0;34m\u001b[0m\u001b[0;34m\u001b[0m\u001b[0m\n\u001b[0m\u001b[1;32m    209\u001b[0m         \u001b[0;32mif\u001b[0m \u001b[0mcallback\u001b[0m\u001b[0;34m:\u001b[0m\u001b[0;34m\u001b[0m\u001b[0;34m\u001b[0m\u001b[0m\n\u001b[1;32m    210\u001b[0m             \u001b[0mcallback\u001b[0m\u001b[0;34m(\u001b[0m\u001b[0mresult\u001b[0m\u001b[0;34m)\u001b[0m\u001b[0;34m\u001b[0m\u001b[0;34m\u001b[0m\u001b[0m\n",
            "\u001b[0;32m/usr/local/lib/python3.7/dist-packages/joblib/_parallel_backends.py\u001b[0m in \u001b[0;36m__init__\u001b[0;34m(self, batch)\u001b[0m\n\u001b[1;32m    570\u001b[0m         \u001b[0;31m# Don't delay the application, to avoid keeping the input\u001b[0m\u001b[0;34m\u001b[0m\u001b[0;34m\u001b[0m\u001b[0;34m\u001b[0m\u001b[0m\n\u001b[1;32m    571\u001b[0m         \u001b[0;31m# arguments in memory\u001b[0m\u001b[0;34m\u001b[0m\u001b[0;34m\u001b[0m\u001b[0;34m\u001b[0m\u001b[0m\n\u001b[0;32m--> 572\u001b[0;31m         \u001b[0mself\u001b[0m\u001b[0;34m.\u001b[0m\u001b[0mresults\u001b[0m \u001b[0;34m=\u001b[0m \u001b[0mbatch\u001b[0m\u001b[0;34m(\u001b[0m\u001b[0;34m)\u001b[0m\u001b[0;34m\u001b[0m\u001b[0;34m\u001b[0m\u001b[0m\n\u001b[0m\u001b[1;32m    573\u001b[0m \u001b[0;34m\u001b[0m\u001b[0m\n\u001b[1;32m    574\u001b[0m     \u001b[0;32mdef\u001b[0m \u001b[0mget\u001b[0m\u001b[0;34m(\u001b[0m\u001b[0mself\u001b[0m\u001b[0;34m)\u001b[0m\u001b[0;34m:\u001b[0m\u001b[0;34m\u001b[0m\u001b[0;34m\u001b[0m\u001b[0m\n",
            "\u001b[0;32m/usr/local/lib/python3.7/dist-packages/joblib/parallel.py\u001b[0m in \u001b[0;36m__call__\u001b[0;34m(self)\u001b[0m\n\u001b[1;32m    261\u001b[0m         \u001b[0;32mwith\u001b[0m \u001b[0mparallel_backend\u001b[0m\u001b[0;34m(\u001b[0m\u001b[0mself\u001b[0m\u001b[0;34m.\u001b[0m\u001b[0m_backend\u001b[0m\u001b[0;34m,\u001b[0m \u001b[0mn_jobs\u001b[0m\u001b[0;34m=\u001b[0m\u001b[0mself\u001b[0m\u001b[0;34m.\u001b[0m\u001b[0m_n_jobs\u001b[0m\u001b[0;34m)\u001b[0m\u001b[0;34m:\u001b[0m\u001b[0;34m\u001b[0m\u001b[0;34m\u001b[0m\u001b[0m\n\u001b[1;32m    262\u001b[0m             return [func(*args, **kwargs)\n\u001b[0;32m--> 263\u001b[0;31m                     for func, args, kwargs in self.items]\n\u001b[0m\u001b[1;32m    264\u001b[0m \u001b[0;34m\u001b[0m\u001b[0m\n\u001b[1;32m    265\u001b[0m     \u001b[0;32mdef\u001b[0m \u001b[0m__reduce__\u001b[0m\u001b[0;34m(\u001b[0m\u001b[0mself\u001b[0m\u001b[0;34m)\u001b[0m\u001b[0;34m:\u001b[0m\u001b[0;34m\u001b[0m\u001b[0;34m\u001b[0m\u001b[0m\n",
            "\u001b[0;32m/usr/local/lib/python3.7/dist-packages/joblib/parallel.py\u001b[0m in \u001b[0;36m<listcomp>\u001b[0;34m(.0)\u001b[0m\n\u001b[1;32m    261\u001b[0m         \u001b[0;32mwith\u001b[0m \u001b[0mparallel_backend\u001b[0m\u001b[0;34m(\u001b[0m\u001b[0mself\u001b[0m\u001b[0;34m.\u001b[0m\u001b[0m_backend\u001b[0m\u001b[0;34m,\u001b[0m \u001b[0mn_jobs\u001b[0m\u001b[0;34m=\u001b[0m\u001b[0mself\u001b[0m\u001b[0;34m.\u001b[0m\u001b[0m_n_jobs\u001b[0m\u001b[0;34m)\u001b[0m\u001b[0;34m:\u001b[0m\u001b[0;34m\u001b[0m\u001b[0;34m\u001b[0m\u001b[0m\n\u001b[1;32m    262\u001b[0m             return [func(*args, **kwargs)\n\u001b[0;32m--> 263\u001b[0;31m                     for func, args, kwargs in self.items]\n\u001b[0m\u001b[1;32m    264\u001b[0m \u001b[0;34m\u001b[0m\u001b[0m\n\u001b[1;32m    265\u001b[0m     \u001b[0;32mdef\u001b[0m \u001b[0m__reduce__\u001b[0m\u001b[0;34m(\u001b[0m\u001b[0mself\u001b[0m\u001b[0;34m)\u001b[0m\u001b[0;34m:\u001b[0m\u001b[0;34m\u001b[0m\u001b[0;34m\u001b[0m\u001b[0m\n",
            "\u001b[0;32m/usr/local/lib/python3.7/dist-packages/sklearn/linear_model/_logistic.py\u001b[0m in \u001b[0;36m_logistic_regression_path\u001b[0;34m(X, y, pos_class, Cs, fit_intercept, max_iter, tol, verbose, solver, coef, class_weight, dual, penalty, intercept_scaling, multi_class, random_state, check_input, max_squared_sum, sample_weight, l1_ratio)\u001b[0m\n\u001b[1;32m    975\u001b[0m                 \u001b[0mbeta\u001b[0m\u001b[0;34m,\u001b[0m \u001b[0mmax_iter\u001b[0m\u001b[0;34m,\u001b[0m \u001b[0mtol\u001b[0m\u001b[0;34m,\u001b[0m\u001b[0;34m\u001b[0m\u001b[0;34m\u001b[0m\u001b[0m\n\u001b[1;32m    976\u001b[0m                 \u001b[0mverbose\u001b[0m\u001b[0;34m,\u001b[0m \u001b[0mrandom_state\u001b[0m\u001b[0;34m,\u001b[0m \u001b[0;32mFalse\u001b[0m\u001b[0;34m,\u001b[0m \u001b[0mmax_squared_sum\u001b[0m\u001b[0;34m,\u001b[0m \u001b[0mwarm_start_sag\u001b[0m\u001b[0;34m,\u001b[0m\u001b[0;34m\u001b[0m\u001b[0;34m\u001b[0m\u001b[0m\n\u001b[0;32m--> 977\u001b[0;31m                 is_saga=(solver == 'saga'))\n\u001b[0m\u001b[1;32m    978\u001b[0m \u001b[0;34m\u001b[0m\u001b[0m\n\u001b[1;32m    979\u001b[0m         \u001b[0;32melse\u001b[0m\u001b[0;34m:\u001b[0m\u001b[0;34m\u001b[0m\u001b[0;34m\u001b[0m\u001b[0m\n",
            "\u001b[0;32m/usr/local/lib/python3.7/dist-packages/sklearn/linear_model/_sag.py\u001b[0m in \u001b[0;36msag_solver\u001b[0;34m(X, y, sample_weight, loss, alpha, beta, max_iter, tol, verbose, random_state, check_input, max_squared_sum, warm_start_mem, is_saga)\u001b[0m\n\u001b[1;32m    324\u001b[0m                             \u001b[0mintercept_decay\u001b[0m\u001b[0;34m,\u001b[0m\u001b[0;34m\u001b[0m\u001b[0;34m\u001b[0m\u001b[0m\n\u001b[1;32m    325\u001b[0m                             \u001b[0mis_saga\u001b[0m\u001b[0;34m,\u001b[0m\u001b[0;34m\u001b[0m\u001b[0;34m\u001b[0m\u001b[0m\n\u001b[0;32m--> 326\u001b[0;31m                             verbose)\n\u001b[0m\u001b[1;32m    327\u001b[0m \u001b[0;34m\u001b[0m\u001b[0m\n\u001b[1;32m    328\u001b[0m     \u001b[0;32mif\u001b[0m \u001b[0mn_iter_\u001b[0m \u001b[0;34m==\u001b[0m \u001b[0mmax_iter\u001b[0m\u001b[0;34m:\u001b[0m\u001b[0;34m\u001b[0m\u001b[0;34m\u001b[0m\u001b[0m\n",
            "\u001b[0;31mKeyboardInterrupt\u001b[0m: "
          ]
        }
      ]
    },
    {
      "cell_type": "markdown",
      "metadata": {
        "id": "S0qRjp3EJ2Qx"
      },
      "source": [
        "## Result"
      ]
    },
    {
      "cell_type": "markdown",
      "metadata": {
        "id": "qgvpU5u2Hh3D"
      },
      "source": [
        "\n",
        "\n",
        "\n",
        "---\n",
        "\n",
        "> Single User Test Set [UNFILTERED] [FLEX, GYR, ACC_world]\n",
        "\n",
        "---\n",
        "\n",
        "\n",
        "| Train Set | Test Set | Accuracy | Failed Classes |\n",
        "| :---: |:---:| :---: | :---: |\n",
        "| 002, 003, 004, 005, 006, 007 | 001 | 0.89 | r, t |\n",
        "| 001, 003, 004, 005, 006, 007 | 002 | 0.89 |  |\n",
        "| 001, 002, 004, 005, 006, 007 | 003 | 0.86 | t, o |\n",
        "| 001, 002, 003, 005, 006, 007 | 004 | 0.69 | n, hungry, sorry, t |\n",
        "| 001, 002, 003, 004, 006, 007 | 005 | 0.78 | l, good, t |\n",
        "| 001, 002, 003, 004, 005, 007 | 006 | 0.79 | u, c, o |\n",
        "| 001, 002, 003, 004, 005, 006 | 007 | 0.61 | a, v, x, e, n, s, t |\n",
        "\n",
        "\n",
        "\n",
        "---\n",
        "\n",
        "\n",
        "> Single User Test Set [FILTERED] [FLEX, GYR, ACC_world]\n",
        "\n",
        "---\n",
        "\n",
        "\n",
        "| Train Set | Test Set | Accuracy | Failed Classes |\n",
        "| :---: |:---:| :---: | :---: |\n",
        "| 002, 003, 004, 005, 006, 007 | 001 | 0.90 | r, t |\n",
        "| 001, 003, 004, 005, 006, 007 | 002 | 0.92 | t |\n",
        "| 001, 002, 004, 005, 006, 007 | 003 | 0.86 | t, o |\n",
        "| 001, 002, 003, 005, 006, 007 | 004 | 0.70 | x, n, hungry, t |\n",
        "| 001, 002, 003, 004, 006, 007 | 005 | 0.80 | l, good, s, t |\n",
        "| 001, 002, 003, 004, 005, 007 | 006 | 0.79 | u, v, c, d, o |\n",
        "| 001, 002, 003, 004, 005, 006 | 007 | 0.62 | a, e, m, n, s, t, u, v, x, you |\n",
        "\n",
        "\n",
        "---\n",
        "\n",
        "> Single User Test Set [FILTERED] [FLEX, GYR, ACC_raw]\n",
        "\n",
        "---\n",
        "\n",
        "| Train Set | Test Set | Accuracy | Failed Classes |\n",
        "| :---: |:---:| :---: | :---: |\n",
        "| 002, 003, 004, 005, 006, 007 | 001 | 0.86 | c, r, t |\n",
        "| 001, 003, 004, 005, 006, 007 | 002 | 0.89 |  |\n",
        "| 001, 002, 004, 005, 006, 007 | 003 | 0.87 |  |\n",
        "| 001, 002, 003, 005, 006, 007 | 004 | 0.72 | x, deaf, hungry, n |\n",
        "| 001, 002, 003, 004, 006, 007 | 005 | 0.81 | l, t |\n",
        "| 001, 002, 003, 004, 005, 007 | 006 | 0.84 | v, c, d, o |\n",
        "| 001, 002, 003, 004, 005, 006 | 007 | 0.64 | a, u, v, x, e, you, m, n, s, t |\n",
        "\n",
        "---\n",
        "\n",
        "> Single User Test Set and Variable User Train  [FILTERED] [FLEX, GYR, ACC_body]\n",
        "\n",
        "---\n",
        "| Train Set | Test Set | Accuracy | Failed Classes |\n",
        "| :---: |:---:| :---: | :---: |\n",
        "| 002, 003, 004, 005, 006, 007 | 001 | 0.89 | r, t |\n",
        "| 001, 003, 004, 005, 006, 007 | 002 | 0.93 | x |\n",
        "| 001, 002, 004, 005, 006, 007 | 003 | 0.87 | t, o |\n",
        "| 001, 002, 003, 005, 006, 007 | 004 | 0.69 | x, deaf, n, t, sorry, hungry |\n",
        "| 001, 002, 003, 004, 006, 007 | 005 | 0.81 | l, good, s, t |\n",
        "| 001, 002, 003, 004, 005, 007 | 006 | 0.80 | u, c, d, o |\n",
        "| 001, 002, 003, 004, 005, 006 | 007 | 0.62 | a, e, m, n, s, t, thankyou, v, x, you |\n",
        "\n",
        "---\n",
        "\n",
        "> Single User Test Set and Variable User Train  [SCALED] [FILTERED] [FLEX, GYR, ACC_world]\n",
        "\n",
        "---\n",
        "| Train Set | Test Set | Accuracy | Failed Classes |\n",
        "| :---: |:---:| :---: | :---: |\n",
        "| 002, 003, 004, 005, 006, 007 | 001 | 0.91 | r |\n",
        "| 001, 003, 004, 005, 006, 007 | 002 | 0.92 |  |\n",
        "| 001, 002, 004, 005, 006, 007 | 003 | 0.86 | t, o |\n",
        "| 001, 002, 003, 005, 006, 007 | 004 | 0.70 | x, hungry, n, sorry, t |\n",
        "| 001, 002, 003, 004, 006, 007 | 005 | 0.79 | l, good, s |\n",
        "| 001, 002, 003, 004, 005, 007 | 006 | 0.78 | u, k, c, d, o |\n",
        "| 001, 002, 003, 004, 005, 006 | 007 | 0.61 | a, deaf, e, m, me, n, s, t, v, x, you |\n",
        "\n",
        "---\n"
      ]
    },
    {
      "cell_type": "markdown",
      "metadata": {
        "id": "uIPjEN4RJcYJ"
      },
      "source": [
        "#**Analysis_2** \n",
        "\n",
        "### Test set prediction result for each test user for variable number of train users"
      ]
    },
    {
      "cell_type": "markdown",
      "metadata": {
        "id": "E3SnIxg8JtkV"
      },
      "source": [
        "## Code"
      ]
    },
    {
      "cell_type": "code",
      "metadata": {
        "colab": {
          "base_uri": "https://localhost:8080/",
          "height": 231
        },
        "id": "liv-R0P6JZ8C",
        "outputId": "aaa4506c-91f4-4536-c964-71f461eaccc4"
      },
      "source": [
        "from sklearn.ensemble import RandomForestClassifier\n",
        "from sklearn.metrics import classification_report, confusion_matrix, accuracy_score\n",
        "from sklearn.utils import shuffle\n",
        "from sklearn.preprocessing import MinMaxScaler\n",
        "\n",
        "# selected_users = ['001', '002', '003']\n",
        "selected_users = users\n",
        "\n",
        "# Iterate over users as single test case\n",
        "for test_users in selected_users:\n",
        "  test_users = [test_users]\n",
        "  train_users_total = [x for x in selected_users if x not in test_users]\n",
        "  train_users = []\n",
        "\n",
        "  for u in train_users_total:\n",
        "    train_users.append(u)\n",
        "\n",
        "    # Update X_train, y_train\n",
        "    X_train = pd.DataFrame()\n",
        "    y_train = np.array([])\n",
        "\n",
        "    if isinstance(train_users, list):\n",
        "      for user in train_users:\n",
        "        X_train = X_train.append(feature_sets[int(user)-1], ignore_index=True)\n",
        "        y_train = np.append(y_train, label_sets[int(user)-1])\n",
        "    else:\n",
        "      raise ValueError(\"Train set type must be a 'list'.\")\n",
        "    \n",
        "\n",
        "    # Update X_test, y_test\n",
        "    X_test = pd.DataFrame()\n",
        "    y_test = np.array([])\n",
        "\n",
        "    if isinstance(test_users, list):\n",
        "      for user in test_users:\n",
        "        X_test = X_test.append(feature_sets[int(user)-1], ignore_index=True)\n",
        "        y_test = np.append(y_test, label_sets[int(user)-1])\n",
        "    else:\n",
        "      raise ValueError(\"Test set type must be a 'list'.\")\n",
        "\n",
        "    X_train, y_train = shuffle(X_train, y_train, random_state=43)\n",
        "    \n",
        "    accuracy = 0\n",
        "    num_iter = 5\n",
        "    failed_classes = set()\n",
        "    for i in range(num_iter):\n",
        "      clf = RandomForestClassifier(n_estimators=100)\n",
        "      clf.fit(X_train,y_train)\n",
        "      y_pred = clf.predict(X_test)\n",
        "      accuracy += accuracy_score(y_test,y_pred)\n",
        "      failed_classes = failed_classes.union(set(y_test.astype(int)) - set(y_pred.astype(int)))\n",
        "    accuracy /= num_iter\n",
        "\n",
        "    failed_classes = label_encoder.inverse_transform(list(failed_classes))  \n",
        "\n",
        "    print('|' , end=' ')\n",
        "    print(*train_users, sep=\", \", end=' ')\n",
        "    print('|' , end=' ')\n",
        "    print(*test_users, end=' ')\n",
        "    print('|' , end=' ')\n",
        "    print(\"%0.2f\" %(accuracy), end=' ')\n",
        "    print('|' , end=' ')\n",
        "    print(*failed_classes, sep=\", \", end=' ')\n",
        "    print('|' , end='\\n')\n"
      ],
      "execution_count": null,
      "outputs": [
        {
          "output_type": "error",
          "ename": "NameError",
          "evalue": "ignored",
          "traceback": [
            "\u001b[0;31m---------------------------------------------------------------------------\u001b[0m",
            "\u001b[0;31mNameError\u001b[0m                                 Traceback (most recent call last)",
            "\u001b[0;32m<ipython-input-15-2fafb757300d>\u001b[0m in \u001b[0;36m<module>\u001b[0;34m()\u001b[0m\n\u001b[1;32m     21\u001b[0m     \u001b[0;32mif\u001b[0m \u001b[0misinstance\u001b[0m\u001b[0;34m(\u001b[0m\u001b[0mtrain_users\u001b[0m\u001b[0;34m,\u001b[0m \u001b[0mlist\u001b[0m\u001b[0;34m)\u001b[0m\u001b[0;34m:\u001b[0m\u001b[0;34m\u001b[0m\u001b[0;34m\u001b[0m\u001b[0m\n\u001b[1;32m     22\u001b[0m       \u001b[0;32mfor\u001b[0m \u001b[0muser\u001b[0m \u001b[0;32min\u001b[0m \u001b[0mtrain_users\u001b[0m\u001b[0;34m:\u001b[0m\u001b[0;34m\u001b[0m\u001b[0;34m\u001b[0m\u001b[0m\n\u001b[0;32m---> 23\u001b[0;31m         \u001b[0mX_train\u001b[0m \u001b[0;34m=\u001b[0m \u001b[0mX_train\u001b[0m\u001b[0;34m.\u001b[0m\u001b[0mappend\u001b[0m\u001b[0;34m(\u001b[0m\u001b[0mfeature_sets\u001b[0m\u001b[0;34m[\u001b[0m\u001b[0mint\u001b[0m\u001b[0;34m(\u001b[0m\u001b[0muser\u001b[0m\u001b[0;34m)\u001b[0m\u001b[0;34m-\u001b[0m\u001b[0;36m1\u001b[0m\u001b[0;34m]\u001b[0m\u001b[0;34m,\u001b[0m \u001b[0mignore_index\u001b[0m\u001b[0;34m=\u001b[0m\u001b[0;32mTrue\u001b[0m\u001b[0;34m)\u001b[0m\u001b[0;34m\u001b[0m\u001b[0;34m\u001b[0m\u001b[0m\n\u001b[0m\u001b[1;32m     24\u001b[0m         \u001b[0my_train\u001b[0m \u001b[0;34m=\u001b[0m \u001b[0mnp\u001b[0m\u001b[0;34m.\u001b[0m\u001b[0mappend\u001b[0m\u001b[0;34m(\u001b[0m\u001b[0my_train\u001b[0m\u001b[0;34m,\u001b[0m \u001b[0mlabel_sets\u001b[0m\u001b[0;34m[\u001b[0m\u001b[0mint\u001b[0m\u001b[0;34m(\u001b[0m\u001b[0muser\u001b[0m\u001b[0;34m)\u001b[0m\u001b[0;34m-\u001b[0m\u001b[0;36m1\u001b[0m\u001b[0;34m]\u001b[0m\u001b[0;34m)\u001b[0m\u001b[0;34m\u001b[0m\u001b[0;34m\u001b[0m\u001b[0m\n\u001b[1;32m     25\u001b[0m     \u001b[0;32melse\u001b[0m\u001b[0;34m:\u001b[0m\u001b[0;34m\u001b[0m\u001b[0;34m\u001b[0m\u001b[0m\n",
            "\u001b[0;31mNameError\u001b[0m: name 'feature_sets' is not defined"
          ]
        }
      ]
    },
    {
      "cell_type": "markdown",
      "metadata": {
        "id": "j09HaUObJ8cz"
      },
      "source": [
        "## Result"
      ]
    },
    {
      "cell_type": "markdown",
      "metadata": {
        "id": "liVB9f6KKNnl"
      },
      "source": [
        "\n",
        "---\n",
        "\n",
        "> Single User Test Set and Variable User Train  [UNFILTERED] [FLEX, GYR, ACC_world]\n",
        "\n",
        "---\n",
        "\n",
        "\n",
        "| Train Set | Test Set | Accuracy | Failed Classes |\n",
        "| :---: |:---:| :---: | :---: |\n",
        "| 002 | 001 | 0.57 | a, d, e, f, i, k, l, m, me, n, r, w |\n",
        "| 002, 003 | 001 | 0.82 | u, x, me, r, s |\n",
        "| 002, 003, 004 | 001 | 0.86 | u, x, me, r, s |\n",
        "| 002, 003, 004, 005 | 001 | 0.87 | r, s |\n",
        "| 002, 003, 004, 005, 006 | 001 | 0.88 | r, s, t |\n",
        "| 002, 003, 004, 005, 006, 007 | 001 | 0.88 | r |\n",
        "| 001 | 002 | 0.64 | b, v, x, me, r, i |\n",
        "| 001, 003 | 002 | 0.85 | x, r |\n",
        "| 001, 003, 004 | 002 | 0.89 | x |\n",
        "| 001, 003, 004, 005 | 002 | 0.89 | x |\n",
        "| 001, 003, 004, 005, 006 | 002 | 0.90 |  |\n",
        "| 001, 003, 004, 005, 006, 007 | 002 | 0.90 |  |\n",
        "| 001 | 003 | 0.67 | c, e, you, s |\n",
        "| 001, 002 | 003 | 0.83 | v, o, p, s, t |\n",
        "| 001, 002, 004 | 003 | 0.88 | s, o |\n",
        "| 001, 002, 004, 005 | 003 | 0.85 | t |\n",
        "| 001, 002, 004, 005, 006 | 003 | 0.85 | t, o |\n",
        "| 001, 002, 004, 005, 006, 007 | 003 | 0.86 | e, o, t |\n",
        "| 001 | 004 | 0.46 | c, fine, good, hungry, me, n, q, sorry, t, v, x, yes, you |\n",
        "| 001, 002 | 004 | 0.57 | x, deaf, you, yes, fine, good, hungry, me, n, t |\n",
        "| 001, 002, 003 | 004 | 0.64 | x, deaf, fine, good, hungry, n, sorry, t |\n",
        "| 001, 002, 003, 005 | 004 | 0.67 | n, t, fine, q, hungry |\n",
        "| 001, 002, 003, 005, 006 | 004 | 0.68 | x, n, hungry, hello, t |\n",
        "| 001, 002, 003, 005, 006, 007 | 004 | 0.67 | x, n, t, sorry, hungry |\n",
        "| 001 | 005 | 0.61 | k, l, n, good, t, thankyou |\n",
        "| 001, 002 | 005 | 0.78 | good |\n",
        "| 001, 002, 003 | 005 | 0.74 | k, l, good, t |\n",
        "| 001, 002, 003, 004 | 005 | 0.77 | l, good, t |\n",
        "| 001, 002, 003, 004, 006 | 005 | 0.81 | l, good, t |\n",
        "| 001, 002, 003, 004, 006, 007 | 005 | 0.79 | l, t |\n",
        "| 001 | 006 | 0.52 | c, you, good, me, n, o, q, t, thankyou |\n",
        "| 001, 002 | 006 | 0.67 | u, v, c, n, o |\n",
        "| 001, 002, 003 | 006 | 0.70 | u, v, c, k, o |\n",
        "| 001, 002, 003, 004 | 006 | 0.78 | u, v, c, k, o |\n",
        "| 001, 002, 003, 004, 005 | 006 | 0.80 | u, c, o |\n",
        "| 001, 002, 003, 004, 005, 007 | 006 | 0.79 | u, c, o |\n",
        "| 001 | 007 | 0.46 | a, d, e, g, i, m, me, n, q, r, s, sorry, t, thankyou, u, x, you |\n",
        "| 001, 002 | 007 | 0.53 | a, d, e, i, k, l, m, me, n, s, t, v, x, you |\n",
        "| 001, 002, 003 | 007 | 0.57 | a, e, l, m, me, n, q, s, t, v, x, you |\n",
        "| 001, 002, 003, 004 | 007 | 0.61 | a, x, e, m, n, s, t |\n",
        "| 001, 002, 003, 004, 005 | 007 | 0.60 | a, e, l, m, me, n, s, t, v, x, you |\n",
        "| 001, 002, 003, 004, 005, 006 | 007 | 0.62 | a, u, v, x, e, l, n, s, t |\n",
        "\n",
        "\n",
        "\n",
        "---\n",
        "\n",
        "> Single User Test Set and Variable User Train  [FILTERED] [FLEX, GYR, ACC_world]\n",
        "\n",
        "---\n",
        "\n",
        "\n",
        "| Train Set | Test Set | Accuracy | Failed Classes |\n",
        "| :---: |:---:| :---: | :---: |\n",
        "| 002 | 001 | 0.59 | a, w, e, k, l, m, me, n |\n",
        "| 002, 003 | 001 | 0.79 | u, x, d, m, me, r, s |\n",
        "| 002, 003, 004 | 001 | 0.86 | me, r, s |\n",
        "| 002, 003, 004, 005 | 001 | 0.89 | r, s |\n",
        "| 002, 003, 004, 005, 006 | 001 | 0.90 | r, t |\n",
        "| 002, 003, 004, 005, 006, 007 | 001 | 0.90 | r |\n",
        "| 001 | 002 | 0.60 | u, b, x, y, i, l, me, n, p, r, t |\n",
        "| 001, 003 | 002 | 0.85 | p, r |\n",
        "| 001, 003, 004 | 002 | 0.90 | x, t |\n",
        "| 001, 003, 004, 005 | 002 | 0.92 | x |\n",
        "| 001, 003, 004, 005, 006 | 002 | 0.90 |  |\n",
        "| 001, 003, 004, 005, 006, 007 | 002 | 0.91 |  |\n",
        "| 001 | 003 | 0.59 | v, c, y, you, hungry, p, q, s |\n",
        "| 001, 002 | 003 | 0.84 | p, s, t |\n",
        "| 001, 002, 004 | 003 | 0.87 |  |\n",
        "| 001, 002, 004, 005 | 003 | 0.84 | p |\n",
        "| 001, 002, 004, 005, 006 | 003 | 0.85 | p, t |\n",
        "| 001, 002, 004, 005, 006, 007 | 003 | 0.87 | t, o |\n",
        "| 001 | 004 | 0.40 | fine, good, hungry, k, me, n, q, sorry, t, u, v, y, yes, you |\n",
        "| 001, 002 | 004 | 0.59 | deaf, yes, you, fine, good, hello, hungry, me, n, sorry, t |\n",
        "| 001, 002, 003 | 004 | 0.64 | x, deaf, fine, good, hungry, n, sorry, t |\n",
        "| 001, 002, 003, 005 | 004 | 0.66 | n, hungry, t |\n",
        "| 001, 002, 003, 005, 006 | 004 | 0.69 | x, hello, hungry, n, t |\n",
        "| 001, 002, 003, 005, 006, 007 | 004 | 0.70 | x, n, hungry, t |\n",
        "| 001 | 005 | 0.58 | v, x, d, y, k, l, n, q, t |\n",
        "| 001, 002 | 005 | 0.73 | k, v, l, d, good |\n",
        "| 001, 002, 003 | 005 | 0.73 | v, good, k, l, s, t |\n",
        "| 001, 002, 003, 004 | 005 | 0.76 | good, l |\n",
        "| 001, 002, 003, 004, 006 | 005 | 0.79 | l, good, s, t |\n",
        "| 001, 002, 003, 004, 006, 007 | 005 | 0.79 | l |\n",
        "| 001 | 006 | 0.47 | c, d, x, you, good, k, me, t, thankyou |\n",
        "| 001, 002 | 006 | 0.70 | u, v, c, n, o |\n",
        "| 001, 002, 003 | 006 | 0.72 | u, v, c, k, o, q, t |\n",
        "| 001, 002, 003, 004 | 006 | 0.79 | u, v, c, k, o, s |\n",
        "| 001, 002, 003, 004, 005 | 006 | 0.79 | u, c, o |\n",
        "| 001, 002, 003, 004, 005, 007 | 006 | 0.78 | u, c, o |\n",
        "| 001 | 007 | 0.43 | a, b, d, e, g, i, m, me, n, q, r, s, t, thankyou, u, x, you |\n",
        "| 001, 002 | 007 | 0.52 | a, d, e, i, k, l, m, me, n, q, s, t, u, v, x, you |\n",
        "| 001, 002, 003 | 007 | 0.56 | a, e, l, m, me, n, q, s, t, u, v, x, you |\n",
        "| 001, 002, 003, 004 | 007 | 0.61 | a, e, m, me, n, q, s, t, thankyou, v, x, you |\n",
        "| 001, 002, 003, 004, 005 | 007 | 0.59 | a, deaf, e, m, me, n, s, t, v, x, you |\n",
        "| 001, 002, 003, 004, 005, 006 | 007 | 0.63 | a, u, v, x, e, you, m, n, s, t |\n",
        "\n",
        "\n",
        "---\n",
        "\n",
        "> Single User Test Set and Variable User Train  [FILTERED] [FLEX, GYR, ACC_raw]\n",
        "\n",
        "---\n",
        "| Train Set | Test Set | Accuracy | Failed Classes |\n",
        "| :---: |:---:| :---: | :---: |\n",
        "| 002 | 001 | 0.58 | a, w, f, i, m, me, n |\n",
        "| 002, 003 | 001 | 0.77 | x, d, m, me, r, s, t |\n",
        "| 002, 003, 004 | 001 | 0.85 | x, me, r, s |\n",
        "| 002, 003, 004, 005 | 001 | 0.87 | r, n |\n",
        "| 002, 003, 004, 005, 006 | 001 | 0.88 | r, t |\n",
        "| 002, 003, 004, 005, 006, 007 | 001 | 0.86 | c, r, t |\n",
        "| 001 | 002 | 0.55 | x, y, h, i, p, please, r |\n",
        "| 001, 003 | 002 | 0.86 | x, r |\n",
        "| 001, 003, 004 | 002 | 0.90 | x, t |\n",
        "| 001, 003, 004, 005 | 002 | 0.89 | x |\n",
        "| 001, 003, 004, 005, 006 | 002 | 0.88 | o |\n",
        "| 001, 003, 004, 005, 006, 007 | 002 | 0.90 |  |\n",
        "| 001 | 003 | 0.59 | y, d, you, e, hungry, n, p, s |\n",
        "| 001, 002 | 003 | 0.84 | v, c, s, t |\n",
        "| 001, 002, 004 | 003 | 0.89 | c, s |\n",
        "| 001, 002, 004, 005 | 003 | 0.85 | c |\n",
        "| 001, 002, 004, 005, 006 | 003 | 0.86 | t |\n",
        "| 001, 002, 004, 005, 006, 007 | 003 | 0.87 |  |\n",
        "| 001 | 004 | 0.44 | v, c, yes, you, f, hungry, me, n, t |\n",
        "| 001, 002 | 004 | 0.64 | yes, deaf, hungry, k, me, n, sorry, t |\n",
        "| 001, 002, 003 | 004 | 0.71 | x, deaf, hungry, n, sorry, t |\n",
        "| 001, 002, 003, 005 | 004 | 0.73 | c, x, deaf, hungry, n, t |\n",
        "| 001, 002, 003, 005, 006 | 004 | 0.73 | x, deaf, hungry, n |\n",
        "| 001, 002, 003, 005, 006, 007 | 004 | 0.72 | x, deaf, hungry, n, sorry, t |\n",
        "| 001 | 005 | 0.57 | x, y, d, good, k, l, p, t |\n",
        "| 001, 002 | 005 | 0.79 | l, d, t |\n",
        "| 001, 002, 003 | 005 | 0.78 | l, s, t |\n",
        "| 001, 002, 003, 004 | 005 | 0.80 | l, good, s |\n",
        "| 001, 002, 003, 004, 006 | 005 | 0.82 | l, me, good, t |\n",
        "| 001, 002, 003, 004, 006, 007 | 005 | 0.80 | l, t |\n",
        "| 001 | 006 | 0.52 | c, d, x, you, f, k, me, thankyou |\n",
        "| 001, 002 | 006 | 0.71 | u, v, c, you, n, o |\n",
        "| 001, 002, 003 | 006 | 0.79 | u, v, c, o |\n",
        "| 001, 002, 003, 004 | 006 | 0.84 | u, v, c, o, s |\n",
        "| 001, 002, 003, 004, 005 | 006 | 0.85 | c, o |\n",
        "| 001, 002, 003, 004, 005, 007 | 006 | 0.84 | v, c, d, o |\n",
        "| 001 | 007 | 0.41 | a, d, e, h, m, me, n, p, r, s, thankyou, u, x, you |\n",
        "| 001, 002 | 007 | 0.54 | a, e, hello, i, l, m, me, n, s, t, v, x, you |\n",
        "| 001, 002, 003 | 007 | 0.60 | a, e, i, l, m, n, s, t, v, x |\n",
        "| 001, 002, 003, 004 | 007 | 0.63 | a, v, x, e, hello, m, n, s, t |\n",
        "| 001, 002, 003, 004, 005 | 007 | 0.62 | a, deaf, e, m, me, n, s, t, v, x, you |\n",
        "| 001, 002, 003, 004, 005, 006 | 007 | 0.62 | a, v, x, e, m, n, s, t |\n",
        "\n",
        "---\n",
        "\n",
        "> Single User Test Set and Variable User Train  [FILTERED] [FLEX, GYR, ACC_body]\n",
        "\n",
        "---\n",
        "| Train Set | Test Set | Accuracy | Failed Classes |\n",
        "| :---: |:---:| :---: | :---: |\n",
        "| 002 | 001 | 0.59 | a, k, w, m, n |\n",
        "| 002, 003 | 001 | 0.79 | u, x, m, me, r, s |\n",
        "| 002, 003, 004 | 001 | 0.88 | x, me, r, s |\n",
        "| 002, 003, 004, 005 | 001 | 0.89 | r |\n",
        "| 002, 003, 004, 005, 006 | 001 | 0.89 | r, s, t |\n",
        "| 002, 003, 004, 005, 006, 007 | 001 | 0.89 | r, me, t |\n",
        "| 001 | 002 | 0.58 | v, b, x, y, i, p, r |\n",
        "| 001, 003 | 002 | 0.83 | p, r, x |\n",
        "| 001, 003, 004 | 002 | 0.90 | x, t |\n",
        "| 001, 003, 004, 005 | 002 | 0.89 |  |\n",
        "| 001, 003, 004, 005, 006 | 002 | 0.90 |  |\n",
        "| 001, 003, 004, 005, 006, 007 | 002 | 0.92 | x |\n",
        "| 001 | 003 | 0.57 | c, you, h, hungry, i, p, q, s |\n",
        "| 001, 002 | 003 | 0.84 | p, s, t |\n",
        "| 001, 002, 004 | 003 | 0.88 | s |\n",
        "| 001, 002, 004, 005 | 003 | 0.85 | c |\n",
        "| 001, 002, 004, 005, 006 | 003 | 0.85 | t |\n",
        "| 001, 002, 004, 005, 006, 007 | 003 | 0.88 | t, o |\n",
        "| 001 | 004 | 0.37 | good, hungry, k, me, n, q, sorry, t, thankyou, v, x, y, yes, you |\n",
        "| 001, 002 | 004 | 0.60 | deaf, you, hello, hungry, m, me, n, sorry, t |\n",
        "| 001, 002, 003 | 004 | 0.67 | x, deaf, yes, good, hello, hungry, n, sorry, t |\n",
        "| 001, 002, 003, 005 | 004 | 0.69 | deaf, hungry, n, t |\n",
        "| 001, 002, 003, 005, 006 | 004 | 0.70 | x, n, hungry |\n",
        "| 001, 002, 003, 005, 006, 007 | 004 | 0.69 | x, deaf, hungry, n, sorry, t |\n",
        "| 001 | 005 | 0.58 | v, x, y, good, l, n, t |\n",
        "| 001, 002 | 005 | 0.77 | good, l, s |\n",
        "| 001, 002, 003 | 005 | 0.77 | v, l, good, t |\n",
        "| 001, 002, 003, 004 | 005 | 0.79 | l, good, t |\n",
        "| 001, 002, 003, 004, 006 | 005 | 0.83 | l, good, s, t |\n",
        "| 001, 002, 003, 004, 006, 007 | 005 | 0.81 | l, good, s |\n",
        "| 001 | 006 | 0.43 | c, d, x, you, g, me, o, q, t, thankyou |\n",
        "| 001, 002 | 006 | 0.70 | u, v, c, you, o |\n",
        "| 001, 002, 003 | 006 | 0.75 | u, v, c, k, o, t |\n",
        "| 001, 002, 003, 004 | 006 | 0.79 | u, v, c, k, o |\n",
        "| 001, 002, 003, 004, 005 | 006 | 0.81 | u, c, o |\n",
        "| 001, 002, 003, 004, 005, 007 | 006 | 0.81 | u, c, d, o |\n",
        "| 001 | 007 | 0.42 | a, d, e, g, m, me, n, q, r, s, t, thankyou, u, x, you |\n",
        "| 001, 002 | 007 | 0.52 | a, d, e, hello, i, k, l, m, me, n, q, s, v, x, you |\n",
        "| 001, 002, 003 | 007 | 0.56 | a, e, l, m, me, n, q, s, t, u, v, x, you |\n",
        "| 001, 002, 003, 004 | 007 | 0.62 | a, e, hello, m, me, n, q, s, t, v, x, you |\n",
        "| 001, 002, 003, 004, 005 | 007 | 0.60 | a, deaf, e, m, me, n, s, t, v, x, you |\n",
        "| 001, 002, 003, 004, 005, 006 | 007 | 0.61 | a, e, m, n, s, t, thankyou, u, v, x, you |\n",
        "\n",
        "---"
      ]
    },
    {
      "cell_type": "code",
      "metadata": {
        "id": "lZZbbbQGKESu"
      },
      "source": [
        ""
      ],
      "execution_count": null,
      "outputs": []
    }
  ]
}