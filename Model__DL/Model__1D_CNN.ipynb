{
  "nbformat": 4,
  "nbformat_minor": 0,
  "metadata": {
    "colab": {
      "name": "Model__1D_CNN",
      "provenance": [],
      "collapsed_sections": [
        "V-PLhB0PxXM7",
        "bu7-xHlEyrht",
        "3Uvv_C1Cxeuw",
        "aTed41xMUhNB"
      ],
      "toc_visible": true,
      "mount_file_id": "1vNMeVH6Wok2_r1ce2gYhvh_iMSM-FzZm",
      "authorship_tag": "ABX9TyNPbzTZqj1aRByHLIERaB+0",
      "include_colab_link": true
    },
    "kernelspec": {
      "display_name": "Python 3",
      "name": "python3"
    },
    "language_info": {
      "name": "python"
    },
    "widgets": {
      "application/vnd.jupyter.widget-state+json": {
        "e858cc97ced84875b523de8034ca01d8": {
          "model_module": "@jupyter-widgets/controls",
          "model_name": "HBoxModel",
          "state": {
            "_view_name": "HBoxView",
            "_dom_classes": [],
            "_model_name": "HBoxModel",
            "_view_module": "@jupyter-widgets/controls",
            "_model_module_version": "1.5.0",
            "_view_count": null,
            "_view_module_version": "1.5.0",
            "box_style": "",
            "layout": "IPY_MODEL_c8d5a927a67b4bd4a6795b119558f810",
            "_model_module": "@jupyter-widgets/controls",
            "children": [
              "IPY_MODEL_17161bbbfed844d2a2473e85c68fc2df",
              "IPY_MODEL_b2fd5800f7bd4ad19fdcf122559e4ad5"
            ]
          }
        },
        "c8d5a927a67b4bd4a6795b119558f810": {
          "model_module": "@jupyter-widgets/base",
          "model_name": "LayoutModel",
          "state": {
            "_view_name": "LayoutView",
            "grid_template_rows": null,
            "right": null,
            "justify_content": null,
            "_view_module": "@jupyter-widgets/base",
            "overflow": null,
            "_model_module_version": "1.2.0",
            "_view_count": null,
            "flex_flow": null,
            "width": null,
            "min_width": null,
            "border": null,
            "align_items": null,
            "bottom": null,
            "_model_module": "@jupyter-widgets/base",
            "top": null,
            "grid_column": null,
            "overflow_y": null,
            "overflow_x": null,
            "grid_auto_flow": null,
            "grid_area": null,
            "grid_template_columns": null,
            "flex": null,
            "_model_name": "LayoutModel",
            "justify_items": null,
            "grid_row": null,
            "max_height": null,
            "align_content": null,
            "visibility": null,
            "align_self": null,
            "height": null,
            "min_height": null,
            "padding": null,
            "grid_auto_rows": null,
            "grid_gap": null,
            "max_width": null,
            "order": null,
            "_view_module_version": "1.2.0",
            "grid_template_areas": null,
            "object_position": null,
            "object_fit": null,
            "grid_auto_columns": null,
            "margin": null,
            "display": null,
            "left": null
          }
        },
        "17161bbbfed844d2a2473e85c68fc2df": {
          "model_module": "@jupyter-widgets/controls",
          "model_name": "FloatProgressModel",
          "state": {
            "_view_name": "ProgressView",
            "style": "IPY_MODEL_fa98127094fb49e78d8f936e47b537c9",
            "_dom_classes": [],
            "description": "100%",
            "_model_name": "FloatProgressModel",
            "bar_style": "success",
            "max": 7,
            "_view_module": "@jupyter-widgets/controls",
            "_model_module_version": "1.5.0",
            "value": 7,
            "_view_count": null,
            "_view_module_version": "1.5.0",
            "orientation": "horizontal",
            "min": 0,
            "description_tooltip": null,
            "_model_module": "@jupyter-widgets/controls",
            "layout": "IPY_MODEL_9f0fd16884444661a3448fb774320921"
          }
        },
        "b2fd5800f7bd4ad19fdcf122559e4ad5": {
          "model_module": "@jupyter-widgets/controls",
          "model_name": "HTMLModel",
          "state": {
            "_view_name": "HTMLView",
            "style": "IPY_MODEL_a2b5312a9c514f75b8990db512cdd0d0",
            "_dom_classes": [],
            "description": "",
            "_model_name": "HTMLModel",
            "placeholder": "​",
            "_view_module": "@jupyter-widgets/controls",
            "_model_module_version": "1.5.0",
            "value": " 7/7 [02:15&lt;00:00, 19.31s/it]",
            "_view_count": null,
            "_view_module_version": "1.5.0",
            "description_tooltip": null,
            "_model_module": "@jupyter-widgets/controls",
            "layout": "IPY_MODEL_73bd36d103824a5cb72abbfe730595b9"
          }
        },
        "fa98127094fb49e78d8f936e47b537c9": {
          "model_module": "@jupyter-widgets/controls",
          "model_name": "ProgressStyleModel",
          "state": {
            "_view_name": "StyleView",
            "_model_name": "ProgressStyleModel",
            "description_width": "initial",
            "_view_module": "@jupyter-widgets/base",
            "_model_module_version": "1.5.0",
            "_view_count": null,
            "_view_module_version": "1.2.0",
            "bar_color": null,
            "_model_module": "@jupyter-widgets/controls"
          }
        },
        "9f0fd16884444661a3448fb774320921": {
          "model_module": "@jupyter-widgets/base",
          "model_name": "LayoutModel",
          "state": {
            "_view_name": "LayoutView",
            "grid_template_rows": null,
            "right": null,
            "justify_content": null,
            "_view_module": "@jupyter-widgets/base",
            "overflow": null,
            "_model_module_version": "1.2.0",
            "_view_count": null,
            "flex_flow": null,
            "width": null,
            "min_width": null,
            "border": null,
            "align_items": null,
            "bottom": null,
            "_model_module": "@jupyter-widgets/base",
            "top": null,
            "grid_column": null,
            "overflow_y": null,
            "overflow_x": null,
            "grid_auto_flow": null,
            "grid_area": null,
            "grid_template_columns": null,
            "flex": null,
            "_model_name": "LayoutModel",
            "justify_items": null,
            "grid_row": null,
            "max_height": null,
            "align_content": null,
            "visibility": null,
            "align_self": null,
            "height": null,
            "min_height": null,
            "padding": null,
            "grid_auto_rows": null,
            "grid_gap": null,
            "max_width": null,
            "order": null,
            "_view_module_version": "1.2.0",
            "grid_template_areas": null,
            "object_position": null,
            "object_fit": null,
            "grid_auto_columns": null,
            "margin": null,
            "display": null,
            "left": null
          }
        },
        "a2b5312a9c514f75b8990db512cdd0d0": {
          "model_module": "@jupyter-widgets/controls",
          "model_name": "DescriptionStyleModel",
          "state": {
            "_view_name": "StyleView",
            "_model_name": "DescriptionStyleModel",
            "description_width": "",
            "_view_module": "@jupyter-widgets/base",
            "_model_module_version": "1.5.0",
            "_view_count": null,
            "_view_module_version": "1.2.0",
            "_model_module": "@jupyter-widgets/controls"
          }
        },
        "73bd36d103824a5cb72abbfe730595b9": {
          "model_module": "@jupyter-widgets/base",
          "model_name": "LayoutModel",
          "state": {
            "_view_name": "LayoutView",
            "grid_template_rows": null,
            "right": null,
            "justify_content": null,
            "_view_module": "@jupyter-widgets/base",
            "overflow": null,
            "_model_module_version": "1.2.0",
            "_view_count": null,
            "flex_flow": null,
            "width": null,
            "min_width": null,
            "border": null,
            "align_items": null,
            "bottom": null,
            "_model_module": "@jupyter-widgets/base",
            "top": null,
            "grid_column": null,
            "overflow_y": null,
            "overflow_x": null,
            "grid_auto_flow": null,
            "grid_area": null,
            "grid_template_columns": null,
            "flex": null,
            "_model_name": "LayoutModel",
            "justify_items": null,
            "grid_row": null,
            "max_height": null,
            "align_content": null,
            "visibility": null,
            "align_self": null,
            "height": null,
            "min_height": null,
            "padding": null,
            "grid_auto_rows": null,
            "grid_gap": null,
            "max_width": null,
            "order": null,
            "_view_module_version": "1.2.0",
            "grid_template_areas": null,
            "object_position": null,
            "object_fit": null,
            "grid_auto_columns": null,
            "margin": null,
            "display": null,
            "left": null
          }
        },
        "5816c7d86ec44e5daac98d1b3a1be42e": {
          "model_module": "@jupyter-widgets/controls",
          "model_name": "HBoxModel",
          "state": {
            "_view_name": "HBoxView",
            "_dom_classes": [],
            "_model_name": "HBoxModel",
            "_view_module": "@jupyter-widgets/controls",
            "_model_module_version": "1.5.0",
            "_view_count": null,
            "_view_module_version": "1.5.0",
            "box_style": "",
            "layout": "IPY_MODEL_6c47f0ac34aa42aaba0162c6b2fa6589",
            "_model_module": "@jupyter-widgets/controls",
            "children": [
              "IPY_MODEL_89ecf1dc6b6047c5bbd02dcd4f2f1cef",
              "IPY_MODEL_f5c05b48d3954cdf9d9bba3c031072f4"
            ]
          }
        },
        "6c47f0ac34aa42aaba0162c6b2fa6589": {
          "model_module": "@jupyter-widgets/base",
          "model_name": "LayoutModel",
          "state": {
            "_view_name": "LayoutView",
            "grid_template_rows": null,
            "right": null,
            "justify_content": null,
            "_view_module": "@jupyter-widgets/base",
            "overflow": null,
            "_model_module_version": "1.2.0",
            "_view_count": null,
            "flex_flow": null,
            "width": null,
            "min_width": null,
            "border": null,
            "align_items": null,
            "bottom": null,
            "_model_module": "@jupyter-widgets/base",
            "top": null,
            "grid_column": null,
            "overflow_y": null,
            "overflow_x": null,
            "grid_auto_flow": null,
            "grid_area": null,
            "grid_template_columns": null,
            "flex": null,
            "_model_name": "LayoutModel",
            "justify_items": null,
            "grid_row": null,
            "max_height": null,
            "align_content": null,
            "visibility": null,
            "align_self": null,
            "height": null,
            "min_height": null,
            "padding": null,
            "grid_auto_rows": null,
            "grid_gap": null,
            "max_width": null,
            "order": null,
            "_view_module_version": "1.2.0",
            "grid_template_areas": null,
            "object_position": null,
            "object_fit": null,
            "grid_auto_columns": null,
            "margin": null,
            "display": null,
            "left": null
          }
        },
        "89ecf1dc6b6047c5bbd02dcd4f2f1cef": {
          "model_module": "@jupyter-widgets/controls",
          "model_name": "FloatProgressModel",
          "state": {
            "_view_name": "ProgressView",
            "style": "IPY_MODEL_8bc94308ea7b46728551fb3f1f32185d",
            "_dom_classes": [],
            "description": "100%",
            "_model_name": "FloatProgressModel",
            "bar_style": "success",
            "max": 7,
            "_view_module": "@jupyter-widgets/controls",
            "_model_module_version": "1.5.0",
            "value": 7,
            "_view_count": null,
            "_view_module_version": "1.5.0",
            "orientation": "horizontal",
            "min": 0,
            "description_tooltip": null,
            "_model_module": "@jupyter-widgets/controls",
            "layout": "IPY_MODEL_77eeafe8556f4fdfbcefcd8e7998f190"
          }
        },
        "f5c05b48d3954cdf9d9bba3c031072f4": {
          "model_module": "@jupyter-widgets/controls",
          "model_name": "HTMLModel",
          "state": {
            "_view_name": "HTMLView",
            "style": "IPY_MODEL_f2ece8f18bc54a34a047976e3dc4e784",
            "_dom_classes": [],
            "description": "",
            "_model_name": "HTMLModel",
            "placeholder": "​",
            "_view_module": "@jupyter-widgets/controls",
            "_model_module_version": "1.5.0",
            "value": " 7/7 [00:03&lt;00:00,  1.84it/s]",
            "_view_count": null,
            "_view_module_version": "1.5.0",
            "description_tooltip": null,
            "_model_module": "@jupyter-widgets/controls",
            "layout": "IPY_MODEL_0c711822997d4e2b9d0caf51e0d28bec"
          }
        },
        "8bc94308ea7b46728551fb3f1f32185d": {
          "model_module": "@jupyter-widgets/controls",
          "model_name": "ProgressStyleModel",
          "state": {
            "_view_name": "StyleView",
            "_model_name": "ProgressStyleModel",
            "description_width": "initial",
            "_view_module": "@jupyter-widgets/base",
            "_model_module_version": "1.5.0",
            "_view_count": null,
            "_view_module_version": "1.2.0",
            "bar_color": null,
            "_model_module": "@jupyter-widgets/controls"
          }
        },
        "77eeafe8556f4fdfbcefcd8e7998f190": {
          "model_module": "@jupyter-widgets/base",
          "model_name": "LayoutModel",
          "state": {
            "_view_name": "LayoutView",
            "grid_template_rows": null,
            "right": null,
            "justify_content": null,
            "_view_module": "@jupyter-widgets/base",
            "overflow": null,
            "_model_module_version": "1.2.0",
            "_view_count": null,
            "flex_flow": null,
            "width": null,
            "min_width": null,
            "border": null,
            "align_items": null,
            "bottom": null,
            "_model_module": "@jupyter-widgets/base",
            "top": null,
            "grid_column": null,
            "overflow_y": null,
            "overflow_x": null,
            "grid_auto_flow": null,
            "grid_area": null,
            "grid_template_columns": null,
            "flex": null,
            "_model_name": "LayoutModel",
            "justify_items": null,
            "grid_row": null,
            "max_height": null,
            "align_content": null,
            "visibility": null,
            "align_self": null,
            "height": null,
            "min_height": null,
            "padding": null,
            "grid_auto_rows": null,
            "grid_gap": null,
            "max_width": null,
            "order": null,
            "_view_module_version": "1.2.0",
            "grid_template_areas": null,
            "object_position": null,
            "object_fit": null,
            "grid_auto_columns": null,
            "margin": null,
            "display": null,
            "left": null
          }
        },
        "f2ece8f18bc54a34a047976e3dc4e784": {
          "model_module": "@jupyter-widgets/controls",
          "model_name": "DescriptionStyleModel",
          "state": {
            "_view_name": "StyleView",
            "_model_name": "DescriptionStyleModel",
            "description_width": "",
            "_view_module": "@jupyter-widgets/base",
            "_model_module_version": "1.5.0",
            "_view_count": null,
            "_view_module_version": "1.2.0",
            "_model_module": "@jupyter-widgets/controls"
          }
        },
        "0c711822997d4e2b9d0caf51e0d28bec": {
          "model_module": "@jupyter-widgets/base",
          "model_name": "LayoutModel",
          "state": {
            "_view_name": "LayoutView",
            "grid_template_rows": null,
            "right": null,
            "justify_content": null,
            "_view_module": "@jupyter-widgets/base",
            "overflow": null,
            "_model_module_version": "1.2.0",
            "_view_count": null,
            "flex_flow": null,
            "width": null,
            "min_width": null,
            "border": null,
            "align_items": null,
            "bottom": null,
            "_model_module": "@jupyter-widgets/base",
            "top": null,
            "grid_column": null,
            "overflow_y": null,
            "overflow_x": null,
            "grid_auto_flow": null,
            "grid_area": null,
            "grid_template_columns": null,
            "flex": null,
            "_model_name": "LayoutModel",
            "justify_items": null,
            "grid_row": null,
            "max_height": null,
            "align_content": null,
            "visibility": null,
            "align_self": null,
            "height": null,
            "min_height": null,
            "padding": null,
            "grid_auto_rows": null,
            "grid_gap": null,
            "max_width": null,
            "order": null,
            "_view_module_version": "1.2.0",
            "grid_template_areas": null,
            "object_position": null,
            "object_fit": null,
            "grid_auto_columns": null,
            "margin": null,
            "display": null,
            "left": null
          }
        },
        "b509d6ca93cf4403866d60d5bdfc739c": {
          "model_module": "@jupyter-widgets/controls",
          "model_name": "HBoxModel",
          "state": {
            "_view_name": "HBoxView",
            "_dom_classes": [],
            "_model_name": "HBoxModel",
            "_view_module": "@jupyter-widgets/controls",
            "_model_module_version": "1.5.0",
            "_view_count": null,
            "_view_module_version": "1.5.0",
            "box_style": "",
            "layout": "IPY_MODEL_ebea6be79f944872921cab8ebc015ff0",
            "_model_module": "@jupyter-widgets/controls",
            "children": [
              "IPY_MODEL_22c9e58220ce49469adaecf0facae203",
              "IPY_MODEL_897b8811876e4dc29490acb31d8aef92"
            ]
          }
        },
        "ebea6be79f944872921cab8ebc015ff0": {
          "model_module": "@jupyter-widgets/base",
          "model_name": "LayoutModel",
          "state": {
            "_view_name": "LayoutView",
            "grid_template_rows": null,
            "right": null,
            "justify_content": null,
            "_view_module": "@jupyter-widgets/base",
            "overflow": null,
            "_model_module_version": "1.2.0",
            "_view_count": null,
            "flex_flow": null,
            "width": null,
            "min_width": null,
            "border": null,
            "align_items": null,
            "bottom": null,
            "_model_module": "@jupyter-widgets/base",
            "top": null,
            "grid_column": null,
            "overflow_y": null,
            "overflow_x": null,
            "grid_auto_flow": null,
            "grid_area": null,
            "grid_template_columns": null,
            "flex": null,
            "_model_name": "LayoutModel",
            "justify_items": null,
            "grid_row": null,
            "max_height": null,
            "align_content": null,
            "visibility": null,
            "align_self": null,
            "height": null,
            "min_height": null,
            "padding": null,
            "grid_auto_rows": null,
            "grid_gap": null,
            "max_width": null,
            "order": null,
            "_view_module_version": "1.2.0",
            "grid_template_areas": null,
            "object_position": null,
            "object_fit": null,
            "grid_auto_columns": null,
            "margin": null,
            "display": null,
            "left": null
          }
        },
        "22c9e58220ce49469adaecf0facae203": {
          "model_module": "@jupyter-widgets/controls",
          "model_name": "FloatProgressModel",
          "state": {
            "_view_name": "ProgressView",
            "style": "IPY_MODEL_a60b592e7b1a4984afa338ec8a7ad18c",
            "_dom_classes": [],
            "description": "100%",
            "_model_name": "FloatProgressModel",
            "bar_style": "success",
            "max": 6,
            "_view_module": "@jupyter-widgets/controls",
            "_model_module_version": "1.5.0",
            "value": 6,
            "_view_count": null,
            "_view_module_version": "1.5.0",
            "orientation": "horizontal",
            "min": 0,
            "description_tooltip": null,
            "_model_module": "@jupyter-widgets/controls",
            "layout": "IPY_MODEL_ee73546a38e544b99e04cbe24b17bb7b"
          }
        },
        "897b8811876e4dc29490acb31d8aef92": {
          "model_module": "@jupyter-widgets/controls",
          "model_name": "HTMLModel",
          "state": {
            "_view_name": "HTMLView",
            "style": "IPY_MODEL_b96f51e74ff74db698bd9d6e128c12e7",
            "_dom_classes": [],
            "description": "",
            "_model_name": "HTMLModel",
            "placeholder": "​",
            "_view_module": "@jupyter-widgets/controls",
            "_model_module_version": "1.5.0",
            "value": " 6/6 [00:05&lt;00:00,  1.19it/s]",
            "_view_count": null,
            "_view_module_version": "1.5.0",
            "description_tooltip": null,
            "_model_module": "@jupyter-widgets/controls",
            "layout": "IPY_MODEL_04399f9c4c35461faf671814aad0ff7e"
          }
        },
        "a60b592e7b1a4984afa338ec8a7ad18c": {
          "model_module": "@jupyter-widgets/controls",
          "model_name": "ProgressStyleModel",
          "state": {
            "_view_name": "StyleView",
            "_model_name": "ProgressStyleModel",
            "description_width": "initial",
            "_view_module": "@jupyter-widgets/base",
            "_model_module_version": "1.5.0",
            "_view_count": null,
            "_view_module_version": "1.2.0",
            "bar_color": null,
            "_model_module": "@jupyter-widgets/controls"
          }
        },
        "ee73546a38e544b99e04cbe24b17bb7b": {
          "model_module": "@jupyter-widgets/base",
          "model_name": "LayoutModel",
          "state": {
            "_view_name": "LayoutView",
            "grid_template_rows": null,
            "right": null,
            "justify_content": null,
            "_view_module": "@jupyter-widgets/base",
            "overflow": null,
            "_model_module_version": "1.2.0",
            "_view_count": null,
            "flex_flow": null,
            "width": null,
            "min_width": null,
            "border": null,
            "align_items": null,
            "bottom": null,
            "_model_module": "@jupyter-widgets/base",
            "top": null,
            "grid_column": null,
            "overflow_y": null,
            "overflow_x": null,
            "grid_auto_flow": null,
            "grid_area": null,
            "grid_template_columns": null,
            "flex": null,
            "_model_name": "LayoutModel",
            "justify_items": null,
            "grid_row": null,
            "max_height": null,
            "align_content": null,
            "visibility": null,
            "align_self": null,
            "height": null,
            "min_height": null,
            "padding": null,
            "grid_auto_rows": null,
            "grid_gap": null,
            "max_width": null,
            "order": null,
            "_view_module_version": "1.2.0",
            "grid_template_areas": null,
            "object_position": null,
            "object_fit": null,
            "grid_auto_columns": null,
            "margin": null,
            "display": null,
            "left": null
          }
        },
        "b96f51e74ff74db698bd9d6e128c12e7": {
          "model_module": "@jupyter-widgets/controls",
          "model_name": "DescriptionStyleModel",
          "state": {
            "_view_name": "StyleView",
            "_model_name": "DescriptionStyleModel",
            "description_width": "",
            "_view_module": "@jupyter-widgets/base",
            "_model_module_version": "1.5.0",
            "_view_count": null,
            "_view_module_version": "1.2.0",
            "_model_module": "@jupyter-widgets/controls"
          }
        },
        "04399f9c4c35461faf671814aad0ff7e": {
          "model_module": "@jupyter-widgets/base",
          "model_name": "LayoutModel",
          "state": {
            "_view_name": "LayoutView",
            "grid_template_rows": null,
            "right": null,
            "justify_content": null,
            "_view_module": "@jupyter-widgets/base",
            "overflow": null,
            "_model_module_version": "1.2.0",
            "_view_count": null,
            "flex_flow": null,
            "width": null,
            "min_width": null,
            "border": null,
            "align_items": null,
            "bottom": null,
            "_model_module": "@jupyter-widgets/base",
            "top": null,
            "grid_column": null,
            "overflow_y": null,
            "overflow_x": null,
            "grid_auto_flow": null,
            "grid_area": null,
            "grid_template_columns": null,
            "flex": null,
            "_model_name": "LayoutModel",
            "justify_items": null,
            "grid_row": null,
            "max_height": null,
            "align_content": null,
            "visibility": null,
            "align_self": null,
            "height": null,
            "min_height": null,
            "padding": null,
            "grid_auto_rows": null,
            "grid_gap": null,
            "max_width": null,
            "order": null,
            "_view_module_version": "1.2.0",
            "grid_template_areas": null,
            "object_position": null,
            "object_fit": null,
            "grid_auto_columns": null,
            "margin": null,
            "display": null,
            "left": null
          }
        },
        "884fd42f01354d6f83f72f6304340143": {
          "model_module": "@jupyter-widgets/controls",
          "model_name": "HBoxModel",
          "state": {
            "_view_name": "HBoxView",
            "_dom_classes": [],
            "_model_name": "HBoxModel",
            "_view_module": "@jupyter-widgets/controls",
            "_model_module_version": "1.5.0",
            "_view_count": null,
            "_view_module_version": "1.5.0",
            "box_style": "",
            "layout": "IPY_MODEL_c283ae08c83f438c881dd51fe78a3b9b",
            "_model_module": "@jupyter-widgets/controls",
            "children": [
              "IPY_MODEL_802b1e12e66c4d91b5fdebdc60adb89f",
              "IPY_MODEL_9ef6c9363a9d4faab4e6e463a9e403ac"
            ]
          }
        },
        "c283ae08c83f438c881dd51fe78a3b9b": {
          "model_module": "@jupyter-widgets/base",
          "model_name": "LayoutModel",
          "state": {
            "_view_name": "LayoutView",
            "grid_template_rows": null,
            "right": null,
            "justify_content": null,
            "_view_module": "@jupyter-widgets/base",
            "overflow": null,
            "_model_module_version": "1.2.0",
            "_view_count": null,
            "flex_flow": null,
            "width": null,
            "min_width": null,
            "border": null,
            "align_items": null,
            "bottom": null,
            "_model_module": "@jupyter-widgets/base",
            "top": null,
            "grid_column": null,
            "overflow_y": null,
            "overflow_x": null,
            "grid_auto_flow": null,
            "grid_area": null,
            "grid_template_columns": null,
            "flex": null,
            "_model_name": "LayoutModel",
            "justify_items": null,
            "grid_row": null,
            "max_height": null,
            "align_content": null,
            "visibility": null,
            "align_self": null,
            "height": null,
            "min_height": null,
            "padding": null,
            "grid_auto_rows": null,
            "grid_gap": null,
            "max_width": null,
            "order": null,
            "_view_module_version": "1.2.0",
            "grid_template_areas": null,
            "object_position": null,
            "object_fit": null,
            "grid_auto_columns": null,
            "margin": null,
            "display": null,
            "left": null
          }
        },
        "802b1e12e66c4d91b5fdebdc60adb89f": {
          "model_module": "@jupyter-widgets/controls",
          "model_name": "FloatProgressModel",
          "state": {
            "_view_name": "ProgressView",
            "style": "IPY_MODEL_242e5a16034f4e8cb9bf18b6cf556fb5",
            "_dom_classes": [],
            "description": "100%",
            "_model_name": "FloatProgressModel",
            "bar_style": "success",
            "max": 1,
            "_view_module": "@jupyter-widgets/controls",
            "_model_module_version": "1.5.0",
            "value": 1,
            "_view_count": null,
            "_view_module_version": "1.5.0",
            "orientation": "horizontal",
            "min": 0,
            "description_tooltip": null,
            "_model_module": "@jupyter-widgets/controls",
            "layout": "IPY_MODEL_2746d7cc15594f42804d2bfc3254595d"
          }
        },
        "9ef6c9363a9d4faab4e6e463a9e403ac": {
          "model_module": "@jupyter-widgets/controls",
          "model_name": "HTMLModel",
          "state": {
            "_view_name": "HTMLView",
            "style": "IPY_MODEL_eb4e2dd5aa064d9eba762dbd8c520671",
            "_dom_classes": [],
            "description": "",
            "_model_name": "HTMLModel",
            "placeholder": "​",
            "_view_module": "@jupyter-widgets/controls",
            "_model_module_version": "1.5.0",
            "value": " 1/1 [00:04&lt;00:00,  4.90s/it]",
            "_view_count": null,
            "_view_module_version": "1.5.0",
            "description_tooltip": null,
            "_model_module": "@jupyter-widgets/controls",
            "layout": "IPY_MODEL_988196b9854d46e79162b42689c8a38a"
          }
        },
        "242e5a16034f4e8cb9bf18b6cf556fb5": {
          "model_module": "@jupyter-widgets/controls",
          "model_name": "ProgressStyleModel",
          "state": {
            "_view_name": "StyleView",
            "_model_name": "ProgressStyleModel",
            "description_width": "initial",
            "_view_module": "@jupyter-widgets/base",
            "_model_module_version": "1.5.0",
            "_view_count": null,
            "_view_module_version": "1.2.0",
            "bar_color": null,
            "_model_module": "@jupyter-widgets/controls"
          }
        },
        "2746d7cc15594f42804d2bfc3254595d": {
          "model_module": "@jupyter-widgets/base",
          "model_name": "LayoutModel",
          "state": {
            "_view_name": "LayoutView",
            "grid_template_rows": null,
            "right": null,
            "justify_content": null,
            "_view_module": "@jupyter-widgets/base",
            "overflow": null,
            "_model_module_version": "1.2.0",
            "_view_count": null,
            "flex_flow": null,
            "width": null,
            "min_width": null,
            "border": null,
            "align_items": null,
            "bottom": null,
            "_model_module": "@jupyter-widgets/base",
            "top": null,
            "grid_column": null,
            "overflow_y": null,
            "overflow_x": null,
            "grid_auto_flow": null,
            "grid_area": null,
            "grid_template_columns": null,
            "flex": null,
            "_model_name": "LayoutModel",
            "justify_items": null,
            "grid_row": null,
            "max_height": null,
            "align_content": null,
            "visibility": null,
            "align_self": null,
            "height": null,
            "min_height": null,
            "padding": null,
            "grid_auto_rows": null,
            "grid_gap": null,
            "max_width": null,
            "order": null,
            "_view_module_version": "1.2.0",
            "grid_template_areas": null,
            "object_position": null,
            "object_fit": null,
            "grid_auto_columns": null,
            "margin": null,
            "display": null,
            "left": null
          }
        },
        "eb4e2dd5aa064d9eba762dbd8c520671": {
          "model_module": "@jupyter-widgets/controls",
          "model_name": "DescriptionStyleModel",
          "state": {
            "_view_name": "StyleView",
            "_model_name": "DescriptionStyleModel",
            "description_width": "",
            "_view_module": "@jupyter-widgets/base",
            "_model_module_version": "1.5.0",
            "_view_count": null,
            "_view_module_version": "1.2.0",
            "_model_module": "@jupyter-widgets/controls"
          }
        },
        "988196b9854d46e79162b42689c8a38a": {
          "model_module": "@jupyter-widgets/base",
          "model_name": "LayoutModel",
          "state": {
            "_view_name": "LayoutView",
            "grid_template_rows": null,
            "right": null,
            "justify_content": null,
            "_view_module": "@jupyter-widgets/base",
            "overflow": null,
            "_model_module_version": "1.2.0",
            "_view_count": null,
            "flex_flow": null,
            "width": null,
            "min_width": null,
            "border": null,
            "align_items": null,
            "bottom": null,
            "_model_module": "@jupyter-widgets/base",
            "top": null,
            "grid_column": null,
            "overflow_y": null,
            "overflow_x": null,
            "grid_auto_flow": null,
            "grid_area": null,
            "grid_template_columns": null,
            "flex": null,
            "_model_name": "LayoutModel",
            "justify_items": null,
            "grid_row": null,
            "max_height": null,
            "align_content": null,
            "visibility": null,
            "align_self": null,
            "height": null,
            "min_height": null,
            "padding": null,
            "grid_auto_rows": null,
            "grid_gap": null,
            "max_width": null,
            "order": null,
            "_view_module_version": "1.2.0",
            "grid_template_areas": null,
            "object_position": null,
            "object_fit": null,
            "grid_auto_columns": null,
            "margin": null,
            "display": null,
            "left": null
          }
        }
      }
    },
    "accelerator": "GPU"
  },
  "cells": [
    {
      "cell_type": "markdown",
      "metadata": {
        "id": "view-in-github",
        "colab_type": "text"
      },
      "source": [
        "<a href=\"https://colab.research.google.com/github/farhanfuadabir/ASL-DataGlove/blob/main/Model__DL/Model__1D_CNN.ipynb\" target=\"_parent\"><img src=\"https://colab.research.google.com/assets/colab-badge.svg\" alt=\"Open In Colab\"/></a>"
      ]
    },
    {
      "cell_type": "markdown",
      "metadata": {
        "id": "TKz-06wTxKbt"
      },
      "source": [
        "# **Import** Data\n",
        "\n"
      ]
    },
    {
      "cell_type": "code",
      "metadata": {
        "colab": {
          "base_uri": "https://localhost:8080/"
        },
        "id": "PwXb5PMlaOyP",
        "outputId": "898db452-d6f5-44c3-b599-6c545cb6938d"
      },
      "source": [
        "!unzip -q /content/\\*.zip"
      ],
      "execution_count": 1,
      "outputs": [
        {
          "output_type": "stream",
          "text": [
            "\n",
            "7 archives were successfully processed.\n"
          ],
          "name": "stdout"
        }
      ]
    },
    {
      "cell_type": "markdown",
      "metadata": {
        "id": "V-PLhB0PxXM7"
      },
      "source": [
        "# **Load** Dependencies"
      ]
    },
    {
      "cell_type": "code",
      "metadata": {
        "id": "Erl7gSKzOqvW"
      },
      "source": [
        "import os\n",
        "import pandas as pd\n",
        "import numpy as np\n",
        "import scipy as sp\n",
        "import librosa as lb\n",
        "from joblib import load, dump\n",
        "from tqdm.notebook import tqdm\n",
        "from sklearn import preprocessing\n",
        "import matplotlib.pyplot as plt\n",
        "from keras.models import Sequential\n",
        "from keras.layers import Dense\n",
        "from keras.layers import Flatten\n",
        "from keras.layers import Dropout\n",
        "from keras.layers.convolutional import Conv1D\n",
        "from keras.layers.convolutional import MaxPooling1D\n",
        "from keras.utils import to_categorical"
      ],
      "execution_count": 2,
      "outputs": []
    },
    {
      "cell_type": "markdown",
      "metadata": {
        "id": "bu7-xHlEyrht"
      },
      "source": [
        "# **Constants**"
      ]
    },
    {
      "cell_type": "code",
      "metadata": {
        "colab": {
          "base_uri": "https://localhost:8080/"
        },
        "id": "QUXP-NlmmJjV",
        "outputId": "656c22f8-b732-4848-b001-8c10b0314b07"
      },
      "source": [
        "# Get user list\n",
        "# _, filenames, _ = next(os.walk(\"/content/Hand-Gesture-Recognition/ContinuousDataAcquisitionPython/Data_032021\"))\n",
        "# users = [os.path.splitext(x)[0] for x in filenames]\n",
        "# users = sorted(users, key=lambda x: (len(x), x))\n",
        "users = ['001', '002', '003', '004', '005', '006', '007']\n",
        "print(users)"
      ],
      "execution_count": 3,
      "outputs": [
        {
          "output_type": "stream",
          "text": [
            "['001', '002', '003', '004', '005', '006', '007']\n"
          ],
          "name": "stdout"
        }
      ]
    },
    {
      "cell_type": "code",
      "metadata": {
        "colab": {
          "base_uri": "https://localhost:8080/"
        },
        "id": "7cgj5QFqNlQL",
        "outputId": "bddffb99-df82-4724-eefd-5a656a56f389"
      },
      "source": [
        "# Indicate segmentLength, recorditeration according to the 'serialDataAcquisition_segmented.py' script\n",
        "segmentLength = 150\n",
        "recorditeration = 10\n",
        "\n",
        "# ColumnNames according to the 'serialDataAcquisition_segmented.py' script\n",
        "columnName = ['timestamp', 'user_id',\n",
        "              'flex_1', 'flex_2', 'flex_3', 'flex_4', 'flex_5',\n",
        "              'Qw', 'Qx', 'Qy', 'Qz',\n",
        "              'GYRx', 'GYRy', 'GYRz',\n",
        "              'ACCx', 'ACCy', 'ACCz',\n",
        "              'ACCx_body', 'ACCy_body', 'ACCz_body',\n",
        "              'ACCx_world', 'ACCy_world', 'ACCz_world']\n",
        "\n",
        "# gestures = get_gesture_names(userPath)\n",
        "gestures = ['a', 'b', 'c', 'd', 'e', 'f', 'g', 'h', 'i', 'j', 'k', 'l', 'm', \n",
        "            'n', 'o', 'p', 'q', 'r', 's', 't', 'u', 'v', 'w', 'x', 'y', 'z',\n",
        "            'bad', 'deaf', 'fine', 'good', 'goodbye', 'hello', 'hungry',\n",
        "            'me', 'no', 'please', 'sorry', 'thankyou', 'yes', 'you']\n",
        "\n",
        "print('Gesture List: ', gestures)\n",
        "print('Number of Gestures: ', len(gestures))\n",
        "\n",
        "label_encoder = preprocessing.LabelEncoder()\n",
        "label_encoder.fit(gestures)\n",
        "print(\"Number of Gestures Encoded: \", len(label_encoder.classes_))"
      ],
      "execution_count": 4,
      "outputs": [
        {
          "output_type": "stream",
          "text": [
            "Gesture List:  ['a', 'b', 'c', 'd', 'e', 'f', 'g', 'h', 'i', 'j', 'k', 'l', 'm', 'n', 'o', 'p', 'q', 'r', 's', 't', 'u', 'v', 'w', 'x', 'y', 'z', 'bad', 'deaf', 'fine', 'good', 'goodbye', 'hello', 'hungry', 'me', 'no', 'please', 'sorry', 'thankyou', 'yes', 'you']\n",
            "Number of Gestures:  40\n",
            "Number of Gestures Encoded:  40\n"
          ],
          "name": "stdout"
        }
      ]
    },
    {
      "cell_type": "markdown",
      "metadata": {
        "id": "3Uvv_C1Cxeuw"
      },
      "source": [
        "# **Load** Functions"
      ]
    },
    {
      "cell_type": "code",
      "metadata": {
        "id": "j3CLG4MFlc78"
      },
      "source": [
        "# Extract user list from the Dataset\n",
        "\n",
        "def get_user_list(userPath):\n",
        "  _, filenames, _ = next(os.walk(\"/content/Hand-Gesture-Recognition/ContinuousDataAcquisitionPython/Data_032021\"))\n",
        "  users = [os.path.splitext(x)[0] for x in filenames]\n",
        "  users = sorted(users, key=lambda x: (len(x), x))\n",
        "  \n",
        "  return users"
      ],
      "execution_count": 5,
      "outputs": []
    },
    {
      "cell_type": "code",
      "metadata": {
        "id": "TgmBj5EZT7vv"
      },
      "source": [
        "# Extract gesture names from the filenames\n",
        "\n",
        "def get_gesture_names(userPath):\n",
        "  _, _, filenames = next(os.walk(userPath))\n",
        "  gestures = [os.path.splitext(x)[0] for x in filenames]\n",
        "  gestures = sorted(gestures, key=lambda x: (len(x), x))\n",
        "\n",
        "  return gestures"
      ],
      "execution_count": 6,
      "outputs": []
    },
    {
      "cell_type": "code",
      "metadata": {
        "id": "I4VnjoAjqtF0"
      },
      "source": [
        "# Extract rolling median and rolling mean filters on each channel\n",
        "\n",
        "def apply_rolling_filters(path=''):\n",
        "\n",
        "  # SPIKE REMOVAL FOR ALL USERS -> ROLLING MEDIAN[3]\n",
        "  users = ['001', '002', '003', '004', '005', '006', '007']\n",
        "  channels = [\"flex_1\", \"flex_2\", \"flex_3\", \"flex_4\", \"flex_5\"]\n",
        "\n",
        "  gestures = ['a', 'b', 'c', 'd', 'e', 'f', 'g', 'h', 'i', 'j', 'k', 'l', 'm', \n",
        "              'n', 'o', 'p', 'q', 'r', 's', 't', 'u', 'v', 'w', 'x', 'y', 'z',\n",
        "              'bad', 'deaf', 'fine', 'good', 'goodbye', 'hello', 'hungry',\n",
        "              'me', 'no', 'please', 'sorry', 'thankyou', 'yes', 'you']\n",
        "\n",
        "  for user in users:\n",
        "    for gesture in gestures:\n",
        "      data = pd.read_csv(path + user + '/' + gesture + '.csv')\n",
        "      for mode in channels:\n",
        "        data[mode] = data[mode].rolling(3, center=True).median()\n",
        "        data = data.fillna(method='bfill')\n",
        "        data = data.fillna(method='ffill')\n",
        "      data.to_csv(path + user + '/' + gesture + '.csv', index=False)\n",
        "\n",
        "\n",
        "  # SMOOTHING FOR USER 2 ('a'-'m') -> ROLLING AVERAGE[10]\n",
        "  users = ['002']\n",
        "  channels = [\"flex_1\", \"flex_2\", \"flex_3\", \"flex_4\", \"flex_5\"]\n",
        "\n",
        "  gestures = ['a', 'b', 'c', 'd', 'e', 'f', 'g', 'h', 'i', 'j', 'k', 'l', 'm']\n",
        "\n",
        "  for user in users:\n",
        "    for gesture in gestures:\n",
        "      data = pd.read_csv(path + user + '/' + gesture + '.csv')\n",
        "      for mode in channels:\n",
        "        data[mode] = data[mode].rolling(10, center=True).mean()\n",
        "        data = data.fillna(method='bfill')\n",
        "        data = data.fillna(method='ffill')\n",
        "      data.to_csv(path + user + '/' + gesture + '.csv', index=False)\n",
        "\n",
        "\n",
        "  # SMOOTHING FOR USER 4 -> ROLLING AVERAGE[10]\n",
        "  users = ['004']\n",
        "  channels = [\"flex_1\", \"flex_2\", \"flex_3\", \"flex_4\", \"flex_5\"]\n",
        "\n",
        "  gestures = ['a', 'b', 'c', 'd', 'e', 'f', 'g', 'h', 'i', 'j', 'k', 'l', 'm', \n",
        "              'n', 'o', 'p', 'q', 'r', 's', 't', 'u', 'v', 'w', 'x', 'y', 'z',\n",
        "              'bad', 'deaf', 'fine', 'good', 'goodbye', 'hello', 'hungry',\n",
        "              'me', 'no', 'please', 'sorry', 'thankyou', 'yes', 'you']\n",
        "\n",
        "  for user in users:\n",
        "    for gesture in gestures:\n",
        "      data = pd.read_csv(path + user + '/' + gesture + '.csv')\n",
        "      for mode in channels:\n",
        "        data[mode] = data[mode].rolling(10, center=True).mean()\n",
        "        data = data.fillna(method='bfill')\n",
        "        data = data.fillna(method='ffill')\n",
        "      data.to_csv(path + user + '/' + gesture + '.csv', index=False)\n",
        "\n",
        "\n",
        "  # SMOOTHING FOR USER 6 (ASL words) -> ROLLING AVERAGE[10]\n",
        "  users = ['006']\n",
        "  channels = [\"flex_1\", \"flex_2\", \"flex_3\", \"flex_4\", \"flex_5\"]\n",
        "\n",
        "  gestures = ['bad', 'deaf', 'fine', 'good', 'goodbye', 'hello', 'hungry',\n",
        "              'me', 'no', 'please', 'sorry', 'thankyou', 'yes', 'you']\n",
        "\n",
        "  for user in users:\n",
        "    for gesture in gestures:\n",
        "      data = pd.read_csv(path + user + '/' + gesture + '.csv')\n",
        "      for mode in channels:\n",
        "        data[mode] = data[mode].rolling(10, center=True).mean()\n",
        "        data = data.fillna(method='bfill')\n",
        "        data = data.fillna(method='ffill')\n",
        "      data.to_csv(path + user + '/' + gesture + '.csv', index=False)\n",
        "\n",
        "\n",
        "  # SMOOTHING FOR ALL USERS -> ROLLING AVERAGE[10]\n",
        "  users = ['001', '002', '003', '004', '005', '006', '007']\n",
        "  channels = [\"flex_1\", \"flex_2\", \"flex_3\", \"flex_4\", \"flex_5\"]\n",
        "\n",
        "  gestures = ['a', 'b', 'c', 'd', 'e', 'f', 'g', 'h', 'i', 'j', 'k', 'l', 'm', \n",
        "              'n', 'o', 'p', 'q', 'r', 's', 't', 'u', 'v', 'w', 'x', 'y', 'z',\n",
        "              'bad', 'deaf', 'fine', 'good', 'goodbye', 'hello', 'hungry',\n",
        "              'me', 'no', 'please', 'sorry', 'thankyou', 'yes', 'you']\n",
        "\n",
        "  for user in users:\n",
        "    for gesture in gestures:\n",
        "      data = pd.read_csv(path + user + '/' + gesture + '.csv')\n",
        "      for mode in channels:\n",
        "        data[mode] = data[mode].rolling(10, center=True).mean()\n",
        "        data = data.fillna(method='bfill')\n",
        "        data = data.fillna(method='ffill')\n",
        "      data.to_csv(path + user + '/' + gesture + '.csv', index=False)"
      ],
      "execution_count": 7,
      "outputs": []
    },
    {
      "cell_type": "code",
      "metadata": {
        "id": "ViqjdzyYUFEn"
      },
      "source": [
        "# Extract Channels From Raw Dataset\n",
        "\n",
        "def extract_channels(columns, segmentLength, recorditeration, \n",
        "                     userPath, storePath, writeFormat='JOBLIB'):\n",
        "  # Make a directory named 'Channels' in the 'storePath' if there is none already\n",
        "  if not os.path.isdir(storePath):\n",
        "    currentPath = os.getcwd()\n",
        "    os.mkdir(currentPath + '/' + storePath)\n",
        "    print(\"Created Folder: \", currentPath + '/' + storePath)\n",
        "\n",
        "  if 'user_id' in columns:\n",
        "    columns.remove('user_id')\n",
        "\n",
        "  for file in gestures:\n",
        "    # Make a directory after the gesture name in the 'Channels' folder, if there is none already\n",
        "    if not os.path.isdir(storePath + '/' + file):\n",
        "      currentPath = os.getcwd()\n",
        "      os.mkdir(currentPath + '/' + storePath + '/' + file)\n",
        "\n",
        "    source = pd.read_csv(userPath + '/' + file + '.csv')    \n",
        "    \n",
        "    for channel in columns:\n",
        "      temp = source[channel].to_numpy()    \n",
        "      arr = np.expand_dims(temp, axis=0).reshape(-1,segmentLength)\n",
        "      if writeFormat.lower() == 'joblib':\n",
        "        dump(arr, storePath + '/' + file + '/' + channel + '.joblib')\n",
        "      elif writeFormat.lower() == 'csv':\n",
        "        np.savetxt(storePath + '/' + file + '/' + channel + '.csv', arr, delimiter=\",\")\n",
        "      else:\n",
        "        raise ValueError(\"Invalid WriteFormat. This function can only write 'CSV' or 'JOBLIB'.\")\n",
        "  \n",
        "  compile_channels(columns, storePath)\n",
        "\n",
        "\n",
        "def compile_channels(columnName, storePath, verbose=False):\n",
        "  for channel in columnName:\n",
        "    df = pd.DataFrame()\n",
        "\n",
        "    for file in gestures:\n",
        "      temp = load(storePath + '/' + file + '/' + channel + '.joblib')\n",
        "      temp = pd.DataFrame(temp)\n",
        "      #to add label with the data\n",
        "      temp = temp.assign(label=file)   \n",
        "      df = df.append(temp, ignore_index=True)\n",
        "    \n",
        "    if verbose == True:\n",
        "      print('Processing ', channel, '... Done | shape: ', df.shape)\n",
        "    \n",
        "    if not os.path.isdir(storePath + '/Channels'):\n",
        "      currentPath = os.getcwd()\n",
        "      os.mkdir(currentPath + '/' + storePath + '/Channels')\n",
        "    \n",
        "    dump(df['label'], storePath + '/label' + '.joblib')\n",
        "    df = df.drop(['label'], axis=1).to_numpy()\n",
        "    dump(df, storePath + '/Channels/' + channel + '.joblib')"
      ],
      "execution_count": 8,
      "outputs": []
    },
    {
      "cell_type": "code",
      "metadata": {
        "id": "SezR3p0FBsfZ"
      },
      "source": [
        "# Scale Channels Per User within (0, 1)\n",
        "\n",
        "def scale_channels_per_user(users, channels, gestures, path=''):\n",
        "\n",
        "  print(users)\n",
        "  print(channels)\n",
        "  print(gestures)\n",
        "\n",
        "  max = [[] for i in range(len(users))]\n",
        "  min = [[] for i in range(len(users))]\n",
        "\n",
        "  max_gesture = [[] for i in range(len(users))]\n",
        "  min_gesture = [[] for i in range(len(users))]\n",
        "  for idx_user, user in enumerate(users):\n",
        "    for channel in channels:\n",
        "      max_array = np.zeros([recorditeration, segmentLength])\n",
        "      min_array = np.full((recorditeration, segmentLength), 1000) \n",
        "      for gesture in gestures:\n",
        "        data = load(path + user + '/Processed/' + gesture + '/' + channel + '.joblib')\n",
        "        if np.max(data) > np.max(max_array):\n",
        "          max_temp = gesture\n",
        "        if np.min(data) < np.min(min_array):\n",
        "          min_temp = gesture\n",
        "        max_array = np.maximum(max_array, data)\n",
        "        min_array = np.minimum(min_array, data)\n",
        "      max[idx_user].append(np.max(max_array))\n",
        "      min[idx_user].append(np.min(min_array))\n",
        "      max_gesture[idx_user].append(max_temp)\n",
        "      min_gesture[idx_user].append(min_temp)\n",
        "\n",
        "  for idx_user, user in enumerate(users):\n",
        "    for idx_channel, channel in enumerate(channels):\n",
        "      for gesture in gestures:\n",
        "        data = load(path + user + '/Processed/' + gesture + '/' + channel + '.joblib')\n",
        "        data = (data - min[idx_user][idx_channel]) / (max[idx_user][idx_channel] - min[idx_user][idx_channel])\n",
        "        dump(data, path + user + '/Processed/' + gesture + '/' + channel + '.joblib')\n",
        "\n",
        "  print(\"max array: \", max)\n",
        "  print(\"max at gestures: \", max_gesture)\n",
        "  print(\"max array length: \", len(max))\n",
        "  print(\"min array: \", min)\n",
        "  print(\"min at gestures: \", min_gesture)\n",
        "  print(\"min array length: \", len(min))"
      ],
      "execution_count": 9,
      "outputs": []
    },
    {
      "cell_type": "markdown",
      "metadata": {
        "id": "aTed41xMUhNB"
      },
      "source": [
        "# **Load** Feature Extraction Functions"
      ]
    },
    {
      "cell_type": "code",
      "metadata": {
        "id": "Hqb55Vm5UgwN"
      },
      "source": [
        "# def correlation(x):\n",
        "#   cor = []\n",
        "#   for n in range(x.shape[0]):\n",
        "#     cor.append(np.correlate(x[n, :], x[n, :])[0])\n",
        "#   return np.array(cor)\n",
        "# #\n",
        "\n",
        "# def mean_crossing_rate(x):\n",
        "#   mcr = []\n",
        "#   for n in range(x.shape[0]):\n",
        "#     mcr.append(lb.feature.zero_crossing_rate(x[n, :] - np.mean(x[n, :]))[0, 0])\n",
        "#   return np.array(mcr)\n",
        "\n",
        "\n",
        "# def get_entropy(x, axis = 1):\n",
        "#   x = x / np.sum(x, axis = axis, keepdims=True)\n",
        "#   entropy = np.sum(sp.special.entr(x), axis = axis)\n",
        "#   return entropy\n",
        "\n",
        "\n",
        "# def number_of_peaks(x):\n",
        "#   npk = []\n",
        "#   for n in range(x.shape[0]):\n",
        "#     thres = (np.max(x[n, :]) / 3)\n",
        "#     peaks, _ = sp.signal.find_peaks(x[n, :], thres)\n",
        "#     npk.append(len(peaks))\n",
        "#   return np.array(npk, dtype=float)\n",
        "\n",
        "\n",
        "# def get_stat_features(x, axis=1, prefix=''):\n",
        "\n",
        "#   # print('Calculating Features...', end = \" \")\n",
        "#   min = np.min(x, axis = axis)\n",
        "#   max = np.max(x, axis = axis)\n",
        "#   std = np.std(x, axis = axis)\n",
        "#   avg = np.mean(x, axis = axis)\n",
        "#   var = np.var(x, axis = axis)\n",
        "#   ptp = np.ptp(x, axis = axis)\n",
        "#   mrc = np.max(np.diff(x, axis = axis), axis = axis)\n",
        "#   arc = np.mean(np.diff(x, axis = axis), axis = axis)\n",
        "#   src = np.std(np.diff(x, axis = axis), axis = axis)\n",
        "#   mad = sp.stats.median_absolute_deviation(x, axis = axis)\n",
        "#   iqr = sp.stats.iqr(x, axis = axis)\n",
        "#   cor = correlation(x)\n",
        "#   mcr = mean_crossing_rate(x)\n",
        "#   rms = np.sum(np.square(x), axis = axis)\n",
        "#   # print('Done!')\n",
        "  \n",
        "#   feature_names = ['min', 'max', 'std', 'avg', 'var', \n",
        "#                    'ptp', 'mrc', 'arc', 'src', 'mad', \n",
        "#                    'iqr', 'cor', 'mcr', 'rms']\n",
        "#   columnName = [prefix + '_' + sub for sub in feature_names]\n",
        "\n",
        "#   stat_features = pd.DataFrame(np.stack((min, max, std, avg, \n",
        "#                                          var, ptp, mrc, arc, \n",
        "#                                          src, mad, iqr, cor, \n",
        "#                                          mcr, rms), axis=1), columns=columnName)\n",
        "\n",
        "#   return stat_features\n",
        " \n",
        "\n",
        "# def get_freq_features(x, axis=1, fs=100, nperseg=150, prefix=''):\n",
        "\n",
        "#   # print('Calculating Features...', end = \" \")\n",
        "#   freq, psd = sp.signal.welch(x, fs, nperseg = nperseg, axis = axis)\n",
        "#   mpw = np.max(psd, axis = axis)\n",
        "#   ent = get_entropy(psd, axis = axis)\n",
        "#   ctf = np.divide(np.sum((freq * psd), axis = axis), np.sum(psd, axis = axis))\n",
        "#   mxf = np.argmax(psd, axis = axis)\n",
        "#   enr = np.sum(np.square(psd), axis = axis) / nperseg\n",
        "#   skw = sp.stats.skew(x, axis = axis)\n",
        "#   kut = sp.stats.kurtosis(x, axis = axis)\n",
        "#   npk = number_of_peaks(psd)\n",
        "#   # print('Done!')\n",
        "\n",
        "#   feature_names = ['mpw', 'ent', 'ctf', 'mxf', 'enr', 'skw', 'kut', 'npk']\n",
        "#   columnName = [prefix + '_' + sub for sub in feature_names]\n",
        "\n",
        "#   freq_features = pd.DataFrame(np.stack((mpw, ent, ctf, mxf, enr, skw, \n",
        "#                                          kut, npk), axis=1), columns=columnName)\n",
        "\n",
        "#   return freq_features\n",
        "\n",
        "\n",
        "# def get_mutual_features(x, y, z, axis=1, nperseg=150, prefix=''):\n",
        "#   cxy = []\n",
        "#   cxz = []\n",
        "#   cyz = []\n",
        "#   vxy = []\n",
        "#   vxz = []\n",
        "#   vyz = []\n",
        "#   # print('Calculating Features...', end = \" \")\n",
        "#   for n in range(x.shape[0]):\n",
        "#     cxy.append(np.corrcoef(x[n, :].ravel(), y[n, :].ravel())[0, 1])\n",
        "#     cxz.append(np.corrcoef(x[n, :].ravel(), z[n, :].ravel())[0, 1])\n",
        "#     cyz.append(np.corrcoef(y[n, :].ravel(), z[n, :].ravel())[0, 1])\n",
        "#     vxy.append(np.cov(x[n, :].ravel(), y[n, :].ravel())[0, 1])\n",
        "#     vxz.append(np.cov(x[n, :].ravel(), z[n, :].ravel())[0, 1])\n",
        "#     vyz.append(np.cov(y[n, :].ravel(), z[n, :].ravel())[0, 1])\n",
        "#   cxy = np.array(cxy)\n",
        "#   cxz = np.array(cxz)\n",
        "#   cyz = np.array(cyz)\n",
        "#   vxy = np.array(vxy)\n",
        "#   vxz = np.array(vxz)\n",
        "#   vyz = np.array(vyz)\n",
        "#   sma = (np.trapz(x, axis = axis) + np.trapz(x, axis = axis) + np.trapz(x, axis = axis)) / nperseg\n",
        "#   # print('Done!')\n",
        "\n",
        "#   feature_names = ['cxy', 'cxz', 'cyz', 'vxy', 'vxz', 'vyz', 'sma']\n",
        "#   columnName = [prefix + '_' + sub for sub in feature_names]\n",
        "\n",
        "#   mutual_features = pd.DataFrame(np.stack((cxy, cxz, cyz, vxy, vxz, vyz, sma), \n",
        "#                                         axis=1), columns=columnName)\n",
        "\n",
        "#   return mutual_features\n",
        "\n",
        "\n",
        "# def get_velocity(x, axis = 1, nperseg = 150):\n",
        "#   return np.trapz(x, axis = axis) / nperseg\n",
        "\n",
        "\n",
        "# def get_fft_coefs(x, fs = 100, n = 20, axis = 1):\n",
        "#   # print('Calculating Features...', end = \" \")\n",
        "#   _, psd = sp.signal.welch(x, fs, nperseg = n, axis = axis)\n",
        "#   # print('Done!')\n",
        "#   return psd"
      ],
      "execution_count": 10,
      "outputs": []
    },
    {
      "cell_type": "code",
      "metadata": {
        "id": "modXEnYLwqkm"
      },
      "source": [
        "# def extract_features(storePath):\n",
        "\n",
        "#   FLEX1 = load(storePath + '/Channels/flex_1.joblib')\n",
        "#   FLEX2 = load(storePath + '/Channels/flex_2.joblib')\n",
        "#   FLEX3 = load(storePath + '/Channels/flex_3.joblib')\n",
        "#   FLEX4 = load(storePath + '/Channels/flex_4.joblib')\n",
        "#   FLEX5 = load(storePath + '/Channels/flex_5.joblib')\n",
        "\n",
        "#   ACCx = load(storePath + '/Channels/ACCx_world.joblib')\n",
        "#   ACCy = load(storePath + '/Channels/ACCy_world.joblib')\n",
        "#   ACCz = load(storePath + '/Channels/ACCz_world.joblib')\n",
        "\n",
        "#   ACCm = np.sqrt(ACCx**2 + ACCy**2 + ACCz**2)\n",
        "#   dump(ACCm, storePath + '/Channels/ACCm_world.joblib')\n",
        "\n",
        "#   GYRx = load(storePath + '/Channels/GYRx.joblib')\n",
        "#   GYRy = load(storePath + '/Channels/GYRy.joblib')\n",
        "#   GYRz = load(storePath + '/Channels/GYRz.joblib')\n",
        "\n",
        "#   GYRm = np.sqrt(GYRx**2 + GYRy**2 + GYRz**2)\n",
        "#   dump(GYRm, storePath + '/Channels/GYRm.joblib')\n",
        "\n",
        "#   stat_ACCx = get_stat_features(ACCx, axis=1, prefix=\"ACCx\")\n",
        "#   stat_ACCy = get_stat_features(ACCy, prefix=\"ACCy\")\n",
        "#   stat_ACCz = get_stat_features(ACCz, prefix=\"ACCz\")\n",
        "#   stat_ACCm = get_stat_features(ACCm, prefix=\"ACCm\")\n",
        "#   stat_GYRx = get_stat_features(GYRx, prefix=\"GYRx\")\n",
        "#   stat_GYRy = get_stat_features(GYRy, prefix=\"GYRy\")\n",
        "#   stat_GYRz = get_stat_features(GYRz, prefix=\"GYRz\")\n",
        "#   stat_GYRm = get_stat_features(GYRm, prefix=\"GYRm\")\n",
        "#   stat_FLEX1 = get_stat_features(FLEX1, prefix=\"FLEX1\")\n",
        "#   stat_FLEX2 = get_stat_features(FLEX2, prefix=\"FLEX2\")\n",
        "#   stat_FLEX3 = get_stat_features(FLEX3, prefix=\"FLEX3\")\n",
        "#   stat_FLEX4 = get_stat_features(FLEX4, prefix=\"FLEX4\")\n",
        "#   stat_FLEX5 = get_stat_features(FLEX5, prefix=\"FLEX5\")\n",
        "\n",
        "#   freq_ACCx = get_freq_features(ACCx, prefix=\"ACCx\")\n",
        "#   freq_ACCy = get_freq_features(ACCy, prefix=\"ACCy\")\n",
        "#   freq_ACCz = get_freq_features(ACCz, prefix=\"ACCz\")\n",
        "#   freq_ACCm = get_freq_features(ACCm, prefix=\"ACCm\")\n",
        "#   freq_GYRx = get_freq_features(GYRx, prefix=\"GYRx\")\n",
        "#   freq_GYRy = get_freq_features(GYRy, prefix=\"GYRy\")\n",
        "#   freq_GYRz = get_freq_features(GYRz, prefix=\"GYRz\")\n",
        "#   freq_GYRm = get_freq_features(GYRm, prefix=\"GYRm\")\n",
        "#   freq_FLEX1 = get_freq_features(FLEX1, prefix=\"FLEX1\")\n",
        "#   freq_FLEX2 = get_freq_features(FLEX2, prefix=\"FLEX2\")\n",
        "#   freq_FLEX3 = get_freq_features(FLEX3, prefix=\"FLEX3\")\n",
        "#   freq_FLEX4 = get_freq_features(FLEX4, prefix=\"FLEX4\")\n",
        "#   freq_FLEX5 = get_freq_features(FLEX5, prefix=\"FLEX5\")\n",
        "\n",
        "#   mutual_ACC = get_mutual_features(ACCx, ACCy, ACCz, prefix='ACC')\n",
        "#   mutual_GYR = get_mutual_features(GYRx, GYRy, GYRz, prefix='GYR')\n",
        "\n",
        "#   X = pd.concat([stat_ACCx, stat_ACCy, stat_ACCz, stat_ACCm, \n",
        "#                 stat_GYRx, stat_GYRy, stat_GYRz, stat_GYRm,\n",
        "#                 stat_FLEX1, stat_FLEX2, stat_FLEX3, stat_FLEX4, stat_FLEX5,\n",
        "#                 freq_ACCx, freq_ACCy, freq_ACCz, freq_ACCm,\n",
        "#                 freq_GYRx, freq_GYRy, freq_GYRz, freq_GYRm,\n",
        "#                 freq_FLEX1, freq_FLEX2, freq_FLEX3, freq_FLEX4, freq_FLEX5,\n",
        "#                 mutual_ACC, mutual_GYR], axis=1)\n",
        "\n",
        "#   return X\n"
      ],
      "execution_count": 11,
      "outputs": []
    },
    {
      "cell_type": "markdown",
      "metadata": {
        "id": "08yD2mDgFiuC"
      },
      "source": [
        "# **Preprocess** and **Extract** Channels "
      ]
    },
    {
      "cell_type": "code",
      "metadata": {
        "colab": {
          "base_uri": "https://localhost:8080/",
          "height": 321,
          "referenced_widgets": [
            "e858cc97ced84875b523de8034ca01d8",
            "c8d5a927a67b4bd4a6795b119558f810",
            "17161bbbfed844d2a2473e85c68fc2df",
            "b2fd5800f7bd4ad19fdcf122559e4ad5",
            "fa98127094fb49e78d8f936e47b537c9",
            "9f0fd16884444661a3448fb774320921",
            "a2b5312a9c514f75b8990db512cdd0d0",
            "73bd36d103824a5cb72abbfe730595b9"
          ]
        },
        "id": "LXQO46PMPBEe",
        "outputId": "4ae2abdb-df2f-4c97-87e8-7243e3496837"
      },
      "source": [
        "# Apply Rolling Filters\n",
        "print(\"Applying Rolling Filters...\", end='')\n",
        "apply_rolling_filters()\n",
        "print(\"Done\\n\\n\")\n",
        "\n",
        "\n",
        "# Extract Channels\n",
        "print(\"Extracting Channels...\\n\")\n",
        "\n",
        "for user in tqdm(users):\n",
        "  userPath = user\n",
        "  storePath = userPath + '/' + 'Processed'\n",
        "  extract_channels(columnName, segmentLength, recorditeration, \n",
        "                   userPath=userPath, storePath=storePath, writeFormat='joblib')\n",
        "print(\"Done\\n\\n\")\n",
        "\n",
        "\n",
        "# # Scale Channels\n",
        "# print(\"Applying Scaling...\", end='')\n",
        "# scale_channels_per_user(users=users, channels=['flex_1', 'flex_2', 'flex_3', \n",
        "#                                          'flex_4', 'flex_5'], gestures=gestures)\n",
        "# print(\"Done\\n\\n\")\n"
      ],
      "execution_count": 12,
      "outputs": [
        {
          "output_type": "stream",
          "text": [
            "Applying Rolling Filters...Done\n",
            "\n",
            "\n",
            "Extracting Channels...\n",
            "\n"
          ],
          "name": "stdout"
        },
        {
          "output_type": "display_data",
          "data": {
            "application/vnd.jupyter.widget-view+json": {
              "model_id": "e858cc97ced84875b523de8034ca01d8",
              "version_minor": 0,
              "version_major": 2
            },
            "text/plain": [
              "HBox(children=(FloatProgress(value=0.0, max=7.0), HTML(value='')))"
            ]
          },
          "metadata": {
            "tags": []
          }
        },
        {
          "output_type": "stream",
          "text": [
            "Created Folder:  /content/001/Processed\n",
            "Created Folder:  /content/002/Processed\n",
            "Created Folder:  /content/003/Processed\n",
            "Created Folder:  /content/004/Processed\n",
            "Created Folder:  /content/005/Processed\n",
            "Created Folder:  /content/006/Processed\n",
            "Created Folder:  /content/007/Processed\n",
            "\n",
            "Done\n",
            "\n",
            "\n"
          ],
          "name": "stdout"
        }
      ]
    },
    {
      "cell_type": "code",
      "metadata": {
        "id": "O8yoamtae1xC"
      },
      "source": [
        " \n",
        "# load a list of files and return as a 3d numpy array\n",
        "def stack_channels(filenames, path):\n",
        "\tloaded = list()\n",
        "\tfor name in filenames:\n",
        "\t\tdata = load(path + name)\n",
        "\t\tloaded.append(data)\n",
        "\t# stack group so that features are the 3rd dimension\n",
        "\tloaded = np.dstack(loaded)\n",
        "\treturn loaded\n",
        " \n",
        "# load a dataset group, such as train or test\n",
        "def load_dataset(path):\n",
        "  channel_path = 'Channels/'\n",
        "  # load all 3 files as a single array\n",
        "  # filenames = ['ACCx_world.joblib', 'ACCy_world.joblib', 'ACCz_world.joblib', \n",
        "  #              'GYRx.joblib', 'GYRy.joblib', 'GYRz.joblib', \n",
        "  #              'flex_1.joblib', 'flex_2.joblib', 'flex_3.joblib', \n",
        "  #              'flex_4.joblib', 'flex_5.joblib']\n",
        "  filenames = ['flex_1.joblib', 'flex_2.joblib', 'flex_3.joblib', \n",
        "               'flex_4.joblib', 'flex_5.joblib']\n",
        "  # load input data\n",
        "  X = stack_channels(filenames, path + channel_path)\n",
        "  # load class output\n",
        "  y = load(path + 'label.joblib').to_numpy()\n",
        "  # one-hot-encode labels\n",
        "  y = to_categorical(label_encoder.transform(y))\n",
        "  return X, y\n"
      ],
      "execution_count": 66,
      "outputs": []
    },
    {
      "cell_type": "markdown",
      "metadata": {
        "id": "2-YbaPSpnrFL"
      },
      "source": [
        "# **Preprocess** and **Extract** Channels "
      ]
    },
    {
      "cell_type": "code",
      "metadata": {
        "colab": {
          "base_uri": "https://localhost:8080/",
          "height": 117,
          "referenced_widgets": [
            "5816c7d86ec44e5daac98d1b3a1be42e",
            "6c47f0ac34aa42aaba0162c6b2fa6589",
            "89ecf1dc6b6047c5bbd02dcd4f2f1cef",
            "f5c05b48d3954cdf9d9bba3c031072f4",
            "8bc94308ea7b46728551fb3f1f32185d",
            "77eeafe8556f4fdfbcefcd8e7998f190",
            "f2ece8f18bc54a34a047976e3dc4e784",
            "0c711822997d4e2b9d0caf51e0d28bec"
          ]
        },
        "id": "ZNLDo_dm0WmH",
        "outputId": "ef20f40c-52ff-4d6f-c9b3-868bcb82e5e6"
      },
      "source": [
        "# Extract Features\n",
        "print(\"Extracting Channels and Labels...\\n\")\n",
        "channel_sets = []\n",
        "label_sets = []\n",
        "\n",
        "for user in tqdm(users):\n",
        "  channel_path = '/content/' + user + '/Processed/'\n",
        "  X_temp, y_temp = load_dataset(channel_path)\n",
        "  channel_sets.append(X_temp)\n",
        "  label_sets.append(y_temp)\n",
        "print(\"Done\")"
      ],
      "execution_count": 67,
      "outputs": [
        {
          "output_type": "stream",
          "text": [
            "Extracting Channels and Labels...\n",
            "\n"
          ],
          "name": "stdout"
        },
        {
          "output_type": "display_data",
          "data": {
            "application/vnd.jupyter.widget-view+json": {
              "model_id": "5816c7d86ec44e5daac98d1b3a1be42e",
              "version_minor": 0,
              "version_major": 2
            },
            "text/plain": [
              "HBox(children=(FloatProgress(value=0.0, max=7.0), HTML(value='')))"
            ]
          },
          "metadata": {
            "tags": []
          }
        },
        {
          "output_type": "stream",
          "text": [
            "\n",
            "Done\n"
          ],
          "name": "stdout"
        }
      ]
    },
    {
      "cell_type": "code",
      "metadata": {
        "colab": {
          "base_uri": "https://localhost:8080/"
        },
        "id": "OYA-VztT1GH_",
        "outputId": "41a16f7b-9691-4747-87ab-fa1d7dd0a989"
      },
      "source": [
        "# test_users = ['002', '004', '007']\n",
        "test_users = ['001']\n",
        "train_users = [x for x in users if x not in test_users]\n",
        "\n",
        "print(\"Train Set User ID: \", train_users)\n",
        "print(\"Test Set User ID: \", test_users)"
      ],
      "execution_count": 68,
      "outputs": [
        {
          "output_type": "stream",
          "text": [
            "Train Set User ID:  ['002', '003', '004', '005', '006', '007']\n",
            "Test Set User ID:  ['001']\n"
          ],
          "name": "stdout"
        }
      ]
    },
    {
      "cell_type": "code",
      "metadata": {
        "colab": {
          "base_uri": "https://localhost:8080/",
          "height": 251,
          "referenced_widgets": [
            "b509d6ca93cf4403866d60d5bdfc739c",
            "ebea6be79f944872921cab8ebc015ff0",
            "22c9e58220ce49469adaecf0facae203",
            "897b8811876e4dc29490acb31d8aef92",
            "a60b592e7b1a4984afa338ec8a7ad18c",
            "ee73546a38e544b99e04cbe24b17bb7b",
            "b96f51e74ff74db698bd9d6e128c12e7",
            "04399f9c4c35461faf671814aad0ff7e",
            "884fd42f01354d6f83f72f6304340143",
            "c283ae08c83f438c881dd51fe78a3b9b",
            "802b1e12e66c4d91b5fdebdc60adb89f",
            "9ef6c9363a9d4faab4e6e463a9e403ac",
            "242e5a16034f4e8cb9bf18b6cf556fb5",
            "2746d7cc15594f42804d2bfc3254595d",
            "eb4e2dd5aa064d9eba762dbd8c520671",
            "988196b9854d46e79162b42689c8a38a"
          ]
        },
        "id": "blmdglkZ1LVe",
        "outputId": "464b994b-86bb-42ab-9e36-8644409cf19d"
      },
      "source": [
        "print(\"Compiling Train Set... \")\n",
        "\n",
        "X_train = np.zeros(channel_sets[0].shape)\n",
        "y_train = np.zeros(label_sets[0].shape)\n",
        "\n",
        "for user in tqdm(train_users):\n",
        "  X_train = np.append(X_train, channel_sets[int(user)-1], axis=0)\n",
        "  y_train = np.append(y_train, label_sets[int(user)-1], axis=0)\n",
        "\n",
        "print(\"X_train shape: \", X_train.shape)\n",
        "print(\"y_train shape: \", y_train.shape)\n",
        "\n",
        "\n",
        "print(\"\\n\\nCompiling Train Set... \")\n",
        "\n",
        "X_test = np.zeros(channel_sets[0].shape)\n",
        "y_test = np.zeros(label_sets[0].shape)\n",
        "\n",
        "for user in tqdm(test_users):\n",
        "  X_test = np.append(X_test, channel_sets[int(user)-1], axis=0)\n",
        "  y_test = np.append(y_test, label_sets[int(user)-1], axis=0)\n",
        "\n",
        "print(\"X_test shape: \", X_test.shape)\n",
        "print(\"y_test shape: \", y_test.shape)"
      ],
      "execution_count": 69,
      "outputs": [
        {
          "output_type": "stream",
          "text": [
            "Compiling Train Set... \n"
          ],
          "name": "stdout"
        },
        {
          "output_type": "display_data",
          "data": {
            "application/vnd.jupyter.widget-view+json": {
              "model_id": "b509d6ca93cf4403866d60d5bdfc739c",
              "version_minor": 0,
              "version_major": 2
            },
            "text/plain": [
              "HBox(children=(FloatProgress(value=0.0, max=6.0), HTML(value='')))"
            ]
          },
          "metadata": {
            "tags": []
          }
        },
        {
          "output_type": "stream",
          "text": [
            "\n",
            "X_train shape:  (2800, 150, 5)\n",
            "y_train shape:  (2800, 40)\n",
            "\n",
            "\n",
            "Compiling Train Set... \n"
          ],
          "name": "stdout"
        },
        {
          "output_type": "display_data",
          "data": {
            "application/vnd.jupyter.widget-view+json": {
              "model_id": "884fd42f01354d6f83f72f6304340143",
              "version_minor": 0,
              "version_major": 2
            },
            "text/plain": [
              "HBox(children=(FloatProgress(value=0.0, max=1.0), HTML(value='')))"
            ]
          },
          "metadata": {
            "tags": []
          }
        },
        {
          "output_type": "stream",
          "text": [
            "\n",
            "X_test shape:  (800, 150, 5)\n",
            "y_test shape:  (800, 40)\n"
          ],
          "name": "stdout"
        }
      ]
    },
    {
      "cell_type": "markdown",
      "metadata": {
        "id": "XakzGf-_z4hT"
      },
      "source": [
        "# **CNN** Model"
      ]
    },
    {
      "cell_type": "code",
      "metadata": {
        "id": "3acpXxpme1rN"
      },
      "source": [
        "from keras import backend as K\n",
        "\n",
        "def recall_m(y_true, y_pred):\n",
        "  true_positives = K.sum(K.round(K.clip(y_true * y_pred, 0, 1)))\n",
        "  possible_positives = K.sum(K.round(K.clip(y_true, 0, 1)))\n",
        "  recall = true_positives / (possible_positives + K.epsilon())\n",
        "  return recall\n",
        "\n",
        "def precision_m(y_true, y_pred):\n",
        "  true_positives = K.sum(K.round(K.clip(y_true * y_pred, 0, 1)))\n",
        "  predicted_positives = K.sum(K.round(K.clip(y_pred, 0, 1)))\n",
        "  precision = true_positives / (predicted_positives + K.epsilon())\n",
        "  return precision\n",
        "\n",
        "def f1_m(y_true, y_pred):\n",
        "  precision = precision_m(y_true, y_pred)\n",
        "  recall = recall_m(y_true, y_pred)\n",
        "  return 2*((precision*recall)/(precision+recall+K.epsilon()))\n",
        "\n",
        "# fit and evaluate a model\n",
        "def evaluate_model(trainX, trainy, testX, testy, verbose, epochs, batch_size):\n",
        "  n_timesteps, n_features, n_outputs = trainX.shape[1], trainX.shape[2], trainy.shape[1]\n",
        "  model = Sequential()\n",
        "  model.add(Conv1D(filters=64, kernel_size=3, activation='relu', input_shape=(n_timesteps,n_features)))\n",
        "  model.add(Conv1D(filters=64, kernel_size=3, activation='relu'))\n",
        "  # model.add(Dropout(0.8))\n",
        "  model.add(MaxPooling1D(pool_size=2))\n",
        "  model.add(Flatten())\n",
        "  model.add(Dense(100, activation='relu'))\n",
        "  model.add(Dense(n_outputs, activation='softmax'))\n",
        "  # model.compile(loss='categorical_crossentropy', optimizer='adam', \n",
        "  #               metrics='categorical_accuracy')\n",
        "  model.compile(loss='categorical_crossentropy', optimizer='adam', \n",
        "                metrics=['categorical_accuracy', f1_m, precision_m, recall_m])\n",
        "  print(model.summary())\n",
        "  print('\\n\\n')\n",
        "  # fit network\n",
        "  # model.fit(trainX, trainy, epochs=epochs, batch_size=batch_size, verbose=verbose)\n",
        "  # # evaluate model\n",
        "  # _, accuracy = model.evaluate(testX, testy, batch_size=batch_size, verbose=0)\n",
        "  import time\n",
        "  t_start = time.clock()\n",
        "  from keras import callbacks \n",
        "  earlystopping = callbacks.EarlyStopping(monitor =\"val_loss\", mode =\"min\", \n",
        "                                          patience = 10, verbose = 1, \n",
        "                                          restore_best_weights = True) \n",
        "\n",
        "  history = model.fit(trainX, trainy, batch_size = batch_size,  \n",
        "                      epochs = epochs, validation_data =(testX, testy),  \n",
        "                      callbacks =[earlystopping]) \n",
        "  # history = model.fit(trainX, trainy, epochs=epochs, batch_size=batch_size, verbose=verbose)\n",
        "\n",
        "  t_end = time.clock()\n",
        "\n",
        "  print('\\n-------------------\\n')\n",
        "\n",
        "  #_, accuracy_train = model.evaluate(X_train, y_train)\n",
        "  loss_train, accuracy_train, f1_score_train, precision_train, recall_train = model.evaluate(trainX, trainy, verbose=1)\n",
        "  print('Train Accuracy: %.2f' % (accuracy_train*100))\n",
        "  print('Train F1 Score: %.2f' % (f1_score_train*100))\n",
        "  print('Train Time: ', t_end - t_start)\n",
        "\n",
        "  t_start = time.clock()\n",
        "  #_, accuracy_test = model.evaluate(X_test, y_test)\n",
        "  loss_test, accuracy_test, f1_score_test, precision_test, recall_test = model.evaluate(testX, testy, verbose=1)\n",
        "  print('Test Accuracy: %.2f' % (accuracy_test*100))\n",
        "  print('Test F1 Score: %.2f' % (f1_score_test*100))\n",
        "  t_end = time.clock()\n",
        "  print('Test Time: ', t_end - t_start)\n",
        "\n",
        "  return f1_score_test, history\n",
        " \n",
        "# summarize scores\n",
        "def summarize_results(scores):\n",
        "\tprint(scores)\n",
        "\tm, s = np.mean(scores), np.std(scores)\n",
        "\tprint('Accuracy: %.3f%% (+/-%.3f)' % (m, s))\n",
        " \n",
        "# run an experiment\n",
        "def run_experiment(repeats=10, verbose=False, epochs=10, batch_size=32):\n",
        "  # repeat experiment\n",
        "  scores = list()\n",
        "  for r in tqdm(range(repeats)):\n",
        "    score, history = evaluate_model(trainX, trainy, testX, testy, verbose, epochs, batch_size)\n",
        "    print('Score:', '%.3f' % (score * 100.0))\n",
        "    scores.append(score)\n",
        "  # summarize results\n",
        "  summarize_results(scores)"
      ],
      "execution_count": 70,
      "outputs": []
    },
    {
      "cell_type": "markdown",
      "metadata": {
        "id": "e903Kduh0EUj"
      },
      "source": [
        "# **Train**"
      ]
    },
    {
      "cell_type": "code",
      "metadata": {
        "id": "RFlsIBthe1nX",
        "colab": {
          "base_uri": "https://localhost:8080/"
        },
        "outputId": "874758b6-e29d-4422-9c7f-04d2d1461b22"
      },
      "source": [
        "# for single iteration\n",
        "score, history = evaluate_model(X_train, y_train, X_test, y_test, verbose=True, epochs=300, batch_size=X_train.shape[0])\n",
        "print('Score:', '%.3f' % (score * 100.0))"
      ],
      "execution_count": 71,
      "outputs": [
        {
          "output_type": "stream",
          "text": [
            "Model: \"sequential_2\"\n",
            "_________________________________________________________________\n",
            "Layer (type)                 Output Shape              Param #   \n",
            "=================================================================\n",
            "conv1d_41 (Conv1D)           (None, 148, 64)           1024      \n",
            "_________________________________________________________________\n",
            "conv1d_42 (Conv1D)           (None, 146, 64)           12352     \n",
            "_________________________________________________________________\n",
            "max_pooling1d_39 (MaxPooling (None, 73, 64)            0         \n",
            "_________________________________________________________________\n",
            "flatten_38 (Flatten)         (None, 4672)              0         \n",
            "_________________________________________________________________\n",
            "dense_26 (Dense)             (None, 100)               467300    \n",
            "_________________________________________________________________\n",
            "dense_27 (Dense)             (None, 40)                4040      \n",
            "=================================================================\n",
            "Total params: 484,716\n",
            "Trainable params: 484,716\n",
            "Non-trainable params: 0\n",
            "_________________________________________________________________\n",
            "None\n",
            "\n",
            "\n",
            "\n",
            "Epoch 1/300\n"
          ],
          "name": "stdout"
        },
        {
          "output_type": "stream",
          "text": [
            "/usr/local/lib/python3.7/dist-packages/ipykernel_launcher.py:42: DeprecationWarning: time.clock has been deprecated in Python 3.3 and will be removed from Python 3.8: use time.perf_counter or time.process_time instead\n"
          ],
          "name": "stderr"
        },
        {
          "output_type": "stream",
          "text": [
            "1/1 [==============================] - 3s 3s/step - loss: 15.1891 - categorical_accuracy: 0.1775 - f1_m: 0.0279 - precision_m: 0.0309 - recall_m: 0.0254 - val_loss: 11.3832 - val_categorical_accuracy: 0.0125 - val_f1_m: 0.0268 - val_precision_m: 0.0288 - val_recall_m: 0.0250\n",
            "Epoch 2/300\n",
            "1/1 [==============================] - 1s 1s/step - loss: 19.1613 - categorical_accuracy: 0.0279 - f1_m: 0.0330 - precision_m: 0.0340 - recall_m: 0.0321 - val_loss: 9.4433 - val_categorical_accuracy: 0.0250 - val_f1_m: 0.0409 - val_precision_m: 0.0449 - val_recall_m: 0.0375\n",
            "Epoch 3/300\n",
            "1/1 [==============================] - 1s 1s/step - loss: 16.4013 - categorical_accuracy: 0.0482 - f1_m: 0.0522 - precision_m: 0.0574 - recall_m: 0.0479 - val_loss: 6.6552 - val_categorical_accuracy: 0.0350 - val_f1_m: 0.0788 - val_precision_m: 0.0947 - val_recall_m: 0.0675\n",
            "Epoch 4/300\n",
            "1/1 [==============================] - 1s 1s/step - loss: 11.5221 - categorical_accuracy: 0.0632 - f1_m: 0.0800 - precision_m: 0.1028 - recall_m: 0.0654 - val_loss: 5.2867 - val_categorical_accuracy: 0.0350 - val_f1_m: 0.0614 - val_precision_m: 0.0797 - val_recall_m: 0.0500\n",
            "Epoch 5/300\n",
            "1/1 [==============================] - 1s 1s/step - loss: 9.2932 - categorical_accuracy: 0.1086 - f1_m: 0.1263 - precision_m: 0.1667 - recall_m: 0.1017 - val_loss: 4.1194 - val_categorical_accuracy: 0.0350 - val_f1_m: 0.0345 - val_precision_m: 0.0559 - val_recall_m: 0.0250\n",
            "Epoch 6/300\n",
            "1/1 [==============================] - 1s 1s/step - loss: 7.1223 - categorical_accuracy: 0.1229 - f1_m: 0.1291 - precision_m: 0.1909 - recall_m: 0.0975 - val_loss: 3.1819 - val_categorical_accuracy: 0.0538 - val_f1_m: 0.1336 - val_precision_m: 0.2249 - val_recall_m: 0.0950\n",
            "Epoch 7/300\n",
            "1/1 [==============================] - 1s 1s/step - loss: 5.3806 - categorical_accuracy: 0.1461 - f1_m: 0.1752 - precision_m: 0.2974 - recall_m: 0.1242 - val_loss: 2.3993 - val_categorical_accuracy: 0.0675 - val_f1_m: 0.1116 - val_precision_m: 0.2745 - val_recall_m: 0.0700\n",
            "Epoch 8/300\n",
            "1/1 [==============================] - 2s 2s/step - loss: 4.0987 - categorical_accuracy: 0.1575 - f1_m: 0.2129 - precision_m: 0.3970 - recall_m: 0.1454 - val_loss: 1.9473 - val_categorical_accuracy: 0.0763 - val_f1_m: 0.1606 - val_precision_m: 0.4082 - val_recall_m: 0.1000\n",
            "Epoch 9/300\n",
            "1/1 [==============================] - 1s 1s/step - loss: 3.2887 - categorical_accuracy: 0.1843 - f1_m: 0.2379 - precision_m: 0.4980 - recall_m: 0.1562 - val_loss: 1.7106 - val_categorical_accuracy: 0.0787 - val_f1_m: 0.1266 - val_precision_m: 0.4054 - val_recall_m: 0.0750\n",
            "Epoch 10/300\n",
            "1/1 [==============================] - 2s 2s/step - loss: 2.8475 - categorical_accuracy: 0.1864 - f1_m: 0.2232 - precision_m: 0.5044 - recall_m: 0.1433 - val_loss: 1.5569 - val_categorical_accuracy: 0.1025 - val_f1_m: 0.1646 - val_precision_m: 0.5270 - val_recall_m: 0.0975\n",
            "Epoch 11/300\n",
            "1/1 [==============================] - 1s 1s/step - loss: 2.5802 - categorical_accuracy: 0.2214 - f1_m: 0.2127 - precision_m: 0.4895 - recall_m: 0.1358 - val_loss: 1.5086 - val_categorical_accuracy: 0.1112 - val_f1_m: 0.1956 - val_precision_m: 0.4851 - val_recall_m: 0.1225\n",
            "Epoch 12/300\n",
            "1/1 [==============================] - 1s 1s/step - loss: 2.4640 - categorical_accuracy: 0.2368 - f1_m: 0.2430 - precision_m: 0.5053 - recall_m: 0.1600 - val_loss: 1.4613 - val_categorical_accuracy: 0.1025 - val_f1_m: 0.1705 - val_precision_m: 0.3793 - val_recall_m: 0.1100\n",
            "Epoch 13/300\n",
            "1/1 [==============================] - 1s 1s/step - loss: 2.3475 - categorical_accuracy: 0.2507 - f1_m: 0.2527 - precision_m: 0.5576 - recall_m: 0.1633 - val_loss: 1.4011 - val_categorical_accuracy: 0.1050 - val_f1_m: 0.1691 - val_precision_m: 0.4824 - val_recall_m: 0.1025\n",
            "Epoch 14/300\n",
            "1/1 [==============================] - 1s 1s/step - loss: 2.2439 - categorical_accuracy: 0.2468 - f1_m: 0.2712 - precision_m: 0.6072 - recall_m: 0.1746 - val_loss: 1.3385 - val_categorical_accuracy: 0.1175 - val_f1_m: 0.1736 - val_precision_m: 0.5000 - val_recall_m: 0.1050\n",
            "Epoch 15/300\n",
            "1/1 [==============================] - 1s 1s/step - loss: 2.1591 - categorical_accuracy: 0.2654 - f1_m: 0.2768 - precision_m: 0.6614 - recall_m: 0.1750 - val_loss: 1.2953 - val_categorical_accuracy: 0.1225 - val_f1_m: 0.1954 - val_precision_m: 0.5802 - val_recall_m: 0.1175\n",
            "Epoch 16/300\n",
            "1/1 [==============================] - 1s 1s/step - loss: 2.0987 - categorical_accuracy: 0.3032 - f1_m: 0.2849 - precision_m: 0.7208 - recall_m: 0.1775 - val_loss: 1.2651 - val_categorical_accuracy: 0.1325 - val_f1_m: 0.2370 - val_precision_m: 0.7037 - val_recall_m: 0.1425\n",
            "Epoch 17/300\n",
            "1/1 [==============================] - 1s 1s/step - loss: 2.0561 - categorical_accuracy: 0.3089 - f1_m: 0.2961 - precision_m: 0.7483 - recall_m: 0.1846 - val_loss: 1.2467 - val_categorical_accuracy: 0.1375 - val_f1_m: 0.2360 - val_precision_m: 0.6867 - val_recall_m: 0.1425\n",
            "Epoch 18/300\n",
            "1/1 [==============================] - 1s 1s/step - loss: 2.0241 - categorical_accuracy: 0.3139 - f1_m: 0.3016 - precision_m: 0.7571 - recall_m: 0.1883 - val_loss: 1.2313 - val_categorical_accuracy: 0.1612 - val_f1_m: 0.2822 - val_precision_m: 0.7753 - val_recall_m: 0.1725\n",
            "Epoch 19/300\n",
            "1/1 [==============================] - 1s 1s/step - loss: 1.9859 - categorical_accuracy: 0.3068 - f1_m: 0.3060 - precision_m: 0.7723 - recall_m: 0.1908 - val_loss: 1.2147 - val_categorical_accuracy: 0.1663 - val_f1_m: 0.3274 - val_precision_m: 0.7757 - val_recall_m: 0.2075\n",
            "Epoch 20/300\n",
            "1/1 [==============================] - 1s 1s/step - loss: 1.9418 - categorical_accuracy: 0.3111 - f1_m: 0.3109 - precision_m: 0.7868 - recall_m: 0.1937 - val_loss: 1.1891 - val_categorical_accuracy: 0.1713 - val_f1_m: 0.3399 - val_precision_m: 0.8113 - val_recall_m: 0.2150\n",
            "Epoch 21/300\n",
            "1/1 [==============================] - 1s 1s/step - loss: 1.8950 - categorical_accuracy: 0.3079 - f1_m: 0.3151 - precision_m: 0.7783 - recall_m: 0.1975 - val_loss: 1.1655 - val_categorical_accuracy: 0.1825 - val_f1_m: 0.3393 - val_precision_m: 0.8037 - val_recall_m: 0.2150\n",
            "Epoch 22/300\n",
            "1/1 [==============================] - 1s 1s/step - loss: 1.8451 - categorical_accuracy: 0.3164 - f1_m: 0.3181 - precision_m: 0.7827 - recall_m: 0.1996 - val_loss: 1.1452 - val_categorical_accuracy: 0.1850 - val_f1_m: 0.3386 - val_precision_m: 0.7963 - val_recall_m: 0.2150\n",
            "Epoch 23/300\n",
            "1/1 [==============================] - 1s 1s/step - loss: 1.7956 - categorical_accuracy: 0.3300 - f1_m: 0.3316 - precision_m: 0.7934 - recall_m: 0.2096 - val_loss: 1.1183 - val_categorical_accuracy: 0.1963 - val_f1_m: 0.3360 - val_precision_m: 0.8019 - val_recall_m: 0.2125\n",
            "Epoch 24/300\n",
            "1/1 [==============================] - 1s 1s/step - loss: 1.7478 - categorical_accuracy: 0.3382 - f1_m: 0.3432 - precision_m: 0.8192 - recall_m: 0.2171 - val_loss: 1.0898 - val_categorical_accuracy: 0.2025 - val_f1_m: 0.3413 - val_precision_m: 0.8269 - val_recall_m: 0.2150\n",
            "Epoch 25/300\n",
            "1/1 [==============================] - 1s 1s/step - loss: 1.6982 - categorical_accuracy: 0.3525 - f1_m: 0.3408 - precision_m: 0.8217 - recall_m: 0.2150 - val_loss: 1.0640 - val_categorical_accuracy: 0.2100 - val_f1_m: 0.3340 - val_precision_m: 0.8155 - val_recall_m: 0.2100\n",
            "Epoch 26/300\n",
            "1/1 [==============================] - 1s 1s/step - loss: 1.6468 - categorical_accuracy: 0.3811 - f1_m: 0.3486 - precision_m: 0.8268 - recall_m: 0.2208 - val_loss: 1.0476 - val_categorical_accuracy: 0.2150 - val_f1_m: 0.3255 - val_precision_m: 0.7545 - val_recall_m: 0.2075\n",
            "Epoch 27/300\n",
            "1/1 [==============================] - 1s 1s/step - loss: 1.5942 - categorical_accuracy: 0.3879 - f1_m: 0.3652 - precision_m: 0.8289 - recall_m: 0.2342 - val_loss: 1.0442 - val_categorical_accuracy: 0.2125 - val_f1_m: 0.2761 - val_precision_m: 0.6542 - val_recall_m: 0.1750\n",
            "Epoch 28/300\n",
            "1/1 [==============================] - 1s 1s/step - loss: 1.5417 - categorical_accuracy: 0.4011 - f1_m: 0.3793 - precision_m: 0.8254 - recall_m: 0.2463 - val_loss: 1.0400 - val_categorical_accuracy: 0.2013 - val_f1_m: 0.2706 - val_precision_m: 0.6273 - val_recall_m: 0.1725\n",
            "Epoch 29/300\n",
            "1/1 [==============================] - 1s 1s/step - loss: 1.4911 - categorical_accuracy: 0.4093 - f1_m: 0.3940 - precision_m: 0.8217 - recall_m: 0.2592 - val_loss: 1.0226 - val_categorical_accuracy: 0.2125 - val_f1_m: 0.2690 - val_precision_m: 0.6106 - val_recall_m: 0.1725\n",
            "Epoch 30/300\n",
            "1/1 [==============================] - 1s 1s/step - loss: 1.4417 - categorical_accuracy: 0.4182 - f1_m: 0.4047 - precision_m: 0.8265 - recall_m: 0.2679 - val_loss: 1.0033 - val_categorical_accuracy: 0.2237 - val_f1_m: 0.2695 - val_precision_m: 0.6161 - val_recall_m: 0.1725\n",
            "Epoch 31/300\n",
            "1/1 [==============================] - 1s 1s/step - loss: 1.3948 - categorical_accuracy: 0.4325 - f1_m: 0.4165 - precision_m: 0.8457 - recall_m: 0.2763 - val_loss: 0.9967 - val_categorical_accuracy: 0.2313 - val_f1_m: 0.2701 - val_precision_m: 0.6216 - val_recall_m: 0.1725\n",
            "Epoch 32/300\n",
            "1/1 [==============================] - 1s 1s/step - loss: 1.3498 - categorical_accuracy: 0.4479 - f1_m: 0.4265 - precision_m: 0.8506 - recall_m: 0.2846 - val_loss: 0.9858 - val_categorical_accuracy: 0.2250 - val_f1_m: 0.3041 - val_precision_m: 0.6903 - val_recall_m: 0.1950\n",
            "Epoch 33/300\n",
            "1/1 [==============================] - 1s 1s/step - loss: 1.3088 - categorical_accuracy: 0.4543 - f1_m: 0.4389 - precision_m: 0.8333 - recall_m: 0.2979 - val_loss: 0.9686 - val_categorical_accuracy: 0.2300 - val_f1_m: 0.3014 - val_precision_m: 0.6937 - val_recall_m: 0.1925\n",
            "Epoch 34/300\n",
            "1/1 [==============================] - 1s 1s/step - loss: 1.2679 - categorical_accuracy: 0.4646 - f1_m: 0.4652 - precision_m: 0.8426 - recall_m: 0.3212 - val_loss: 0.9586 - val_categorical_accuracy: 0.2262 - val_f1_m: 0.3059 - val_precision_m: 0.7091 - val_recall_m: 0.1950\n",
            "Epoch 35/300\n",
            "1/1 [==============================] - 1s 1s/step - loss: 1.2352 - categorical_accuracy: 0.4700 - f1_m: 0.4834 - precision_m: 0.8620 - recall_m: 0.3358 - val_loss: 0.9530 - val_categorical_accuracy: 0.2338 - val_f1_m: 0.3104 - val_precision_m: 0.7248 - val_recall_m: 0.1975\n",
            "Epoch 36/300\n",
            "1/1 [==============================] - 2s 2s/step - loss: 1.2017 - categorical_accuracy: 0.4843 - f1_m: 0.5059 - precision_m: 0.8576 - recall_m: 0.3587 - val_loss: 0.9489 - val_categorical_accuracy: 0.2338 - val_f1_m: 0.3243 - val_precision_m: 0.7119 - val_recall_m: 0.2100\n",
            "Epoch 37/300\n",
            "1/1 [==============================] - 1s 1s/step - loss: 1.1706 - categorical_accuracy: 0.4857 - f1_m: 0.5195 - precision_m: 0.8428 - recall_m: 0.3754 - val_loss: 0.9438 - val_categorical_accuracy: 0.2262 - val_f1_m: 0.3396 - val_precision_m: 0.6923 - val_recall_m: 0.2250\n",
            "Epoch 38/300\n",
            "1/1 [==============================] - 2s 2s/step - loss: 1.1443 - categorical_accuracy: 0.4911 - f1_m: 0.5241 - precision_m: 0.8379 - recall_m: 0.3812 - val_loss: 0.9426 - val_categorical_accuracy: 0.2237 - val_f1_m: 0.3494 - val_precision_m: 0.6812 - val_recall_m: 0.2350\n",
            "Epoch 39/300\n",
            "1/1 [==============================] - 1s 1s/step - loss: 1.1179 - categorical_accuracy: 0.4979 - f1_m: 0.5248 - precision_m: 0.8202 - recall_m: 0.3858 - val_loss: 0.9377 - val_categorical_accuracy: 0.2338 - val_f1_m: 0.3529 - val_precision_m: 0.6667 - val_recall_m: 0.2400\n",
            "Epoch 40/300\n",
            "1/1 [==============================] - 2s 2s/step - loss: 1.0901 - categorical_accuracy: 0.5004 - f1_m: 0.5314 - precision_m: 0.8280 - recall_m: 0.3913 - val_loss: 0.9250 - val_categorical_accuracy: 0.2375 - val_f1_m: 0.3877 - val_precision_m: 0.7039 - val_recall_m: 0.2675\n",
            "Epoch 41/300\n",
            "1/1 [==============================] - 2s 2s/step - loss: 1.0631 - categorical_accuracy: 0.5111 - f1_m: 0.5417 - precision_m: 0.8447 - recall_m: 0.3988 - val_loss: 0.9093 - val_categorical_accuracy: 0.2250 - val_f1_m: 0.3908 - val_precision_m: 0.6748 - val_recall_m: 0.2750\n",
            "Epoch 42/300\n",
            "1/1 [==============================] - 2s 2s/step - loss: 1.0356 - categorical_accuracy: 0.5193 - f1_m: 0.5534 - precision_m: 0.8371 - recall_m: 0.4133 - val_loss: 0.8907 - val_categorical_accuracy: 0.2300 - val_f1_m: 0.3757 - val_precision_m: 0.6604 - val_recall_m: 0.2625\n",
            "Epoch 43/300\n",
            "1/1 [==============================] - 2s 2s/step - loss: 1.0056 - categorical_accuracy: 0.5332 - f1_m: 0.5632 - precision_m: 0.8463 - recall_m: 0.4221 - val_loss: 0.8795 - val_categorical_accuracy: 0.2338 - val_f1_m: 0.3810 - val_precision_m: 0.6467 - val_recall_m: 0.2700\n",
            "Epoch 44/300\n",
            "1/1 [==============================] - 1s 1s/step - loss: 0.9769 - categorical_accuracy: 0.5371 - f1_m: 0.5762 - precision_m: 0.8453 - recall_m: 0.4371 - val_loss: 0.8758 - val_categorical_accuracy: 0.2288 - val_f1_m: 0.3591 - val_precision_m: 0.6369 - val_recall_m: 0.2500\n",
            "Epoch 45/300\n",
            "1/1 [==============================] - 1s 1s/step - loss: 0.9496 - categorical_accuracy: 0.5461 - f1_m: 0.5842 - precision_m: 0.8441 - recall_m: 0.4467 - val_loss: 0.8737 - val_categorical_accuracy: 0.2125 - val_f1_m: 0.3656 - val_precision_m: 0.6803 - val_recall_m: 0.2500\n",
            "Epoch 46/300\n",
            "1/1 [==============================] - 1s 1s/step - loss: 0.9219 - categorical_accuracy: 0.5532 - f1_m: 0.5898 - precision_m: 0.8410 - recall_m: 0.4542 - val_loss: 0.8782 - val_categorical_accuracy: 0.2188 - val_f1_m: 0.3425 - val_precision_m: 0.6503 - val_recall_m: 0.2325\n",
            "Epoch 47/300\n",
            "1/1 [==============================] - 1s 1s/step - loss: 0.8976 - categorical_accuracy: 0.5543 - f1_m: 0.5937 - precision_m: 0.8453 - recall_m: 0.4575 - val_loss: 0.8799 - val_categorical_accuracy: 0.2325 - val_f1_m: 0.3598 - val_precision_m: 0.6108 - val_recall_m: 0.2550\n",
            "Epoch 48/300\n",
            "1/1 [==============================] - 1s 1s/step - loss: 0.8736 - categorical_accuracy: 0.5679 - f1_m: 0.6053 - precision_m: 0.8542 - recall_m: 0.4688 - val_loss: 0.8782 - val_categorical_accuracy: 0.2350 - val_f1_m: 0.3568 - val_precision_m: 0.5683 - val_recall_m: 0.2600\n",
            "Epoch 49/300\n",
            "1/1 [==============================] - 2s 2s/step - loss: 0.8481 - categorical_accuracy: 0.5700 - f1_m: 0.6158 - precision_m: 0.8520 - recall_m: 0.4821 - val_loss: 0.8740 - val_categorical_accuracy: 0.2212 - val_f1_m: 0.3773 - val_precision_m: 0.5678 - val_recall_m: 0.2825\n",
            "Epoch 50/300\n",
            "1/1 [==============================] - 2s 2s/step - loss: 0.8248 - categorical_accuracy: 0.5814 - f1_m: 0.6242 - precision_m: 0.8352 - recall_m: 0.4983 - val_loss: 0.8661 - val_categorical_accuracy: 0.2188 - val_f1_m: 0.3894 - val_precision_m: 0.5821 - val_recall_m: 0.2925\n",
            "Epoch 51/300\n",
            "1/1 [==============================] - 1s 1s/step - loss: 0.8027 - categorical_accuracy: 0.5879 - f1_m: 0.6293 - precision_m: 0.8395 - recall_m: 0.5033 - val_loss: 0.8634 - val_categorical_accuracy: 0.2313 - val_f1_m: 0.4167 - val_precision_m: 0.5804 - val_recall_m: 0.3250\n",
            "Epoch 52/300\n",
            "1/1 [==============================] - 1s 1s/step - loss: 0.7812 - categorical_accuracy: 0.5854 - f1_m: 0.6323 - precision_m: 0.8409 - recall_m: 0.5067 - val_loss: 0.8596 - val_categorical_accuracy: 0.2275 - val_f1_m: 0.4191 - val_precision_m: 0.6165 - val_recall_m: 0.3175\n",
            "Epoch 53/300\n",
            "1/1 [==============================] - 1s 1s/step - loss: 0.7603 - categorical_accuracy: 0.5968 - f1_m: 0.6453 - precision_m: 0.8582 - recall_m: 0.5171 - val_loss: 0.8576 - val_categorical_accuracy: 0.2150 - val_f1_m: 0.4321 - val_precision_m: 0.6256 - val_recall_m: 0.3300\n",
            "Epoch 54/300\n",
            "1/1 [==============================] - 1s 1s/step - loss: 0.7394 - categorical_accuracy: 0.6068 - f1_m: 0.6506 - precision_m: 0.8496 - recall_m: 0.5271 - val_loss: 0.8548 - val_categorical_accuracy: 0.2125 - val_f1_m: 0.4328 - val_precision_m: 0.6286 - val_recall_m: 0.3300\n",
            "Epoch 55/300\n",
            "1/1 [==============================] - 1s 1s/step - loss: 0.7210 - categorical_accuracy: 0.6186 - f1_m: 0.6624 - precision_m: 0.8639 - recall_m: 0.5371 - val_loss: 0.8511 - val_categorical_accuracy: 0.2150 - val_f1_m: 0.4230 - val_precision_m: 0.6143 - val_recall_m: 0.3225\n",
            "Epoch 56/300\n",
            "1/1 [==============================] - 1s 1s/step - loss: 0.7021 - categorical_accuracy: 0.6246 - f1_m: 0.6736 - precision_m: 0.8669 - recall_m: 0.5508 - val_loss: 0.8502 - val_categorical_accuracy: 0.2200 - val_f1_m: 0.4261 - val_precision_m: 0.5852 - val_recall_m: 0.3350\n",
            "Epoch 57/300\n",
            "1/1 [==============================] - 1s 1s/step - loss: 0.6843 - categorical_accuracy: 0.6321 - f1_m: 0.6858 - precision_m: 0.8685 - recall_m: 0.5667 - val_loss: 0.8409 - val_categorical_accuracy: 0.2325 - val_f1_m: 0.4353 - val_precision_m: 0.5897 - val_recall_m: 0.3450\n",
            "Epoch 58/300\n",
            "1/1 [==============================] - 1s 1s/step - loss: 0.6676 - categorical_accuracy: 0.6339 - f1_m: 0.6891 - precision_m: 0.8673 - recall_m: 0.5717 - val_loss: 0.8376 - val_categorical_accuracy: 0.2325 - val_f1_m: 0.4348 - val_precision_m: 0.6109 - val_recall_m: 0.3375\n",
            "Epoch 59/300\n",
            "1/1 [==============================] - 1s 1s/step - loss: 0.6508 - categorical_accuracy: 0.6364 - f1_m: 0.6982 - precision_m: 0.8656 - recall_m: 0.5850 - val_loss: 0.8293 - val_categorical_accuracy: 0.2200 - val_f1_m: 0.4412 - val_precision_m: 0.6199 - val_recall_m: 0.3425\n",
            "Epoch 60/300\n",
            "1/1 [==============================] - 2s 2s/step - loss: 0.6345 - categorical_accuracy: 0.6386 - f1_m: 0.7028 - precision_m: 0.8772 - recall_m: 0.5863 - val_loss: 0.8293 - val_categorical_accuracy: 0.2262 - val_f1_m: 0.4564 - val_precision_m: 0.6234 - val_recall_m: 0.3600\n",
            "Epoch 61/300\n",
            "1/1 [==============================] - 1s 1s/step - loss: 0.6178 - categorical_accuracy: 0.6436 - f1_m: 0.7103 - precision_m: 0.8755 - recall_m: 0.5975 - val_loss: 0.8234 - val_categorical_accuracy: 0.2300 - val_f1_m: 0.4547 - val_precision_m: 0.6245 - val_recall_m: 0.3575\n",
            "Epoch 62/300\n",
            "1/1 [==============================] - 1s 1s/step - loss: 0.6016 - categorical_accuracy: 0.6479 - f1_m: 0.7169 - precision_m: 0.8770 - recall_m: 0.6062 - val_loss: 0.8255 - val_categorical_accuracy: 0.2300 - val_f1_m: 0.4515 - val_precision_m: 0.6201 - val_recall_m: 0.3550\n",
            "Epoch 63/300\n",
            "1/1 [==============================] - 1s 1s/step - loss: 0.5850 - categorical_accuracy: 0.6514 - f1_m: 0.7294 - precision_m: 0.8882 - recall_m: 0.6187 - val_loss: 0.8328 - val_categorical_accuracy: 0.2250 - val_f1_m: 0.4430 - val_precision_m: 0.6034 - val_recall_m: 0.3500\n",
            "Epoch 64/300\n",
            "1/1 [==============================] - 2s 2s/step - loss: 0.5694 - categorical_accuracy: 0.6561 - f1_m: 0.7408 - precision_m: 0.8979 - recall_m: 0.6304 - val_loss: 0.8441 - val_categorical_accuracy: 0.2350 - val_f1_m: 0.4455 - val_precision_m: 0.5909 - val_recall_m: 0.3575\n",
            "Epoch 65/300\n",
            "1/1 [==============================] - 1s 1s/step - loss: 0.5553 - categorical_accuracy: 0.6689 - f1_m: 0.7501 - precision_m: 0.9027 - recall_m: 0.6417 - val_loss: 0.8548 - val_categorical_accuracy: 0.2387 - val_f1_m: 0.4818 - val_precision_m: 0.6115 - val_recall_m: 0.3975\n",
            "Epoch 66/300\n",
            "1/1 [==============================] - 1s 1s/step - loss: 0.5421 - categorical_accuracy: 0.6714 - f1_m: 0.7559 - precision_m: 0.9013 - recall_m: 0.6508 - val_loss: 0.8559 - val_categorical_accuracy: 0.2375 - val_f1_m: 0.4970 - val_precision_m: 0.6250 - val_recall_m: 0.4125\n",
            "Epoch 67/300\n",
            "1/1 [==============================] - 1s 1s/step - loss: 0.5287 - categorical_accuracy: 0.6775 - f1_m: 0.7625 - precision_m: 0.9026 - recall_m: 0.6600 - val_loss: 0.8612 - val_categorical_accuracy: 0.2425 - val_f1_m: 0.4909 - val_precision_m: 0.6231 - val_recall_m: 0.4050\n",
            "Epoch 68/300\n",
            "1/1 [==============================] - 1s 1s/step - loss: 0.5164 - categorical_accuracy: 0.6793 - f1_m: 0.7642 - precision_m: 0.9029 - recall_m: 0.6625 - val_loss: 0.8563 - val_categorical_accuracy: 0.2450 - val_f1_m: 0.4832 - val_precision_m: 0.6220 - val_recall_m: 0.3950\n",
            "Epoch 69/300\n",
            "1/1 [==============================] - 1s 1s/step - loss: 0.5091 - categorical_accuracy: 0.6871 - f1_m: 0.7753 - precision_m: 0.9017 - recall_m: 0.6800 - val_loss: 0.8766 - val_categorical_accuracy: 0.2512 - val_f1_m: 0.4970 - val_precision_m: 0.6250 - val_recall_m: 0.4125\n",
            "Epoch 70/300\n",
            "1/1 [==============================] - 1s 1s/step - loss: 0.5077 - categorical_accuracy: 0.6804 - f1_m: 0.7694 - precision_m: 0.8945 - recall_m: 0.6750 - val_loss: 0.8696 - val_categorical_accuracy: 0.2488 - val_f1_m: 0.4749 - val_precision_m: 0.6070 - val_recall_m: 0.3900\n",
            "Epoch 71/300\n",
            "1/1 [==============================] - 1s 1s/step - loss: 0.4992 - categorical_accuracy: 0.6946 - f1_m: 0.7789 - precision_m: 0.8955 - recall_m: 0.6892 - val_loss: 0.8725 - val_categorical_accuracy: 0.2537 - val_f1_m: 0.5075 - val_precision_m: 0.6296 - val_recall_m: 0.4250\n",
            "Restoring model weights from the end of the best epoch.\n",
            "Epoch 00071: early stopping\n",
            "\n",
            "-------------------\n",
            "\n",
            "16/88 [====>.........................] - ETA: 0s - loss: 0.1439 - categorical_accuracy: 0.1582 - f1_m: 0.1728 - precision_m: 0.1992 - recall_m: 0.1582                    "
          ],
          "name": "stdout"
        },
        {
          "output_type": "stream",
          "text": [
            "/usr/local/lib/python3.7/dist-packages/ipykernel_launcher.py:53: DeprecationWarning: time.clock has been deprecated in Python 3.3 and will be removed from Python 3.8: use time.perf_counter or time.process_time instead\n"
          ],
          "name": "stderr"
        },
        {
          "output_type": "stream",
          "text": [
            "88/88 [==============================] - 1s 8ms/step - loss: 0.6016 - categorical_accuracy: 0.6479 - f1_m: 0.6042 - precision_m: 0.7520 - recall_m: 0.5252\n",
            "Train Accuracy: 64.79\n",
            "Train F1 Score: 60.42\n",
            "Train Time:  200.12688100000014\n"
          ],
          "name": "stdout"
        },
        {
          "output_type": "stream",
          "text": [
            "/usr/local/lib/python3.7/dist-packages/ipykernel_launcher.py:63: DeprecationWarning: time.clock has been deprecated in Python 3.3 and will be removed from Python 3.8: use time.perf_counter or time.process_time instead\n"
          ],
          "name": "stderr"
        },
        {
          "output_type": "stream",
          "text": [
            "25/25 [==============================] - 0s 8ms/step - loss: 0.8234 - categorical_accuracy: 0.2300 - f1_m: 0.2268 - precision_m: 0.3281 - recall_m: 0.1863\n",
            "Test Accuracy: 23.00\n",
            "Test F1 Score: 22.68\n",
            "Test Time:  0.6252379999998539\n",
            "Score: 22.678\n"
          ],
          "name": "stdout"
        },
        {
          "output_type": "stream",
          "text": [
            "/usr/local/lib/python3.7/dist-packages/ipykernel_launcher.py:68: DeprecationWarning: time.clock has been deprecated in Python 3.3 and will be removed from Python 3.8: use time.perf_counter or time.process_time instead\n"
          ],
          "name": "stderr"
        }
      ]
    },
    {
      "cell_type": "code",
      "metadata": {
        "id": "vBe8k9IHe1j_",
        "colab": {
          "base_uri": "https://localhost:8080/",
          "height": 295
        },
        "outputId": "32c4dc3e-314e-4123-b440-f13b2f1c7be8"
      },
      "source": [
        "import matplotlib.pyplot as plt\n",
        "plt.plot(history.history['loss'])\n",
        "plt.plot(history.history['val_loss'])\n",
        "plt.title('1D CNN Loss')\n",
        "plt.ylabel('loss')\n",
        "plt.xlabel('epoch')\n",
        "plt.legend(['train', 'test'], loc='upper left')\n",
        "plt.show()"
      ],
      "execution_count": 73,
      "outputs": [
        {
          "output_type": "display_data",
          "data": {
            "image/png": "[encoded data removed]",
            "text/plain": [
              "<Figure size 432x288 with 1 Axes>"
            ]
          },
          "metadata": {
            "tags": [],
            "needs_background": "light"
          }
        }
      ]
    },
    {
      "cell_type": "markdown",
      "metadata": {
        "id": "Kw1d_zxYaKBa"
      },
      "source": [
        "# **Multi-headed CNN**"
      ]
    },
    {
      "cell_type": "code",
      "metadata": {
        "id": "drAX5VxFe1gJ"
      },
      "source": [
        "def evaluate_model(trainX, trainy, testX, testy):\n",
        "\n",
        "  from numpy import mean\n",
        "  from numpy import std\n",
        "  from numpy import dstack\n",
        "  from pandas import read_csv\n",
        "  from matplotlib import pyplot\n",
        "  from keras import callbacks \n",
        "  from keras.utils import to_categorical\n",
        "  from keras.utils.vis_utils import plot_model\n",
        "  from keras.models import Model\n",
        "  from keras.layers import Input\n",
        "  from keras.layers import Dense\n",
        "  from keras.layers import Flatten\n",
        "  from keras.layers import Dropout\n",
        "  from keras.layers.convolutional import Conv1D\n",
        "  from keras.layers.convolutional import MaxPooling1D\n",
        "  from keras.layers.merge import concatenate\n",
        "\n",
        "  verbose, epochs, batch_size = True, 500, 512#trainX.shape[0]\n",
        "  n_timesteps, n_features, n_outputs = trainX.shape[1], trainX.shape[2], trainy.shape[1]\n",
        "  # head 1\n",
        "  inputs1 = Input(shape=(n_timesteps,n_features))\n",
        "  conv1 = Conv1D(filters=64, kernel_size=3, activation='relu')(inputs1)\n",
        "  drop1 = Dropout(0.5)(conv1)\n",
        "  pool1 = MaxPooling1D(pool_size=2)(drop1)\n",
        "  flat1 = Flatten()(pool1)\n",
        "  # head 2\n",
        "  inputs2 = Input(shape=(n_timesteps,n_features))\n",
        "  conv2 = Conv1D(filters=64, kernel_size=5, activation='relu')(inputs2)\n",
        "  drop2 = Dropout(0.5)(conv2)\n",
        "  pool2 = MaxPooling1D(pool_size=2)(drop2)\n",
        "  flat2 = Flatten()(pool2)\n",
        "  # head 3\n",
        "  inputs3 = Input(shape=(n_timesteps,n_features))\n",
        "  conv3 = Conv1D(filters=64, kernel_size=11, activation='relu')(inputs3)\n",
        "  drop3 = Dropout(0.5)(conv3)\n",
        "  pool3 = MaxPooling1D(pool_size=2)(drop3)\n",
        "  flat3 = Flatten()(pool3)\n",
        "  # merge\n",
        "  merged = concatenate([flat1, flat2, flat3])\n",
        "  # interpretation\n",
        "  dense1 = Dense(100, activation='relu')(merged)\n",
        "  outputs = Dense(n_outputs, activation='softmax')(dense1)\n",
        "  model = Model(inputs=[inputs1, inputs2, inputs3], outputs=outputs)\n",
        "  # save a plot of the model\n",
        "  plot_model(model, show_shapes=True, to_file='multichannel.png')\n",
        "  model.compile(loss='categorical_crossentropy', optimizer='adam', metrics=['accuracy'])\n",
        "  \n",
        "  earlystopping = callbacks.EarlyStopping(monitor =\"val_loss\", mode =\"min\", \n",
        "                                          patience = 10, verbose = 1, \n",
        "                                          restore_best_weights = True) \n",
        "\n",
        "  history = model.fit([trainX,trainX,trainX], trainy, batch_size = batch_size,  \n",
        "                      epochs = epochs, validation_data =([testX,testX,testX], testy),  \n",
        "                      callbacks =[earlystopping])\n",
        "\n",
        "  # fit network\n",
        "  # model.fit([trainX,trainX,trainX], trainy, epochs=epochs, batch_size=batch_size, verbose=verbose)\n",
        "  # evaluate model\n",
        "  _, accuracy = model.evaluate([testX,testX,testX], testy, batch_size=batch_size, verbose=0)\n",
        "  return accuracy"
      ],
      "execution_count": 63,
      "outputs": []
    },
    {
      "cell_type": "code",
      "metadata": {
        "colab": {
          "base_uri": "https://localhost:8080/"
        },
        "id": "cnRmSFOlaaF7",
        "outputId": "5372bf87-f00d-4d11-dab2-e5ed49d25b51"
      },
      "source": [
        "# for single iteration\n",
        "score = evaluate_model(X_train, y_train, X_test, y_test)\n",
        "print('Score:', '%.3f' % (score * 100.0))"
      ],
      "execution_count": 64,
      "outputs": [
        {
          "output_type": "stream",
          "text": [
            "Epoch 1/500\n",
            "6/6 [==============================] - 4s 575ms/step - loss: 120.8231 - accuracy: 0.0902 - val_loss: 36.4155 - val_accuracy: 0.0250\n",
            "Epoch 2/500\n",
            "6/6 [==============================] - 3s 523ms/step - loss: 76.3160 - accuracy: 0.0947 - val_loss: 11.2893 - val_accuracy: 0.1063\n",
            "Epoch 3/500\n",
            "6/6 [==============================] - 3s 523ms/step - loss: 22.8713 - accuracy: 0.2003 - val_loss: 2.8468 - val_accuracy: 0.0750\n",
            "Epoch 4/500\n",
            "6/6 [==============================] - 3s 520ms/step - loss: 6.4212 - accuracy: 0.1365 - val_loss: 1.8902 - val_accuracy: 0.0538\n",
            "Epoch 5/500\n",
            "6/6 [==============================] - 4s 599ms/step - loss: 3.3669 - accuracy: 0.0993 - val_loss: 1.7246 - val_accuracy: 0.0400\n",
            "Epoch 6/500\n",
            "6/6 [==============================] - 3s 499ms/step - loss: 2.8657 - accuracy: 0.0791 - val_loss: 1.6487 - val_accuracy: 0.0325\n",
            "Epoch 7/500\n",
            "6/6 [==============================] - 3s 496ms/step - loss: 2.7309 - accuracy: 0.0889 - val_loss: 1.6496 - val_accuracy: 0.0388\n",
            "Epoch 8/500\n",
            "6/6 [==============================] - 3s 494ms/step - loss: 2.6291 - accuracy: 0.1378 - val_loss: 1.6682 - val_accuracy: 0.0550\n",
            "Epoch 9/500\n",
            "6/6 [==============================] - 3s 498ms/step - loss: 2.5796 - accuracy: 0.1448 - val_loss: 1.6061 - val_accuracy: 0.0750\n",
            "Epoch 10/500\n",
            "6/6 [==============================] - 3s 500ms/step - loss: 2.5128 - accuracy: 0.1710 - val_loss: 1.6041 - val_accuracy: 0.0725\n",
            "Epoch 11/500\n",
            "6/6 [==============================] - 3s 500ms/step - loss: 2.4577 - accuracy: 0.1792 - val_loss: 1.5903 - val_accuracy: 0.0812\n",
            "Epoch 12/500\n",
            "6/6 [==============================] - 3s 499ms/step - loss: 2.3993 - accuracy: 0.1914 - val_loss: 1.6077 - val_accuracy: 0.0763\n",
            "Epoch 13/500\n",
            "6/6 [==============================] - 3s 496ms/step - loss: 2.3914 - accuracy: 0.1858 - val_loss: 1.5520 - val_accuracy: 0.0862\n",
            "Epoch 14/500\n",
            "6/6 [==============================] - 3s 501ms/step - loss: 2.4011 - accuracy: 0.1785 - val_loss: 1.5374 - val_accuracy: 0.0913\n",
            "Epoch 15/500\n",
            "6/6 [==============================] - 3s 496ms/step - loss: 2.3316 - accuracy: 0.1985 - val_loss: 1.5319 - val_accuracy: 0.0925\n",
            "Epoch 16/500\n",
            "6/6 [==============================] - 3s 500ms/step - loss: 2.3442 - accuracy: 0.2004 - val_loss: 1.5227 - val_accuracy: 0.0975\n",
            "Epoch 17/500\n",
            "6/6 [==============================] - 3s 507ms/step - loss: 2.2943 - accuracy: 0.2077 - val_loss: 1.5223 - val_accuracy: 0.0913\n",
            "Epoch 18/500\n",
            "6/6 [==============================] - 3s 502ms/step - loss: 2.2826 - accuracy: 0.2180 - val_loss: 1.4886 - val_accuracy: 0.0950\n",
            "Epoch 19/500\n",
            "6/6 [==============================] - 3s 502ms/step - loss: 2.2439 - accuracy: 0.2231 - val_loss: 1.4873 - val_accuracy: 0.0975\n",
            "Epoch 20/500\n",
            "6/6 [==============================] - 3s 504ms/step - loss: 2.1881 - accuracy: 0.2440 - val_loss: 1.4655 - val_accuracy: 0.0988\n",
            "Epoch 21/500\n",
            "6/6 [==============================] - 3s 509ms/step - loss: 2.1871 - accuracy: 0.2366 - val_loss: 1.4729 - val_accuracy: 0.0900\n",
            "Epoch 22/500\n",
            "6/6 [==============================] - 3s 509ms/step - loss: 2.1632 - accuracy: 0.2448 - val_loss: 1.4667 - val_accuracy: 0.0875\n",
            "Epoch 23/500\n",
            "6/6 [==============================] - 3s 507ms/step - loss: 2.1504 - accuracy: 0.2479 - val_loss: 1.4382 - val_accuracy: 0.0900\n",
            "Epoch 24/500\n",
            "6/6 [==============================] - 3s 516ms/step - loss: 2.1585 - accuracy: 0.2425 - val_loss: 1.4199 - val_accuracy: 0.0925\n",
            "Epoch 25/500\n",
            "6/6 [==============================] - 3s 512ms/step - loss: 2.1101 - accuracy: 0.2514 - val_loss: 1.4168 - val_accuracy: 0.0887\n",
            "Epoch 26/500\n",
            "6/6 [==============================] - 3s 505ms/step - loss: 2.0787 - accuracy: 0.2487 - val_loss: 1.4143 - val_accuracy: 0.0988\n",
            "Epoch 27/500\n",
            "6/6 [==============================] - 3s 512ms/step - loss: 2.0927 - accuracy: 0.2511 - val_loss: 1.3699 - val_accuracy: 0.1100\n",
            "Epoch 28/500\n",
            "6/6 [==============================] - 3s 512ms/step - loss: 2.0849 - accuracy: 0.2488 - val_loss: 1.4220 - val_accuracy: 0.0900\n",
            "Epoch 29/500\n",
            "6/6 [==============================] - 3s 516ms/step - loss: 2.0726 - accuracy: 0.2515 - val_loss: 1.3819 - val_accuracy: 0.0887\n",
            "Epoch 30/500\n",
            "6/6 [==============================] - 3s 506ms/step - loss: 2.0117 - accuracy: 0.2724 - val_loss: 1.3996 - val_accuracy: 0.1075\n",
            "Epoch 31/500\n",
            "6/6 [==============================] - 3s 506ms/step - loss: 1.9813 - accuracy: 0.2719 - val_loss: 1.3804 - val_accuracy: 0.1063\n",
            "Epoch 32/500\n",
            "6/6 [==============================] - 3s 508ms/step - loss: 1.9551 - accuracy: 0.2780 - val_loss: 1.3462 - val_accuracy: 0.1050\n",
            "Epoch 33/500\n",
            "6/6 [==============================] - 3s 510ms/step - loss: 1.9747 - accuracy: 0.2758 - val_loss: 1.3647 - val_accuracy: 0.1000\n",
            "Epoch 34/500\n",
            "6/6 [==============================] - 3s 516ms/step - loss: 1.9479 - accuracy: 0.2792 - val_loss: 1.3817 - val_accuracy: 0.0787\n",
            "Epoch 35/500\n",
            "6/6 [==============================] - 3s 511ms/step - loss: 1.9822 - accuracy: 0.2682 - val_loss: 1.3352 - val_accuracy: 0.0850\n",
            "Epoch 36/500\n",
            "6/6 [==============================] - 3s 512ms/step - loss: 1.9406 - accuracy: 0.2782 - val_loss: 1.3804 - val_accuracy: 0.0975\n",
            "Epoch 37/500\n",
            "6/6 [==============================] - 3s 505ms/step - loss: 1.9665 - accuracy: 0.2725 - val_loss: 1.3176 - val_accuracy: 0.1050\n",
            "Epoch 38/500\n",
            "6/6 [==============================] - 3s 505ms/step - loss: 1.8994 - accuracy: 0.2998 - val_loss: 1.3867 - val_accuracy: 0.0988\n",
            "Epoch 39/500\n",
            "6/6 [==============================] - 3s 508ms/step - loss: 1.8789 - accuracy: 0.2818 - val_loss: 1.3344 - val_accuracy: 0.0925\n",
            "Epoch 40/500\n",
            "6/6 [==============================] - 3s 508ms/step - loss: 1.8787 - accuracy: 0.2932 - val_loss: 1.3437 - val_accuracy: 0.1050\n",
            "Epoch 41/500\n",
            "6/6 [==============================] - 3s 517ms/step - loss: 1.8068 - accuracy: 0.3019 - val_loss: 1.3283 - val_accuracy: 0.1075\n",
            "Epoch 42/500\n",
            "6/6 [==============================] - 3s 508ms/step - loss: 1.8374 - accuracy: 0.3187 - val_loss: 1.3371 - val_accuracy: 0.0988\n",
            "Epoch 43/500\n",
            "6/6 [==============================] - 3s 507ms/step - loss: 1.8259 - accuracy: 0.3317 - val_loss: 1.3659 - val_accuracy: 0.1013\n",
            "Epoch 44/500\n",
            "6/6 [==============================] - 3s 506ms/step - loss: 1.7845 - accuracy: 0.3263 - val_loss: 1.3163 - val_accuracy: 0.1075\n",
            "Epoch 45/500\n",
            "6/6 [==============================] - 3s 504ms/step - loss: 1.7465 - accuracy: 0.3505 - val_loss: 1.3463 - val_accuracy: 0.0875\n",
            "Epoch 46/500\n",
            "6/6 [==============================] - 3s 507ms/step - loss: 1.7459 - accuracy: 0.3379 - val_loss: 1.3177 - val_accuracy: 0.1112\n",
            "Epoch 47/500\n",
            "6/6 [==============================] - 3s 508ms/step - loss: 1.7386 - accuracy: 0.3395 - val_loss: 1.3397 - val_accuracy: 0.0925\n",
            "Epoch 48/500\n",
            "6/6 [==============================] - 3s 521ms/step - loss: 1.7206 - accuracy: 0.3487 - val_loss: 1.3263 - val_accuracy: 0.0900\n",
            "Epoch 49/500\n",
            "6/6 [==============================] - 3s 515ms/step - loss: 1.7047 - accuracy: 0.3506 - val_loss: 1.3080 - val_accuracy: 0.0988\n",
            "Epoch 50/500\n",
            "6/6 [==============================] - 3s 510ms/step - loss: 1.6829 - accuracy: 0.3529 - val_loss: 1.3110 - val_accuracy: 0.1050\n",
            "Epoch 51/500\n",
            "6/6 [==============================] - 3s 515ms/step - loss: 1.6781 - accuracy: 0.3548 - val_loss: 1.3025 - val_accuracy: 0.1025\n",
            "Epoch 52/500\n",
            "6/6 [==============================] - 3s 516ms/step - loss: 1.6388 - accuracy: 0.3622 - val_loss: 1.3214 - val_accuracy: 0.1287\n",
            "Epoch 53/500\n",
            "6/6 [==============================] - 3s 520ms/step - loss: 1.6500 - accuracy: 0.3508 - val_loss: 1.3191 - val_accuracy: 0.1138\n",
            "Epoch 54/500\n",
            "6/6 [==============================] - 3s 522ms/step - loss: 1.6677 - accuracy: 0.3649 - val_loss: 1.2981 - val_accuracy: 0.1350\n",
            "Epoch 55/500\n",
            "6/6 [==============================] - 3s 523ms/step - loss: 1.6126 - accuracy: 0.3742 - val_loss: 1.3291 - val_accuracy: 0.1312\n",
            "Epoch 56/500\n",
            "6/6 [==============================] - 3s 519ms/step - loss: 1.6148 - accuracy: 0.3718 - val_loss: 1.2933 - val_accuracy: 0.1125\n",
            "Epoch 57/500\n",
            "6/6 [==============================] - 3s 506ms/step - loss: 1.5971 - accuracy: 0.3744 - val_loss: 1.3257 - val_accuracy: 0.1363\n",
            "Epoch 58/500\n",
            "6/6 [==============================] - 3s 513ms/step - loss: 1.5575 - accuracy: 0.3809 - val_loss: 1.3021 - val_accuracy: 0.1475\n",
            "Epoch 59/500\n",
            "6/6 [==============================] - 3s 515ms/step - loss: 1.5637 - accuracy: 0.3885 - val_loss: 1.3419 - val_accuracy: 0.1437\n",
            "Epoch 60/500\n",
            "6/6 [==============================] - 3s 512ms/step - loss: 1.5438 - accuracy: 0.3866 - val_loss: 1.2690 - val_accuracy: 0.1462\n",
            "Epoch 61/500\n",
            "6/6 [==============================] - 3s 509ms/step - loss: 1.5264 - accuracy: 0.3975 - val_loss: 1.2581 - val_accuracy: 0.1637\n",
            "Epoch 62/500\n",
            "6/6 [==============================] - 3s 515ms/step - loss: 1.5038 - accuracy: 0.3935 - val_loss: 1.3403 - val_accuracy: 0.1375\n",
            "Epoch 63/500\n",
            "6/6 [==============================] - 3s 511ms/step - loss: 1.4870 - accuracy: 0.4174 - val_loss: 1.4489 - val_accuracy: 0.1488\n",
            "Epoch 64/500\n",
            "6/6 [==============================] - 3s 508ms/step - loss: 1.4703 - accuracy: 0.4069 - val_loss: 1.4369 - val_accuracy: 0.1425\n",
            "Epoch 65/500\n",
            "6/6 [==============================] - 3s 515ms/step - loss: 1.4563 - accuracy: 0.4225 - val_loss: 1.4845 - val_accuracy: 0.1663\n",
            "Epoch 66/500\n",
            "6/6 [==============================] - 3s 512ms/step - loss: 1.4696 - accuracy: 0.4238 - val_loss: 1.3089 - val_accuracy: 0.1462\n",
            "Epoch 67/500\n",
            "6/6 [==============================] - 3s 514ms/step - loss: 1.4351 - accuracy: 0.4241 - val_loss: 1.3626 - val_accuracy: 0.1663\n",
            "Epoch 68/500\n",
            "6/6 [==============================] - 3s 518ms/step - loss: 1.4688 - accuracy: 0.4130 - val_loss: 1.2757 - val_accuracy: 0.1887\n",
            "Epoch 69/500\n",
            "6/6 [==============================] - 3s 515ms/step - loss: 1.4042 - accuracy: 0.4261 - val_loss: 1.3891 - val_accuracy: 0.1612\n",
            "Epoch 70/500\n",
            "6/6 [==============================] - 3s 513ms/step - loss: 1.4137 - accuracy: 0.4323 - val_loss: 1.5973 - val_accuracy: 0.1775\n",
            "Epoch 71/500\n",
            "6/6 [==============================] - 3s 513ms/step - loss: 1.4233 - accuracy: 0.4192 - val_loss: 1.2686 - val_accuracy: 0.2100\n",
            "Restoring model weights from the end of the best epoch.\n",
            "Epoch 00071: early stopping\n",
            "Score: 16.375\n"
          ],
          "name": "stdout"
        }
      ]
    },
    {
      "cell_type": "code",
      "metadata": {
        "colab": {
          "base_uri": "https://localhost:8080/",
          "height": 295
        },
        "id": "qxp5Q0HoaZ8N",
        "outputId": "b37d523f-2969-448b-8e34-f78d6a4919d9"
      },
      "source": [
        "import matplotlib.pyplot as plt\n",
        "plt.plot(history.history['loss'])\n",
        "plt.plot(history.history['val_loss'])\n",
        "plt.title('1D CNN Loss')\n",
        "plt.ylabel('loss')\n",
        "plt.xlabel('epoch')\n",
        "plt.legend(['train', 'test'], loc='upper left')\n",
        "plt.show()"
      ],
      "execution_count": 65,
      "outputs": [
        {
          "output_type": "display_data",
          "data": {
            "image/png": "[encoded data removed]",
            "text/plain": [
              "<Figure size 432x288 with 1 Axes>"
            ]
          },
          "metadata": {
            "tags": [],
            "needs_background": "light"
          }
        }
      ]
    },
    {
      "cell_type": "code",
      "metadata": {
        "id": "lHKjJNUKhUsU"
      },
      "source": [
        ""
      ],
      "execution_count": null,
      "outputs": []
    }
  ]
}