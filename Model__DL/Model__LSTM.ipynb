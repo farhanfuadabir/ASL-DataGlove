{
  "nbformat": 4,
  "nbformat_minor": 0,
  "metadata": {
    "colab": {
      "name": "Model__LSTM",
      "provenance": [],
      "collapsed_sections": [
        "V-PLhB0PxXM7",
        "bu7-xHlEyrht",
        "3Uvv_C1Cxeuw",
        "aTed41xMUhNB",
        "NaimpmsdU53y",
        "raadxEyHYONe"
      ],
      "toc_visible": true,
      "mount_file_id": "1vNMeVH6Wok2_r1ce2gYhvh_iMSM-FzZm",
      "authorship_tag": "ABX9TyMTCLdb/VBrJI8jPawTM6M3",
      "include_colab_link": true
    },
    "kernelspec": {
      "display_name": "Python 3",
      "name": "python3"
    },
    "language_info": {
      "name": "python"
    },
    "widgets": {
      "application/vnd.jupyter.widget-state+json": {
        "3f25d7c6bf01415fae8cca35961d529f": {
          "model_module": "@jupyter-widgets/controls",
          "model_name": "HBoxModel",
          "state": {
            "_view_name": "HBoxView",
            "_dom_classes": [],
            "_model_name": "HBoxModel",
            "_view_module": "@jupyter-widgets/controls",
            "_model_module_version": "1.5.0",
            "_view_count": null,
            "_view_module_version": "1.5.0",
            "box_style": "",
            "layout": "IPY_MODEL_afaeef29de0641bf88caead40662dc50",
            "_model_module": "@jupyter-widgets/controls",
            "children": [
              "IPY_MODEL_e748185cdc054a9c8eff1a4b3084445b",
              "IPY_MODEL_275d5a8af6fc49c49ea1ac57d3e3b18c"
            ]
          }
        },
        "afaeef29de0641bf88caead40662dc50": {
          "model_module": "@jupyter-widgets/base",
          "model_name": "LayoutModel",
          "state": {
            "_view_name": "LayoutView",
            "grid_template_rows": null,
            "right": null,
            "justify_content": null,
            "_view_module": "@jupyter-widgets/base",
            "overflow": null,
            "_model_module_version": "1.2.0",
            "_view_count": null,
            "flex_flow": null,
            "width": null,
            "min_width": null,
            "border": null,
            "align_items": null,
            "bottom": null,
            "_model_module": "@jupyter-widgets/base",
            "top": null,
            "grid_column": null,
            "overflow_y": null,
            "overflow_x": null,
            "grid_auto_flow": null,
            "grid_area": null,
            "grid_template_columns": null,
            "flex": null,
            "_model_name": "LayoutModel",
            "justify_items": null,
            "grid_row": null,
            "max_height": null,
            "align_content": null,
            "visibility": null,
            "align_self": null,
            "height": null,
            "min_height": null,
            "padding": null,
            "grid_auto_rows": null,
            "grid_gap": null,
            "max_width": null,
            "order": null,
            "_view_module_version": "1.2.0",
            "grid_template_areas": null,
            "object_position": null,
            "object_fit": null,
            "grid_auto_columns": null,
            "margin": null,
            "display": null,
            "left": null
          }
        },
        "e748185cdc054a9c8eff1a4b3084445b": {
          "model_module": "@jupyter-widgets/controls",
          "model_name": "FloatProgressModel",
          "state": {
            "_view_name": "ProgressView",
            "style": "IPY_MODEL_242a70f86a0446609c0bc0ce48bbe29b",
            "_dom_classes": [],
            "description": "100%",
            "_model_name": "FloatProgressModel",
            "bar_style": "success",
            "max": 7,
            "_view_module": "@jupyter-widgets/controls",
            "_model_module_version": "1.5.0",
            "value": 7,
            "_view_count": null,
            "_view_module_version": "1.5.0",
            "orientation": "horizontal",
            "min": 0,
            "description_tooltip": null,
            "_model_module": "@jupyter-widgets/controls",
            "layout": "IPY_MODEL_ca02bbc3e5634f64928dd5b90e8b1635"
          }
        },
        "275d5a8af6fc49c49ea1ac57d3e3b18c": {
          "model_module": "@jupyter-widgets/controls",
          "model_name": "HTMLModel",
          "state": {
            "_view_name": "HTMLView",
            "style": "IPY_MODEL_f80c7fbf87744bfbbfa8d60c1a663c6c",
            "_dom_classes": [],
            "description": "",
            "_model_name": "HTMLModel",
            "placeholder": "​",
            "_view_module": "@jupyter-widgets/controls",
            "_model_module_version": "1.5.0",
            "value": " 7/7 [01:48&lt;00:00, 15.49s/it]",
            "_view_count": null,
            "_view_module_version": "1.5.0",
            "description_tooltip": null,
            "_model_module": "@jupyter-widgets/controls",
            "layout": "IPY_MODEL_719bd38106404c5ca1b302827fc5356b"
          }
        },
        "242a70f86a0446609c0bc0ce48bbe29b": {
          "model_module": "@jupyter-widgets/controls",
          "model_name": "ProgressStyleModel",
          "state": {
            "_view_name": "StyleView",
            "_model_name": "ProgressStyleModel",
            "description_width": "initial",
            "_view_module": "@jupyter-widgets/base",
            "_model_module_version": "1.5.0",
            "_view_count": null,
            "_view_module_version": "1.2.0",
            "bar_color": null,
            "_model_module": "@jupyter-widgets/controls"
          }
        },
        "ca02bbc3e5634f64928dd5b90e8b1635": {
          "model_module": "@jupyter-widgets/base",
          "model_name": "LayoutModel",
          "state": {
            "_view_name": "LayoutView",
            "grid_template_rows": null,
            "right": null,
            "justify_content": null,
            "_view_module": "@jupyter-widgets/base",
            "overflow": null,
            "_model_module_version": "1.2.0",
            "_view_count": null,
            "flex_flow": null,
            "width": null,
            "min_width": null,
            "border": null,
            "align_items": null,
            "bottom": null,
            "_model_module": "@jupyter-widgets/base",
            "top": null,
            "grid_column": null,
            "overflow_y": null,
            "overflow_x": null,
            "grid_auto_flow": null,
            "grid_area": null,
            "grid_template_columns": null,
            "flex": null,
            "_model_name": "LayoutModel",
            "justify_items": null,
            "grid_row": null,
            "max_height": null,
            "align_content": null,
            "visibility": null,
            "align_self": null,
            "height": null,
            "min_height": null,
            "padding": null,
            "grid_auto_rows": null,
            "grid_gap": null,
            "max_width": null,
            "order": null,
            "_view_module_version": "1.2.0",
            "grid_template_areas": null,
            "object_position": null,
            "object_fit": null,
            "grid_auto_columns": null,
            "margin": null,
            "display": null,
            "left": null
          }
        },
        "f80c7fbf87744bfbbfa8d60c1a663c6c": {
          "model_module": "@jupyter-widgets/controls",
          "model_name": "DescriptionStyleModel",
          "state": {
            "_view_name": "StyleView",
            "_model_name": "DescriptionStyleModel",
            "description_width": "",
            "_view_module": "@jupyter-widgets/base",
            "_model_module_version": "1.5.0",
            "_view_count": null,
            "_view_module_version": "1.2.0",
            "_model_module": "@jupyter-widgets/controls"
          }
        },
        "719bd38106404c5ca1b302827fc5356b": {
          "model_module": "@jupyter-widgets/base",
          "model_name": "LayoutModel",
          "state": {
            "_view_name": "LayoutView",
            "grid_template_rows": null,
            "right": null,
            "justify_content": null,
            "_view_module": "@jupyter-widgets/base",
            "overflow": null,
            "_model_module_version": "1.2.0",
            "_view_count": null,
            "flex_flow": null,
            "width": null,
            "min_width": null,
            "border": null,
            "align_items": null,
            "bottom": null,
            "_model_module": "@jupyter-widgets/base",
            "top": null,
            "grid_column": null,
            "overflow_y": null,
            "overflow_x": null,
            "grid_auto_flow": null,
            "grid_area": null,
            "grid_template_columns": null,
            "flex": null,
            "_model_name": "LayoutModel",
            "justify_items": null,
            "grid_row": null,
            "max_height": null,
            "align_content": null,
            "visibility": null,
            "align_self": null,
            "height": null,
            "min_height": null,
            "padding": null,
            "grid_auto_rows": null,
            "grid_gap": null,
            "max_width": null,
            "order": null,
            "_view_module_version": "1.2.0",
            "grid_template_areas": null,
            "object_position": null,
            "object_fit": null,
            "grid_auto_columns": null,
            "margin": null,
            "display": null,
            "left": null
          }
        },
        "a1950d4a3d9b479bb20e501699696d3c": {
          "model_module": "@jupyter-widgets/controls",
          "model_name": "HBoxModel",
          "state": {
            "_view_name": "HBoxView",
            "_dom_classes": [],
            "_model_name": "HBoxModel",
            "_view_module": "@jupyter-widgets/controls",
            "_model_module_version": "1.5.0",
            "_view_count": null,
            "_view_module_version": "1.5.0",
            "box_style": "",
            "layout": "IPY_MODEL_28aedd1886b448d39117a9753d3153dc",
            "_model_module": "@jupyter-widgets/controls",
            "children": [
              "IPY_MODEL_368167ad8fa64e19b491ca5c0fd09d89",
              "IPY_MODEL_529c83e4db344b2ab7e8f0698949f82f"
            ]
          }
        },
        "28aedd1886b448d39117a9753d3153dc": {
          "model_module": "@jupyter-widgets/base",
          "model_name": "LayoutModel",
          "state": {
            "_view_name": "LayoutView",
            "grid_template_rows": null,
            "right": null,
            "justify_content": null,
            "_view_module": "@jupyter-widgets/base",
            "overflow": null,
            "_model_module_version": "1.2.0",
            "_view_count": null,
            "flex_flow": null,
            "width": null,
            "min_width": null,
            "border": null,
            "align_items": null,
            "bottom": null,
            "_model_module": "@jupyter-widgets/base",
            "top": null,
            "grid_column": null,
            "overflow_y": null,
            "overflow_x": null,
            "grid_auto_flow": null,
            "grid_area": null,
            "grid_template_columns": null,
            "flex": null,
            "_model_name": "LayoutModel",
            "justify_items": null,
            "grid_row": null,
            "max_height": null,
            "align_content": null,
            "visibility": null,
            "align_self": null,
            "height": null,
            "min_height": null,
            "padding": null,
            "grid_auto_rows": null,
            "grid_gap": null,
            "max_width": null,
            "order": null,
            "_view_module_version": "1.2.0",
            "grid_template_areas": null,
            "object_position": null,
            "object_fit": null,
            "grid_auto_columns": null,
            "margin": null,
            "display": null,
            "left": null
          }
        },
        "368167ad8fa64e19b491ca5c0fd09d89": {
          "model_module": "@jupyter-widgets/controls",
          "model_name": "FloatProgressModel",
          "state": {
            "_view_name": "ProgressView",
            "style": "IPY_MODEL_008d4f2665ce485282886afc2c7eced3",
            "_dom_classes": [],
            "description": "100%",
            "_model_name": "FloatProgressModel",
            "bar_style": "success",
            "max": 7,
            "_view_module": "@jupyter-widgets/controls",
            "_model_module_version": "1.5.0",
            "value": 7,
            "_view_count": null,
            "_view_module_version": "1.5.0",
            "orientation": "horizontal",
            "min": 0,
            "description_tooltip": null,
            "_model_module": "@jupyter-widgets/controls",
            "layout": "IPY_MODEL_d88eb2c2fede41efb7562ae6358a55f9"
          }
        },
        "529c83e4db344b2ab7e8f0698949f82f": {
          "model_module": "@jupyter-widgets/controls",
          "model_name": "HTMLModel",
          "state": {
            "_view_name": "HTMLView",
            "style": "IPY_MODEL_510b90e9e9d64f929e0dd37a036a5561",
            "_dom_classes": [],
            "description": "",
            "_model_name": "HTMLModel",
            "placeholder": "​",
            "_view_module": "@jupyter-widgets/controls",
            "_model_module_version": "1.5.0",
            "value": " 7/7 [00:00&lt;00:00, 32.73it/s]",
            "_view_count": null,
            "_view_module_version": "1.5.0",
            "description_tooltip": null,
            "_model_module": "@jupyter-widgets/controls",
            "layout": "IPY_MODEL_98295b9dbe8f44159f7f351f8288b5fe"
          }
        },
        "008d4f2665ce485282886afc2c7eced3": {
          "model_module": "@jupyter-widgets/controls",
          "model_name": "ProgressStyleModel",
          "state": {
            "_view_name": "StyleView",
            "_model_name": "ProgressStyleModel",
            "description_width": "initial",
            "_view_module": "@jupyter-widgets/base",
            "_model_module_version": "1.5.0",
            "_view_count": null,
            "_view_module_version": "1.2.0",
            "bar_color": null,
            "_model_module": "@jupyter-widgets/controls"
          }
        },
        "d88eb2c2fede41efb7562ae6358a55f9": {
          "model_module": "@jupyter-widgets/base",
          "model_name": "LayoutModel",
          "state": {
            "_view_name": "LayoutView",
            "grid_template_rows": null,
            "right": null,
            "justify_content": null,
            "_view_module": "@jupyter-widgets/base",
            "overflow": null,
            "_model_module_version": "1.2.0",
            "_view_count": null,
            "flex_flow": null,
            "width": null,
            "min_width": null,
            "border": null,
            "align_items": null,
            "bottom": null,
            "_model_module": "@jupyter-widgets/base",
            "top": null,
            "grid_column": null,
            "overflow_y": null,
            "overflow_x": null,
            "grid_auto_flow": null,
            "grid_area": null,
            "grid_template_columns": null,
            "flex": null,
            "_model_name": "LayoutModel",
            "justify_items": null,
            "grid_row": null,
            "max_height": null,
            "align_content": null,
            "visibility": null,
            "align_self": null,
            "height": null,
            "min_height": null,
            "padding": null,
            "grid_auto_rows": null,
            "grid_gap": null,
            "max_width": null,
            "order": null,
            "_view_module_version": "1.2.0",
            "grid_template_areas": null,
            "object_position": null,
            "object_fit": null,
            "grid_auto_columns": null,
            "margin": null,
            "display": null,
            "left": null
          }
        },
        "510b90e9e9d64f929e0dd37a036a5561": {
          "model_module": "@jupyter-widgets/controls",
          "model_name": "DescriptionStyleModel",
          "state": {
            "_view_name": "StyleView",
            "_model_name": "DescriptionStyleModel",
            "description_width": "",
            "_view_module": "@jupyter-widgets/base",
            "_model_module_version": "1.5.0",
            "_view_count": null,
            "_view_module_version": "1.2.0",
            "_model_module": "@jupyter-widgets/controls"
          }
        },
        "98295b9dbe8f44159f7f351f8288b5fe": {
          "model_module": "@jupyter-widgets/base",
          "model_name": "LayoutModel",
          "state": {
            "_view_name": "LayoutView",
            "grid_template_rows": null,
            "right": null,
            "justify_content": null,
            "_view_module": "@jupyter-widgets/base",
            "overflow": null,
            "_model_module_version": "1.2.0",
            "_view_count": null,
            "flex_flow": null,
            "width": null,
            "min_width": null,
            "border": null,
            "align_items": null,
            "bottom": null,
            "_model_module": "@jupyter-widgets/base",
            "top": null,
            "grid_column": null,
            "overflow_y": null,
            "overflow_x": null,
            "grid_auto_flow": null,
            "grid_area": null,
            "grid_template_columns": null,
            "flex": null,
            "_model_name": "LayoutModel",
            "justify_items": null,
            "grid_row": null,
            "max_height": null,
            "align_content": null,
            "visibility": null,
            "align_self": null,
            "height": null,
            "min_height": null,
            "padding": null,
            "grid_auto_rows": null,
            "grid_gap": null,
            "max_width": null,
            "order": null,
            "_view_module_version": "1.2.0",
            "grid_template_areas": null,
            "object_position": null,
            "object_fit": null,
            "grid_auto_columns": null,
            "margin": null,
            "display": null,
            "left": null
          }
        },
        "25cfa5e94ce04024a95b316fbf03b051": {
          "model_module": "@jupyter-widgets/controls",
          "model_name": "HBoxModel",
          "state": {
            "_view_name": "HBoxView",
            "_dom_classes": [],
            "_model_name": "HBoxModel",
            "_view_module": "@jupyter-widgets/controls",
            "_model_module_version": "1.5.0",
            "_view_count": null,
            "_view_module_version": "1.5.0",
            "box_style": "",
            "layout": "IPY_MODEL_1f7456f88e8b4805b2fb10d49653e40b",
            "_model_module": "@jupyter-widgets/controls",
            "children": [
              "IPY_MODEL_28051e11b0424a179680e622c1894e00",
              "IPY_MODEL_56f56df8c5f0454ba1d2bd711abf09b6"
            ]
          }
        },
        "1f7456f88e8b4805b2fb10d49653e40b": {
          "model_module": "@jupyter-widgets/base",
          "model_name": "LayoutModel",
          "state": {
            "_view_name": "LayoutView",
            "grid_template_rows": null,
            "right": null,
            "justify_content": null,
            "_view_module": "@jupyter-widgets/base",
            "overflow": null,
            "_model_module_version": "1.2.0",
            "_view_count": null,
            "flex_flow": null,
            "width": null,
            "min_width": null,
            "border": null,
            "align_items": null,
            "bottom": null,
            "_model_module": "@jupyter-widgets/base",
            "top": null,
            "grid_column": null,
            "overflow_y": null,
            "overflow_x": null,
            "grid_auto_flow": null,
            "grid_area": null,
            "grid_template_columns": null,
            "flex": null,
            "_model_name": "LayoutModel",
            "justify_items": null,
            "grid_row": null,
            "max_height": null,
            "align_content": null,
            "visibility": null,
            "align_self": null,
            "height": null,
            "min_height": null,
            "padding": null,
            "grid_auto_rows": null,
            "grid_gap": null,
            "max_width": null,
            "order": null,
            "_view_module_version": "1.2.0",
            "grid_template_areas": null,
            "object_position": null,
            "object_fit": null,
            "grid_auto_columns": null,
            "margin": null,
            "display": null,
            "left": null
          }
        },
        "28051e11b0424a179680e622c1894e00": {
          "model_module": "@jupyter-widgets/controls",
          "model_name": "FloatProgressModel",
          "state": {
            "_view_name": "ProgressView",
            "style": "IPY_MODEL_9f9fa9796ea54dddbefa05ce2b4369a6",
            "_dom_classes": [],
            "description": "100%",
            "_model_name": "FloatProgressModel",
            "bar_style": "success",
            "max": 6,
            "_view_module": "@jupyter-widgets/controls",
            "_model_module_version": "1.5.0",
            "value": 6,
            "_view_count": null,
            "_view_module_version": "1.5.0",
            "orientation": "horizontal",
            "min": 0,
            "description_tooltip": null,
            "_model_module": "@jupyter-widgets/controls",
            "layout": "IPY_MODEL_f1c262f9890444b9b2590fd4fe1cfcbf"
          }
        },
        "56f56df8c5f0454ba1d2bd711abf09b6": {
          "model_module": "@jupyter-widgets/controls",
          "model_name": "HTMLModel",
          "state": {
            "_view_name": "HTMLView",
            "style": "IPY_MODEL_dd96444856204504b7c0cf9001d1569f",
            "_dom_classes": [],
            "description": "",
            "_model_name": "HTMLModel",
            "placeholder": "​",
            "_view_module": "@jupyter-widgets/controls",
            "_model_module_version": "1.5.0",
            "value": " 6/6 [00:00&lt;00:00, 45.25it/s]",
            "_view_count": null,
            "_view_module_version": "1.5.0",
            "description_tooltip": null,
            "_model_module": "@jupyter-widgets/controls",
            "layout": "IPY_MODEL_72f5f28186f84784a2e1dd1bed9fb91f"
          }
        },
        "9f9fa9796ea54dddbefa05ce2b4369a6": {
          "model_module": "@jupyter-widgets/controls",
          "model_name": "ProgressStyleModel",
          "state": {
            "_view_name": "StyleView",
            "_model_name": "ProgressStyleModel",
            "description_width": "initial",
            "_view_module": "@jupyter-widgets/base",
            "_model_module_version": "1.5.0",
            "_view_count": null,
            "_view_module_version": "1.2.0",
            "bar_color": null,
            "_model_module": "@jupyter-widgets/controls"
          }
        },
        "f1c262f9890444b9b2590fd4fe1cfcbf": {
          "model_module": "@jupyter-widgets/base",
          "model_name": "LayoutModel",
          "state": {
            "_view_name": "LayoutView",
            "grid_template_rows": null,
            "right": null,
            "justify_content": null,
            "_view_module": "@jupyter-widgets/base",
            "overflow": null,
            "_model_module_version": "1.2.0",
            "_view_count": null,
            "flex_flow": null,
            "width": null,
            "min_width": null,
            "border": null,
            "align_items": null,
            "bottom": null,
            "_model_module": "@jupyter-widgets/base",
            "top": null,
            "grid_column": null,
            "overflow_y": null,
            "overflow_x": null,
            "grid_auto_flow": null,
            "grid_area": null,
            "grid_template_columns": null,
            "flex": null,
            "_model_name": "LayoutModel",
            "justify_items": null,
            "grid_row": null,
            "max_height": null,
            "align_content": null,
            "visibility": null,
            "align_self": null,
            "height": null,
            "min_height": null,
            "padding": null,
            "grid_auto_rows": null,
            "grid_gap": null,
            "max_width": null,
            "order": null,
            "_view_module_version": "1.2.0",
            "grid_template_areas": null,
            "object_position": null,
            "object_fit": null,
            "grid_auto_columns": null,
            "margin": null,
            "display": null,
            "left": null
          }
        },
        "dd96444856204504b7c0cf9001d1569f": {
          "model_module": "@jupyter-widgets/controls",
          "model_name": "DescriptionStyleModel",
          "state": {
            "_view_name": "StyleView",
            "_model_name": "DescriptionStyleModel",
            "description_width": "",
            "_view_module": "@jupyter-widgets/base",
            "_model_module_version": "1.5.0",
            "_view_count": null,
            "_view_module_version": "1.2.0",
            "_model_module": "@jupyter-widgets/controls"
          }
        },
        "72f5f28186f84784a2e1dd1bed9fb91f": {
          "model_module": "@jupyter-widgets/base",
          "model_name": "LayoutModel",
          "state": {
            "_view_name": "LayoutView",
            "grid_template_rows": null,
            "right": null,
            "justify_content": null,
            "_view_module": "@jupyter-widgets/base",
            "overflow": null,
            "_model_module_version": "1.2.0",
            "_view_count": null,
            "flex_flow": null,
            "width": null,
            "min_width": null,
            "border": null,
            "align_items": null,
            "bottom": null,
            "_model_module": "@jupyter-widgets/base",
            "top": null,
            "grid_column": null,
            "overflow_y": null,
            "overflow_x": null,
            "grid_auto_flow": null,
            "grid_area": null,
            "grid_template_columns": null,
            "flex": null,
            "_model_name": "LayoutModel",
            "justify_items": null,
            "grid_row": null,
            "max_height": null,
            "align_content": null,
            "visibility": null,
            "align_self": null,
            "height": null,
            "min_height": null,
            "padding": null,
            "grid_auto_rows": null,
            "grid_gap": null,
            "max_width": null,
            "order": null,
            "_view_module_version": "1.2.0",
            "grid_template_areas": null,
            "object_position": null,
            "object_fit": null,
            "grid_auto_columns": null,
            "margin": null,
            "display": null,
            "left": null
          }
        },
        "5c6226040bc246bb998add30b5a9a2db": {
          "model_module": "@jupyter-widgets/controls",
          "model_name": "HBoxModel",
          "state": {
            "_view_name": "HBoxView",
            "_dom_classes": [],
            "_model_name": "HBoxModel",
            "_view_module": "@jupyter-widgets/controls",
            "_model_module_version": "1.5.0",
            "_view_count": null,
            "_view_module_version": "1.5.0",
            "box_style": "",
            "layout": "IPY_MODEL_53d06e22903047f99bc17f22ea140bf0",
            "_model_module": "@jupyter-widgets/controls",
            "children": [
              "IPY_MODEL_3012eea678d64fc49abe7f3bcb38b8f3",
              "IPY_MODEL_9d723ce1b2e44a6cbe62897ef0e96545"
            ]
          }
        },
        "53d06e22903047f99bc17f22ea140bf0": {
          "model_module": "@jupyter-widgets/base",
          "model_name": "LayoutModel",
          "state": {
            "_view_name": "LayoutView",
            "grid_template_rows": null,
            "right": null,
            "justify_content": null,
            "_view_module": "@jupyter-widgets/base",
            "overflow": null,
            "_model_module_version": "1.2.0",
            "_view_count": null,
            "flex_flow": null,
            "width": null,
            "min_width": null,
            "border": null,
            "align_items": null,
            "bottom": null,
            "_model_module": "@jupyter-widgets/base",
            "top": null,
            "grid_column": null,
            "overflow_y": null,
            "overflow_x": null,
            "grid_auto_flow": null,
            "grid_area": null,
            "grid_template_columns": null,
            "flex": null,
            "_model_name": "LayoutModel",
            "justify_items": null,
            "grid_row": null,
            "max_height": null,
            "align_content": null,
            "visibility": null,
            "align_self": null,
            "height": null,
            "min_height": null,
            "padding": null,
            "grid_auto_rows": null,
            "grid_gap": null,
            "max_width": null,
            "order": null,
            "_view_module_version": "1.2.0",
            "grid_template_areas": null,
            "object_position": null,
            "object_fit": null,
            "grid_auto_columns": null,
            "margin": null,
            "display": null,
            "left": null
          }
        },
        "3012eea678d64fc49abe7f3bcb38b8f3": {
          "model_module": "@jupyter-widgets/controls",
          "model_name": "FloatProgressModel",
          "state": {
            "_view_name": "ProgressView",
            "style": "IPY_MODEL_950e88b319ca45a08a7f8deffc718cc6",
            "_dom_classes": [],
            "description": "100%",
            "_model_name": "FloatProgressModel",
            "bar_style": "success",
            "max": 1,
            "_view_module": "@jupyter-widgets/controls",
            "_model_module_version": "1.5.0",
            "value": 1,
            "_view_count": null,
            "_view_module_version": "1.5.0",
            "orientation": "horizontal",
            "min": 0,
            "description_tooltip": null,
            "_model_module": "@jupyter-widgets/controls",
            "layout": "IPY_MODEL_9467dc8b02b545a492b2f15486ab5e8c"
          }
        },
        "9d723ce1b2e44a6cbe62897ef0e96545": {
          "model_module": "@jupyter-widgets/controls",
          "model_name": "HTMLModel",
          "state": {
            "_view_name": "HTMLView",
            "style": "IPY_MODEL_4b893c41728d42839861dda55333f745",
            "_dom_classes": [],
            "description": "",
            "_model_name": "HTMLModel",
            "placeholder": "​",
            "_view_module": "@jupyter-widgets/controls",
            "_model_module_version": "1.5.0",
            "value": " 1/1 [00:17&lt;00:00, 17.19s/it]",
            "_view_count": null,
            "_view_module_version": "1.5.0",
            "description_tooltip": null,
            "_model_module": "@jupyter-widgets/controls",
            "layout": "IPY_MODEL_3837b60d0d084b56b019308c10d2baa3"
          }
        },
        "950e88b319ca45a08a7f8deffc718cc6": {
          "model_module": "@jupyter-widgets/controls",
          "model_name": "ProgressStyleModel",
          "state": {
            "_view_name": "StyleView",
            "_model_name": "ProgressStyleModel",
            "description_width": "initial",
            "_view_module": "@jupyter-widgets/base",
            "_model_module_version": "1.5.0",
            "_view_count": null,
            "_view_module_version": "1.2.0",
            "bar_color": null,
            "_model_module": "@jupyter-widgets/controls"
          }
        },
        "9467dc8b02b545a492b2f15486ab5e8c": {
          "model_module": "@jupyter-widgets/base",
          "model_name": "LayoutModel",
          "state": {
            "_view_name": "LayoutView",
            "grid_template_rows": null,
            "right": null,
            "justify_content": null,
            "_view_module": "@jupyter-widgets/base",
            "overflow": null,
            "_model_module_version": "1.2.0",
            "_view_count": null,
            "flex_flow": null,
            "width": null,
            "min_width": null,
            "border": null,
            "align_items": null,
            "bottom": null,
            "_model_module": "@jupyter-widgets/base",
            "top": null,
            "grid_column": null,
            "overflow_y": null,
            "overflow_x": null,
            "grid_auto_flow": null,
            "grid_area": null,
            "grid_template_columns": null,
            "flex": null,
            "_model_name": "LayoutModel",
            "justify_items": null,
            "grid_row": null,
            "max_height": null,
            "align_content": null,
            "visibility": null,
            "align_self": null,
            "height": null,
            "min_height": null,
            "padding": null,
            "grid_auto_rows": null,
            "grid_gap": null,
            "max_width": null,
            "order": null,
            "_view_module_version": "1.2.0",
            "grid_template_areas": null,
            "object_position": null,
            "object_fit": null,
            "grid_auto_columns": null,
            "margin": null,
            "display": null,
            "left": null
          }
        },
        "4b893c41728d42839861dda55333f745": {
          "model_module": "@jupyter-widgets/controls",
          "model_name": "DescriptionStyleModel",
          "state": {
            "_view_name": "StyleView",
            "_model_name": "DescriptionStyleModel",
            "description_width": "",
            "_view_module": "@jupyter-widgets/base",
            "_model_module_version": "1.5.0",
            "_view_count": null,
            "_view_module_version": "1.2.0",
            "_model_module": "@jupyter-widgets/controls"
          }
        },
        "3837b60d0d084b56b019308c10d2baa3": {
          "model_module": "@jupyter-widgets/base",
          "model_name": "LayoutModel",
          "state": {
            "_view_name": "LayoutView",
            "grid_template_rows": null,
            "right": null,
            "justify_content": null,
            "_view_module": "@jupyter-widgets/base",
            "overflow": null,
            "_model_module_version": "1.2.0",
            "_view_count": null,
            "flex_flow": null,
            "width": null,
            "min_width": null,
            "border": null,
            "align_items": null,
            "bottom": null,
            "_model_module": "@jupyter-widgets/base",
            "top": null,
            "grid_column": null,
            "overflow_y": null,
            "overflow_x": null,
            "grid_auto_flow": null,
            "grid_area": null,
            "grid_template_columns": null,
            "flex": null,
            "_model_name": "LayoutModel",
            "justify_items": null,
            "grid_row": null,
            "max_height": null,
            "align_content": null,
            "visibility": null,
            "align_self": null,
            "height": null,
            "min_height": null,
            "padding": null,
            "grid_auto_rows": null,
            "grid_gap": null,
            "max_width": null,
            "order": null,
            "_view_module_version": "1.2.0",
            "grid_template_areas": null,
            "object_position": null,
            "object_fit": null,
            "grid_auto_columns": null,
            "margin": null,
            "display": null,
            "left": null
          }
        }
      }
    }
  },
  "cells": [
    {
      "cell_type": "markdown",
      "metadata": {
        "id": "view-in-github",
        "colab_type": "text"
      },
      "source": [
        "<a href=\"https://colab.research.google.com/github/farhanfuadabir/ASL-DataGlove/blob/main/Model__DL/Model__LSTM.ipynb\" target=\"_parent\"><img src=\"https://colab.research.google.com/assets/colab-badge.svg\" alt=\"Open In Colab\"/></a>"
      ]
    },
    {
      "cell_type": "markdown",
      "metadata": {
        "id": "TKz-06wTxKbt"
      },
      "source": [
        "# **Import** Data\n",
        "\n"
      ]
    },
    {
      "cell_type": "code",
      "metadata": {
        "colab": {
          "base_uri": "https://localhost:8080/"
        },
        "id": "PwXb5PMlaOyP",
        "outputId": "48c58c16-60e4-44e7-cd5f-a6935cb1a026"
      },
      "source": [
        "!unzip -q /content/\\*.zip"
      ],
      "execution_count": null,
      "outputs": [
        {
          "output_type": "stream",
          "text": [
            "\n",
            "7 archives were successfully processed.\n"
          ],
          "name": "stdout"
        }
      ]
    },
    {
      "cell_type": "markdown",
      "metadata": {
        "id": "V-PLhB0PxXM7"
      },
      "source": [
        "# **Load** Dependencies"
      ]
    },
    {
      "cell_type": "code",
      "metadata": {
        "id": "Erl7gSKzOqvW"
      },
      "source": [
        "import os\n",
        "import pandas as pd\n",
        "import numpy as np\n",
        "import scipy as sp\n",
        "import librosa as lb\n",
        "from joblib import load, dump\n",
        "from tqdm.notebook import tqdm\n",
        "from sklearn import preprocessing\n",
        "import matplotlib.pyplot as plt\n",
        "from keras.models import Sequential\n",
        "from keras.layers import Dense\n",
        "from keras.layers import Flatten\n",
        "from keras.layers import Dropout\n",
        "from keras.layers import LSTM\n",
        "from keras.layers import TimeDistributed\n",
        "from keras.layers.convolutional import Conv1D\n",
        "from keras.layers.convolutional import MaxPooling1D\n",
        "from keras.utils import to_categorical"
      ],
      "execution_count": null,
      "outputs": []
    },
    {
      "cell_type": "markdown",
      "metadata": {
        "id": "bu7-xHlEyrht"
      },
      "source": [
        "# **Constants**"
      ]
    },
    {
      "cell_type": "code",
      "metadata": {
        "colab": {
          "base_uri": "https://localhost:8080/"
        },
        "id": "QUXP-NlmmJjV",
        "outputId": "ad3e3e6a-aba1-4d1f-b22a-e55fa42f97bd"
      },
      "source": [
        "# Get user list\n",
        "# _, filenames, _ = next(os.walk(\"/content/Hand-Gesture-Recognition/ContinuousDataAcquisitionPython/Data_032021\"))\n",
        "# users = [os.path.splitext(x)[0] for x in filenames]\n",
        "# users = sorted(users, key=lambda x: (len(x), x))\n",
        "users = ['001', '002', '003', '004', '005', '006', '007']\n",
        "print(users)"
      ],
      "execution_count": null,
      "outputs": [
        {
          "output_type": "stream",
          "text": [
            "['001', '002', '003', '004', '005', '006', '007']\n"
          ],
          "name": "stdout"
        }
      ]
    },
    {
      "cell_type": "code",
      "metadata": {
        "colab": {
          "base_uri": "https://localhost:8080/"
        },
        "id": "7cgj5QFqNlQL",
        "outputId": "608cf347-519e-4de7-c83b-b80aa571ddb5"
      },
      "source": [
        "# Indicate segmentLength, recorditeration according to the 'serialDataAcquisition_segmented.py' script\n",
        "segmentLength = 150\n",
        "recorditeration = 10\n",
        "\n",
        "# ColumnNames according to the 'serialDataAcquisition_segmented.py' script\n",
        "columnName = ['timestamp', 'user_id',\n",
        "              'flex_1', 'flex_2', 'flex_3', 'flex_4', 'flex_5',\n",
        "              'Qw', 'Qx', 'Qy', 'Qz',\n",
        "              'GYRx', 'GYRy', 'GYRz',\n",
        "              'ACCx', 'ACCy', 'ACCz',\n",
        "              'ACCx_body', 'ACCy_body', 'ACCz_body',\n",
        "              'ACCx_world', 'ACCy_world', 'ACCz_world']\n",
        "\n",
        "# gestures = get_gesture_names(userPath)\n",
        "gestures = ['a', 'b', 'c', 'd', 'e', 'f', 'g', 'h', 'i', 'j', 'k', 'l', 'm', \n",
        "            'n', 'o', 'p', 'q', 'r', 's', 't', 'u', 'v', 'w', 'x', 'y', 'z',\n",
        "            'bad', 'deaf', 'fine', 'good', 'goodbye', 'hello', 'hungry',\n",
        "            'me', 'no', 'please', 'sorry', 'thankyou', 'yes', 'you']\n",
        "\n",
        "print('Gesture List: ', gestures)\n",
        "print('Number of Gestures: ', len(gestures))\n",
        "\n",
        "label_encoder = preprocessing.LabelEncoder()\n",
        "label_encoder.fit(gestures)\n",
        "print(\"Number of Gestures Encoded: \", len(label_encoder.classes_))"
      ],
      "execution_count": null,
      "outputs": [
        {
          "output_type": "stream",
          "text": [
            "Gesture List:  ['a', 'b', 'c', 'd', 'e', 'f', 'g', 'h', 'i', 'j', 'k', 'l', 'm', 'n', 'o', 'p', 'q', 'r', 's', 't', 'u', 'v', 'w', 'x', 'y', 'z', 'bad', 'deaf', 'fine', 'good', 'goodbye', 'hello', 'hungry', 'me', 'no', 'please', 'sorry', 'thankyou', 'yes', 'you']\n",
            "Number of Gestures:  40\n",
            "Number of Gestures Encoded:  40\n"
          ],
          "name": "stdout"
        }
      ]
    },
    {
      "cell_type": "markdown",
      "metadata": {
        "id": "3Uvv_C1Cxeuw"
      },
      "source": [
        "# **Load** Functions"
      ]
    },
    {
      "cell_type": "code",
      "metadata": {
        "id": "j3CLG4MFlc78"
      },
      "source": [
        "# Extract user list from the Dataset\n",
        "\n",
        "def get_user_list(userPath):\n",
        "  _, filenames, _ = next(os.walk(\"/content/Hand-Gesture-Recognition/ContinuousDataAcquisitionPython/Data_032021\"))\n",
        "  users = [os.path.splitext(x)[0] for x in filenames]\n",
        "  users = sorted(users, key=lambda x: (len(x), x))\n",
        "  \n",
        "  return users"
      ],
      "execution_count": null,
      "outputs": []
    },
    {
      "cell_type": "code",
      "metadata": {
        "id": "TgmBj5EZT7vv"
      },
      "source": [
        "# Extract gesture names from the filenames\n",
        "\n",
        "def get_gesture_names(userPath):\n",
        "  _, _, filenames = next(os.walk(userPath))\n",
        "  gestures = [os.path.splitext(x)[0] for x in filenames]\n",
        "  gestures = sorted(gestures, key=lambda x: (len(x), x))\n",
        "\n",
        "  return gestures"
      ],
      "execution_count": null,
      "outputs": []
    },
    {
      "cell_type": "code",
      "metadata": {
        "id": "I4VnjoAjqtF0"
      },
      "source": [
        "# Extract rolling median and rolling mean filters on each channel\n",
        "\n",
        "def apply_rolling_filters(path=''):\n",
        "\n",
        "  # SPIKE REMOVAL FOR ALL USERS -> ROLLING MEDIAN[3]\n",
        "  users = ['001', '002', '003', '004', '005', '006', '007']\n",
        "  channels = [\"flex_1\", \"flex_2\", \"flex_3\", \"flex_4\", \"flex_5\"]\n",
        "\n",
        "  gestures = ['a', 'b', 'c', 'd', 'e', 'f', 'g', 'h', 'i', 'j', 'k', 'l', 'm', \n",
        "              'n', 'o', 'p', 'q', 'r', 's', 't', 'u', 'v', 'w', 'x', 'y', 'z',\n",
        "              'bad', 'deaf', 'fine', 'good', 'goodbye', 'hello', 'hungry',\n",
        "              'me', 'no', 'please', 'sorry', 'thankyou', 'yes', 'you']\n",
        "\n",
        "  for user in users:\n",
        "    for gesture in gestures:\n",
        "      data = pd.read_csv(path + user + '/' + gesture + '.csv')\n",
        "      for mode in channels:\n",
        "        data[mode] = data[mode].rolling(3, center=True).median()\n",
        "        data = data.fillna(method='bfill')\n",
        "        data = data.fillna(method='ffill')\n",
        "      data.to_csv(path + user + '/' + gesture + '.csv', index=False)\n",
        "\n",
        "\n",
        "  # SMOOTHING FOR USER 2 ('a'-'m') -> ROLLING AVERAGE[10]\n",
        "  users = ['002']\n",
        "  channels = [\"flex_1\", \"flex_2\", \"flex_3\", \"flex_4\", \"flex_5\"]\n",
        "\n",
        "  gestures = ['a', 'b', 'c', 'd', 'e', 'f', 'g', 'h', 'i', 'j', 'k', 'l', 'm']\n",
        "\n",
        "  for user in users:\n",
        "    for gesture in gestures:\n",
        "      data = pd.read_csv(path + user + '/' + gesture + '.csv')\n",
        "      for mode in channels:\n",
        "        data[mode] = data[mode].rolling(10, center=True).mean()\n",
        "        data = data.fillna(method='bfill')\n",
        "        data = data.fillna(method='ffill')\n",
        "      data.to_csv(path + user + '/' + gesture + '.csv', index=False)\n",
        "\n",
        "\n",
        "  # SMOOTHING FOR USER 4 -> ROLLING AVERAGE[10]\n",
        "  users = ['004']\n",
        "  channels = [\"flex_1\", \"flex_2\", \"flex_3\", \"flex_4\", \"flex_5\"]\n",
        "\n",
        "  gestures = ['a', 'b', 'c', 'd', 'e', 'f', 'g', 'h', 'i', 'j', 'k', 'l', 'm', \n",
        "              'n', 'o', 'p', 'q', 'r', 's', 't', 'u', 'v', 'w', 'x', 'y', 'z',\n",
        "              'bad', 'deaf', 'fine', 'good', 'goodbye', 'hello', 'hungry',\n",
        "              'me', 'no', 'please', 'sorry', 'thankyou', 'yes', 'you']\n",
        "\n",
        "  for user in users:\n",
        "    for gesture in gestures:\n",
        "      data = pd.read_csv(path + user + '/' + gesture + '.csv')\n",
        "      for mode in channels:\n",
        "        data[mode] = data[mode].rolling(10, center=True).mean()\n",
        "        data = data.fillna(method='bfill')\n",
        "        data = data.fillna(method='ffill')\n",
        "      data.to_csv(path + user + '/' + gesture + '.csv', index=False)\n",
        "\n",
        "\n",
        "  # SMOOTHING FOR USER 6 (ASL words) -> ROLLING AVERAGE[10]\n",
        "  users = ['006']\n",
        "  channels = [\"flex_1\", \"flex_2\", \"flex_3\", \"flex_4\", \"flex_5\"]\n",
        "\n",
        "  gestures = ['bad', 'deaf', 'fine', 'good', 'goodbye', 'hello', 'hungry',\n",
        "              'me', 'no', 'please', 'sorry', 'thankyou', 'yes', 'you']\n",
        "\n",
        "  for user in users:\n",
        "    for gesture in gestures:\n",
        "      data = pd.read_csv(path + user + '/' + gesture + '.csv')\n",
        "      for mode in channels:\n",
        "        data[mode] = data[mode].rolling(10, center=True).mean()\n",
        "        data = data.fillna(method='bfill')\n",
        "        data = data.fillna(method='ffill')\n",
        "      data.to_csv(path + user + '/' + gesture + '.csv', index=False)\n",
        "\n",
        "\n",
        "  # SMOOTHING FOR ALL USERS -> ROLLING AVERAGE[10]\n",
        "  users = ['001', '002', '003', '004', '005', '006', '007']\n",
        "  channels = [\"flex_1\", \"flex_2\", \"flex_3\", \"flex_4\", \"flex_5\"]\n",
        "\n",
        "  gestures = ['a', 'b', 'c', 'd', 'e', 'f', 'g', 'h', 'i', 'j', 'k', 'l', 'm', \n",
        "              'n', 'o', 'p', 'q', 'r', 's', 't', 'u', 'v', 'w', 'x', 'y', 'z',\n",
        "              'bad', 'deaf', 'fine', 'good', 'goodbye', 'hello', 'hungry',\n",
        "              'me', 'no', 'please', 'sorry', 'thankyou', 'yes', 'you']\n",
        "\n",
        "  for user in users:\n",
        "    for gesture in gestures:\n",
        "      data = pd.read_csv(path + user + '/' + gesture + '.csv')\n",
        "      for mode in channels:\n",
        "        data[mode] = data[mode].rolling(10, center=True).mean()\n",
        "        data = data.fillna(method='bfill')\n",
        "        data = data.fillna(method='ffill')\n",
        "      data.to_csv(path + user + '/' + gesture + '.csv', index=False)"
      ],
      "execution_count": null,
      "outputs": []
    },
    {
      "cell_type": "code",
      "metadata": {
        "id": "ViqjdzyYUFEn"
      },
      "source": [
        "# Extract Channels From Raw Dataset\n",
        "\n",
        "def extract_channels(columns, segmentLength, recorditeration, \n",
        "                     userPath, storePath, writeFormat='JOBLIB'):\n",
        "  # Make a directory named 'Channels' in the 'storePath' if there is none already\n",
        "  if not os.path.isdir(storePath):\n",
        "    currentPath = os.getcwd()\n",
        "    os.mkdir(currentPath + '/' + storePath)\n",
        "    print(\"Created Folder: \", currentPath + '/' + storePath)\n",
        "\n",
        "  if 'user_id' in columns:\n",
        "    columns.remove('user_id')\n",
        "\n",
        "  for file in gestures:\n",
        "    # Make a directory after the gesture name in the 'Channels' folder, if there is none already\n",
        "    if not os.path.isdir(storePath + '/' + file):\n",
        "      currentPath = os.getcwd()\n",
        "      os.mkdir(currentPath + '/' + storePath + '/' + file)\n",
        "\n",
        "    source = pd.read_csv(userPath + '/' + file + '.csv')    \n",
        "    \n",
        "    for channel in columns:\n",
        "      temp = source[channel].to_numpy()    \n",
        "      arr = np.expand_dims(temp, axis=0).reshape(-1,segmentLength)\n",
        "      if writeFormat.lower() == 'joblib':\n",
        "        dump(arr, storePath + '/' + file + '/' + channel + '.joblib')\n",
        "      elif writeFormat.lower() == 'csv':\n",
        "        np.savetxt(storePath + '/' + file + '/' + channel + '.csv', arr, delimiter=\",\")\n",
        "      else:\n",
        "        raise ValueError(\"Invalid WriteFormat. This function can only write 'CSV' or 'JOBLIB'.\")\n",
        "  \n",
        "  compile_channels(columns, storePath)\n",
        "\n",
        "\n",
        "def compile_channels(columnName, storePath, verbose=False):\n",
        "  for channel in columnName:\n",
        "    df = pd.DataFrame()\n",
        "\n",
        "    for file in gestures:\n",
        "      temp = load(storePath + '/' + file + '/' + channel + '.joblib')\n",
        "      temp = pd.DataFrame(temp)\n",
        "      #to add label with the data\n",
        "      temp = temp.assign(label=file)   \n",
        "      df = df.append(temp, ignore_index=True)\n",
        "    \n",
        "    if verbose == True:\n",
        "      print('Processing ', channel, '... Done | shape: ', df.shape)\n",
        "    \n",
        "    if not os.path.isdir(storePath + '/Channels'):\n",
        "      currentPath = os.getcwd()\n",
        "      os.mkdir(currentPath + '/' + storePath + '/Channels')\n",
        "    \n",
        "    dump(df['label'], storePath + '/label' + '.joblib')\n",
        "    df = df.drop(['label'], axis=1).to_numpy()\n",
        "    dump(df, storePath + '/Channels/' + channel + '.joblib')"
      ],
      "execution_count": null,
      "outputs": []
    },
    {
      "cell_type": "code",
      "metadata": {
        "id": "SezR3p0FBsfZ"
      },
      "source": [
        "# Scale Channels Per User within (0, 1)\n",
        "\n",
        "def scale_channels_per_user(users, channels, gestures, path=''):\n",
        "\n",
        "  print(users)\n",
        "  print(channels)\n",
        "  print(gestures)\n",
        "\n",
        "  max = [[] for i in range(len(users))]\n",
        "  min = [[] for i in range(len(users))]\n",
        "\n",
        "  max_gesture = [[] for i in range(len(users))]\n",
        "  min_gesture = [[] for i in range(len(users))]\n",
        "  for idx_user, user in enumerate(users):\n",
        "    for channel in channels:\n",
        "      max_array = np.zeros([recorditeration, segmentLength])\n",
        "      min_array = np.full((recorditeration, segmentLength), 1000) \n",
        "      for gesture in gestures:\n",
        "        data = load(path + user + '/Processed/' + gesture + '/' + channel + '.joblib')\n",
        "        if np.max(data) > np.max(max_array):\n",
        "          max_temp = gesture\n",
        "        if np.min(data) < np.min(min_array):\n",
        "          min_temp = gesture\n",
        "        max_array = np.maximum(max_array, data)\n",
        "        min_array = np.minimum(min_array, data)\n",
        "      max[idx_user].append(np.max(max_array))\n",
        "      min[idx_user].append(np.min(min_array))\n",
        "      max_gesture[idx_user].append(max_temp)\n",
        "      min_gesture[idx_user].append(min_temp)\n",
        "\n",
        "  for idx_user, user in enumerate(users):\n",
        "    for idx_channel, channel in enumerate(channels):\n",
        "      for gesture in gestures:\n",
        "        data = load(path + user + '/Processed/' + gesture + '/' + channel + '.joblib')\n",
        "        data = (data - min[idx_user][idx_channel]) / (max[idx_user][idx_channel] - min[idx_user][idx_channel])\n",
        "        dump(data, path + user + '/Processed/' + gesture + '/' + channel + '.joblib')\n",
        "\n",
        "  print(\"max array: \", max)\n",
        "  print(\"max at gestures: \", max_gesture)\n",
        "  print(\"max array length: \", len(max))\n",
        "  print(\"min array: \", min)\n",
        "  print(\"min at gestures: \", min_gesture)\n",
        "  print(\"min array length: \", len(min))"
      ],
      "execution_count": null,
      "outputs": []
    },
    {
      "cell_type": "markdown",
      "metadata": {
        "id": "08yD2mDgFiuC"
      },
      "source": [
        "# **Preprocess** and **Extract** Channels "
      ]
    },
    {
      "cell_type": "code",
      "metadata": {
        "colab": {
          "base_uri": "https://localhost:8080/",
          "height": 321,
          "referenced_widgets": [
            "3f25d7c6bf01415fae8cca35961d529f",
            "afaeef29de0641bf88caead40662dc50",
            "e748185cdc054a9c8eff1a4b3084445b",
            "275d5a8af6fc49c49ea1ac57d3e3b18c",
            "242a70f86a0446609c0bc0ce48bbe29b",
            "ca02bbc3e5634f64928dd5b90e8b1635",
            "f80c7fbf87744bfbbfa8d60c1a663c6c",
            "719bd38106404c5ca1b302827fc5356b"
          ]
        },
        "id": "LXQO46PMPBEe",
        "outputId": "c13fb9e4-9f47-41fd-c54c-4671f957e25f"
      },
      "source": [
        "# Apply Rolling Filters\n",
        "print(\"Applying Rolling Filters...\", end='')\n",
        "apply_rolling_filters()\n",
        "print(\"Done\\n\\n\")\n",
        "\n",
        "\n",
        "# Extract Channels\n",
        "print(\"Extracting Channels...\\n\")\n",
        "\n",
        "for user in tqdm(users):\n",
        "  userPath = user\n",
        "  storePath = userPath + '/' + 'Processed'\n",
        "  extract_channels(columnName, segmentLength, recorditeration, \n",
        "                   userPath=userPath, storePath=storePath, writeFormat='joblib')\n",
        "print(\"Done\\n\\n\")\n",
        "\n",
        "\n",
        "# # Scale Channels\n",
        "# print(\"Applying Scaling...\", end='')\n",
        "# scale_channels_per_user(users=users, channels=['flex_1', 'flex_2', 'flex_3', \n",
        "#                                          'flex_4', 'flex_5'], gestures=gestures)\n",
        "# print(\"Done\\n\\n\")\n"
      ],
      "execution_count": null,
      "outputs": [
        {
          "output_type": "stream",
          "text": [
            "Applying Rolling Filters...Done\n",
            "\n",
            "\n",
            "Extracting Channels...\n",
            "\n"
          ],
          "name": "stdout"
        },
        {
          "output_type": "display_data",
          "data": {
            "application/vnd.jupyter.widget-view+json": {
              "model_id": "3f25d7c6bf01415fae8cca35961d529f",
              "version_minor": 0,
              "version_major": 2
            },
            "text/plain": [
              "HBox(children=(FloatProgress(value=0.0, max=7.0), HTML(value='')))"
            ]
          },
          "metadata": {
            "tags": []
          }
        },
        {
          "output_type": "stream",
          "text": [
            "Created Folder:  /content/001/Processed\n",
            "Created Folder:  /content/002/Processed\n",
            "Created Folder:  /content/003/Processed\n",
            "Created Folder:  /content/004/Processed\n",
            "Created Folder:  /content/005/Processed\n",
            "Created Folder:  /content/006/Processed\n",
            "Created Folder:  /content/007/Processed\n",
            "\n",
            "Done\n",
            "\n",
            "\n"
          ],
          "name": "stdout"
        }
      ]
    },
    {
      "cell_type": "code",
      "metadata": {
        "colab": {
          "base_uri": "https://localhost:8080/"
        },
        "id": "O8yoamtae1xC",
        "outputId": "174b4511-9916-466b-a23f-6ac6ac50af41"
      },
      "source": [
        " \n",
        "# load a list of files and return as a 3d numpy array\n",
        "def stack_channels(filenames, path):\n",
        "\tloaded = list()\n",
        "\tfor name in filenames:\n",
        "\t\tdata = load(path + name)\n",
        "\t\tloaded.append(data)\n",
        "\t# stack group so that features are the 3rd dimension\n",
        "\tloaded = np.dstack(loaded)\n",
        "\treturn loaded\n",
        " \n",
        "# load a dataset group, such as train or test\n",
        "def load_dataset(path):\n",
        "  channel_path = 'Channels/'\n",
        "  # load all 3 files as a single array\n",
        "  filenames = ['ACCx_world.joblib', 'ACCy_world.joblib', 'ACCz_world.joblib', 'GYRx.joblib', 'GYRy.joblib', 'GYRz.joblib', 'flex_1.joblib', 'flex_2.joblib', 'flex_3.joblib', 'flex_4.joblib', 'flex_5.joblib']\n",
        "  # load input data\n",
        "  X = stack_channels(filenames, path + channel_path)\n",
        "  # load class output\n",
        "  y = load(path + 'label.joblib').to_numpy()\n",
        "  # one-hot-encode labels\n",
        "  y = to_categorical(label_encoder.transform(y))\n",
        "  return X, y\n"
      ],
      "execution_count": null,
      "outputs": [
        {
          "output_type": "stream",
          "text": [
            "(400, 150, 11)\n",
            "(400, 40)\n"
          ],
          "name": "stdout"
        }
      ]
    },
    {
      "cell_type": "code",
      "metadata": {
        "colab": {
          "base_uri": "https://localhost:8080/",
          "height": 117,
          "referenced_widgets": [
            "a1950d4a3d9b479bb20e501699696d3c",
            "28aedd1886b448d39117a9753d3153dc",
            "368167ad8fa64e19b491ca5c0fd09d89",
            "529c83e4db344b2ab7e8f0698949f82f",
            "008d4f2665ce485282886afc2c7eced3",
            "d88eb2c2fede41efb7562ae6358a55f9",
            "510b90e9e9d64f929e0dd37a036a5561",
            "98295b9dbe8f44159f7f351f8288b5fe"
          ]
        },
        "id": "ZNLDo_dm0WmH",
        "outputId": "b729e6a2-5795-42de-ade9-17a681028b66"
      },
      "source": [
        "# Extract Channels and Lables\n",
        "print(\"Extracting Channels and Labels...\\n\")\n",
        "channel_sets = []\n",
        "label_sets = []\n",
        "\n",
        "for user in tqdm(users):\n",
        "  channel_path = '/content/' + user + '/Processed/'\n",
        "  X_temp, y_temp = load_dataset(channel_path)\n",
        "  channel_sets.append(X_temp)\n",
        "  label_sets.append(y_temp)\n",
        "print(\"Done\")"
      ],
      "execution_count": null,
      "outputs": [
        {
          "output_type": "stream",
          "text": [
            "Extracting Channels and Labels...\n",
            "\n"
          ],
          "name": "stdout"
        },
        {
          "output_type": "display_data",
          "data": {
            "application/vnd.jupyter.widget-view+json": {
              "model_id": "a1950d4a3d9b479bb20e501699696d3c",
              "version_minor": 0,
              "version_major": 2
            },
            "text/plain": [
              "HBox(children=(FloatProgress(value=0.0, max=7.0), HTML(value='')))"
            ]
          },
          "metadata": {
            "tags": []
          }
        },
        {
          "output_type": "stream",
          "text": [
            "\n",
            "Done\n"
          ],
          "name": "stdout"
        }
      ]
    },
    {
      "cell_type": "markdown",
      "metadata": {
        "id": "5CaGQMgnrolE"
      },
      "source": [
        "# **Set** Train and Test Set"
      ]
    },
    {
      "cell_type": "code",
      "metadata": {
        "colab": {
          "base_uri": "https://localhost:8080/"
        },
        "id": "OYA-VztT1GH_",
        "outputId": "379fbaf6-8318-49e0-c995-4172f8e8d3b4"
      },
      "source": [
        "# test_users = ['002', '004', '007']\n",
        "test_users = ['001']\n",
        "train_users = [x for x in users if x not in test_users]\n",
        "\n",
        "print(\"Train Set User ID: \", train_users)\n",
        "print(\"Test Set User ID: \", test_users)"
      ],
      "execution_count": null,
      "outputs": [
        {
          "output_type": "stream",
          "text": [
            "Train Set User ID:  ['002', '003', '004', '005', '006', '007']\n",
            "Test Set User ID:  ['001']\n"
          ],
          "name": "stdout"
        }
      ]
    },
    {
      "cell_type": "code",
      "metadata": {
        "colab": {
          "base_uri": "https://localhost:8080/",
          "referenced_widgets": [
            "25cfa5e94ce04024a95b316fbf03b051",
            "1f7456f88e8b4805b2fb10d49653e40b",
            "28051e11b0424a179680e622c1894e00",
            "56f56df8c5f0454ba1d2bd711abf09b6",
            "9f9fa9796ea54dddbefa05ce2b4369a6",
            "f1c262f9890444b9b2590fd4fe1cfcbf",
            "dd96444856204504b7c0cf9001d1569f",
            "72f5f28186f84784a2e1dd1bed9fb91f",
            "5c6226040bc246bb998add30b5a9a2db",
            "53d06e22903047f99bc17f22ea140bf0",
            "3012eea678d64fc49abe7f3bcb38b8f3",
            "9d723ce1b2e44a6cbe62897ef0e96545",
            "950e88b319ca45a08a7f8deffc718cc6",
            "9467dc8b02b545a492b2f15486ab5e8c",
            "4b893c41728d42839861dda55333f745",
            "3837b60d0d084b56b019308c10d2baa3"
          ]
        },
        "id": "blmdglkZ1LVe",
        "outputId": "0cd37fc7-bf17-43db-f4f5-2d9fd095412a"
      },
      "source": [
        "print(\"Compiling Train Set... \")\n",
        "\n",
        "X_train = np.zeros(channel_sets[0].shape)\n",
        "y_train = np.zeros(label_sets[0].shape)\n",
        "\n",
        "for user in tqdm(train_users):\n",
        "  X_train = np.append(X_train, channel_sets[int(user)-1], axis=0)\n",
        "  y_train = np.append(y_train, label_sets[int(user)-1], axis=0)\n",
        "\n",
        "print(\"X_train shape: \", X_train.shape)\n",
        "print(\"y_train shape: \", y_train.shape)\n",
        "\n",
        "\n",
        "print(\"\\n\\nCompiling Train Set... \")\n",
        "\n",
        "X_test = np.zeros(channel_sets[0].shape)\n",
        "y_test = np.zeros(label_sets[0].shape)\n",
        "\n",
        "for user in tqdm(test_users):\n",
        "  X_test = np.append(X_test, channel_sets[int(user)-1], axis=0)\n",
        "  y_test = np.append(y_test, label_sets[int(user)-1], axis=0)\n",
        "\n",
        "print(\"X_test shape: \", X_test.shape)\n",
        "print(\"y_test shape: \", y_test.shape)"
      ],
      "execution_count": null,
      "outputs": [
        {
          "output_type": "stream",
          "text": [
            "Compiling Train Set... \n"
          ],
          "name": "stdout"
        },
        {
          "output_type": "display_data",
          "data": {
            "application/vnd.jupyter.widget-view+json": {
              "model_id": "25cfa5e94ce04024a95b316fbf03b051",
              "version_minor": 0,
              "version_major": 2
            },
            "text/plain": [
              "HBox(children=(FloatProgress(value=0.0, max=6.0), HTML(value='')))"
            ]
          },
          "metadata": {
            "tags": []
          }
        },
        {
          "output_type": "stream",
          "text": [
            "\n",
            "X_train shape:  (2800, 150, 11)\n",
            "y_train shape:  (2800, 40)\n",
            "\n",
            "\n",
            "Compiling Train Set... \n"
          ],
          "name": "stdout"
        },
        {
          "output_type": "display_data",
          "data": {
            "application/vnd.jupyter.widget-view+json": {
              "model_id": "5c6226040bc246bb998add30b5a9a2db",
              "version_minor": 0,
              "version_major": 2
            },
            "text/plain": [
              "HBox(children=(FloatProgress(value=0.0, max=1.0), HTML(value='')))"
            ]
          },
          "metadata": {
            "tags": []
          }
        },
        {
          "output_type": "stream",
          "text": [
            "\n",
            "X_test shape:  (800, 150, 11)\n",
            "y_test shape:  (800, 40)\n"
          ],
          "name": "stdout"
        }
      ]
    },
    {
      "cell_type": "markdown",
      "metadata": {
        "id": "XakzGf-_z4hT"
      },
      "source": [
        "# **LSTM** Model"
      ]
    },
    {
      "cell_type": "code",
      "metadata": {
        "id": "3acpXxpme1rN"
      },
      "source": [
        "from keras import backend as K\n",
        "\n",
        "def recall_m(y_true, y_pred):\n",
        "  true_positives = K.sum(K.round(K.clip(y_true * y_pred, 0, 1)))\n",
        "  possible_positives = K.sum(K.round(K.clip(y_true, 0, 1)))\n",
        "  recall = true_positives / (possible_positives + K.epsilon())\n",
        "  return recall\n",
        "\n",
        "def precision_m(y_true, y_pred):\n",
        "  true_positives = K.sum(K.round(K.clip(y_true * y_pred, 0, 1)))\n",
        "  predicted_positives = K.sum(K.round(K.clip(y_pred, 0, 1)))\n",
        "  precision = true_positives / (predicted_positives + K.epsilon())\n",
        "  return precision\n",
        "\n",
        "def f1_m(y_true, y_pred):\n",
        "  precision = precision_m(y_true, y_pred)\n",
        "  recall = recall_m(y_true, y_pred)\n",
        "  return 2*((precision*recall)/(precision+recall+K.epsilon()))\n",
        "\n",
        "# fit and evaluate a model\n",
        "def evaluate_model(trainX, trainy, testX, testy, verbose, epochs, batch_size):\n",
        "  n_timesteps, n_features, n_outputs = trainX.shape[1], trainX.shape[2], trainy.shape[1]\n",
        "  model = Sequential()\n",
        "  model.add(LSTM(100, input_shape=(n_timesteps,n_features)))\n",
        "  model.add(Dropout(0.5))\n",
        "  model.add(Dense(100, activation='relu'))\n",
        "  model.add(Dense(n_outputs, activation='softmax'))\n",
        "  model.compile(loss='categorical_crossentropy', optimizer='adam', \n",
        "                metrics=['accuracy', f1_m, precision_m, recall_m])\n",
        "  print(model.summary())\n",
        "  print('\\n\\n')\n",
        "  # fit network\n",
        "  # model.fit(trainX, trainy, epochs=epochs, batch_size=batch_size, verbose=verbose)\n",
        "  # # evaluate model\n",
        "  # _, accuracy = model.evaluate(testX, testy, batch_size=batch_size, verbose=0)\n",
        "  import time\n",
        "  t_start = time.clock()\n",
        "  from keras import callbacks \n",
        "  earlystopping = callbacks.EarlyStopping(monitor =\"val_loss\", mode =\"min\", \n",
        "                                          patience = 20, verbose = 1, \n",
        "                                          restore_best_weights = True) \n",
        "\n",
        "  history = model.fit(trainX, trainy, batch_size = batch_size,  \n",
        "                      epochs = epochs, validation_data =(testX, testy),  \n",
        "                      callbacks =[earlystopping])\n",
        "  #history = model.fit(trainX, trainy, epochs=epochs, batch_size=batch_size, verbose=verbose)\n",
        "\n",
        "  t_end = time.clock()\n",
        "\n",
        "  print('\\n\\n\\n')\n",
        "\n",
        "  #_, accuracy_train = model.evaluate(X_train, y_train)\n",
        "  loss_train, accuracy_train, f1_score_train, precision_train, recall_train = model.evaluate(trainX, trainy, verbose=1)\n",
        "  print('Train Accuracy: %.2f' % (accuracy_train*100))\n",
        "  print('Train F1 Score: %.2f' % (f1_score_train*100))\n",
        "  print('Train Time: ', t_end - t_start)\n",
        "\n",
        "  t_start = time.clock()\n",
        "  #_, accuracy_test = model.evaluate(X_test, y_test)\n",
        "  loss_test, accuracy_test, f1_score_test, precision_test, recall_test = model.evaluate(testX, testy, verbose=1)\n",
        "  print('Test Accuracy: %.2f' % (accuracy_test*100))\n",
        "  print('Test F1 Score: %.2f' % (f1_score_test*100))\n",
        "  t_end = time.clock()\n",
        "  print('Test Time: ', t_end - t_start)\n",
        "\n",
        "  return f1_score_test, history\n",
        " \n",
        "# summarize scores\n",
        "def summarize_results(scores):\n",
        "\tprint(scores)\n",
        "\tm, s = np.mean(scores), np.std(scores)\n",
        "\tprint('Accuracy: %.3f%% (+/-%.3f)' % (m, s))\n",
        " \n",
        "# run an experiment\n",
        "def run_experiment(repeats=10, verbose=True, epochs=10, batch_size=32):\n",
        "  # repeat experiment\n",
        "  scores = list()\n",
        "  for r in tqdm(range(repeats)):\n",
        "    score, history = evaluate_model(trainX, trainy, testX, testy, verbose, epochs, batch_size)\n",
        "    print('%.3f' % (score * 100.0))\n",
        "    scores.append(score)\n",
        "  # summarize results\n",
        "  summarize_results(scores)"
      ],
      "execution_count": null,
      "outputs": []
    },
    {
      "cell_type": "markdown",
      "metadata": {
        "id": "e903Kduh0EUj"
      },
      "source": [
        "# **Train**"
      ]
    },
    {
      "cell_type": "code",
      "metadata": {
        "id": "RFlsIBthe1nX",
        "colab": {
          "base_uri": "https://localhost:8080/"
        },
        "outputId": "a4c98083-ffd7-49fe-b3e8-6f74ce4656e0"
      },
      "source": [
        "# for single iteration\n",
        "score, history = evaluate_model(X_train, y_train, X_test, y_test, verbose=True, epochs=150, batch_size=16)\n",
        "print('Score:', '%.3f' % (score * 100.0))"
      ],
      "execution_count": null,
      "outputs": [
        {
          "output_type": "stream",
          "text": [
            "Model: \"sequential_2\"\n",
            "_________________________________________________________________\n",
            "Layer (type)                 Output Shape              Param #   \n",
            "=================================================================\n",
            "lstm_1 (LSTM)                (None, 100)               44800     \n",
            "_________________________________________________________________\n",
            "dropout_1 (Dropout)          (None, 100)               0         \n",
            "_________________________________________________________________\n",
            "dense_2 (Dense)              (None, 100)               10100     \n",
            "_________________________________________________________________\n",
            "dense_3 (Dense)              (None, 40)                4040      \n",
            "=================================================================\n",
            "Total params: 58,940\n",
            "Trainable params: 58,940\n",
            "Non-trainable params: 0\n",
            "_________________________________________________________________\n",
            "None\n",
            "\n",
            "\n",
            "\n",
            "Epoch 1/150\n"
          ],
          "name": "stdout"
        },
        {
          "output_type": "stream",
          "text": [
            "/usr/local/lib/python3.7/dist-packages/ipykernel_launcher.py:37: DeprecationWarning: time.clock has been deprecated in Python 3.3 and will be removed from Python 3.8: use time.perf_counter or time.process_time instead\n"
          ],
          "name": "stderr"
        },
        {
          "output_type": "stream",
          "text": [
            "175/175 [==============================] - 15s 74ms/step - loss: 2.8343 - accuracy: 0.1359 - f1_m: 0.0043 - precision_m: 0.0256 - recall_m: 0.0024 - val_loss: 0.9223 - val_accuracy: 0.1937 - val_f1_m: 0.0469 - val_precision_m: 0.1000 - val_recall_m: 0.0325\n",
            "Epoch 2/150\n",
            "175/175 [==============================] - 12s 70ms/step - loss: 1.5922 - accuracy: 0.3519 - f1_m: 0.1758 - precision_m: 0.6395 - recall_m: 0.1064 - val_loss: 0.7289 - val_accuracy: 0.2113 - val_f1_m: 0.1327 - val_precision_m: 0.2105 - val_recall_m: 0.1075\n",
            "Epoch 3/150\n",
            "175/175 [==============================] - 12s 71ms/step - loss: 1.3787 - accuracy: 0.3735 - f1_m: 0.2838 - precision_m: 0.5794 - recall_m: 0.1971 - val_loss: 0.7333 - val_accuracy: 0.2163 - val_f1_m: 0.1568 - val_precision_m: 0.2247 - val_recall_m: 0.1325\n",
            "Epoch 4/150\n",
            "175/175 [==============================] - 12s 71ms/step - loss: 1.3499 - accuracy: 0.3928 - f1_m: 0.3162 - precision_m: 0.5483 - recall_m: 0.2304 - val_loss: 0.7636 - val_accuracy: 0.2200 - val_f1_m: 0.1257 - val_precision_m: 0.2176 - val_recall_m: 0.1000\n",
            "Epoch 5/150\n",
            "175/175 [==============================] - 12s 71ms/step - loss: 1.3506 - accuracy: 0.3748 - f1_m: 0.3382 - precision_m: 0.5565 - recall_m: 0.2525 - val_loss: 0.7403 - val_accuracy: 0.2338 - val_f1_m: 0.1701 - val_precision_m: 0.2665 - val_recall_m: 0.1388\n",
            "Epoch 6/150\n",
            "175/175 [==============================] - 12s 71ms/step - loss: 1.3487 - accuracy: 0.4066 - f1_m: 0.3491 - precision_m: 0.5309 - recall_m: 0.2677 - val_loss: 0.8306 - val_accuracy: 0.1875 - val_f1_m: 0.1279 - val_precision_m: 0.1903 - val_recall_m: 0.1025\n",
            "Epoch 7/150\n",
            "175/175 [==============================] - 12s 71ms/step - loss: 1.5705 - accuracy: 0.3489 - f1_m: 0.2971 - precision_m: 0.4911 - recall_m: 0.2208 - val_loss: 0.7348 - val_accuracy: 0.2350 - val_f1_m: 0.1660 - val_precision_m: 0.2696 - val_recall_m: 0.1350\n",
            "Epoch 8/150\n",
            "175/175 [==============================] - 12s 71ms/step - loss: 1.5313 - accuracy: 0.3690 - f1_m: 0.2968 - precision_m: 0.4704 - recall_m: 0.2251 - val_loss: 0.8557 - val_accuracy: 0.2237 - val_f1_m: 0.1539 - val_precision_m: 0.2270 - val_recall_m: 0.1262\n",
            "Epoch 9/150\n",
            "175/175 [==============================] - 12s 71ms/step - loss: 1.5640 - accuracy: 0.3586 - f1_m: 0.3174 - precision_m: 0.4708 - recall_m: 0.2502 - val_loss: 0.9185 - val_accuracy: 0.7013 - val_f1_m: 0.1577 - val_precision_m: 0.2638 - val_recall_m: 0.1300\n",
            "Epoch 10/150\n",
            "175/175 [==============================] - 12s 70ms/step - loss: 1.5675 - accuracy: 0.3786 - f1_m: 0.3246 - precision_m: 0.4793 - recall_m: 0.2545 - val_loss: 0.8433 - val_accuracy: 0.2575 - val_f1_m: 0.1887 - val_precision_m: 0.2509 - val_recall_m: 0.1612\n",
            "Epoch 11/150\n",
            "175/175 [==============================] - 12s 71ms/step - loss: 1.7427 - accuracy: 0.3406 - f1_m: 0.2909 - precision_m: 0.4582 - recall_m: 0.2215 - val_loss: 0.9523 - val_accuracy: 0.2087 - val_f1_m: 0.1201 - val_precision_m: 0.2053 - val_recall_m: 0.0900\n",
            "Epoch 12/150\n",
            "175/175 [==============================] - 12s 71ms/step - loss: 1.7387 - accuracy: 0.3275 - f1_m: 0.2477 - precision_m: 0.4118 - recall_m: 0.1851 - val_loss: 1.0558 - val_accuracy: 0.1762 - val_f1_m: 0.0895 - val_precision_m: 0.1653 - val_recall_m: 0.0650\n",
            "Epoch 13/150\n",
            "175/175 [==============================] - 12s 71ms/step - loss: 1.7487 - accuracy: 0.3325 - f1_m: 0.2500 - precision_m: 0.4350 - recall_m: 0.1832 - val_loss: 0.8382 - val_accuracy: 0.2200 - val_f1_m: 0.1035 - val_precision_m: 0.1962 - val_recall_m: 0.0787\n",
            "Epoch 14/150\n",
            "175/175 [==============================] - 12s 71ms/step - loss: 1.5837 - accuracy: 0.3547 - f1_m: 0.2610 - precision_m: 0.4309 - recall_m: 0.1982 - val_loss: 0.8979 - val_accuracy: 0.1813 - val_f1_m: 0.0925 - val_precision_m: 0.1775 - val_recall_m: 0.0688\n",
            "Epoch 15/150\n",
            "175/175 [==============================] - 13s 72ms/step - loss: 1.6218 - accuracy: 0.3265 - f1_m: 0.2368 - precision_m: 0.3964 - recall_m: 0.1755 - val_loss: 0.8328 - val_accuracy: 0.2113 - val_f1_m: 0.1196 - val_precision_m: 0.2082 - val_recall_m: 0.0900\n",
            "Epoch 16/150\n",
            "175/175 [==============================] - 12s 70ms/step - loss: 1.5259 - accuracy: 0.3662 - f1_m: 0.2769 - precision_m: 0.4432 - recall_m: 0.2151 - val_loss: 0.8302 - val_accuracy: 0.2075 - val_f1_m: 0.0942 - val_precision_m: 0.1775 - val_recall_m: 0.0688\n",
            "Epoch 17/150\n",
            "175/175 [==============================] - 12s 71ms/step - loss: 1.8245 - accuracy: 0.3215 - f1_m: 0.2154 - precision_m: 0.3664 - recall_m: 0.1649 - val_loss: 0.7984 - val_accuracy: 0.2138 - val_f1_m: 0.0896 - val_precision_m: 0.1601 - val_recall_m: 0.0650\n",
            "Epoch 18/150\n",
            "175/175 [==============================] - 12s 71ms/step - loss: 1.7706 - accuracy: 0.3044 - f1_m: 0.2222 - precision_m: 0.3906 - recall_m: 0.1632 - val_loss: 0.8867 - val_accuracy: 0.2050 - val_f1_m: 0.1021 - val_precision_m: 0.2051 - val_recall_m: 0.0763\n",
            "Epoch 19/150\n",
            "175/175 [==============================] - 12s 71ms/step - loss: 1.6991 - accuracy: 0.3201 - f1_m: 0.2356 - precision_m: 0.4112 - recall_m: 0.1729 - val_loss: 0.8265 - val_accuracy: 0.1975 - val_f1_m: 0.1260 - val_precision_m: 0.2098 - val_recall_m: 0.1000\n",
            "Epoch 20/150\n",
            "175/175 [==============================] - 12s 71ms/step - loss: 1.7440 - accuracy: 0.3408 - f1_m: 0.2681 - precision_m: 0.4291 - recall_m: 0.2041 - val_loss: 0.9146 - val_accuracy: 0.6800 - val_f1_m: 0.0797 - val_precision_m: 0.1521 - val_recall_m: 0.0587\n",
            "Epoch 21/150\n",
            "175/175 [==============================] - 12s 71ms/step - loss: 1.9549 - accuracy: 0.3109 - f1_m: 0.2061 - precision_m: 0.3846 - recall_m: 0.1478 - val_loss: 0.9213 - val_accuracy: 0.2250 - val_f1_m: 0.1071 - val_precision_m: 0.2560 - val_recall_m: 0.0750\n",
            "Epoch 22/150\n",
            "175/175 [==============================] - 12s 71ms/step - loss: 1.8932 - accuracy: 0.2851 - f1_m: 0.1926 - precision_m: 0.3368 - recall_m: 0.1415 - val_loss: 0.9411 - val_accuracy: 0.2562 - val_f1_m: 0.1116 - val_precision_m: 0.2278 - val_recall_m: 0.0800\n",
            "Restoring model weights from the end of the best epoch.\n",
            "Epoch 00022: early stopping\n",
            "\n",
            "\n",
            "\n",
            "\n"
          ],
          "name": "stdout"
        },
        {
          "output_type": "stream",
          "text": [
            "/usr/local/lib/python3.7/dist-packages/ipykernel_launcher.py:48: DeprecationWarning: time.clock has been deprecated in Python 3.3 and will be removed from Python 3.8: use time.perf_counter or time.process_time instead\n"
          ],
          "name": "stderr"
        },
        {
          "output_type": "stream",
          "text": [
            "88/88 [==============================] - 3s 30ms/step - loss: 1.1494 - accuracy: 0.4721 - f1_m: 0.2841 - precision_m: 0.6326 - recall_m: 0.1978\n",
            "Train Accuracy: 47.21\n",
            "Train F1 Score: 28.41\n",
            "Train Time:  440.904455\n",
            " 5/25 [=====>........................] - ETA: 0s - loss: 0.0000e+00 - accuracy: 0.0000e+00 - f1_m: 0.0000e+00 - precision_m: 0.0000e+00 - recall_m: 0.0000e+00"
          ],
          "name": "stdout"
        },
        {
          "output_type": "stream",
          "text": [
            "/usr/local/lib/python3.7/dist-packages/ipykernel_launcher.py:58: DeprecationWarning: time.clock has been deprecated in Python 3.3 and will be removed from Python 3.8: use time.perf_counter or time.process_time instead\n"
          ],
          "name": "stderr"
        },
        {
          "output_type": "stream",
          "text": [
            "25/25 [==============================] - 1s 30ms/step - loss: 0.7289 - accuracy: 0.2113 - f1_m: 0.1591 - precision_m: 0.3003 - recall_m: 0.1150\n",
            "Test Accuracy: 21.13\n",
            "Test F1 Score: 15.91\n",
            "Test Time:  1.2831770000000233\n",
            "Score: 15.907\n"
          ],
          "name": "stdout"
        },
        {
          "output_type": "stream",
          "text": [
            "/usr/local/lib/python3.7/dist-packages/ipykernel_launcher.py:63: DeprecationWarning: time.clock has been deprecated in Python 3.3 and will be removed from Python 3.8: use time.perf_counter or time.process_time instead\n"
          ],
          "name": "stderr"
        }
      ]
    },
    {
      "cell_type": "code",
      "metadata": {
        "id": "vBe8k9IHe1j_",
        "colab": {
          "base_uri": "https://localhost:8080/",
          "height": 295
        },
        "outputId": "82255a8b-a4b3-4eb7-8d6c-30dc686b8a2e"
      },
      "source": [
        "import matplotlib.pyplot as plt\n",
        "plt.plot(history.history['loss'])\n",
        "# plt.plot(history.history['val_loss'])\n",
        "plt.title('Model Accuracy')\n",
        "plt.ylabel('accuracy')\n",
        "plt.xlabel('epoch')\n",
        "plt.legend(['train', 'test'], loc='upper left')\n",
        "plt.show()"
      ],
      "execution_count": null,
      "outputs": [
        {
          "output_type": "display_data",
          "data": {
            "image/png": "[encoded data removed]",
            "text/plain": [
              "<Figure size 432x288 with 1 Axes>"
            ]
          },
          "metadata": {
            "tags": [],
            "needs_background": "light"
          }
        }
      ]
    },
    {
      "cell_type": "code",
      "metadata": {
        "id": "drAX5VxFe1gJ"
      },
      "source": [
        ""
      ],
      "execution_count": null,
      "outputs": []
    }
  ]
}