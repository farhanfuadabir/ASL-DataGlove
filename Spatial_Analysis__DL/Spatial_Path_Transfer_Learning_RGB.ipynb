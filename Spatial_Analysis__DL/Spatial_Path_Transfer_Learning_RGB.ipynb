{
 "cells": [
  {
   "cell_type": "code",
   "execution_count": 1,
   "id": "tamil-chrome",
   "metadata": {},
   "outputs": [
    {
     "data": {
      "text/plain": [
       "'2.4.1'"
      ]
     },
     "execution_count": 1,
     "metadata": {},
     "output_type": "execute_result"
    }
   ],
   "source": [
    "import os\n",
    "import cv2\n",
    "import numpy as np\n",
    "import matplotlib.pyplot as plt\n",
    "import tensorflow as tf\n",
    "\n",
    "from sklearn.metrics import classification_report, accuracy_score\n",
    "\n",
    "tf.__version__"
   ]
  },
  {
   "cell_type": "code",
   "execution_count": 2,
   "id": "casual-stack",
   "metadata": {},
   "outputs": [],
   "source": [
    "# -------- TEST USER ----------- #\n",
    "\n",
    "TEST_USER      = '007'\n",
    "\n",
    "BASE_DIR       = '../'\n",
    "IMG_DIR        = 'RGB-Spatial-Path-Images/'\n",
    "LOG_DIR        = 'Logs/'\n",
    "\n",
    "USERS          = ['001', '002', '003', '004', '005', '006', '007']\n",
    "\n",
    "# ------------------------------- Only Dynalic Gestures ------------------------------ #\n",
    "GESTURES       = ['j', 'z', 'bad', 'deaf', 'fine', 'good', 'goodbye', 'hello', 'hungry',\n",
    "                  'me', 'no', 'please', 'sorry', 'thankyou', 'yes', 'you']\n",
    "\n",
    "PLANES         = ['XY', 'YZ', 'ZX']\n",
    "\n",
    "BATCH_SIZE     = 32\n",
    "IMG_LEN        = 160\n",
    "IMG_SIZE       = (IMG_LEN, IMG_LEN)\n",
    "\n",
    "# ------------- FOR THE GREATER GOOD :) ------------- #\n",
    "TRAIN_LEN      = 960\n",
    "TEST_LEN       = 160\n",
    "\n",
    "EPOCHS         = 7\n",
    "LEARNING_RATE  = 0.001"
   ]
  },
  {
   "cell_type": "code",
   "execution_count": 3,
   "id": "stylish-banner",
   "metadata": {},
   "outputs": [],
   "source": [
    "def load_data(plane):\n",
    "    X_train = np.zeros((TRAIN_LEN, IMG_LEN, IMG_LEN, 3))\n",
    "    X_test = np.zeros((TEST_LEN, IMG_LEN, IMG_LEN, 3))\n",
    "    y_train = np.zeros((TRAIN_LEN, 1))\n",
    "    y_test = np.zeros((TEST_LEN, 1))\n",
    "    \n",
    "    train_count = 0\n",
    "    test_count = 0\n",
    "        \n",
    "    for gesture in GESTURES:\n",
    "        print('loading data for ' + gesture + ' gesture on the ' + plane + ' plane ... ', end='')\n",
    "        path = os.path.join(BASE_DIR, IMG_DIR, plane, gesture)\n",
    "        for filename in os.listdir(path):\n",
    "            img = cv2.imread(os.path.join(path, filename))\n",
    "            resized = cv2.resize(img, IMG_SIZE)\n",
    "            if filename[1:4] != TEST_USER:\n",
    "                X_train[train_count, :] = resized\n",
    "                y_train[train_count, 0] = GESTURES.index(gesture)\n",
    "                train_count = train_count + 1\n",
    "            else:\n",
    "                X_test[test_count, :] = resized\n",
    "                y_test[test_count, 0] = GESTURES.index(gesture)\n",
    "                test_count = test_count + 1\n",
    "                \n",
    "        print('√')\n",
    "        \n",
    "    return X_train, X_test, y_train, y_test"
   ]
  },
  {
   "cell_type": "code",
   "execution_count": 4,
   "id": "extra-disclosure",
   "metadata": {},
   "outputs": [
    {
     "name": "stdout",
     "output_type": "stream",
     "text": [
      "loading data for j gesture on the XY plane ... √\n",
      "loading data for z gesture on the XY plane ... √\n",
      "loading data for bad gesture on the XY plane ... √\n",
      "loading data for deaf gesture on the XY plane ... √\n",
      "loading data for fine gesture on the XY plane ... √\n",
      "loading data for good gesture on the XY plane ... √\n",
      "loading data for goodbye gesture on the XY plane ... √\n",
      "loading data for hello gesture on the XY plane ... √\n",
      "loading data for hungry gesture on the XY plane ... √\n",
      "loading data for me gesture on the XY plane ... √\n",
      "loading data for no gesture on the XY plane ... √\n",
      "loading data for please gesture on the XY plane ... √\n",
      "loading data for sorry gesture on the XY plane ... √\n",
      "loading data for thankyou gesture on the XY plane ... √\n",
      "loading data for yes gesture on the XY plane ... √\n",
      "loading data for you gesture on the XY plane ... √\n",
      "loading data for j gesture on the YZ plane ... √\n",
      "loading data for z gesture on the YZ plane ... √\n",
      "loading data for bad gesture on the YZ plane ... √\n",
      "loading data for deaf gesture on the YZ plane ... √\n",
      "loading data for fine gesture on the YZ plane ... √\n",
      "loading data for good gesture on the YZ plane ... √\n",
      "loading data for goodbye gesture on the YZ plane ... √\n",
      "loading data for hello gesture on the YZ plane ... √\n",
      "loading data for hungry gesture on the YZ plane ... √\n",
      "loading data for me gesture on the YZ plane ... √\n",
      "loading data for no gesture on the YZ plane ... √\n",
      "loading data for please gesture on the YZ plane ... √\n",
      "loading data for sorry gesture on the YZ plane ... √\n",
      "loading data for thankyou gesture on the YZ plane ... √\n",
      "loading data for yes gesture on the YZ plane ... √\n",
      "loading data for you gesture on the YZ plane ... √\n",
      "loading data for j gesture on the ZX plane ... √\n",
      "loading data for z gesture on the ZX plane ... √\n",
      "loading data for bad gesture on the ZX plane ... √\n",
      "loading data for deaf gesture on the ZX plane ... √\n",
      "loading data for fine gesture on the ZX plane ... √\n",
      "loading data for good gesture on the ZX plane ... √\n",
      "loading data for goodbye gesture on the ZX plane ... √\n",
      "loading data for hello gesture on the ZX plane ... √\n",
      "loading data for hungry gesture on the ZX plane ... √\n",
      "loading data for me gesture on the ZX plane ... √\n",
      "loading data for no gesture on the ZX plane ... √\n",
      "loading data for please gesture on the ZX plane ... √\n",
      "loading data for sorry gesture on the ZX plane ... √\n",
      "loading data for thankyou gesture on the ZX plane ... √\n",
      "loading data for yes gesture on the ZX plane ... √\n",
      "loading data for you gesture on the ZX plane ... √\n"
     ]
    }
   ],
   "source": [
    "X_train_xy, X_test_xy, y_train_xy, y_test_xy = load_data('XY')\n",
    "X_train_yz, X_test_yz, y_train_yz, y_test_yz = load_data('YZ')\n",
    "X_train_zx, X_test_zx, y_train_zx, y_test_zx = load_data('ZX')"
   ]
  },
  {
   "cell_type": "code",
   "execution_count": 5,
   "id": "conditional-advisory",
   "metadata": {},
   "outputs": [],
   "source": [
    "preprocess_input = tf.keras.applications.mobilenet_v2.preprocess_input\n",
    "rescale = tf.keras.layers.experimental.preprocessing.Rescaling(1./127.5, offset= -1)"
   ]
  },
  {
   "cell_type": "code",
   "execution_count": 6,
   "id": "internal-arkansas",
   "metadata": {},
   "outputs": [],
   "source": [
    "IMG_SHAPE = IMG_SIZE + (3,)\n",
    "base_model = tf.keras.applications.MobileNetV2(input_shape=IMG_SHAPE, include_top=False, weights='imagenet')\n",
    "base_model.trainable = False"
   ]
  },
  {
   "cell_type": "code",
   "execution_count": 7,
   "id": "strange-encoding",
   "metadata": {},
   "outputs": [],
   "source": [
    "global_average_layer = tf.keras.layers.GlobalAveragePooling2D()\n",
    "prediction_layer = tf.keras.layers.Dense(len(GESTURES))"
   ]
  },
  {
   "cell_type": "code",
   "execution_count": 8,
   "id": "upper-tobago",
   "metadata": {},
   "outputs": [],
   "source": [
    "def get_model():\n",
    "    inputs = tf.keras.Input(shape=IMG_SHAPE)\n",
    "    x = preprocess_input(inputs)\n",
    "    x = base_model(x, training=False)\n",
    "    x = global_average_layer(x)\n",
    "    x = tf.keras.layers.Dropout(0.2)(x)\n",
    "    outputs = prediction_layer(x)\n",
    "    model = tf.keras.Model(inputs, outputs)\n",
    "    model.compile(optimizer=tf.keras.optimizers.Adam(lr=LEARNING_RATE),\n",
    "              loss=tf.keras.losses.SparseCategoricalCrossentropy(from_logits=True),\n",
    "              metrics=['accuracy'])\n",
    "    return model"
   ]
  },
  {
   "cell_type": "code",
   "execution_count": 9,
   "id": "distinct-appendix",
   "metadata": {
    "scrolled": true
   },
   "outputs": [
    {
     "name": "stdout",
     "output_type": "stream",
     "text": [
      "Epoch 1/7\n",
      "30/30 [==============================] - 12s 338ms/step - loss: 2.7778 - accuracy: 0.1681\n",
      "Epoch 2/7\n",
      "30/30 [==============================] - 10s 331ms/step - loss: 1.5839 - accuracy: 0.5410\n",
      "Epoch 3/7\n",
      "30/30 [==============================] - 10s 330ms/step - loss: 1.1985 - accuracy: 0.6515\n",
      "Epoch 4/7\n",
      "30/30 [==============================] - 10s 332ms/step - loss: 0.9022 - accuracy: 0.7616\n",
      "Epoch 5/7\n",
      "30/30 [==============================] - 10s 332ms/step - loss: 0.7353 - accuracy: 0.8121\n",
      "Epoch 6/7\n",
      "30/30 [==============================] - 10s 329ms/step - loss: 0.6457 - accuracy: 0.8323\n",
      "Epoch 7/7\n",
      "30/30 [==============================] - 10s 337ms/step - loss: 0.5789 - accuracy: 0.8527\n"
     ]
    }
   ],
   "source": [
    "model_xy = get_model()\n",
    "history_xy = model_xy.fit(X_train_xy, y_train_xy, epochs=EPOCHS)"
   ]
  },
  {
   "cell_type": "code",
   "execution_count": 10,
   "id": "constitutional-genre",
   "metadata": {},
   "outputs": [
    {
     "name": "stdout",
     "output_type": "stream",
     "text": [
      "              precision    recall  f1-score   support\n",
      "\n",
      "         0.0       1.00      1.00      1.00        10\n",
      "         1.0       0.43      1.00      0.61        10\n",
      "         2.0       0.40      0.20      0.27        10\n",
      "         3.0       0.00      0.00      0.00        10\n",
      "         4.0       0.75      0.30      0.43        10\n",
      "         5.0       0.67      0.40      0.50        10\n",
      "         6.0       0.39      0.90      0.55        10\n",
      "         7.0       0.58      0.70      0.64        10\n",
      "         8.0       0.91      1.00      0.95        10\n",
      "         9.0       0.00      0.00      0.00        10\n",
      "        10.0       0.50      0.20      0.29        10\n",
      "        11.0       0.67      0.20      0.31        10\n",
      "        12.0       0.40      0.20      0.27        10\n",
      "        13.0       0.88      0.70      0.78        10\n",
      "        14.0       1.00      1.00      1.00        10\n",
      "        15.0       0.10      0.30      0.15        10\n",
      "\n",
      "    accuracy                           0.51       160\n",
      "   macro avg       0.54      0.51      0.48       160\n",
      "weighted avg       0.54      0.51      0.48       160\n",
      "\n"
     ]
    },
    {
     "name": "stderr",
     "output_type": "stream",
     "text": [
      "/home/andromeda/Ai/lib/python3.8/site-packages/sklearn/metrics/_classification.py:1245: UndefinedMetricWarning: Precision and F-score are ill-defined and being set to 0.0 in labels with no predicted samples. Use `zero_division` parameter to control this behavior.\n",
      "  _warn_prf(average, modifier, msg_start, len(result))\n",
      "/home/andromeda/Ai/lib/python3.8/site-packages/sklearn/metrics/_classification.py:1245: UndefinedMetricWarning: Precision and F-score are ill-defined and being set to 0.0 in labels with no predicted samples. Use `zero_division` parameter to control this behavior.\n",
      "  _warn_prf(average, modifier, msg_start, len(result))\n",
      "/home/andromeda/Ai/lib/python3.8/site-packages/sklearn/metrics/_classification.py:1245: UndefinedMetricWarning: Precision and F-score are ill-defined and being set to 0.0 in labels with no predicted samples. Use `zero_division` parameter to control this behavior.\n",
      "  _warn_prf(average, modifier, msg_start, len(result))\n"
     ]
    }
   ],
   "source": [
    "prob_xy = tf.keras.Sequential([model_xy, tf.keras.layers.Softmax()])\n",
    "y_pred_xy = prob_xy.predict(X_test_xy)\n",
    "y_pred = np.argmax(y_pred_xy, axis=1)\n",
    "print(classification_report(y_test_xy.ravel(), y_pred))"
   ]
  },
  {
   "cell_type": "code",
   "execution_count": 11,
   "id": "emotional-chrome",
   "metadata": {},
   "outputs": [
    {
     "name": "stdout",
     "output_type": "stream",
     "text": [
      "Epoch 1/7\n",
      "30/30 [==============================] - 12s 335ms/step - loss: 2.9388 - accuracy: 0.2077\n",
      "Epoch 2/7\n",
      "30/30 [==============================] - 10s 335ms/step - loss: 1.7374 - accuracy: 0.4113\n",
      "Epoch 3/7\n",
      "30/30 [==============================] - 10s 332ms/step - loss: 1.0617 - accuracy: 0.6472\n",
      "Epoch 4/7\n",
      "30/30 [==============================] - 10s 338ms/step - loss: 0.7966 - accuracy: 0.7575\n",
      "Epoch 5/7\n",
      "30/30 [==============================] - 10s 336ms/step - loss: 0.7452 - accuracy: 0.7713\n",
      "Epoch 6/7\n",
      "30/30 [==============================] - 10s 332ms/step - loss: 0.5469 - accuracy: 0.8558\n",
      "Epoch 7/7\n",
      "30/30 [==============================] - 10s 331ms/step - loss: 0.4850 - accuracy: 0.8746\n"
     ]
    }
   ],
   "source": [
    "model_yz = get_model()\n",
    "history_yz = model_yz.fit(X_train_yz, y_train_yz, epochs=EPOCHS)"
   ]
  },
  {
   "cell_type": "code",
   "execution_count": 12,
   "id": "boring-insurance",
   "metadata": {},
   "outputs": [
    {
     "name": "stdout",
     "output_type": "stream",
     "text": [
      "              precision    recall  f1-score   support\n",
      "\n",
      "         0.0       1.00      1.00      1.00        10\n",
      "         1.0       0.45      1.00      0.62        10\n",
      "         2.0       0.50      0.80      0.62        10\n",
      "         3.0       0.00      0.00      0.00        10\n",
      "         4.0       1.00      0.20      0.33        10\n",
      "         5.0       1.00      0.30      0.46        10\n",
      "         6.0       0.82      0.90      0.86        10\n",
      "         7.0       0.71      0.50      0.59        10\n",
      "         8.0       0.91      1.00      0.95        10\n",
      "         9.0       0.88      0.70      0.78        10\n",
      "        10.0       0.77      1.00      0.87        10\n",
      "        11.0       0.75      0.90      0.82        10\n",
      "        12.0       0.78      0.70      0.74        10\n",
      "        13.0       0.62      1.00      0.77        10\n",
      "        14.0       0.67      0.80      0.73        10\n",
      "        15.0       0.75      0.60      0.67        10\n",
      "\n",
      "    accuracy                           0.71       160\n",
      "   macro avg       0.73      0.71      0.67       160\n",
      "weighted avg       0.73      0.71      0.67       160\n",
      "\n"
     ]
    },
    {
     "name": "stderr",
     "output_type": "stream",
     "text": [
      "/home/andromeda/Ai/lib/python3.8/site-packages/sklearn/metrics/_classification.py:1245: UndefinedMetricWarning: Precision and F-score are ill-defined and being set to 0.0 in labels with no predicted samples. Use `zero_division` parameter to control this behavior.\n",
      "  _warn_prf(average, modifier, msg_start, len(result))\n",
      "/home/andromeda/Ai/lib/python3.8/site-packages/sklearn/metrics/_classification.py:1245: UndefinedMetricWarning: Precision and F-score are ill-defined and being set to 0.0 in labels with no predicted samples. Use `zero_division` parameter to control this behavior.\n",
      "  _warn_prf(average, modifier, msg_start, len(result))\n",
      "/home/andromeda/Ai/lib/python3.8/site-packages/sklearn/metrics/_classification.py:1245: UndefinedMetricWarning: Precision and F-score are ill-defined and being set to 0.0 in labels with no predicted samples. Use `zero_division` parameter to control this behavior.\n",
      "  _warn_prf(average, modifier, msg_start, len(result))\n"
     ]
    }
   ],
   "source": [
    "prob_yz = tf.keras.Sequential([model_yz, tf.keras.layers.Softmax()])\n",
    "y_pred_yz = prob_yz.predict(X_test_yz)\n",
    "y_pred = np.argmax(y_pred_yz, axis=1)\n",
    "print(classification_report(y_test_yz.ravel(), y_pred))"
   ]
  },
  {
   "cell_type": "code",
   "execution_count": 13,
   "id": "joint-evaluation",
   "metadata": {},
   "outputs": [
    {
     "name": "stdout",
     "output_type": "stream",
     "text": [
      "Epoch 1/7\n",
      "30/30 [==============================] - 12s 337ms/step - loss: 3.3891 - accuracy: 0.1929\n",
      "Epoch 2/7\n",
      "30/30 [==============================] - 10s 343ms/step - loss: 2.3822 - accuracy: 0.3031\n",
      "Epoch 3/7\n",
      "30/30 [==============================] - 10s 336ms/step - loss: 1.6843 - accuracy: 0.4457\n",
      "Epoch 4/7\n",
      "30/30 [==============================] - 10s 331ms/step - loss: 1.2451 - accuracy: 0.5971\n",
      "Epoch 5/7\n",
      "30/30 [==============================] - 10s 328ms/step - loss: 1.1279 - accuracy: 0.6557\n",
      "Epoch 6/7\n",
      "30/30 [==============================] - 10s 331ms/step - loss: 0.8854 - accuracy: 0.7133\n",
      "Epoch 7/7\n",
      "30/30 [==============================] - 10s 326ms/step - loss: 0.8496 - accuracy: 0.7595\n"
     ]
    }
   ],
   "source": [
    "model_zx = get_model()\n",
    "history_zx = model_zx.fit(X_train_zx, y_train_zx, epochs=EPOCHS)"
   ]
  },
  {
   "cell_type": "code",
   "execution_count": 14,
   "id": "designed-still",
   "metadata": {},
   "outputs": [
    {
     "name": "stdout",
     "output_type": "stream",
     "text": [
      "              precision    recall  f1-score   support\n",
      "\n",
      "         0.0       0.54      0.70      0.61        10\n",
      "         1.0       0.90      0.90      0.90        10\n",
      "         2.0       0.60      0.60      0.60        10\n",
      "         3.0       0.29      0.90      0.44        10\n",
      "         4.0       0.00      0.00      0.00        10\n",
      "         5.0       0.78      0.70      0.74        10\n",
      "         6.0       0.77      1.00      0.87        10\n",
      "         7.0       0.53      0.80      0.64        10\n",
      "         8.0       0.77      1.00      0.87        10\n",
      "         9.0       0.00      0.00      0.00        10\n",
      "        10.0       1.00      0.50      0.67        10\n",
      "        11.0       0.00      0.00      0.00        10\n",
      "        12.0       0.00      0.00      0.00        10\n",
      "        13.0       1.00      0.90      0.95        10\n",
      "        14.0       1.00      0.90      0.95        10\n",
      "        15.0       0.25      0.10      0.14        10\n",
      "\n",
      "    accuracy                           0.56       160\n",
      "   macro avg       0.53      0.56      0.52       160\n",
      "weighted avg       0.53      0.56      0.52       160\n",
      "\n"
     ]
    },
    {
     "name": "stderr",
     "output_type": "stream",
     "text": [
      "/home/andromeda/Ai/lib/python3.8/site-packages/sklearn/metrics/_classification.py:1245: UndefinedMetricWarning: Precision and F-score are ill-defined and being set to 0.0 in labels with no predicted samples. Use `zero_division` parameter to control this behavior.\n",
      "  _warn_prf(average, modifier, msg_start, len(result))\n",
      "/home/andromeda/Ai/lib/python3.8/site-packages/sklearn/metrics/_classification.py:1245: UndefinedMetricWarning: Precision and F-score are ill-defined and being set to 0.0 in labels with no predicted samples. Use `zero_division` parameter to control this behavior.\n",
      "  _warn_prf(average, modifier, msg_start, len(result))\n",
      "/home/andromeda/Ai/lib/python3.8/site-packages/sklearn/metrics/_classification.py:1245: UndefinedMetricWarning: Precision and F-score are ill-defined and being set to 0.0 in labels with no predicted samples. Use `zero_division` parameter to control this behavior.\n",
      "  _warn_prf(average, modifier, msg_start, len(result))\n"
     ]
    }
   ],
   "source": [
    "prob_zx = tf.keras.Sequential([model_zx, tf.keras.layers.Softmax()])\n",
    "y_pred_zx = prob_zx.predict(X_test_zx)\n",
    "y_pred = np.argmax(y_pred_zx, axis=1)\n",
    "print(classification_report(y_test_zx.ravel(), y_pred))"
   ]
  },
  {
   "cell_type": "code",
   "execution_count": 15,
   "id": "selective-geography",
   "metadata": {},
   "outputs": [
    {
     "name": "stdout",
     "output_type": "stream",
     "text": [
      "              precision    recall  f1-score   support\n",
      "\n",
      "         0.0       0.71      1.00      0.83        10\n",
      "         1.0       0.50      1.00      0.67        10\n",
      "         2.0       0.64      0.90      0.75        10\n",
      "         3.0       0.33      0.10      0.15        10\n",
      "         4.0       0.00      0.00      0.00        10\n",
      "         5.0       1.00      0.80      0.89        10\n",
      "         6.0       0.83      1.00      0.91        10\n",
      "         7.0       0.83      1.00      0.91        10\n",
      "         8.0       1.00      1.00      1.00        10\n",
      "         9.0       0.80      0.40      0.53        10\n",
      "        10.0       1.00      1.00      1.00        10\n",
      "        11.0       0.00      0.00      0.00        10\n",
      "        12.0       0.39      0.70      0.50        10\n",
      "        13.0       1.00      1.00      1.00        10\n",
      "        14.0       0.91      1.00      0.95        10\n",
      "        15.0       0.80      0.80      0.80        10\n",
      "\n",
      "    accuracy                           0.73       160\n",
      "   macro avg       0.67      0.73      0.68       160\n",
      "weighted avg       0.67      0.73      0.68       160\n",
      "\n"
     ]
    }
   ],
   "source": [
    "y_total = y_pred_xy * y_pred_yz * y_pred_zx\n",
    "y_pred = np.argmax(y_total, axis=1)\n",
    "report = classification_report(y_test_xy.ravel(), y_pred, zero_division=0)\n",
    "print(report)"
   ]
  },
  {
   "cell_type": "code",
   "execution_count": 16,
   "id": "collected-palmer",
   "metadata": {},
   "outputs": [],
   "source": [
    "config = '\\n\\nTEST_USER ' + TEST_USER + '\\n'\n",
    "underline = '=====================================\\n'\n",
    "log_dir = os.path.join(BASE_DIR, LOG_DIR)\n",
    "if not os.path.exists(log_dir):\n",
    "    os.mkdir(log_dir)\n",
    "f = open(os.path.join(log_dir, 'logs_tl_rgb.txt'), 'a')\n",
    "f.write(config)\n",
    "f.write(underline)\n",
    "f.write(report)\n",
    "f.close()"
   ]
  },
  {
   "cell_type": "code",
   "execution_count": null,
   "id": "behavioral-earth",
   "metadata": {},
   "outputs": [],
   "source": [
    "'''\n",
    "\n",
    "            Spatial Path TL RGB\n",
    "        ----------------------------\n",
    "           USER           ACCURACY\n",
    "           =======================\n",
    "            001              86%\n",
    "            002              82%\n",
    "            003              93%\n",
    "            004              53%\n",
    "            005              76%\n",
    "            006              82%\n",
    "            007              73%\n",
    "\n",
    "'''"
   ]
  }
 ],
 "metadata": {
  "kernelspec": {
   "display_name": "Python 3",
   "language": "python",
   "name": "python3"
  },
  "language_info": {
   "codemirror_mode": {
    "name": "ipython",
    "version": 3
   },
   "file_extension": ".py",
   "mimetype": "text/x-python",
   "name": "python",
   "nbconvert_exporter": "python",
   "pygments_lexer": "ipython3",
   "version": "3.8.5"
  }
 },
 "nbformat": 4,
 "nbformat_minor": 5
}
