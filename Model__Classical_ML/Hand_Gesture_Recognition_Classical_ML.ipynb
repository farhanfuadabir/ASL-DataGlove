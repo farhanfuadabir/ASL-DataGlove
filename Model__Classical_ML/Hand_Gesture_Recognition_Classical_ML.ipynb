{
  "nbformat": 4,
  "nbformat_minor": 0,
  "metadata": {
    "colab": {
      "name": "Hand_Gesture_Recognition::Classical_ML",
      "provenance": [],
      "collapsed_sections": [
        "TKz-06wTxKbt",
        "V-PLhB0PxXM7",
        "bu7-xHlEyrht",
        "3Uvv_C1Cxeuw",
        "aTed41xMUhNB",
        "NaimpmsdU53y",
        "raadxEyHYONe"
      ],
      "mount_file_id": "1vNMeVH6Wok2_r1ce2gYhvh_iMSM-FzZm",
      "authorship_tag": "ABX9TyOff8/e+eo26YO6xlX25VpB",
      "include_colab_link": true
    },
    "kernelspec": {
      "display_name": "Python 3",
      "name": "python3"
    },
    "language_info": {
      "name": "python"
    },
    "widgets": {
      "application/vnd.jupyter.widget-state+json": {
        "98013f0ca01446db9e45605cc1a06576": {
          "model_module": "@jupyter-widgets/controls",
          "model_name": "HBoxModel",
          "state": {
            "_view_name": "HBoxView",
            "_dom_classes": [],
            "_model_name": "HBoxModel",
            "_view_module": "@jupyter-widgets/controls",
            "_model_module_version": "1.5.0",
            "_view_count": null,
            "_view_module_version": "1.5.0",
            "box_style": "",
            "layout": "IPY_MODEL_1a5a1e2bb02f423fb853bfb117368112",
            "_model_module": "@jupyter-widgets/controls",
            "children": [
              "IPY_MODEL_4ac97158453e4390b220add44f6b4b05",
              "IPY_MODEL_264d361f392a4997a1e0d14a1ef2b912"
            ]
          }
        },
        "1a5a1e2bb02f423fb853bfb117368112": {
          "model_module": "@jupyter-widgets/base",
          "model_name": "LayoutModel",
          "state": {
            "_view_name": "LayoutView",
            "grid_template_rows": null,
            "right": null,
            "justify_content": null,
            "_view_module": "@jupyter-widgets/base",
            "overflow": null,
            "_model_module_version": "1.2.0",
            "_view_count": null,
            "flex_flow": null,
            "width": null,
            "min_width": null,
            "border": null,
            "align_items": null,
            "bottom": null,
            "_model_module": "@jupyter-widgets/base",
            "top": null,
            "grid_column": null,
            "overflow_y": null,
            "overflow_x": null,
            "grid_auto_flow": null,
            "grid_area": null,
            "grid_template_columns": null,
            "flex": null,
            "_model_name": "LayoutModel",
            "justify_items": null,
            "grid_row": null,
            "max_height": null,
            "align_content": null,
            "visibility": null,
            "align_self": null,
            "height": null,
            "min_height": null,
            "padding": null,
            "grid_auto_rows": null,
            "grid_gap": null,
            "max_width": null,
            "order": null,
            "_view_module_version": "1.2.0",
            "grid_template_areas": null,
            "object_position": null,
            "object_fit": null,
            "grid_auto_columns": null,
            "margin": null,
            "display": null,
            "left": null
          }
        },
        "4ac97158453e4390b220add44f6b4b05": {
          "model_module": "@jupyter-widgets/controls",
          "model_name": "FloatProgressModel",
          "state": {
            "_view_name": "ProgressView",
            "style": "IPY_MODEL_60f8c63c3abf4125bbc2a59748348bea",
            "_dom_classes": [],
            "description": "100%",
            "_model_name": "FloatProgressModel",
            "bar_style": "success",
            "max": 7,
            "_view_module": "@jupyter-widgets/controls",
            "_model_module_version": "1.5.0",
            "value": 7,
            "_view_count": null,
            "_view_module_version": "1.5.0",
            "orientation": "horizontal",
            "min": 0,
            "description_tooltip": null,
            "_model_module": "@jupyter-widgets/controls",
            "layout": "IPY_MODEL_450d49c5b2ff422b872feb26fb12c6a7"
          }
        },
        "264d361f392a4997a1e0d14a1ef2b912": {
          "model_module": "@jupyter-widgets/controls",
          "model_name": "HTMLModel",
          "state": {
            "_view_name": "HTMLView",
            "style": "IPY_MODEL_2b53eff79a6640069100459213dfd358",
            "_dom_classes": [],
            "description": "",
            "_model_name": "HTMLModel",
            "placeholder": "​",
            "_view_module": "@jupyter-widgets/controls",
            "_model_module_version": "1.5.0",
            "value": " 7/7 [00:33&lt;00:00,  4.78s/it]",
            "_view_count": null,
            "_view_module_version": "1.5.0",
            "description_tooltip": null,
            "_model_module": "@jupyter-widgets/controls",
            "layout": "IPY_MODEL_9c13bebc377d44e69a948d0e5b3dbac3"
          }
        },
        "60f8c63c3abf4125bbc2a59748348bea": {
          "model_module": "@jupyter-widgets/controls",
          "model_name": "ProgressStyleModel",
          "state": {
            "_view_name": "StyleView",
            "_model_name": "ProgressStyleModel",
            "description_width": "initial",
            "_view_module": "@jupyter-widgets/base",
            "_model_module_version": "1.5.0",
            "_view_count": null,
            "_view_module_version": "1.2.0",
            "bar_color": null,
            "_model_module": "@jupyter-widgets/controls"
          }
        },
        "450d49c5b2ff422b872feb26fb12c6a7": {
          "model_module": "@jupyter-widgets/base",
          "model_name": "LayoutModel",
          "state": {
            "_view_name": "LayoutView",
            "grid_template_rows": null,
            "right": null,
            "justify_content": null,
            "_view_module": "@jupyter-widgets/base",
            "overflow": null,
            "_model_module_version": "1.2.0",
            "_view_count": null,
            "flex_flow": null,
            "width": null,
            "min_width": null,
            "border": null,
            "align_items": null,
            "bottom": null,
            "_model_module": "@jupyter-widgets/base",
            "top": null,
            "grid_column": null,
            "overflow_y": null,
            "overflow_x": null,
            "grid_auto_flow": null,
            "grid_area": null,
            "grid_template_columns": null,
            "flex": null,
            "_model_name": "LayoutModel",
            "justify_items": null,
            "grid_row": null,
            "max_height": null,
            "align_content": null,
            "visibility": null,
            "align_self": null,
            "height": null,
            "min_height": null,
            "padding": null,
            "grid_auto_rows": null,
            "grid_gap": null,
            "max_width": null,
            "order": null,
            "_view_module_version": "1.2.0",
            "grid_template_areas": null,
            "object_position": null,
            "object_fit": null,
            "grid_auto_columns": null,
            "margin": null,
            "display": null,
            "left": null
          }
        },
        "2b53eff79a6640069100459213dfd358": {
          "model_module": "@jupyter-widgets/controls",
          "model_name": "DescriptionStyleModel",
          "state": {
            "_view_name": "StyleView",
            "_model_name": "DescriptionStyleModel",
            "description_width": "",
            "_view_module": "@jupyter-widgets/base",
            "_model_module_version": "1.5.0",
            "_view_count": null,
            "_view_module_version": "1.2.0",
            "_model_module": "@jupyter-widgets/controls"
          }
        },
        "9c13bebc377d44e69a948d0e5b3dbac3": {
          "model_module": "@jupyter-widgets/base",
          "model_name": "LayoutModel",
          "state": {
            "_view_name": "LayoutView",
            "grid_template_rows": null,
            "right": null,
            "justify_content": null,
            "_view_module": "@jupyter-widgets/base",
            "overflow": null,
            "_model_module_version": "1.2.0",
            "_view_count": null,
            "flex_flow": null,
            "width": null,
            "min_width": null,
            "border": null,
            "align_items": null,
            "bottom": null,
            "_model_module": "@jupyter-widgets/base",
            "top": null,
            "grid_column": null,
            "overflow_y": null,
            "overflow_x": null,
            "grid_auto_flow": null,
            "grid_area": null,
            "grid_template_columns": null,
            "flex": null,
            "_model_name": "LayoutModel",
            "justify_items": null,
            "grid_row": null,
            "max_height": null,
            "align_content": null,
            "visibility": null,
            "align_self": null,
            "height": null,
            "min_height": null,
            "padding": null,
            "grid_auto_rows": null,
            "grid_gap": null,
            "max_width": null,
            "order": null,
            "_view_module_version": "1.2.0",
            "grid_template_areas": null,
            "object_position": null,
            "object_fit": null,
            "grid_auto_columns": null,
            "margin": null,
            "display": null,
            "left": null
          }
        },
        "03e57ce9206744a997565ddd6fa2d502": {
          "model_module": "@jupyter-widgets/controls",
          "model_name": "HBoxModel",
          "state": {
            "_view_name": "HBoxView",
            "_dom_classes": [],
            "_model_name": "HBoxModel",
            "_view_module": "@jupyter-widgets/controls",
            "_model_module_version": "1.5.0",
            "_view_count": null,
            "_view_module_version": "1.5.0",
            "box_style": "",
            "layout": "IPY_MODEL_8d1b71f2c8024571808d09df009aaf1e",
            "_model_module": "@jupyter-widgets/controls",
            "children": [
              "IPY_MODEL_9a57042bf86b463587158427e1d98436",
              "IPY_MODEL_cb668a83ef7b4f08956bd37638516716"
            ]
          }
        },
        "8d1b71f2c8024571808d09df009aaf1e": {
          "model_module": "@jupyter-widgets/base",
          "model_name": "LayoutModel",
          "state": {
            "_view_name": "LayoutView",
            "grid_template_rows": null,
            "right": null,
            "justify_content": null,
            "_view_module": "@jupyter-widgets/base",
            "overflow": null,
            "_model_module_version": "1.2.0",
            "_view_count": null,
            "flex_flow": null,
            "width": null,
            "min_width": null,
            "border": null,
            "align_items": null,
            "bottom": null,
            "_model_module": "@jupyter-widgets/base",
            "top": null,
            "grid_column": null,
            "overflow_y": null,
            "overflow_x": null,
            "grid_auto_flow": null,
            "grid_area": null,
            "grid_template_columns": null,
            "flex": null,
            "_model_name": "LayoutModel",
            "justify_items": null,
            "grid_row": null,
            "max_height": null,
            "align_content": null,
            "visibility": null,
            "align_self": null,
            "height": null,
            "min_height": null,
            "padding": null,
            "grid_auto_rows": null,
            "grid_gap": null,
            "max_width": null,
            "order": null,
            "_view_module_version": "1.2.0",
            "grid_template_areas": null,
            "object_position": null,
            "object_fit": null,
            "grid_auto_columns": null,
            "margin": null,
            "display": null,
            "left": null
          }
        },
        "9a57042bf86b463587158427e1d98436": {
          "model_module": "@jupyter-widgets/controls",
          "model_name": "FloatProgressModel",
          "state": {
            "_view_name": "ProgressView",
            "style": "IPY_MODEL_789dff142f24442ab3675679df8ef89c",
            "_dom_classes": [],
            "description": "100%",
            "_model_name": "FloatProgressModel",
            "bar_style": "success",
            "max": 7,
            "_view_module": "@jupyter-widgets/controls",
            "_model_module_version": "1.5.0",
            "value": 7,
            "_view_count": null,
            "_view_module_version": "1.5.0",
            "orientation": "horizontal",
            "min": 0,
            "description_tooltip": null,
            "_model_module": "@jupyter-widgets/controls",
            "layout": "IPY_MODEL_cae5afbe632e4ea99c11ea9410b3895b"
          }
        },
        "cb668a83ef7b4f08956bd37638516716": {
          "model_module": "@jupyter-widgets/controls",
          "model_name": "HTMLModel",
          "state": {
            "_view_name": "HTMLView",
            "style": "IPY_MODEL_ccf705d6f9574ad493a9abecaf2186e8",
            "_dom_classes": [],
            "description": "",
            "_model_name": "HTMLModel",
            "placeholder": "​",
            "_view_module": "@jupyter-widgets/controls",
            "_model_module_version": "1.5.0",
            "value": " 7/7 [00:15&lt;00:00,  2.24s/it]",
            "_view_count": null,
            "_view_module_version": "1.5.0",
            "description_tooltip": null,
            "_model_module": "@jupyter-widgets/controls",
            "layout": "IPY_MODEL_9148b7610fd24dc192eef5bc0466dfd1"
          }
        },
        "789dff142f24442ab3675679df8ef89c": {
          "model_module": "@jupyter-widgets/controls",
          "model_name": "ProgressStyleModel",
          "state": {
            "_view_name": "StyleView",
            "_model_name": "ProgressStyleModel",
            "description_width": "initial",
            "_view_module": "@jupyter-widgets/base",
            "_model_module_version": "1.5.0",
            "_view_count": null,
            "_view_module_version": "1.2.0",
            "bar_color": null,
            "_model_module": "@jupyter-widgets/controls"
          }
        },
        "cae5afbe632e4ea99c11ea9410b3895b": {
          "model_module": "@jupyter-widgets/base",
          "model_name": "LayoutModel",
          "state": {
            "_view_name": "LayoutView",
            "grid_template_rows": null,
            "right": null,
            "justify_content": null,
            "_view_module": "@jupyter-widgets/base",
            "overflow": null,
            "_model_module_version": "1.2.0",
            "_view_count": null,
            "flex_flow": null,
            "width": null,
            "min_width": null,
            "border": null,
            "align_items": null,
            "bottom": null,
            "_model_module": "@jupyter-widgets/base",
            "top": null,
            "grid_column": null,
            "overflow_y": null,
            "overflow_x": null,
            "grid_auto_flow": null,
            "grid_area": null,
            "grid_template_columns": null,
            "flex": null,
            "_model_name": "LayoutModel",
            "justify_items": null,
            "grid_row": null,
            "max_height": null,
            "align_content": null,
            "visibility": null,
            "align_self": null,
            "height": null,
            "min_height": null,
            "padding": null,
            "grid_auto_rows": null,
            "grid_gap": null,
            "max_width": null,
            "order": null,
            "_view_module_version": "1.2.0",
            "grid_template_areas": null,
            "object_position": null,
            "object_fit": null,
            "grid_auto_columns": null,
            "margin": null,
            "display": null,
            "left": null
          }
        },
        "ccf705d6f9574ad493a9abecaf2186e8": {
          "model_module": "@jupyter-widgets/controls",
          "model_name": "DescriptionStyleModel",
          "state": {
            "_view_name": "StyleView",
            "_model_name": "DescriptionStyleModel",
            "description_width": "",
            "_view_module": "@jupyter-widgets/base",
            "_model_module_version": "1.5.0",
            "_view_count": null,
            "_view_module_version": "1.2.0",
            "_model_module": "@jupyter-widgets/controls"
          }
        },
        "9148b7610fd24dc192eef5bc0466dfd1": {
          "model_module": "@jupyter-widgets/base",
          "model_name": "LayoutModel",
          "state": {
            "_view_name": "LayoutView",
            "grid_template_rows": null,
            "right": null,
            "justify_content": null,
            "_view_module": "@jupyter-widgets/base",
            "overflow": null,
            "_model_module_version": "1.2.0",
            "_view_count": null,
            "flex_flow": null,
            "width": null,
            "min_width": null,
            "border": null,
            "align_items": null,
            "bottom": null,
            "_model_module": "@jupyter-widgets/base",
            "top": null,
            "grid_column": null,
            "overflow_y": null,
            "overflow_x": null,
            "grid_auto_flow": null,
            "grid_area": null,
            "grid_template_columns": null,
            "flex": null,
            "_model_name": "LayoutModel",
            "justify_items": null,
            "grid_row": null,
            "max_height": null,
            "align_content": null,
            "visibility": null,
            "align_self": null,
            "height": null,
            "min_height": null,
            "padding": null,
            "grid_auto_rows": null,
            "grid_gap": null,
            "max_width": null,
            "order": null,
            "_view_module_version": "1.2.0",
            "grid_template_areas": null,
            "object_position": null,
            "object_fit": null,
            "grid_auto_columns": null,
            "margin": null,
            "display": null,
            "left": null
          }
        },
        "574566997c6c4750b732c52f17734b2a": {
          "model_module": "@jupyter-widgets/controls",
          "model_name": "HBoxModel",
          "state": {
            "_view_name": "HBoxView",
            "_dom_classes": [],
            "_model_name": "HBoxModel",
            "_view_module": "@jupyter-widgets/controls",
            "_model_module_version": "1.5.0",
            "_view_count": null,
            "_view_module_version": "1.5.0",
            "box_style": "",
            "layout": "IPY_MODEL_4971a45a899747678d40063933a7351f",
            "_model_module": "@jupyter-widgets/controls",
            "children": [
              "IPY_MODEL_1e7dcef477114a7da2e88bed64cd06ee",
              "IPY_MODEL_6eda1b6c4f834f828036af68777772ee"
            ]
          }
        },
        "4971a45a899747678d40063933a7351f": {
          "model_module": "@jupyter-widgets/base",
          "model_name": "LayoutModel",
          "state": {
            "_view_name": "LayoutView",
            "grid_template_rows": null,
            "right": null,
            "justify_content": null,
            "_view_module": "@jupyter-widgets/base",
            "overflow": null,
            "_model_module_version": "1.2.0",
            "_view_count": null,
            "flex_flow": null,
            "width": null,
            "min_width": null,
            "border": null,
            "align_items": null,
            "bottom": null,
            "_model_module": "@jupyter-widgets/base",
            "top": null,
            "grid_column": null,
            "overflow_y": null,
            "overflow_x": null,
            "grid_auto_flow": null,
            "grid_area": null,
            "grid_template_columns": null,
            "flex": null,
            "_model_name": "LayoutModel",
            "justify_items": null,
            "grid_row": null,
            "max_height": null,
            "align_content": null,
            "visibility": null,
            "align_self": null,
            "height": null,
            "min_height": null,
            "padding": null,
            "grid_auto_rows": null,
            "grid_gap": null,
            "max_width": null,
            "order": null,
            "_view_module_version": "1.2.0",
            "grid_template_areas": null,
            "object_position": null,
            "object_fit": null,
            "grid_auto_columns": null,
            "margin": null,
            "display": null,
            "left": null
          }
        },
        "1e7dcef477114a7da2e88bed64cd06ee": {
          "model_module": "@jupyter-widgets/controls",
          "model_name": "FloatProgressModel",
          "state": {
            "_view_name": "ProgressView",
            "style": "IPY_MODEL_8fe561694c904c75a0f1fbb26820b334",
            "_dom_classes": [],
            "description": "100%",
            "_model_name": "FloatProgressModel",
            "bar_style": "success",
            "max": 4,
            "_view_module": "@jupyter-widgets/controls",
            "_model_module_version": "1.5.0",
            "value": 4,
            "_view_count": null,
            "_view_module_version": "1.5.0",
            "orientation": "horizontal",
            "min": 0,
            "description_tooltip": null,
            "_model_module": "@jupyter-widgets/controls",
            "layout": "IPY_MODEL_a31044f7b54347a89c0447e933169dc6"
          }
        },
        "6eda1b6c4f834f828036af68777772ee": {
          "model_module": "@jupyter-widgets/controls",
          "model_name": "HTMLModel",
          "state": {
            "_view_name": "HTMLView",
            "style": "IPY_MODEL_41e76c12ed5e4ccdaa65bbea96bc9674",
            "_dom_classes": [],
            "description": "",
            "_model_name": "HTMLModel",
            "placeholder": "​",
            "_view_module": "@jupyter-widgets/controls",
            "_model_module_version": "1.5.0",
            "value": " 4/4 [09:01&lt;00:00, 135.46s/it]",
            "_view_count": null,
            "_view_module_version": "1.5.0",
            "description_tooltip": null,
            "_model_module": "@jupyter-widgets/controls",
            "layout": "IPY_MODEL_3123188f6a934b0d8a451b11008217e2"
          }
        },
        "8fe561694c904c75a0f1fbb26820b334": {
          "model_module": "@jupyter-widgets/controls",
          "model_name": "ProgressStyleModel",
          "state": {
            "_view_name": "StyleView",
            "_model_name": "ProgressStyleModel",
            "description_width": "initial",
            "_view_module": "@jupyter-widgets/base",
            "_model_module_version": "1.5.0",
            "_view_count": null,
            "_view_module_version": "1.2.0",
            "bar_color": null,
            "_model_module": "@jupyter-widgets/controls"
          }
        },
        "a31044f7b54347a89c0447e933169dc6": {
          "model_module": "@jupyter-widgets/base",
          "model_name": "LayoutModel",
          "state": {
            "_view_name": "LayoutView",
            "grid_template_rows": null,
            "right": null,
            "justify_content": null,
            "_view_module": "@jupyter-widgets/base",
            "overflow": null,
            "_model_module_version": "1.2.0",
            "_view_count": null,
            "flex_flow": null,
            "width": null,
            "min_width": null,
            "border": null,
            "align_items": null,
            "bottom": null,
            "_model_module": "@jupyter-widgets/base",
            "top": null,
            "grid_column": null,
            "overflow_y": null,
            "overflow_x": null,
            "grid_auto_flow": null,
            "grid_area": null,
            "grid_template_columns": null,
            "flex": null,
            "_model_name": "LayoutModel",
            "justify_items": null,
            "grid_row": null,
            "max_height": null,
            "align_content": null,
            "visibility": null,
            "align_self": null,
            "height": null,
            "min_height": null,
            "padding": null,
            "grid_auto_rows": null,
            "grid_gap": null,
            "max_width": null,
            "order": null,
            "_view_module_version": "1.2.0",
            "grid_template_areas": null,
            "object_position": null,
            "object_fit": null,
            "grid_auto_columns": null,
            "margin": null,
            "display": null,
            "left": null
          }
        },
        "41e76c12ed5e4ccdaa65bbea96bc9674": {
          "model_module": "@jupyter-widgets/controls",
          "model_name": "DescriptionStyleModel",
          "state": {
            "_view_name": "StyleView",
            "_model_name": "DescriptionStyleModel",
            "description_width": "",
            "_view_module": "@jupyter-widgets/base",
            "_model_module_version": "1.5.0",
            "_view_count": null,
            "_view_module_version": "1.2.0",
            "_model_module": "@jupyter-widgets/controls"
          }
        },
        "3123188f6a934b0d8a451b11008217e2": {
          "model_module": "@jupyter-widgets/base",
          "model_name": "LayoutModel",
          "state": {
            "_view_name": "LayoutView",
            "grid_template_rows": null,
            "right": null,
            "justify_content": null,
            "_view_module": "@jupyter-widgets/base",
            "overflow": null,
            "_model_module_version": "1.2.0",
            "_view_count": null,
            "flex_flow": null,
            "width": null,
            "min_width": null,
            "border": null,
            "align_items": null,
            "bottom": null,
            "_model_module": "@jupyter-widgets/base",
            "top": null,
            "grid_column": null,
            "overflow_y": null,
            "overflow_x": null,
            "grid_auto_flow": null,
            "grid_area": null,
            "grid_template_columns": null,
            "flex": null,
            "_model_name": "LayoutModel",
            "justify_items": null,
            "grid_row": null,
            "max_height": null,
            "align_content": null,
            "visibility": null,
            "align_self": null,
            "height": null,
            "min_height": null,
            "padding": null,
            "grid_auto_rows": null,
            "grid_gap": null,
            "max_width": null,
            "order": null,
            "_view_module_version": "1.2.0",
            "grid_template_areas": null,
            "object_position": null,
            "object_fit": null,
            "grid_auto_columns": null,
            "margin": null,
            "display": null,
            "left": null
          }
        },
        "2e945ac1bd7842b9adeecaa875a1e11c": {
          "model_module": "@jupyter-widgets/controls",
          "model_name": "HBoxModel",
          "state": {
            "_view_name": "HBoxView",
            "_dom_classes": [],
            "_model_name": "HBoxModel",
            "_view_module": "@jupyter-widgets/controls",
            "_model_module_version": "1.5.0",
            "_view_count": null,
            "_view_module_version": "1.5.0",
            "box_style": "",
            "layout": "IPY_MODEL_d557268ca76b4d15a4b7289f206d7b16",
            "_model_module": "@jupyter-widgets/controls",
            "children": [
              "IPY_MODEL_fe1ce782b26c476fbe42e529f8666f62",
              "IPY_MODEL_a9c860e23d384505a97a8fe006a0c68e"
            ]
          }
        },
        "d557268ca76b4d15a4b7289f206d7b16": {
          "model_module": "@jupyter-widgets/base",
          "model_name": "LayoutModel",
          "state": {
            "_view_name": "LayoutView",
            "grid_template_rows": null,
            "right": null,
            "justify_content": null,
            "_view_module": "@jupyter-widgets/base",
            "overflow": null,
            "_model_module_version": "1.2.0",
            "_view_count": null,
            "flex_flow": null,
            "width": null,
            "min_width": null,
            "border": null,
            "align_items": null,
            "bottom": null,
            "_model_module": "@jupyter-widgets/base",
            "top": null,
            "grid_column": null,
            "overflow_y": null,
            "overflow_x": null,
            "grid_auto_flow": null,
            "grid_area": null,
            "grid_template_columns": null,
            "flex": null,
            "_model_name": "LayoutModel",
            "justify_items": null,
            "grid_row": null,
            "max_height": null,
            "align_content": null,
            "visibility": null,
            "align_self": null,
            "height": null,
            "min_height": null,
            "padding": null,
            "grid_auto_rows": null,
            "grid_gap": null,
            "max_width": null,
            "order": null,
            "_view_module_version": "1.2.0",
            "grid_template_areas": null,
            "object_position": null,
            "object_fit": null,
            "grid_auto_columns": null,
            "margin": null,
            "display": null,
            "left": null
          }
        },
        "fe1ce782b26c476fbe42e529f8666f62": {
          "model_module": "@jupyter-widgets/controls",
          "model_name": "FloatProgressModel",
          "state": {
            "_view_name": "ProgressView",
            "style": "IPY_MODEL_44620d6b363249078a5954146c80be27",
            "_dom_classes": [],
            "description": "100%",
            "_model_name": "FloatProgressModel",
            "bar_style": "success",
            "max": 3,
            "_view_module": "@jupyter-widgets/controls",
            "_model_module_version": "1.5.0",
            "value": 3,
            "_view_count": null,
            "_view_module_version": "1.5.0",
            "orientation": "horizontal",
            "min": 0,
            "description_tooltip": null,
            "_model_module": "@jupyter-widgets/controls",
            "layout": "IPY_MODEL_d92aa86912774769af8ff723a1742c6c"
          }
        },
        "a9c860e23d384505a97a8fe006a0c68e": {
          "model_module": "@jupyter-widgets/controls",
          "model_name": "HTMLModel",
          "state": {
            "_view_name": "HTMLView",
            "style": "IPY_MODEL_9ee9bdfe92d54577a527b0fc84200762",
            "_dom_classes": [],
            "description": "",
            "_model_name": "HTMLModel",
            "placeholder": "​",
            "_view_module": "@jupyter-widgets/controls",
            "_model_module_version": "1.5.0",
            "value": " 3/3 [09:01&lt;00:00, 180.60s/it]",
            "_view_count": null,
            "_view_module_version": "1.5.0",
            "description_tooltip": null,
            "_model_module": "@jupyter-widgets/controls",
            "layout": "IPY_MODEL_2900322e02d64cd29377fcc117931313"
          }
        },
        "44620d6b363249078a5954146c80be27": {
          "model_module": "@jupyter-widgets/controls",
          "model_name": "ProgressStyleModel",
          "state": {
            "_view_name": "StyleView",
            "_model_name": "ProgressStyleModel",
            "description_width": "initial",
            "_view_module": "@jupyter-widgets/base",
            "_model_module_version": "1.5.0",
            "_view_count": null,
            "_view_module_version": "1.2.0",
            "bar_color": null,
            "_model_module": "@jupyter-widgets/controls"
          }
        },
        "d92aa86912774769af8ff723a1742c6c": {
          "model_module": "@jupyter-widgets/base",
          "model_name": "LayoutModel",
          "state": {
            "_view_name": "LayoutView",
            "grid_template_rows": null,
            "right": null,
            "justify_content": null,
            "_view_module": "@jupyter-widgets/base",
            "overflow": null,
            "_model_module_version": "1.2.0",
            "_view_count": null,
            "flex_flow": null,
            "width": null,
            "min_width": null,
            "border": null,
            "align_items": null,
            "bottom": null,
            "_model_module": "@jupyter-widgets/base",
            "top": null,
            "grid_column": null,
            "overflow_y": null,
            "overflow_x": null,
            "grid_auto_flow": null,
            "grid_area": null,
            "grid_template_columns": null,
            "flex": null,
            "_model_name": "LayoutModel",
            "justify_items": null,
            "grid_row": null,
            "max_height": null,
            "align_content": null,
            "visibility": null,
            "align_self": null,
            "height": null,
            "min_height": null,
            "padding": null,
            "grid_auto_rows": null,
            "grid_gap": null,
            "max_width": null,
            "order": null,
            "_view_module_version": "1.2.0",
            "grid_template_areas": null,
            "object_position": null,
            "object_fit": null,
            "grid_auto_columns": null,
            "margin": null,
            "display": null,
            "left": null
          }
        },
        "9ee9bdfe92d54577a527b0fc84200762": {
          "model_module": "@jupyter-widgets/controls",
          "model_name": "DescriptionStyleModel",
          "state": {
            "_view_name": "StyleView",
            "_model_name": "DescriptionStyleModel",
            "description_width": "",
            "_view_module": "@jupyter-widgets/base",
            "_model_module_version": "1.5.0",
            "_view_count": null,
            "_view_module_version": "1.2.0",
            "_model_module": "@jupyter-widgets/controls"
          }
        },
        "2900322e02d64cd29377fcc117931313": {
          "model_module": "@jupyter-widgets/base",
          "model_name": "LayoutModel",
          "state": {
            "_view_name": "LayoutView",
            "grid_template_rows": null,
            "right": null,
            "justify_content": null,
            "_view_module": "@jupyter-widgets/base",
            "overflow": null,
            "_model_module_version": "1.2.0",
            "_view_count": null,
            "flex_flow": null,
            "width": null,
            "min_width": null,
            "border": null,
            "align_items": null,
            "bottom": null,
            "_model_module": "@jupyter-widgets/base",
            "top": null,
            "grid_column": null,
            "overflow_y": null,
            "overflow_x": null,
            "grid_auto_flow": null,
            "grid_area": null,
            "grid_template_columns": null,
            "flex": null,
            "_model_name": "LayoutModel",
            "justify_items": null,
            "grid_row": null,
            "max_height": null,
            "align_content": null,
            "visibility": null,
            "align_self": null,
            "height": null,
            "min_height": null,
            "padding": null,
            "grid_auto_rows": null,
            "grid_gap": null,
            "max_width": null,
            "order": null,
            "_view_module_version": "1.2.0",
            "grid_template_areas": null,
            "object_position": null,
            "object_fit": null,
            "grid_auto_columns": null,
            "margin": null,
            "display": null,
            "left": null
          }
        },
        "3ed2ace71a2e41d9b8e795c7817ad0e3": {
          "model_module": "@jupyter-widgets/controls",
          "model_name": "HBoxModel",
          "state": {
            "_dom_classes": [],
            "_model_module": "@jupyter-widgets/controls",
            "_model_module_version": "1.5.0",
            "_model_name": "HBoxModel",
            "_view_count": null,
            "_view_module": "@jupyter-widgets/controls",
            "_view_module_version": "1.5.0",
            "_view_name": "HBoxView",
            "box_style": "",
            "children": [
              "IPY_MODEL_4adb10d317d84c449b51197eeeb1d454",
              "IPY_MODEL_536c5d61661d4b8d8da029dd97bcb376"
            ],
            "layout": "IPY_MODEL_b686527fa30f4dd3b7e73b3430784113"
          }
        },
        "4adb10d317d84c449b51197eeeb1d454": {
          "model_module": "@jupyter-widgets/controls",
          "model_name": "FloatProgressModel",
          "state": {
            "_dom_classes": [],
            "_model_module": "@jupyter-widgets/controls",
            "_model_module_version": "1.5.0",
            "_model_name": "FloatProgressModel",
            "_view_count": null,
            "_view_module": "@jupyter-widgets/controls",
            "_view_module_version": "1.5.0",
            "_view_name": "ProgressView",
            "bar_style": "success",
            "description": "100%",
            "description_tooltip": null,
            "layout": "IPY_MODEL_741e2ba163b14b5594e3d3fa98551203",
            "max": 7,
            "min": 0,
            "orientation": "horizontal",
            "style": "IPY_MODEL_778dca75b3a04efda3743c7c809171a2",
            "value": 7
          }
        },
        "536c5d61661d4b8d8da029dd97bcb376": {
          "model_module": "@jupyter-widgets/controls",
          "model_name": "HTMLModel",
          "state": {
            "_dom_classes": [],
            "_model_module": "@jupyter-widgets/controls",
            "_model_module_version": "1.5.0",
            "_model_name": "HTMLModel",
            "_view_count": null,
            "_view_module": "@jupyter-widgets/controls",
            "_view_module_version": "1.5.0",
            "_view_name": "HTMLView",
            "description": "",
            "description_tooltip": null,
            "layout": "IPY_MODEL_2828e9c58c3146c78d6cf33bb45631b6",
            "placeholder": "​",
            "style": "IPY_MODEL_e25aa752a02545d2a0b6c86d7de5d506",
            "value": " 7/7 [00:00&lt;00:00, 13.40it/s]"
          }
        },
        "b686527fa30f4dd3b7e73b3430784113": {
          "model_module": "@jupyter-widgets/base",
          "model_name": "LayoutModel",
          "state": {
            "_model_module": "@jupyter-widgets/base",
            "_model_module_version": "1.2.0",
            "_model_name": "LayoutModel",
            "_view_count": null,
            "_view_module": "@jupyter-widgets/base",
            "_view_module_version": "1.2.0",
            "_view_name": "LayoutView",
            "align_content": null,
            "align_items": null,
            "align_self": null,
            "border": null,
            "bottom": null,
            "display": null,
            "flex": null,
            "flex_flow": null,
            "grid_area": null,
            "grid_auto_columns": null,
            "grid_auto_flow": null,
            "grid_auto_rows": null,
            "grid_column": null,
            "grid_gap": null,
            "grid_row": null,
            "grid_template_areas": null,
            "grid_template_columns": null,
            "grid_template_rows": null,
            "height": null,
            "justify_content": null,
            "justify_items": null,
            "left": null,
            "margin": null,
            "max_height": null,
            "max_width": null,
            "min_height": null,
            "min_width": null,
            "object_fit": null,
            "object_position": null,
            "order": null,
            "overflow": null,
            "overflow_x": null,
            "overflow_y": null,
            "padding": null,
            "right": null,
            "top": null,
            "visibility": null,
            "width": null
          }
        },
        "741e2ba163b14b5594e3d3fa98551203": {
          "model_module": "@jupyter-widgets/base",
          "model_name": "LayoutModel",
          "state": {
            "_model_module": "@jupyter-widgets/base",
            "_model_module_version": "1.2.0",
            "_model_name": "LayoutModel",
            "_view_count": null,
            "_view_module": "@jupyter-widgets/base",
            "_view_module_version": "1.2.0",
            "_view_name": "LayoutView",
            "align_content": null,
            "align_items": null,
            "align_self": null,
            "border": null,
            "bottom": null,
            "display": null,
            "flex": null,
            "flex_flow": null,
            "grid_area": null,
            "grid_auto_columns": null,
            "grid_auto_flow": null,
            "grid_auto_rows": null,
            "grid_column": null,
            "grid_gap": null,
            "grid_row": null,
            "grid_template_areas": null,
            "grid_template_columns": null,
            "grid_template_rows": null,
            "height": null,
            "justify_content": null,
            "justify_items": null,
            "left": null,
            "margin": null,
            "max_height": null,
            "max_width": null,
            "min_height": null,
            "min_width": null,
            "object_fit": null,
            "object_position": null,
            "order": null,
            "overflow": null,
            "overflow_x": null,
            "overflow_y": null,
            "padding": null,
            "right": null,
            "top": null,
            "visibility": null,
            "width": null
          }
        },
        "778dca75b3a04efda3743c7c809171a2": {
          "model_module": "@jupyter-widgets/controls",
          "model_name": "ProgressStyleModel",
          "state": {
            "_model_module": "@jupyter-widgets/controls",
            "_model_module_version": "1.5.0",
            "_model_name": "ProgressStyleModel",
            "_view_count": null,
            "_view_module": "@jupyter-widgets/base",
            "_view_module_version": "1.2.0",
            "_view_name": "StyleView",
            "bar_color": null,
            "description_width": "initial"
          }
        },
        "2828e9c58c3146c78d6cf33bb45631b6": {
          "model_module": "@jupyter-widgets/base",
          "model_name": "LayoutModel",
          "state": {
            "_model_module": "@jupyter-widgets/base",
            "_model_module_version": "1.2.0",
            "_model_name": "LayoutModel",
            "_view_count": null,
            "_view_module": "@jupyter-widgets/base",
            "_view_module_version": "1.2.0",
            "_view_name": "LayoutView",
            "align_content": null,
            "align_items": null,
            "align_self": null,
            "border": null,
            "bottom": null,
            "display": null,
            "flex": null,
            "flex_flow": null,
            "grid_area": null,
            "grid_auto_columns": null,
            "grid_auto_flow": null,
            "grid_auto_rows": null,
            "grid_column": null,
            "grid_gap": null,
            "grid_row": null,
            "grid_template_areas": null,
            "grid_template_columns": null,
            "grid_template_rows": null,
            "height": null,
            "justify_content": null,
            "justify_items": null,
            "left": null,
            "margin": null,
            "max_height": null,
            "max_width": null,
            "min_height": null,
            "min_width": null,
            "object_fit": null,
            "object_position": null,
            "order": null,
            "overflow": null,
            "overflow_x": null,
            "overflow_y": null,
            "padding": null,
            "right": null,
            "top": null,
            "visibility": null,
            "width": null
          }
        },
        "e25aa752a02545d2a0b6c86d7de5d506": {
          "model_module": "@jupyter-widgets/controls",
          "model_name": "DescriptionStyleModel",
          "state": {
            "_model_module": "@jupyter-widgets/controls",
            "_model_module_version": "1.5.0",
            "_model_name": "DescriptionStyleModel",
            "_view_count": null,
            "_view_module": "@jupyter-widgets/base",
            "_view_module_version": "1.2.0",
            "_view_name": "StyleView",
            "description_width": ""
          }
        }
      }
    }
  },
  "cells": [
    {
      "cell_type": "markdown",
      "metadata": {
        "id": "view-in-github",
        "colab_type": "text"
      },
      "source": [
        "<a href=\"https://colab.research.google.com/github/farhanfuadabir/Hand-Gesture-Recognition/blob/main/Model__Classical_ML/Hand_Gesture_Recognition_Classical_ML.ipynb\" target=\"_parent\"><img src=\"https://colab.research.google.com/assets/colab-badge.svg\" alt=\"Open In Colab\"/></a>"
      ]
    },
    {
      "cell_type": "markdown",
      "metadata": {
        "id": "TKz-06wTxKbt"
      },
      "source": [
        "# **Import** Data\n",
        "\n"
      ]
    },
    {
      "cell_type": "code",
      "metadata": {
        "colab": {
          "base_uri": "https://localhost:8080/"
        },
        "id": "kxrgIzHctUQj",
        "outputId": "b991d3bb-7e3f-42c1-e198-60ea3140c9b8"
      },
      "source": [
        "!git clone https://github.com/farhanfuadabir/Hand-Gesture-Recognition.git\n",
        "!unzip -q /content/Hand-Gesture-Recognition/ContinuousDataAcquisitionPython/Data_032021/\\*.zip -d /content/"
      ],
      "execution_count": null,
      "outputs": [
        {
          "output_type": "stream",
          "text": [
            "Cloning into 'Hand-Gesture-Recognition'...\n",
            "fatal: could not read Username for 'https://github.com': No such device or address\n",
            "unzip:  cannot find or open /content/Hand-Gesture-Recognition/ContinuousDataAcquisitionPython/Data_032021/*.zip, /content/Hand-Gesture-Recognition/ContinuousDataAcquisitionPython/Data_032021/*.zip.zip or /content/Hand-Gesture-Recognition/ContinuousDataAcquisitionPython/Data_032021/*.zip.ZIP.\n",
            "\n",
            "No zipfiles found.\n"
          ],
          "name": "stdout"
        }
      ]
    },
    {
      "cell_type": "code",
      "metadata": {
        "colab": {
          "base_uri": "https://localhost:8080/"
        },
        "id": "PwXb5PMlaOyP",
        "outputId": "19b6391e-a544-490c-8974-264eef460518"
      },
      "source": [
        "!unzip -q /content/\\*.zip"
      ],
      "execution_count": null,
      "outputs": [
        {
          "output_type": "stream",
          "text": [
            "\n",
            "7 archives were successfully processed.\n"
          ],
          "name": "stdout"
        }
      ]
    },
    {
      "cell_type": "code",
      "metadata": {
        "id": "0Lf9yIKVRVy3"
      },
      "source": [
        "# !unzip -q /content/Hand-Gesture-Recognition/ContinuousDataAcquisitionPython/Data_032021/\\*.zip -d /content/bla/"
      ],
      "execution_count": null,
      "outputs": []
    },
    {
      "cell_type": "code",
      "metadata": {
        "colab": {
          "base_uri": "https://localhost:8080/",
          "height": 231
        },
        "id": "YNxV0Hrc9X0a",
        "outputId": "09cdddb8-0f80-4eb0-fd85-3ac8177ca65f"
      },
      "source": [
        "ala = load(\"001/Processed/l/flex_1.joblib\")\n",
        "bla = load(\"002/Processed/l/flex_1.joblib\")\n",
        "\n",
        "fig, axes = plt.subplots(nrows=2, ncols=1, figsize=(15, 10))\n",
        "\n",
        "axes[0].plot(np.arange(1,151), ala[5,:])\n",
        "axes[1].plot(np.arange(1,151), ala[6,:])\n",
        "\n",
        "plt.show()"
      ],
      "execution_count": null,
      "outputs": [
        {
          "output_type": "error",
          "ename": "NameError",
          "evalue": "ignored",
          "traceback": [
            "\u001b[0;31m---------------------------------------------------------------------------\u001b[0m",
            "\u001b[0;31mNameError\u001b[0m                                 Traceback (most recent call last)",
            "\u001b[0;32m<ipython-input-4-f997122c21a9>\u001b[0m in \u001b[0;36m<module>\u001b[0;34m()\u001b[0m\n\u001b[0;32m----> 1\u001b[0;31m \u001b[0mala\u001b[0m \u001b[0;34m=\u001b[0m \u001b[0mload\u001b[0m\u001b[0;34m(\u001b[0m\u001b[0;34m\"001/Processed/l/flex_1.joblib\"\u001b[0m\u001b[0;34m)\u001b[0m\u001b[0;34m\u001b[0m\u001b[0;34m\u001b[0m\u001b[0m\n\u001b[0m\u001b[1;32m      2\u001b[0m \u001b[0mbla\u001b[0m \u001b[0;34m=\u001b[0m \u001b[0mload\u001b[0m\u001b[0;34m(\u001b[0m\u001b[0;34m\"002/Processed/l/flex_1.joblib\"\u001b[0m\u001b[0;34m)\u001b[0m\u001b[0;34m\u001b[0m\u001b[0;34m\u001b[0m\u001b[0m\n\u001b[1;32m      3\u001b[0m \u001b[0;34m\u001b[0m\u001b[0m\n\u001b[1;32m      4\u001b[0m \u001b[0mfig\u001b[0m\u001b[0;34m,\u001b[0m \u001b[0maxes\u001b[0m \u001b[0;34m=\u001b[0m \u001b[0mplt\u001b[0m\u001b[0;34m.\u001b[0m\u001b[0msubplots\u001b[0m\u001b[0;34m(\u001b[0m\u001b[0mnrows\u001b[0m\u001b[0;34m=\u001b[0m\u001b[0;36m2\u001b[0m\u001b[0;34m,\u001b[0m \u001b[0mncols\u001b[0m\u001b[0;34m=\u001b[0m\u001b[0;36m1\u001b[0m\u001b[0;34m,\u001b[0m \u001b[0mfigsize\u001b[0m\u001b[0;34m=\u001b[0m\u001b[0;34m(\u001b[0m\u001b[0;36m15\u001b[0m\u001b[0;34m,\u001b[0m \u001b[0;36m10\u001b[0m\u001b[0;34m)\u001b[0m\u001b[0;34m)\u001b[0m\u001b[0;34m\u001b[0m\u001b[0;34m\u001b[0m\u001b[0m\n\u001b[1;32m      5\u001b[0m \u001b[0;34m\u001b[0m\u001b[0m\n",
            "\u001b[0;31mNameError\u001b[0m: name 'load' is not defined"
          ]
        }
      ]
    },
    {
      "cell_type": "code",
      "metadata": {
        "id": "zoSCNKh6x3pp"
      },
      "source": [
        "ala = load(\"001/Processed/hello/flex_1.joblib\")\n",
        "bla = load(\"002/Processed/goodbye/flex_1.joblib\")\n",
        "\n",
        "# print(np.maximum(np.zeros([10,150]),ala).max())\n",
        "\n",
        "fig, axes = plt.subplots(nrows=2, ncols=1, figsize=(15, 10))\n",
        "\n",
        "axes[0].plot(np.arange(1,151), bla[2,:])\n",
        "\n",
        "\n",
        "# bla2 = [np.max(ala), np.min(ala)]\n",
        "# print(bla2)\n",
        "\n",
        "# bla = (bla-min) / (max-min)\n",
        "\n",
        "axes[1].plot(np.arange(1,151), la[2,:])\n",
        "\n",
        "\n",
        "# import pandas as pd\n",
        "# import matplotlib.pyplot as plt\n",
        "# # from scipy import signal\n",
        "\n",
        "# fig, axes = plt.subplots(nrows=2, ncols=1, figsize=(15, 10))\n",
        "\n",
        "# data = pd.read_csv('001/a.csv')\n",
        "# data.loc[:, \"flex_1\":\"flex_5\"].plot(ax=axes[0])\n",
        "\n",
        "# data = pd.read_csv('007/a.csv')\n",
        "# data.loc[:, \"flex_1\":\"flex_5\"].plot(ax=axes[1])\n",
        "\n",
        "plt.show()"
      ],
      "execution_count": null,
      "outputs": []
    },
    {
      "cell_type": "code",
      "metadata": {
        "id": "6tAUhJAUHLyn"
      },
      "source": [
        "import pandas as pd\n",
        "import matplotlib.pyplot as plt\n",
        "# from scipy import signal\n",
        "\n",
        "fig, axes = plt.subplots(nrows=2, ncols=1, figsize=(15, 10))\n",
        "\n",
        "data = pd.read_csv('001/a.csv')\n",
        "data.loc[:, \"flex_1\":\"flex_5\"].plot(ax=axes[0])\n",
        "\n",
        "data = pd.read_csv('007/a.csv')\n",
        "data.loc[:, \"flex_1\":\"flex_5\"].plot(ax=axes[1])\n",
        "\n",
        "plt.show()"
      ],
      "execution_count": null,
      "outputs": []
    },
    {
      "cell_type": "code",
      "metadata": {
        "id": "oTbUwmPPYOyy"
      },
      "source": [
        "import pandas as pd\n",
        "import matplotlib.pyplot as plt\n",
        "# from scipy import signal\n",
        "\n",
        "fig, axes = plt.subplots(nrows=2, ncols=1, figsize=(15, 10))\n",
        "\n",
        "data = pd.read_csv('001/a.csv')\n",
        "data.loc[:, \"flex_1\":\"flex_5\"].plot(ax=axes[0])\n",
        "\n",
        "data = pd.read_csv('007/a.csv')\n",
        "data.loc[:, \"flex_1\":\"flex_5\"].plot(ax=axes[1])\n",
        "\n",
        "plt.show()"
      ],
      "execution_count": null,
      "outputs": []
    },
    {
      "cell_type": "markdown",
      "metadata": {
        "id": "V-PLhB0PxXM7"
      },
      "source": [
        "# **Load** Dependencies"
      ]
    },
    {
      "cell_type": "code",
      "metadata": {
        "id": "Erl7gSKzOqvW"
      },
      "source": [
        "import os\n",
        "import pandas as pd\n",
        "import numpy as np\n",
        "import scipy as sp\n",
        "import librosa as lb\n",
        "from joblib import load, dump\n",
        "from tqdm.notebook import tqdm\n",
        "from sklearn import preprocessing\n",
        "import matplotlib.pyplot as plt"
      ],
      "execution_count": null,
      "outputs": []
    },
    {
      "cell_type": "markdown",
      "metadata": {
        "id": "bu7-xHlEyrht"
      },
      "source": [
        "# **Constants**"
      ]
    },
    {
      "cell_type": "code",
      "metadata": {
        "colab": {
          "base_uri": "https://localhost:8080/"
        },
        "id": "QUXP-NlmmJjV",
        "outputId": "677d4982-ec19-4909-8e04-79ff998b4b86"
      },
      "source": [
        "# Get user list\n",
        "# _, filenames, _ = next(os.walk(\"/content/Hand-Gesture-Recognition/ContinuousDataAcquisitionPython/Data_032021\"))\n",
        "# users = [os.path.splitext(x)[0] for x in filenames]\n",
        "# users = sorted(users, key=lambda x: (len(x), x))\n",
        "users = ['001', '002', '003', '004', '005', '006', '007']\n",
        "print(users)"
      ],
      "execution_count": null,
      "outputs": [
        {
          "output_type": "stream",
          "text": [
            "['001', '002', '003', '004', '005', '006', '007']\n"
          ],
          "name": "stdout"
        }
      ]
    },
    {
      "cell_type": "code",
      "metadata": {
        "colab": {
          "base_uri": "https://localhost:8080/"
        },
        "id": "7cgj5QFqNlQL",
        "outputId": "341da54a-c2a6-4400-d8fe-eb87e163cca3"
      },
      "source": [
        "# Indicate segmentLength, recorditeration according to the 'serialDataAcquisition_segmented.py' script\n",
        "segmentLength = 150\n",
        "recorditeration = 10\n",
        "\n",
        "# ColumnNames according to the 'serialDataAcquisition_segmented.py' script\n",
        "columnName = ['timestamp', 'user_id',\n",
        "              'flex_1', 'flex_2', 'flex_3', 'flex_4', 'flex_5',\n",
        "              'Qw', 'Qx', 'Qy', 'Qz',\n",
        "              'GYRx', 'GYRy', 'GYRz',\n",
        "              'ACCx', 'ACCy', 'ACCz',\n",
        "              'ACCx_body', 'ACCy_body', 'ACCz_body',\n",
        "              'ACCx_world', 'ACCy_world', 'ACCz_world']\n",
        "\n",
        "# gestures = get_gesture_names(userPath)\n",
        "gestures = ['a', 'b', 'c', 'd', 'e', 'f', 'g', 'h', 'i', 'j', 'k', 'l', 'm', \n",
        "            'n', 'o', 'p', 'q', 'r', 's', 't', 'u', 'v', 'w', 'x', 'y', 'z',\n",
        "            'bad', 'deaf', 'fine', 'good', 'goodbye', 'hello', 'hungry',\n",
        "            'me', 'no', 'please', 'sorry', 'thankyou', 'yes', 'you']\n",
        "\n",
        "print('Gesture List: ', gestures)\n",
        "print('Number of Gestures: ', len(gestures))\n",
        "\n",
        "label_encoder = preprocessing.LabelEncoder()\n",
        "label_encoder.fit(gestures)\n",
        "print(\"Number of Gestures Encoded: \", len(label_encoder.classes_))"
      ],
      "execution_count": null,
      "outputs": [
        {
          "output_type": "stream",
          "text": [
            "Gesture List:  ['a', 'b', 'c', 'd', 'e', 'f', 'g', 'h', 'i', 'j', 'k', 'l', 'm', 'n', 'o', 'p', 'q', 'r', 's', 't', 'u', 'v', 'w', 'x', 'y', 'z', 'bad', 'deaf', 'fine', 'good', 'goodbye', 'hello', 'hungry', 'me', 'no', 'please', 'sorry', 'thankyou', 'yes', 'you']\n",
            "Number of Gestures:  40\n",
            "Number of Gestures Encoded:  40\n"
          ],
          "name": "stdout"
        }
      ]
    },
    {
      "cell_type": "markdown",
      "metadata": {
        "id": "3Uvv_C1Cxeuw"
      },
      "source": [
        "# **Load** Functions"
      ]
    },
    {
      "cell_type": "code",
      "metadata": {
        "id": "j3CLG4MFlc78"
      },
      "source": [
        "# Extract user list from the Dataset\n",
        "\n",
        "def get_user_list(userPath):\n",
        "  _, filenames, _ = next(os.walk(\"/content/Hand-Gesture-Recognition/ContinuousDataAcquisitionPython/Data_032021\"))\n",
        "  users = [os.path.splitext(x)[0] for x in filenames]\n",
        "  users = sorted(users, key=lambda x: (len(x), x))\n",
        "  \n",
        "  return users"
      ],
      "execution_count": null,
      "outputs": []
    },
    {
      "cell_type": "code",
      "metadata": {
        "id": "TgmBj5EZT7vv"
      },
      "source": [
        "# Extract gesture names from the filenames\n",
        "\n",
        "def get_gesture_names(userPath):\n",
        "  _, _, filenames = next(os.walk(userPath))\n",
        "  gestures = [os.path.splitext(x)[0] for x in filenames]\n",
        "  gestures = sorted(gestures, key=lambda x: (len(x), x))\n",
        "\n",
        "  return gestures"
      ],
      "execution_count": null,
      "outputs": []
    },
    {
      "cell_type": "code",
      "metadata": {
        "id": "I4VnjoAjqtF0"
      },
      "source": [
        "# Extract rolling median and rolling mean filters on each channel\n",
        "\n",
        "def apply_rolling_filters(path=''):\n",
        "\n",
        "  # SPIKE REMOVAL FOR ALL USERS -> ROLLING MEDIAN[3]\n",
        "  users = ['001', '002', '003', '004', '005', '006', '007']\n",
        "  channels = [\"flex_1\", \"flex_2\", \"flex_3\", \"flex_4\", \"flex_5\"]\n",
        "\n",
        "  gestures = ['a', 'b', 'c', 'd', 'e', 'f', 'g', 'h', 'i', 'j', 'k', 'l', 'm', \n",
        "              'n', 'o', 'p', 'q', 'r', 's', 't', 'u', 'v', 'w', 'x', 'y', 'z',\n",
        "              'bad', 'deaf', 'fine', 'good', 'goodbye', 'hello', 'hungry',\n",
        "              'me', 'no', 'please', 'sorry', 'thankyou', 'yes', 'you']\n",
        "\n",
        "  for user in users:\n",
        "    for gesture in gestures:\n",
        "      data = pd.read_csv(path + user + '/' + gesture + '.csv')\n",
        "      for mode in channels:\n",
        "        data[mode] = data[mode].rolling(3, center=True).median()\n",
        "        data = data.fillna(method='bfill')\n",
        "        data = data.fillna(method='ffill')\n",
        "      data.to_csv(path + user + '/' + gesture + '.csv', index=False)\n",
        "\n",
        "\n",
        "  # SMOOTHING FOR USER 2 ('a'-'m') -> ROLLING AVERAGE[10]\n",
        "  users = ['002']\n",
        "  channels = [\"flex_1\", \"flex_2\", \"flex_3\", \"flex_4\", \"flex_5\"]\n",
        "\n",
        "  gestures = ['a', 'b', 'c', 'd', 'e', 'f', 'g', 'h', 'i', 'j', 'k', 'l', 'm']\n",
        "\n",
        "  for user in users:\n",
        "    for gesture in gestures:\n",
        "      data = pd.read_csv(path + user + '/' + gesture + '.csv')\n",
        "      for mode in channels:\n",
        "        data[mode] = data[mode].rolling(10, center=True).mean()\n",
        "        data = data.fillna(method='bfill')\n",
        "        data = data.fillna(method='ffill')\n",
        "      data.to_csv(path + user + '/' + gesture + '.csv', index=False)\n",
        "\n",
        "\n",
        "  # SMOOTHING FOR USER 4 -> ROLLING AVERAGE[10]\n",
        "  users = ['004']\n",
        "  channels = [\"flex_1\", \"flex_2\", \"flex_3\", \"flex_4\", \"flex_5\"]\n",
        "\n",
        "  gestures = ['a', 'b', 'c', 'd', 'e', 'f', 'g', 'h', 'i', 'j', 'k', 'l', 'm', \n",
        "              'n', 'o', 'p', 'q', 'r', 's', 't', 'u', 'v', 'w', 'x', 'y', 'z',\n",
        "              'bad', 'deaf', 'fine', 'good', 'goodbye', 'hello', 'hungry',\n",
        "              'me', 'no', 'please', 'sorry', 'thankyou', 'yes', 'you']\n",
        "\n",
        "  for user in users:\n",
        "    for gesture in gestures:\n",
        "      data = pd.read_csv(path + user + '/' + gesture + '.csv')\n",
        "      for mode in channels:\n",
        "        data[mode] = data[mode].rolling(10, center=True).mean()\n",
        "        data = data.fillna(method='bfill')\n",
        "        data = data.fillna(method='ffill')\n",
        "      data.to_csv(path + user + '/' + gesture + '.csv', index=False)\n",
        "\n",
        "\n",
        "  # SMOOTHING FOR USER 6 (ASL words) -> ROLLING AVERAGE[10]\n",
        "  users = ['006']\n",
        "  channels = [\"flex_1\", \"flex_2\", \"flex_3\", \"flex_4\", \"flex_5\"]\n",
        "\n",
        "  gestures = ['bad', 'deaf', 'fine', 'good', 'goodbye', 'hello', 'hungry',\n",
        "              'me', 'no', 'please', 'sorry', 'thankyou', 'yes', 'you']\n",
        "\n",
        "  for user in users:\n",
        "    for gesture in gestures:\n",
        "      data = pd.read_csv(path + user + '/' + gesture + '.csv')\n",
        "      for mode in channels:\n",
        "        data[mode] = data[mode].rolling(10, center=True).mean()\n",
        "        data = data.fillna(method='bfill')\n",
        "        data = data.fillna(method='ffill')\n",
        "      data.to_csv(path + user + '/' + gesture + '.csv', index=False)\n",
        "\n",
        "\n",
        "  # SMOOTHING FOR ALL USERS -> ROLLING AVERAGE[10]\n",
        "  users = ['001', '002', '003', '004', '005', '006', '007']\n",
        "  channels = [\"flex_1\", \"flex_2\", \"flex_3\", \"flex_4\", \"flex_5\"]\n",
        "\n",
        "  gestures = ['a', 'b', 'c', 'd', 'e', 'f', 'g', 'h', 'i', 'j', 'k', 'l', 'm', \n",
        "              'n', 'o', 'p', 'q', 'r', 's', 't', 'u', 'v', 'w', 'x', 'y', 'z',\n",
        "              'bad', 'deaf', 'fine', 'good', 'goodbye', 'hello', 'hungry',\n",
        "              'me', 'no', 'please', 'sorry', 'thankyou', 'yes', 'you']\n",
        "\n",
        "  for user in users:\n",
        "    for gesture in gestures:\n",
        "      data = pd.read_csv(path + user + '/' + gesture + '.csv')\n",
        "      for mode in channels:\n",
        "        data[mode] = data[mode].rolling(10, center=True).mean()\n",
        "        data = data.fillna(method='bfill')\n",
        "        data = data.fillna(method='ffill')\n",
        "      data.to_csv(path + user + '/' + gesture + '.csv', index=False)"
      ],
      "execution_count": null,
      "outputs": []
    },
    {
      "cell_type": "code",
      "metadata": {
        "id": "ViqjdzyYUFEn"
      },
      "source": [
        "# Extract Channels From Raw Dataset\n",
        "\n",
        "def extract_channels(columns, segmentLength, recorditeration, \n",
        "                     userPath, storePath, writeFormat='JOBLIB'):\n",
        "  # Make a directory named 'Channels' in the 'storePath' if there is none already\n",
        "  if not os.path.isdir(storePath):\n",
        "    currentPath = os.getcwd()\n",
        "    os.mkdir(currentPath + '/' + storePath)\n",
        "    print(\"Created Folder: \", currentPath + '/' + storePath)\n",
        "\n",
        "  if 'user_id' in columns:\n",
        "    columns.remove('user_id')\n",
        "\n",
        "  for file in gestures:\n",
        "    # Make a directory after the gesture name in the 'Channels' folder, if there is none already\n",
        "    if not os.path.isdir(storePath + '/' + file):\n",
        "      currentPath = os.getcwd()\n",
        "      os.mkdir(currentPath + '/' + storePath + '/' + file)\n",
        "\n",
        "    source = pd.read_csv(userPath + '/' + file + '.csv')    \n",
        "    \n",
        "    for channel in columns:\n",
        "      temp = source[channel].to_numpy()    \n",
        "      arr = np.expand_dims(temp, axis=0).reshape(-1,segmentLength)\n",
        "      if writeFormat.lower() == 'joblib':\n",
        "        dump(arr, storePath + '/' + file + '/' + channel + '.joblib')\n",
        "      elif writeFormat.lower() == 'csv':\n",
        "        np.savetxt(storePath + '/' + file + '/' + channel + '.csv', arr, delimiter=\",\")\n",
        "      else:\n",
        "        raise ValueError(\"Invalid WriteFormat. This function can only write 'CSV' or 'JOBLIB'.\")\n",
        "  \n",
        "  compile_channels(columns, storePath)\n",
        "\n",
        "\n",
        "def compile_channels(columnName, storePath, verbose=False):\n",
        "  for channel in columnName:\n",
        "    df = pd.DataFrame()\n",
        "\n",
        "    for file in gestures:\n",
        "      temp = load(storePath + '/' + file + '/' + channel + '.joblib')\n",
        "      temp = pd.DataFrame(temp)\n",
        "      #to add label with the data\n",
        "      temp = temp.assign(label=file)   \n",
        "      df = df.append(temp, ignore_index=True)\n",
        "    \n",
        "    if verbose == True:\n",
        "      print('Processing ', channel, '... Done | shape: ', df.shape)\n",
        "    \n",
        "    if not os.path.isdir(storePath + '/Channels'):\n",
        "      currentPath = os.getcwd()\n",
        "      os.mkdir(currentPath + '/' + storePath + '/Channels')\n",
        "    \n",
        "    dump(df['label'], storePath + '/label' + '.joblib')\n",
        "    df = df.drop(['label'], axis=1).to_numpy()\n",
        "    dump(df, storePath + '/Channels/' + channel + '.joblib')"
      ],
      "execution_count": null,
      "outputs": []
    },
    {
      "cell_type": "code",
      "metadata": {
        "id": "SezR3p0FBsfZ"
      },
      "source": [
        "# Scale Channels Per User within (0, 1)\n",
        "\n",
        "def scale_channels_per_user(users, channels, gestures, path=''):\n",
        "\n",
        "  print(users)\n",
        "  print(channels)\n",
        "  print(gestures)\n",
        "\n",
        "  max = [[] for i in range(len(users))]\n",
        "  min = [[] for i in range(len(users))]\n",
        "\n",
        "  max_gesture = [[] for i in range(len(users))]\n",
        "  min_gesture = [[] for i in range(len(users))]\n",
        "  for idx_user, user in enumerate(users):\n",
        "    for channel in channels:\n",
        "      max_array = np.zeros([recorditeration, segmentLength])\n",
        "      min_array = np.full((recorditeration, segmentLength), 1000) \n",
        "      for gesture in gestures:\n",
        "        data = load(path + user + '/Processed/' + gesture + '/' + channel + '.joblib')\n",
        "        if np.max(data) > np.max(max_array):\n",
        "          max_temp = gesture\n",
        "        if np.min(data) < np.min(min_array):\n",
        "          min_temp = gesture\n",
        "        max_array = np.maximum(max_array, data)\n",
        "        min_array = np.minimum(min_array, data)\n",
        "      max[idx_user].append(np.max(max_array))\n",
        "      min[idx_user].append(np.min(min_array))\n",
        "      max_gesture[idx_user].append(max_temp)\n",
        "      min_gesture[idx_user].append(min_temp)\n",
        "\n",
        "  for idx_user, user in enumerate(users):\n",
        "    for idx_channel, channel in enumerate(channels):\n",
        "      for gesture in gestures:\n",
        "        data = load(path + user + '/Processed/' + gesture + '/' + channel + '.joblib')\n",
        "        data = (data - min[idx_user][idx_channel]) / (max[idx_user][idx_channel] - min[idx_user][idx_channel])\n",
        "        dump(data, path + user + '/Processed/' + gesture + '/' + channel + '.joblib')\n",
        "\n",
        "  print(\"max array: \", max)\n",
        "  print(\"max at gestures: \", max_gesture)\n",
        "  print(\"max array length: \", len(max))\n",
        "  print(\"min array: \", min)\n",
        "  print(\"min at gestures: \", min_gesture)\n",
        "  print(\"min array length: \", len(min))"
      ],
      "execution_count": null,
      "outputs": []
    },
    {
      "cell_type": "markdown",
      "metadata": {
        "id": "aTed41xMUhNB"
      },
      "source": [
        "# **Load** Feature Extraction Functions"
      ]
    },
    {
      "cell_type": "code",
      "metadata": {
        "id": "Hqb55Vm5UgwN"
      },
      "source": [
        "def correlation(x):\n",
        "  cor = []\n",
        "  for n in range(x.shape[0]):\n",
        "    cor.append(np.correlate(x[n, :], x[n, :])[0])\n",
        "  return np.array(cor)\n",
        "\n",
        "\n",
        "def mean_crossing_rate(x):\n",
        "  mcr = []\n",
        "  for n in range(x.shape[0]):\n",
        "    mcr.append(lb.feature.zero_crossing_rate(x[n, :] - np.mean(x[n, :]))[0, 0])\n",
        "  return np.array(mcr)\n",
        "\n",
        "\n",
        "def get_entropy(x, axis = 1):\n",
        "  x = x / np.sum(x, axis = axis, keepdims=True)\n",
        "  entropy = np.sum(sp.special.entr(x), axis = axis)\n",
        "  return entropy\n",
        "\n",
        "\n",
        "def number_of_peaks(x):\n",
        "  npk = []\n",
        "  for n in range(x.shape[0]):\n",
        "    thres = (np.max(x[n, :]) / 3)\n",
        "    peaks, _ = sp.signal.find_peaks(x[n, :], thres)\n",
        "    npk.append(len(peaks))\n",
        "  return np.array(npk, dtype=float)\n",
        "\n",
        "\n",
        "def get_stat_features(x, axis=1, prefix=''):\n",
        "\n",
        "  # print('Calculating Features...', end = \" \")\n",
        "  min = np.min(x, axis = axis)\n",
        "  max = np.max(x, axis = axis)\n",
        "  std = np.std(x, axis = axis)\n",
        "  avg = np.mean(x, axis = axis)\n",
        "  var = np.var(x, axis = axis)\n",
        "  ptp = np.ptp(x, axis = axis)\n",
        "  mrc = np.max(np.diff(x, axis = axis), axis = axis)\n",
        "  arc = np.mean(np.diff(x, axis = axis), axis = axis)\n",
        "  src = np.std(np.diff(x, axis = axis), axis = axis)\n",
        "  mad = sp.stats.median_absolute_deviation(x, axis = axis)\n",
        "  iqr = sp.stats.iqr(x, axis = axis)\n",
        "  cor = correlation(x)\n",
        "  mcr = mean_crossing_rate(x)\n",
        "  rms = np.sum(np.square(x), axis = axis)\n",
        "  # print('Done!')\n",
        "  \n",
        "  feature_names = ['min', 'max', 'std', 'avg', 'var', \n",
        "                   'ptp', 'mrc', 'arc', 'src', 'mad', \n",
        "                   'iqr', 'cor', 'mcr', 'rms']\n",
        "  columnName = [prefix + '_' + sub for sub in feature_names]\n",
        "\n",
        "  stat_features = pd.DataFrame(np.stack((min, max, std, avg, \n",
        "                                         var, ptp, mrc, arc, \n",
        "                                         src, mad, iqr, cor, \n",
        "                                         mcr, rms), axis=1), columns=columnName)\n",
        "\n",
        "  return stat_features\n",
        " \n",
        "\n",
        "def get_freq_features(x, axis=1, fs=100, nperseg=150, prefix=''):\n",
        "\n",
        "  # print('Calculating Features...', end = \" \")\n",
        "  freq, psd = sp.signal.welch(x, fs, nperseg = nperseg, axis = axis)\n",
        "  mpw = np.max(psd, axis = axis)\n",
        "  ent = get_entropy(psd, axis = axis)\n",
        "  ctf = np.divide(np.sum((freq * psd), axis = axis), np.sum(psd, axis = axis))\n",
        "  mxf = np.argmax(psd, axis = axis)\n",
        "  enr = np.sum(np.square(psd), axis = axis) / nperseg\n",
        "  skw = sp.stats.skew(x, axis = axis)\n",
        "  kut = sp.stats.kurtosis(x, axis = axis)\n",
        "  npk = number_of_peaks(psd)\n",
        "  # print('Done!')\n",
        "\n",
        "  feature_names = ['mpw', 'ent', 'ctf', 'mxf', 'enr', 'skw', 'kut', 'npk']\n",
        "  columnName = [prefix + '_' + sub for sub in feature_names]\n",
        "\n",
        "  freq_features = pd.DataFrame(np.stack((mpw, ent, ctf, mxf, enr, skw, \n",
        "                                         kut, npk), axis=1), columns=columnName)\n",
        "\n",
        "  return freq_features\n",
        "\n",
        "\n",
        "def get_mutual_features(x, y, z, axis=1, nperseg=150, prefix=''):\n",
        "  cxy = []\n",
        "  cxz = []\n",
        "  cyz = []\n",
        "  vxy = []\n",
        "  vxz = []\n",
        "  vyz = []\n",
        "  # print('Calculating Features...', end = \" \")\n",
        "  for n in range(x.shape[0]):\n",
        "    cxy.append(np.corrcoef(x[n, :].ravel(), y[n, :].ravel())[0, 1])\n",
        "    cxz.append(np.corrcoef(x[n, :].ravel(), z[n, :].ravel())[0, 1])\n",
        "    cyz.append(np.corrcoef(y[n, :].ravel(), z[n, :].ravel())[0, 1])\n",
        "    vxy.append(np.cov(x[n, :].ravel(), y[n, :].ravel())[0, 1])\n",
        "    vxz.append(np.cov(x[n, :].ravel(), z[n, :].ravel())[0, 1])\n",
        "    vyz.append(np.cov(y[n, :].ravel(), z[n, :].ravel())[0, 1])\n",
        "  cxy = np.array(cxy)\n",
        "  cxz = np.array(cxz)\n",
        "  cyz = np.array(cyz)\n",
        "  vxy = np.array(vxy)\n",
        "  vxz = np.array(vxz)\n",
        "  vyz = np.array(vyz)\n",
        "  sma = (np.trapz(x, axis = axis) + np.trapz(x, axis = axis) + np.trapz(x, axis = axis)) / nperseg\n",
        "  # print('Done!')\n",
        "\n",
        "  feature_names = ['cxy', 'cxz', 'cyz', 'vxy', 'vxz', 'vyz', 'sma']\n",
        "  columnName = [prefix + '_' + sub for sub in feature_names]\n",
        "\n",
        "  mutual_features = pd.DataFrame(np.stack((cxy, cxz, cyz, vxy, vxz, vyz, sma), \n",
        "                                        axis=1), columns=columnName)\n",
        "\n",
        "  return mutual_features\n",
        "\n",
        "\n",
        "def get_velocity(x, axis = 1, nperseg = 150):\n",
        "  return np.trapz(x, axis = axis) / nperseg\n",
        "\n",
        "\n",
        "def get_fft_coefs(x, fs = 100, n = 20, axis = 1):\n",
        "  # print('Calculating Features...', end = \" \")\n",
        "  _, psd = sp.signal.welch(x, fs, nperseg = n, axis = axis)\n",
        "  # print('Done!')\n",
        "  return psd"
      ],
      "execution_count": null,
      "outputs": []
    },
    {
      "cell_type": "code",
      "metadata": {
        "id": "modXEnYLwqkm"
      },
      "source": [
        "def extract_features(storePath):\n",
        "\n",
        "  FLEX1 = load(storePath + '/Channels/flex_1.joblib')\n",
        "  FLEX2 = load(storePath + '/Channels/flex_2.joblib')\n",
        "  FLEX3 = load(storePath + '/Channels/flex_3.joblib')\n",
        "  FLEX4 = load(storePath + '/Channels/flex_4.joblib')\n",
        "  FLEX5 = load(storePath + '/Channels/flex_5.joblib')\n",
        "\n",
        "  ACCx = load(storePath + '/Channels/ACCx_world.joblib')\n",
        "  ACCy = load(storePath + '/Channels/ACCy_world.joblib')\n",
        "  ACCz = load(storePath + '/Channels/ACCz_world.joblib')\n",
        "\n",
        "  ACCm = np.sqrt(ACCx**2 + ACCy**2 + ACCz**2)\n",
        "  dump(ACCm, storePath + '/Channels/ACCm_world.joblib')\n",
        "\n",
        "  GYRx = load(storePath + '/Channels/GYRx.joblib')\n",
        "  GYRy = load(storePath + '/Channels/GYRy.joblib')\n",
        "  GYRz = load(storePath + '/Channels/GYRz.joblib')\n",
        "\n",
        "  GYRm = np.sqrt(GYRx**2 + GYRy**2 + GYRz**2)\n",
        "  dump(GYRm, storePath + '/Channels/GYRm.joblib')\n",
        "\n",
        "  stat_ACCx = get_stat_features(ACCx, axis=1, prefix=\"ACCx\")\n",
        "  stat_ACCy = get_stat_features(ACCy, prefix=\"ACCy\")\n",
        "  stat_ACCz = get_stat_features(ACCz, prefix=\"ACCz\")\n",
        "  stat_ACCm = get_stat_features(ACCm, prefix=\"ACCm\")\n",
        "  stat_GYRx = get_stat_features(GYRx, prefix=\"GYRx\")\n",
        "  stat_GYRy = get_stat_features(GYRy, prefix=\"GYRy\")\n",
        "  stat_GYRz = get_stat_features(GYRz, prefix=\"GYRz\")\n",
        "  stat_GYRm = get_stat_features(GYRm, prefix=\"GYRm\")\n",
        "  stat_FLEX1 = get_stat_features(FLEX1, prefix=\"FLEX1\")\n",
        "  stat_FLEX2 = get_stat_features(FLEX2, prefix=\"FLEX2\")\n",
        "  stat_FLEX3 = get_stat_features(FLEX3, prefix=\"FLEX3\")\n",
        "  stat_FLEX4 = get_stat_features(FLEX4, prefix=\"FLEX4\")\n",
        "  stat_FLEX5 = get_stat_features(FLEX5, prefix=\"FLEX5\")\n",
        "\n",
        "  freq_ACCx = get_freq_features(ACCx, prefix=\"ACCx\")\n",
        "  freq_ACCy = get_freq_features(ACCy, prefix=\"ACCy\")\n",
        "  freq_ACCz = get_freq_features(ACCz, prefix=\"ACCz\")\n",
        "  freq_ACCm = get_freq_features(ACCm, prefix=\"ACCm\")\n",
        "  freq_GYRx = get_freq_features(GYRx, prefix=\"GYRx\")\n",
        "  freq_GYRy = get_freq_features(GYRy, prefix=\"GYRy\")\n",
        "  freq_GYRz = get_freq_features(GYRz, prefix=\"GYRz\")\n",
        "  freq_GYRm = get_freq_features(GYRm, prefix=\"GYRm\")\n",
        "  freq_FLEX1 = get_freq_features(FLEX1, prefix=\"FLEX1\")\n",
        "  freq_FLEX2 = get_freq_features(FLEX2, prefix=\"FLEX2\")\n",
        "  freq_FLEX3 = get_freq_features(FLEX3, prefix=\"FLEX3\")\n",
        "  freq_FLEX4 = get_freq_features(FLEX4, prefix=\"FLEX4\")\n",
        "  freq_FLEX5 = get_freq_features(FLEX5, prefix=\"FLEX5\")\n",
        "\n",
        "  mutual_ACC = get_mutual_features(ACCx, ACCy, ACCz, prefix='ACC')\n",
        "  mutual_GYR = get_mutual_features(GYRx, GYRy, GYRz, prefix='GYR')\n",
        "\n",
        "  X = pd.concat([stat_ACCx, stat_ACCy, stat_ACCz, stat_ACCm, \n",
        "                stat_GYRx, stat_GYRy, stat_GYRz, stat_GYRm,\n",
        "                stat_FLEX1, stat_FLEX2, stat_FLEX3, stat_FLEX4, stat_FLEX5,\n",
        "                freq_ACCx, freq_ACCy, freq_ACCz, freq_ACCm,\n",
        "                freq_GYRx, freq_GYRy, freq_GYRz, freq_GYRm,\n",
        "                freq_FLEX1, freq_FLEX2, freq_FLEX3, freq_FLEX4, freq_FLEX5,\n",
        "                mutual_ACC, mutual_GYR], axis=1)\n",
        "\n",
        "  return X\n"
      ],
      "execution_count": null,
      "outputs": []
    },
    {
      "cell_type": "markdown",
      "metadata": {
        "id": "08yD2mDgFiuC"
      },
      "source": [
        "# **Preprocess** and **Extract** Channels "
      ]
    },
    {
      "cell_type": "code",
      "metadata": {
        "colab": {
          "base_uri": "https://localhost:8080/",
          "referenced_widgets": [
            "98013f0ca01446db9e45605cc1a06576",
            "1a5a1e2bb02f423fb853bfb117368112",
            "4ac97158453e4390b220add44f6b4b05",
            "264d361f392a4997a1e0d14a1ef2b912",
            "60f8c63c3abf4125bbc2a59748348bea",
            "450d49c5b2ff422b872feb26fb12c6a7",
            "2b53eff79a6640069100459213dfd358",
            "9c13bebc377d44e69a948d0e5b3dbac3"
          ]
        },
        "id": "LXQO46PMPBEe",
        "outputId": "7cb79786-1b97-48cd-843c-3da748661537"
      },
      "source": [
        "# Apply Rolling Filters\n",
        "print(\"Applying Rolling Filters...\", end='')\n",
        "apply_rolling_filters()\n",
        "print(\"Done\\n\\n\")\n",
        "\n",
        "\n",
        "# Extract Channels\n",
        "print(\"Extracting Channels...\\n\")\n",
        "\n",
        "for user in tqdm(users):\n",
        "  userPath = user\n",
        "  storePath = userPath + '/' + 'Processed'\n",
        "  extract_channels(columnName, segmentLength, recorditeration, \n",
        "                   userPath=userPath, storePath=storePath, writeFormat='joblib')\n",
        "print(\"Done\\n\\n\")\n",
        "\n",
        "\n",
        "# # Scale Channels\n",
        "# print(\"Applying Scaling...\", end='')\n",
        "# scale_channels_per_user(users=users, channels=['flex_1', 'flex_2', 'flex_3', \n",
        "#                                          'flex_4', 'flex_5'], gestures=gestures)\n",
        "# print(\"Done\\n\\n\")\n"
      ],
      "execution_count": null,
      "outputs": [
        {
          "output_type": "stream",
          "text": [
            "Applying Rolling Filters...Done\n",
            "\n",
            "\n",
            "Extracting Channels...\n",
            "\n"
          ],
          "name": "stdout"
        },
        {
          "output_type": "display_data",
          "data": {
            "application/vnd.jupyter.widget-view+json": {
              "model_id": "98013f0ca01446db9e45605cc1a06576",
              "version_minor": 0,
              "version_major": 2
            },
            "text/plain": [
              "HBox(children=(FloatProgress(value=0.0, max=7.0), HTML(value='')))"
            ]
          },
          "metadata": {
            "tags": []
          }
        },
        {
          "output_type": "stream",
          "text": [
            "Created Folder:  /content/001/Processed\n",
            "Created Folder:  /content/002/Processed\n",
            "Created Folder:  /content/003/Processed\n",
            "Created Folder:  /content/004/Processed\n",
            "Created Folder:  /content/005/Processed\n",
            "Created Folder:  /content/006/Processed\n",
            "Created Folder:  /content/007/Processed\n",
            "\n",
            "Done\n",
            "\n",
            "\n"
          ],
          "name": "stdout"
        }
      ]
    },
    {
      "cell_type": "markdown",
      "metadata": {
        "id": "p-ABKEFtxxoP"
      },
      "source": [
        "# **Extract** Features and Labels"
      ]
    },
    {
      "cell_type": "code",
      "metadata": {
        "colab": {
          "base_uri": "https://localhost:8080/",
          "height": 117,
          "referenced_widgets": [
            "03e57ce9206744a997565ddd6fa2d502",
            "8d1b71f2c8024571808d09df009aaf1e",
            "9a57042bf86b463587158427e1d98436",
            "cb668a83ef7b4f08956bd37638516716",
            "789dff142f24442ab3675679df8ef89c",
            "cae5afbe632e4ea99c11ea9410b3895b",
            "ccf705d6f9574ad493a9abecaf2186e8",
            "9148b7610fd24dc192eef5bc0466dfd1"
          ]
        },
        "id": "XNSEvqgDEhAO",
        "outputId": "c2ad550a-8f5c-4b93-afda-d2eb8fa88e52"
      },
      "source": [
        "# Extract Features\n",
        "print(\"Extracting Features and Labels...\\n\")\n",
        "feature_sets = []\n",
        "label_sets = []\n",
        "\n",
        "for user in tqdm(users):\n",
        "  userPath = user\n",
        "  storePath = userPath + '/' + 'Processed'\n",
        "  X_temp = extract_features(storePath)\n",
        "  y_temp = load(storePath + '/label.joblib')\n",
        "  y_temp = y_temp.to_numpy().ravel()\n",
        "  y_temp = label_encoder.transform(y_temp)\n",
        "  feature_sets.append(X_temp)\n",
        "  label_sets.append(y_temp)\n",
        "print(\"Done\")"
      ],
      "execution_count": null,
      "outputs": [
        {
          "output_type": "stream",
          "text": [
            "Extracting Features and Labels...\n",
            "\n"
          ],
          "name": "stdout"
        },
        {
          "output_type": "display_data",
          "data": {
            "application/vnd.jupyter.widget-view+json": {
              "model_id": "03e57ce9206744a997565ddd6fa2d502",
              "version_minor": 0,
              "version_major": 2
            },
            "text/plain": [
              "HBox(children=(FloatProgress(value=0.0, max=7.0), HTML(value='')))"
            ]
          },
          "metadata": {
            "tags": []
          }
        },
        {
          "output_type": "stream",
          "text": [
            "\n",
            "Done\n"
          ],
          "name": "stdout"
        }
      ]
    },
    {
      "cell_type": "code",
      "metadata": {
        "colab": {
          "base_uri": "https://localhost:8080/"
        },
        "id": "NubgWRKmCu3R",
        "outputId": "bd401b0e-4996-4c2e-a147-a742a1525666"
      },
      "source": [
        "print(len(gestures))"
      ],
      "execution_count": null,
      "outputs": [
        {
          "output_type": "stream",
          "text": [
            "40\n"
          ],
          "name": "stdout"
        }
      ]
    },
    {
      "cell_type": "markdown",
      "metadata": {
        "id": "z6iM3n3bezCv"
      },
      "source": [
        "# **Set** Train and Test Sets"
      ]
    },
    {
      "cell_type": "code",
      "metadata": {
        "colab": {
          "base_uri": "https://localhost:8080/"
        },
        "id": "dOEnxffgYwtc",
        "outputId": "d7df3eba-ba3f-43e5-f319-9371b3257243"
      },
      "source": [
        "# test_users = ['002', '004', '007']\n",
        "test_users = ['002', '004', '007']\n",
        "train_users = [x for x in users if x not in test_users]\n",
        "\n",
        "print(\"Train Set User ID: \", train_users)\n",
        "print(\"Test Set User ID: \", test_users)"
      ],
      "execution_count": null,
      "outputs": [
        {
          "output_type": "stream",
          "text": [
            "Train Set User ID:  ['001', '003', '005', '006']\n",
            "Test Set User ID:  ['002', '004', '007']\n"
          ],
          "name": "stdout"
        }
      ]
    },
    {
      "cell_type": "markdown",
      "metadata": {
        "id": "3lyn8dM6FXYm"
      },
      "source": [
        "## **Compile** Train and Test Sets"
      ]
    },
    {
      "cell_type": "code",
      "metadata": {
        "colab": {
          "base_uri": "https://localhost:8080/",
          "height": 251,
          "referenced_widgets": [
            "574566997c6c4750b732c52f17734b2a",
            "4971a45a899747678d40063933a7351f",
            "1e7dcef477114a7da2e88bed64cd06ee",
            "6eda1b6c4f834f828036af68777772ee",
            "8fe561694c904c75a0f1fbb26820b334",
            "a31044f7b54347a89c0447e933169dc6",
            "41e76c12ed5e4ccdaa65bbea96bc9674",
            "3123188f6a934b0d8a451b11008217e2",
            "2e945ac1bd7842b9adeecaa875a1e11c",
            "d557268ca76b4d15a4b7289f206d7b16",
            "fe1ce782b26c476fbe42e529f8666f62",
            "a9c860e23d384505a97a8fe006a0c68e",
            "44620d6b363249078a5954146c80be27",
            "d92aa86912774769af8ff723a1742c6c",
            "9ee9bdfe92d54577a527b0fc84200762",
            "2900322e02d64cd29377fcc117931313"
          ]
        },
        "id": "LX5r6yglI5Y_",
        "outputId": "e94ec8a1-b814-4a5b-9446-6532798194f4"
      },
      "source": [
        "print(\"Compiling Train Set... \")\n",
        "\n",
        "X_train = pd.DataFrame()\n",
        "y_train = np.array([])\n",
        "\n",
        "for user in tqdm(train_users):\n",
        "  X_train = X_train.append(feature_sets[int(user)-1], ignore_index=True)\n",
        "  y_train = np.append(y_train, label_sets[int(user)-1])\n",
        "\n",
        "print(\"X_train shape: \", X_train.shape)\n",
        "print(\"y_train shape: \", y_train.shape)\n",
        "\n",
        "\n",
        "print(\"\\n\\nCompiling Train Set... \")\n",
        "\n",
        "X_test = pd.DataFrame()\n",
        "y_test = np.array([])\n",
        "\n",
        "for user in tqdm(test_users):\n",
        "  X_test = X_test.append(feature_sets[int(user)-1], ignore_index=True)\n",
        "  y_test = np.append(y_test, label_sets[int(user)-1])\n",
        "\n",
        "print(\"X_test shape: \", X_test.shape)\n",
        "print(\"y_test shape: \", y_test.shape)\n",
        "\n",
        "\n",
        "# from sklearn.metrics import accuracy_score\n",
        "# from sklearn.ensemble import RandomForestClassifier\n",
        "# from sklearn.svm import SVC\n",
        "# from sklearn.pipeline import Pipeline\n",
        "# from sklearn.preprocessing import StandardScaler\n",
        "\n",
        "# accuracy = 0\n",
        "# num_iter = 10\n",
        "# failed_classes = set()\n",
        "# for i in range(num_iter):\n",
        "#   pipe = Pipeline([('nomalizer', StandardScaler()), ('clf', RandomForestClassifier(n_estimators=100))])\n",
        "#   # clf = RandomForestClassifier(n_estimators=100)\n",
        "#   pipe.fit(X_train,y_train)\n",
        "#   y_pred = pipe.predict(X_test)\n",
        "#   accuracy += accuracy_score(y_test,y_pred)\n",
        "#   failed_classes = failed_classes.union(set(y_test.astype(int)) - set(y_pred.astype(int)))\n",
        "# accuracy /= num_iter\n",
        "\n",
        "# # accuracy = 0\n",
        "# # num_iter = 10\n",
        "# # failed_classes = set()\n",
        "# # for i in range(num_iter):\n",
        "# #   clf = RandomForestClassifier(n_estimators=100)\n",
        "# #   # clf = SVC()\n",
        "# #   clf.fit(X_train,y_train)\n",
        "# #   y_pred = clf.predict(X_test)\n",
        "# #   accuracy += accuracy_score(y_test,y_pred)\n",
        "# #   failed_classes = failed_classes.union(set(y_test.astype(int)) - set(y_pred.astype(int)))\n",
        "# # accuracy /= num_iter\n",
        "\n",
        "# failed_classes = label_encoder.inverse_transform(list(failed_classes))\n",
        "\n",
        "# print(\"\\nAccuracy Score: %0.2f\" %(accuracy_score(y_test,y_pred)))\n",
        "# print(\"Failed Classes: \", failed_classes)"
      ],
      "execution_count": null,
      "outputs": [
        {
          "output_type": "stream",
          "text": [
            "Compiling Train Set... \n"
          ],
          "name": "stdout"
        },
        {
          "output_type": "display_data",
          "data": {
            "application/vnd.jupyter.widget-view+json": {
              "model_id": "574566997c6c4750b732c52f17734b2a",
              "version_minor": 0,
              "version_major": 2
            },
            "text/plain": [
              "HBox(children=(FloatProgress(value=0.0, max=4.0), HTML(value='')))"
            ]
          },
          "metadata": {
            "tags": []
          }
        },
        {
          "output_type": "stream",
          "text": [
            "\n",
            "X_train shape:  (1600, 300)\n",
            "y_train shape:  (1600,)\n",
            "\n",
            "\n",
            "Compiling Train Set... \n"
          ],
          "name": "stdout"
        },
        {
          "output_type": "display_data",
          "data": {
            "application/vnd.jupyter.widget-view+json": {
              "model_id": "2e945ac1bd7842b9adeecaa875a1e11c",
              "version_minor": 0,
              "version_major": 2
            },
            "text/plain": [
              "HBox(children=(FloatProgress(value=0.0, max=3.0), HTML(value='')))"
            ]
          },
          "metadata": {
            "tags": []
          }
        },
        {
          "output_type": "stream",
          "text": [
            "\n",
            "X_test shape:  (1200, 300)\n",
            "y_test shape:  (1200,)\n"
          ],
          "name": "stdout"
        }
      ]
    },
    {
      "cell_type": "markdown",
      "metadata": {
        "id": "YWxUixE6UGzW"
      },
      "source": [
        "# **Classify**"
      ]
    },
    {
      "cell_type": "code",
      "metadata": {
        "colab": {
          "base_uri": "https://localhost:8080/"
        },
        "id": "kYKRD2w0bX9D",
        "outputId": "03ef62f9-e787-45fc-fd3a-8a7360cb0e07"
      },
      "source": [
        "#@title #**Classifier**\n",
        "\n",
        "from sklearn.model_selection import train_test_split, cross_val_score\n",
        "from sklearn.metrics import classification_report, confusion_matrix, accuracy_score\n",
        "from sklearn.decomposition import PCA\n",
        "from sklearn.preprocessing import StandardScaler, LabelEncoder\n",
        "from sklearn.linear_model import LogisticRegression\n",
        "from sklearn.svm import SVC\n",
        "from sklearn.neighbors import KNeighborsClassifier\n",
        "from sklearn import tree\n",
        "from sklearn.neural_network import MLPClassifier\n",
        "from sklearn.neighbors import KNeighborsClassifier\n",
        "from sklearn.ensemble import GradientBoostingClassifier, AdaBoostClassifier\n",
        "from sklearn.gaussian_process.kernels import RBF\n",
        "from sklearn.ensemble import RandomForestClassifier\n",
        "from sklearn.naive_bayes import GaussianNB\n",
        "from sklearn.discriminant_analysis import QuadraticDiscriminantAnalysis\n",
        "from sklearn.gaussian_process import GaussianProcessClassifier\n",
        "from sklearn.metrics import plot_confusion_matrix\n",
        "from sklearn.utils import shuffle\n",
        "\n",
        "\n",
        "dict_classifiers = {\n",
        "    \"Logistic Regression\": LogisticRegression(max_iter=1000,solver='saga'),\n",
        "    \"Nearest Neighbors\": KNeighborsClassifier(),\n",
        "    \"RBF SVM\": SVC(C=10000,gamma=0.1),\n",
        "    \"Linear SVM\": SVC(kernel='linear'),\n",
        "    \"Gradient Boosting Classifier\": GradientBoostingClassifier(n_estimators=1000),\n",
        "    \"Decision Tree\": tree.DecisionTreeClassifier(),\n",
        "    \"Random Forest\": RandomForestClassifier(n_estimators=100),\n",
        "    \"Neural Net\": MLPClassifier(alpha = 1),\n",
        "    \"Naive Bayes\": GaussianNB(),\n",
        "    \"AdaBoost\": AdaBoostClassifier(),\n",
        "    \"QDA\": QuadraticDiscriminantAnalysis(),\n",
        "    \"Gaussian Process\": GaussianProcessClassifier()\n",
        "}\n",
        "\n",
        "#@markdown ###Select classifier\n",
        "classifier = \"Random Forest\" #@param [\"Logistic Regression\", \"Nearest Neighbors\", \"RBF SVM\", \"Linear SVM\", \"Gradient Boosting Classifier\", \"Decision Tree\", \"Random Forest\", \"Neural Net\", \"Naive Bayes\", \"AdaBoost\", \"QDA\", \"Gaussian Process\"]\n",
        "clf = dict_classifiers[classifier]\n",
        "\n",
        "X_train, y_train = shuffle(X_train, y_train, random_state=1234)\n",
        "\n",
        "clf.fit(X_train,y_train)\n",
        "y_pred = clf.predict(X_test)\n",
        "\n",
        "print(\"Test Accuracy: %0.2f\" %(accuracy_score(y_test,y_pred)))\n",
        "if len(set(y_test)) > len(set(y_pred)):\n",
        "  print(\"The model did not predict the following classes at all...\")\n",
        "  print(label_encoder.inverse_transform(list(set(y_test.astype(int)) - set(y_pred.astype(int)))))\n",
        "\n",
        "print(\"\\n\\n\")\n",
        "\n",
        "show_classification_report = False #@param {type:\"boolean\"}\n",
        "if show_classification_report:\n",
        "  print(classification_report(y_test, y_pred))\n",
        "\n",
        "\n",
        "show_confusion_matrix = False #@param {type:\"boolean\"}\n",
        "if show_confusion_matrix:\n",
        "  fig, ax = plt.subplots(figsize=(15, 15))\n",
        "  title = \"Confusion Matrix\"\n",
        "  ax.set_title(title)\n",
        "  ax.set_facecolor('xkcd:white')\n",
        "\n",
        "  # Plot Confusion Matrix\n",
        "  plot_confusion_matrix(clf, X_test, y_test, ax=ax, display_labels=list(label_encoder.classes_))\n",
        "  # plot_confusion_matrix(clf, X_test, y_test, ax=ax, display_labels=list(label_encoder.classes_),\n",
        "  #                             cmap=plt.cm.Blues,\n",
        "  #                             normalize=None)\n",
        "\n",
        "  plt.xticks(rotation=90)\n",
        "  plt.show()\n",
        "\n",
        "#@markdown ---"
      ],
      "execution_count": null,
      "outputs": [
        {
          "output_type": "stream",
          "text": [
            "Test Accuracy: 0.64\n",
            "The model did not predict the following classes at all...\n",
            "['a' 'v' 'x' 'e' 'm' 'n' 's' 't']\n",
            "\n",
            "\n",
            "\n"
          ],
          "name": "stdout"
        }
      ]
    },
    {
      "cell_type": "markdown",
      "metadata": {
        "id": "NaimpmsdU53y"
      },
      "source": [
        "# **Train** Batch Classifier"
      ]
    },
    {
      "cell_type": "code",
      "metadata": {
        "colab": {
          "base_uri": "https://localhost:8080/",
          "height": 617
        },
        "id": "SB1I2O2h6eiH",
        "outputId": "a366ae3f-9044-440c-c7c6-ec2cedebe740"
      },
      "source": [
        "\n",
        "import pandas as pd\n",
        "import numpy as np\n",
        "# import seaborn as sns\n",
        "import matplotlib.pyplot as plt\n",
        "import time\n",
        "from sklearn.model_selection import train_test_split, cross_val_score\n",
        "from sklearn.metrics import classification_report, confusion_matrix, accuracy_score\n",
        "from sklearn.decomposition import PCA\n",
        "from sklearn.preprocessing import StandardScaler, LabelEncoder\n",
        "from sklearn.linear_model import LogisticRegression\n",
        "from sklearn.svm import SVC\n",
        "from sklearn.neighbors import KNeighborsClassifier\n",
        "from sklearn import tree\n",
        "from sklearn.neural_network import MLPClassifier\n",
        "from sklearn.neighbors import KNeighborsClassifier\n",
        "from sklearn.ensemble import GradientBoostingClassifier, AdaBoostClassifier\n",
        "from sklearn.gaussian_process.kernels import RBF\n",
        "from sklearn.ensemble import RandomForestClassifier\n",
        "from sklearn.naive_bayes import GaussianNB\n",
        "from sklearn.discriminant_analysis import QuadraticDiscriminantAnalysis\n",
        "from sklearn.gaussian_process import GaussianProcessClassifier\n",
        "\n",
        "\n",
        "dict_classifiers = {\n",
        "    \"Logistic Regression\": LogisticRegression(max_iter=1000,solver='saga'),\n",
        "    \"Nearest Neighbors\": KNeighborsClassifier(),\n",
        "    \"RBF SVM\": SVC(C=10000,gamma=0.1),\n",
        "    \"Linear SVM\": SVC(kernel='linear'),\n",
        "    \"Gradient Boosting Classifier\": GradientBoostingClassifier(n_estimators=1000),\n",
        "    \"Decision Tree\": tree.DecisionTreeClassifier(),\n",
        "    \"Random Forest\": RandomForestClassifier(n_estimators=1000),\n",
        "    \"Neural Net\": MLPClassifier(alpha = 1),\n",
        "    \"Naive Bayes\": GaussianNB(),\n",
        "    \"AdaBoost\": AdaBoostClassifier(),\n",
        "    \"QDA\": QuadraticDiscriminantAnalysis(),\n",
        "    \"Gaussian Process\": GaussianProcessClassifier()\n",
        "}\n",
        "\n",
        "dict_normalizers = {\n",
        "    'StandardScaler': \"StandardScaler\",\n",
        "    'MinMaxScaler':\"MinMaxScaler\",\n",
        "    'MaxAbsScaler':\"MaxAbsScaler\",\n",
        "    'RobustScaler':\"RobustScaler\",\n",
        "    'QuantileTransformer-Normal':\"QuantileTransformer(output_distribution='normal')\",\n",
        "    'QuantileTransformer-Uniform':\"QuantileTransformer(output_distribution='uniform')\",\n",
        "    'PowerTransformer-Yeo-Johnson':\"PowerTransformer(method='yeo-johnson')\",\n",
        "    'Normalizer':\"Normalizer\"\n",
        "}\n",
        "\n",
        "\n",
        "def batch_classify(X_train, Y_train, X_test, Y_test, no_classifiers = 5, verbose = True):\n",
        "    \"\"\"\n",
        "    This method, takes as input the X, Y matrices of the Train and Test set.\n",
        "    And fits them on all of the Classifiers specified in the dict_classifier.\n",
        "    The trained models, and accuracies are saved in a dictionary. The reason to use a dictionary\n",
        "    is because it is very easy to save the whole dictionary with the pickle module.\n",
        "\n",
        "    Usually, the SVM, Random Forest and Gradient Boosting Classifier take quiet some time to train.\n",
        "    So it is best to train them on a smaller dataset first and\n",
        "    decide whether you want to comment them out or not based on the test accuracy score.\n",
        "    \"\"\"\n",
        "\n",
        "    dict_models = {}\n",
        "    for classifier_name, classifier in list(dict_classifiers.items())[:no_classifiers]:\n",
        "        t_start = time.time()\n",
        "        classifier.fit(X_train, Y_train)\n",
        "        t_end = time.time()\n",
        "\n",
        "        t_diff = t_end - t_start\n",
        "        train_score = classifier.score(X_train, Y_train)\n",
        "        test_score = classifier.score(X_test, Y_test)\n",
        "\n",
        "        dict_models[classifier_name] = {'model': classifier, 'train_score': train_score, 'test_score': test_score, 'train_time': t_diff}\n",
        "        if verbose:\n",
        "            print(\"trained {c} in {f:.2f} s\".format(c=classifier_name, f=t_diff))\n",
        "    return dict_models\n",
        "\n",
        "\n",
        "\n",
        "def display_dict_models(dict_models, sort_by='test_score'):\n",
        "    cls = [key for key in dict_models.keys()]\n",
        "    test_s = [dict_models[key]['test_score'] for key in cls]\n",
        "    training_s = [dict_models[key]['train_score'] for key in cls]\n",
        "    training_t = [dict_models[key]['train_time'] for key in cls]\n",
        "\n",
        "    df_ = pd.DataFrame(data=np.zeros(shape=(len(cls),4)), columns = ['classifier', 'train_score', 'test_score', 'train_time'])\n",
        "    for ii in range(0,len(cls)):\n",
        "        df_.loc[ii, 'classifier'] = cls[ii]\n",
        "        df_.loc[ii, 'train_score'] = training_s[ii]\n",
        "        df_.loc[ii, 'test_score'] = test_s[ii]\n",
        "        df_.loc[ii, 'train_time'] = training_t[ii]\n",
        "\n",
        "    display(df_.sort_values(by=sort_by, ascending=False))\n",
        "\n",
        "\n",
        "# Train-Test Split\n",
        "# X_tr, X_test, y_tr, y_test = train_test_split(X_train, y_train, test_size = 0.20, random_state=1234)\n",
        "\n",
        "dict_models = batch_classify(X_train, y_train, X_test, y_test, no_classifiers = 10)\n",
        "display_dict_models(dict_models)"
      ],
      "execution_count": null,
      "outputs": [
        {
          "output_type": "stream",
          "text": [
            "/usr/local/lib/python3.7/dist-packages/sklearn/linear_model/_sag.py:330: ConvergenceWarning: The max_iter was reached which means the coef_ did not converge\n",
            "  \"the coef_ did not converge\", ConvergenceWarning)\n"
          ],
          "name": "stderr"
        },
        {
          "output_type": "stream",
          "text": [
            "trained Logistic Regression in 111.51 s\n",
            "trained Nearest Neighbors in 0.05 s\n",
            "trained RBF SVM in 2.41 s\n",
            "trained Linear SVM in 29.96 s\n",
            "trained Gradient Boosting Classifier in 327.13 s\n",
            "trained Decision Tree in 0.50 s\n",
            "trained Random Forest in 24.52 s\n"
          ],
          "name": "stdout"
        },
        {
          "output_type": "stream",
          "text": [
            "/usr/local/lib/python3.7/dist-packages/sklearn/neural_network/_multilayer_perceptron.py:571: ConvergenceWarning: Stochastic Optimizer: Maximum iterations (200) reached and the optimization hasn't converged yet.\n",
            "  % self.max_iter, ConvergenceWarning)\n"
          ],
          "name": "stderr"
        },
        {
          "output_type": "stream",
          "text": [
            "trained Neural Net in 15.50 s\n",
            "trained Naive Bayes in 0.01 s\n",
            "trained AdaBoost in 3.96 s\n"
          ],
          "name": "stdout"
        },
        {
          "output_type": "display_data",
          "data": {
            "text/html": [
              "<div>\n",
              "<style scoped>\n",
              "    .dataframe tbody tr th:only-of-type {\n",
              "        vertical-align: middle;\n",
              "    }\n",
              "\n",
              "    .dataframe tbody tr th {\n",
              "        vertical-align: top;\n",
              "    }\n",
              "\n",
              "    .dataframe thead th {\n",
              "        text-align: right;\n",
              "    }\n",
              "</style>\n",
              "<table border=\"1\" class=\"dataframe\">\n",
              "  <thead>\n",
              "    <tr style=\"text-align: right;\">\n",
              "      <th></th>\n",
              "      <th>classifier</th>\n",
              "      <th>train_score</th>\n",
              "      <th>test_score</th>\n",
              "      <th>train_time</th>\n",
              "    </tr>\n",
              "  </thead>\n",
              "  <tbody>\n",
              "    <tr>\n",
              "      <th>6</th>\n",
              "      <td>Random Forest</td>\n",
              "      <td>1.000000</td>\n",
              "      <td>0.736667</td>\n",
              "      <td>24.519986</td>\n",
              "    </tr>\n",
              "    <tr>\n",
              "      <th>5</th>\n",
              "      <td>Decision Tree</td>\n",
              "      <td>1.000000</td>\n",
              "      <td>0.597500</td>\n",
              "      <td>0.503465</td>\n",
              "    </tr>\n",
              "    <tr>\n",
              "      <th>8</th>\n",
              "      <td>Naive Bayes</td>\n",
              "      <td>0.871875</td>\n",
              "      <td>0.562500</td>\n",
              "      <td>0.012109</td>\n",
              "    </tr>\n",
              "    <tr>\n",
              "      <th>4</th>\n",
              "      <td>Gradient Boosting Classifier</td>\n",
              "      <td>1.000000</td>\n",
              "      <td>0.519167</td>\n",
              "      <td>327.129731</td>\n",
              "    </tr>\n",
              "    <tr>\n",
              "      <th>3</th>\n",
              "      <td>Linear SVM</td>\n",
              "      <td>0.977500</td>\n",
              "      <td>0.385000</td>\n",
              "      <td>29.956239</td>\n",
              "    </tr>\n",
              "    <tr>\n",
              "      <th>7</th>\n",
              "      <td>Neural Net</td>\n",
              "      <td>0.947500</td>\n",
              "      <td>0.341667</td>\n",
              "      <td>15.503918</td>\n",
              "    </tr>\n",
              "    <tr>\n",
              "      <th>0</th>\n",
              "      <td>Logistic Regression</td>\n",
              "      <td>0.643125</td>\n",
              "      <td>0.310000</td>\n",
              "      <td>111.513594</td>\n",
              "    </tr>\n",
              "    <tr>\n",
              "      <th>1</th>\n",
              "      <td>Nearest Neighbors</td>\n",
              "      <td>0.965625</td>\n",
              "      <td>0.288333</td>\n",
              "      <td>0.052150</td>\n",
              "    </tr>\n",
              "    <tr>\n",
              "      <th>9</th>\n",
              "      <td>AdaBoost</td>\n",
              "      <td>0.200625</td>\n",
              "      <td>0.182500</td>\n",
              "      <td>3.957951</td>\n",
              "    </tr>\n",
              "    <tr>\n",
              "      <th>2</th>\n",
              "      <td>RBF SVM</td>\n",
              "      <td>1.000000</td>\n",
              "      <td>0.025000</td>\n",
              "      <td>2.405984</td>\n",
              "    </tr>\n",
              "  </tbody>\n",
              "</table>\n",
              "</div>"
            ],
            "text/plain": [
              "                     classifier  train_score  test_score  train_time\n",
              "6                 Random Forest     1.000000    0.736667   24.519986\n",
              "5                 Decision Tree     1.000000    0.597500    0.503465\n",
              "8                   Naive Bayes     0.871875    0.562500    0.012109\n",
              "4  Gradient Boosting Classifier     1.000000    0.519167  327.129731\n",
              "3                    Linear SVM     0.977500    0.385000   29.956239\n",
              "7                    Neural Net     0.947500    0.341667   15.503918\n",
              "0           Logistic Regression     0.643125    0.310000  111.513594\n",
              "1             Nearest Neighbors     0.965625    0.288333    0.052150\n",
              "9                      AdaBoost     0.200625    0.182500    3.957951\n",
              "2                       RBF SVM     1.000000    0.025000    2.405984"
            ]
          },
          "metadata": {
            "tags": []
          }
        }
      ]
    },
    {
      "cell_type": "code",
      "metadata": {
        "colab": {
          "base_uri": "https://localhost:8080/",
          "height": 984,
          "referenced_widgets": [
            "3ed2ace71a2e41d9b8e795c7817ad0e3",
            "4adb10d317d84c449b51197eeeb1d454",
            "536c5d61661d4b8d8da029dd97bcb376",
            "b686527fa30f4dd3b7e73b3430784113",
            "741e2ba163b14b5594e3d3fa98551203",
            "778dca75b3a04efda3743c7c809171a2",
            "2828e9c58c3146c78d6cf33bb45631b6",
            "e25aa752a02545d2a0b6c86d7de5d506"
          ]
        },
        "id": "2eTRqt1yqt9Z",
        "outputId": "d3e117ea-1cf3-41ad-de28-d35cd1f5a97c"
      },
      "source": [
        "print(\"Compiling Train Set... \")\n",
        "\n",
        "X = pd.DataFrame()\n",
        "y = np.array([])\n",
        "\n",
        "for user in tqdm(users):\n",
        "  X = X.append(feature_sets[int(user)-1], ignore_index=True)\n",
        "  y = np.append(y, label_sets[int(user)-1])\n",
        "\n",
        "print(\"X shape: \", X.shape)\n",
        "print(\"y shape: \", y.shape)\n",
        "\n",
        "# Train-Test Split\n",
        "X_tr, X_test, y_tr, y_test = train_test_split(X, y, test_size = 0.50, random_state=1234)\n",
        "\n",
        "clf = RandomForestClassifier(n_estimators=100)\n",
        "\n",
        "# X, y = shuffle(X, y, random_state=42)\n",
        "\n",
        "clf.fit(X_tr,y_tr)\n",
        "y_pred = clf.predict(X_test)\n",
        "\n",
        "print(\"Test Accuracy: %0.2f\" %(accuracy_score(y_test,y_pred)))\n",
        "if len(set(y_test)) > len(set(y_pred)):\n",
        "  print(\"The model did not predict the following classes at all...\")\n",
        "  print(label_encoder.inverse_transform(list(set(y_test.astype(int)) - set(y_pred.astype(int)))))\n",
        "\n",
        "print(\"\\n\\n\")\n",
        "\n",
        "print(classification_report(y_test, y_pred))"
      ],
      "execution_count": null,
      "outputs": [
        {
          "output_type": "stream",
          "text": [
            "Compiling Train Set... \n"
          ],
          "name": "stdout"
        },
        {
          "output_type": "display_data",
          "data": {
            "application/vnd.jupyter.widget-view+json": {
              "model_id": "3ed2ace71a2e41d9b8e795c7817ad0e3",
              "version_major": 2,
              "version_minor": 0
            },
            "text/plain": [
              "HBox(children=(FloatProgress(value=0.0, max=7.0), HTML(value='')))"
            ]
          },
          "metadata": {
            "tags": []
          }
        },
        {
          "output_type": "stream",
          "text": [
            "\n",
            "X shape:  (2800, 300)\n",
            "y shape:  (2800,)\n",
            "Test Accuracy: 0.98\n",
            "\n",
            "\n",
            "\n",
            "              precision    recall  f1-score   support\n",
            "\n",
            "         0.0       0.97      1.00      0.98        30\n",
            "         1.0       1.00      1.00      1.00        42\n",
            "         2.0       1.00      1.00      1.00        34\n",
            "         3.0       0.89      0.92      0.90        36\n",
            "         4.0       0.97      0.97      0.97        37\n",
            "         5.0       1.00      1.00      1.00        41\n",
            "         6.0       1.00      1.00      1.00        31\n",
            "         7.0       1.00      1.00      1.00        30\n",
            "         8.0       1.00      1.00      1.00        37\n",
            "         9.0       1.00      1.00      1.00        37\n",
            "        10.0       1.00      0.94      0.97        34\n",
            "        11.0       0.97      1.00      0.98        30\n",
            "        12.0       1.00      1.00      1.00        38\n",
            "        13.0       1.00      1.00      1.00        41\n",
            "        14.0       1.00      1.00      1.00        39\n",
            "        15.0       1.00      1.00      1.00        32\n",
            "        16.0       1.00      1.00      1.00        28\n",
            "        17.0       0.97      1.00      0.99        33\n",
            "        18.0       0.95      1.00      0.97        35\n",
            "        19.0       1.00      1.00      1.00        29\n",
            "        20.0       0.97      1.00      0.99        35\n",
            "        21.0       1.00      1.00      1.00        35\n",
            "        22.0       1.00      1.00      1.00        33\n",
            "        23.0       0.95      1.00      0.97        35\n",
            "        24.0       1.00      1.00      1.00        31\n",
            "        25.0       1.00      1.00      1.00        37\n",
            "        26.0       0.92      1.00      0.96        33\n",
            "        27.0       1.00      0.77      0.87        35\n",
            "        28.0       1.00      0.88      0.94        33\n",
            "        29.0       1.00      1.00      1.00        41\n",
            "        30.0       1.00      0.84      0.91        37\n",
            "        31.0       0.94      1.00      0.97        33\n",
            "        32.0       0.89      1.00      0.94        32\n",
            "        33.0       0.93      1.00      0.96        37\n",
            "        34.0       1.00      1.00      1.00        40\n",
            "        35.0       0.97      1.00      0.99        39\n",
            "        36.0       1.00      1.00      1.00        30\n",
            "        37.0       1.00      1.00      1.00        35\n",
            "        38.0       1.00      0.95      0.97        37\n",
            "        39.0       1.00      1.00      1.00        38\n",
            "\n",
            "    accuracy                           0.98      1400\n",
            "   macro avg       0.98      0.98      0.98      1400\n",
            "weighted avg       0.98      0.98      0.98      1400\n",
            "\n"
          ],
          "name": "stdout"
        }
      ]
    },
    {
      "cell_type": "markdown",
      "metadata": {
        "id": "raadxEyHYONe"
      },
      "source": [
        "## **Plot** Confusion Matrix"
      ]
    },
    {
      "cell_type": "code",
      "metadata": {
        "colab": {
          "base_uri": "https://localhost:8080/",
          "height": 852
        },
        "id": "fOGPDUJ-YR3Z",
        "outputId": "88deac92-e89e-4459-95b3-00728824ca60"
      },
      "source": [
        "from sklearn.metrics import plot_confusion_matrix\n",
        "\n",
        "fig, ax = plt.subplots(figsize=(15, 15))\n",
        "title = \"Confusion Matrix\"\n",
        "ax.set_title(title)\n",
        "ax.set_facecolor('tab:gray')\n",
        "\n",
        "# Plot Confusion Matrix\n",
        "plot_confusion_matrix(clf, X_test, y_test, ax=ax, display_labels=list(label_encoder.classes_))\n",
        "# plot_confusion_matrix(clf, X_test, y_test, ax=ax, display_labels=list(label_encoder.classes_),\n",
        "#                             cmap=plt.cm.Blues,\n",
        "#                             normalize=None)\n",
        "\n",
        "plt.xticks(rotation=90)\n",
        "\n",
        "plt.savefig('confusion_matrix.jpg', format='jpg')\n",
        "plt.show()"
      ],
      "execution_count": null,
      "outputs": [
        {
          "output_type": "display_data",
          "data": {
            "image/png": "[encoded data removed]",
            "text/plain": [
              "<Figure size 1080x1080 with 2 Axes>"
            ]
          },
          "metadata": {
            "tags": []
          }
        }
      ]
    },
    {
      "cell_type": "markdown",
      "metadata": {
        "id": "k5-UDXRqvf7Q"
      },
      "source": [
        "# **Train** Batch Classifiers and Normalizers"
      ]
    },
    {
      "cell_type": "markdown",
      "metadata": {
        "id": "sInuOC58G3P9"
      },
      "source": [
        "### Function"
      ]
    },
    {
      "cell_type": "code",
      "metadata": {
        "id": "rz3xAqaKvoA2"
      },
      "source": [
        "import pandas as pd\n",
        "import numpy as np\n",
        "# import seaborn as sns\n",
        "import matplotlib.pyplot as plt\n",
        "import time\n",
        "from sklearn.model_selection import train_test_split, cross_val_score\n",
        "from sklearn.metrics import classification_report, confusion_matrix, accuracy_score\n",
        "from sklearn.decomposition import PCA\n",
        "from sklearn.preprocessing import StandardScaler, LabelEncoder\n",
        "from sklearn.linear_model import LogisticRegression\n",
        "from sklearn.svm import SVC\n",
        "from sklearn.neighbors import KNeighborsClassifier\n",
        "from sklearn import tree\n",
        "from sklearn.neural_network import MLPClassifier\n",
        "from sklearn.neighbors import KNeighborsClassifier\n",
        "from sklearn.ensemble import GradientBoostingClassifier, AdaBoostClassifier\n",
        "from sklearn.gaussian_process.kernels import RBF\n",
        "from sklearn.ensemble import RandomForestClassifier\n",
        "from sklearn.naive_bayes import GaussianNB\n",
        "from sklearn.discriminant_analysis import QuadraticDiscriminantAnalysis\n",
        "from sklearn.gaussian_process import GaussianProcessClassifier\n",
        "from sklearn.preprocessing import StandardScaler, MinMaxScaler, MaxAbsScaler, RobustScaler, QuantileTransformer, PowerTransformer, Normalizer\n",
        "\n",
        "dict_classifiers = {\n",
        "  \"Logistic Regression\": LogisticRegression(max_iter=1000,solver='saga'),\n",
        "  \"Nearest Neighbors\": KNeighborsClassifier(),\n",
        "  \"RBF SVM\": SVC(C=10000,gamma=0.1),\n",
        "  \"Linear SVM\": SVC(kernel='linear'),\n",
        "  \"Gradient Boosting Classifier\": GradientBoostingClassifier(n_estimators=100),\n",
        "  \"Decision Tree\": tree.DecisionTreeClassifier(),\n",
        "  \"Random Forest\": RandomForestClassifier(n_estimators=100),\n",
        "  \"Neural Net\": MLPClassifier(alpha = 1),\n",
        "  \"Naive Bayes\": GaussianNB(),\n",
        "  \"AdaBoost\": AdaBoostClassifier(),\n",
        "  \"QDA\": QuadraticDiscriminantAnalysis(),\n",
        "  \"Gaussian Process\": GaussianProcessClassifier()\n",
        "}\n",
        "\n",
        "dict_normalizers = {\n",
        "  'No Normalizer': None,\n",
        "  'StandardScaler': StandardScaler(),\n",
        "  'MinMaxScaler': MinMaxScaler(),\n",
        "  'MaxAbsScaler': MaxAbsScaler(),\n",
        "  'RobustScaler': RobustScaler(),\n",
        "  'QuantileTransformer-Normal': QuantileTransformer(output_distribution='normal'),\n",
        "  'QuantileTransformer-Uniform': QuantileTransformer(output_distribution='uniform'),\n",
        "  'PowerTransformer-Yeo-Johnson': PowerTransformer(method='yeo-johnson'),\n",
        "  'Normalizer': Normalizer()\n",
        "}\n",
        "\n",
        "\n",
        "def batch_classify(X_train, Y_train, X_test, Y_test, verbose = True):\n",
        "  \"\"\"\n",
        "  This method, takes as input the X, Y matrices of the Train and Test set.\n",
        "  And fits them on all of the Classifiers specified in the dict_classifier.\n",
        "  The trained models, and accuracies are saved in a dictionary. The reason to use a dictionary\n",
        "  is because it is very easy to save the whole dictionary with the pickle module.\n",
        "\n",
        "  Usually, the SVM, Random Forest and Gradient Boosting Classifier take quiet some time to train.\n",
        "  So it is best to train them on a smaller dataset first and\n",
        "  decide whether you want to comment them out or not based on the test accuracy score.\n",
        "  \"\"\"\n",
        "\n",
        "  dict_models = []\n",
        "  for classifier_name, classifier in list(dict_classifiers.items()):\n",
        "    for normalizer_name, normalizer in list(dict_normalizers.items()):\n",
        "      t_start = time.time()\n",
        "      pipe = Pipeline([('nomalizer', normalizer), ('clf', classifier)])\n",
        "      pipe.fit(X_train, Y_train)\n",
        "      t_end = time.time()\n",
        "\n",
        "      t_diff = t_end - t_start\n",
        "      train_score = pipe.score(X_train, Y_train)\n",
        "      test_score = pipe.score(X_test, Y_test)\n",
        "\n",
        "      dict_models.append([classifier_name, normalizer_name, train_score,\n",
        "                          test_score, t_diff])\n",
        "\n",
        "      if verbose:\n",
        "        print(\"trained {c} in {f:.2f} s\".format(c=classifier_name + '__' + normalizer_name, f=t_diff))\n",
        "  return dict_models\n",
        "\n",
        "\n",
        "def display_dict_models(dict_models, sort_by=\"Test_Score\"):\n",
        "  df = pd.DataFrame(dict_models, columns=[\"Classifier\", \"Normalizer\", \n",
        "                                          \"Train_Score\", \"Test_Score\", \n",
        "                                          \"Train_Time\"])\n",
        "  \n",
        "  df = df.sort_values(by=sort_by, ascending=False)\n",
        "  display(df)\n",
        "  df.to_csv(\"/content/drive/MyDrive/Hand-Gesture-Recognition/batch_classifier_result.csv\", index=False)\n"
      ],
      "execution_count": null,
      "outputs": []
    },
    {
      "cell_type": "markdown",
      "metadata": {
        "id": "VgV4xD1YG_kZ"
      },
      "source": [
        "### Code"
      ]
    },
    {
      "cell_type": "code",
      "metadata": {
        "id": "VZx5tj611w8u",
        "colab": {
          "base_uri": "https://localhost:8080/",
          "height": 1000
        },
        "outputId": "5e2adf3e-e528-4d93-f39e-f1260550250d"
      },
      "source": [
        "# Train-Test Split\n",
        "# X_tr, X_test, y_tr, y_test = train_test_split(X_train, y_train, test_size = 0.20, random_state=1234)\n",
        "\n",
        "dict_models = batch_classify(X_train, y_train, X_test, y_test)\n",
        "display_dict_models(dict_models)"
      ],
      "execution_count": null,
      "outputs": [
        {
          "output_type": "stream",
          "text": [
            "/usr/local/lib/python3.7/dist-packages/sklearn/linear_model/_sag.py:330: ConvergenceWarning: The max_iter was reached which means the coef_ did not converge\n",
            "  \"the coef_ did not converge\", ConvergenceWarning)\n"
          ],
          "name": "stderr"
        },
        {
          "output_type": "stream",
          "text": [
            "trained Logistic Regression__No Normalizer in 98.76 s\n"
          ],
          "name": "stdout"
        },
        {
          "output_type": "stream",
          "text": [
            "/usr/local/lib/python3.7/dist-packages/sklearn/linear_model/_sag.py:330: ConvergenceWarning: The max_iter was reached which means the coef_ did not converge\n",
            "  \"the coef_ did not converge\", ConvergenceWarning)\n"
          ],
          "name": "stderr"
        },
        {
          "output_type": "stream",
          "text": [
            "trained Logistic Regression__StandardScaler in 98.73 s\n",
            "trained Logistic Regression__MinMaxScaler in 16.17 s\n",
            "trained Logistic Regression__MaxAbsScaler in 54.58 s\n"
          ],
          "name": "stdout"
        },
        {
          "output_type": "stream",
          "text": [
            "/usr/local/lib/python3.7/dist-packages/sklearn/linear_model/_sag.py:330: ConvergenceWarning: The max_iter was reached which means the coef_ did not converge\n",
            "  \"the coef_ did not converge\", ConvergenceWarning)\n"
          ],
          "name": "stderr"
        },
        {
          "output_type": "stream",
          "text": [
            "trained Logistic Regression__RobustScaler in 98.48 s\n",
            "trained Logistic Regression__QuantileTransformer-Normal in 48.91 s\n",
            "trained Logistic Regression__QuantileTransformer-Uniform in 24.38 s\n",
            "trained Logistic Regression__PowerTransformer-Yeo-Johnson in 58.47 s\n",
            "trained Logistic Regression__Normalizer in 1.83 s\n",
            "trained Nearest Neighbors__No Normalizer in 0.05 s\n",
            "trained Nearest Neighbors__StandardScaler in 0.05 s\n",
            "trained Nearest Neighbors__MinMaxScaler in 0.05 s\n",
            "trained Nearest Neighbors__MaxAbsScaler in 0.04 s\n",
            "trained Nearest Neighbors__RobustScaler in 0.11 s\n",
            "trained Nearest Neighbors__QuantileTransformer-Normal in 1.24 s\n",
            "trained Nearest Neighbors__QuantileTransformer-Uniform in 0.98 s\n",
            "trained Nearest Neighbors__PowerTransformer-Yeo-Johnson in 1.73 s\n",
            "trained Nearest Neighbors__Normalizer in 0.06 s\n",
            "trained RBF SVM__No Normalizer in 2.40 s\n",
            "trained RBF SVM__StandardScaler in 2.55 s\n",
            "trained RBF SVM__MinMaxScaler in 1.16 s\n",
            "trained RBF SVM__MaxAbsScaler in 1.21 s\n",
            "trained RBF SVM__RobustScaler in 2.56 s\n",
            "trained RBF SVM__QuantileTransformer-Normal in 3.69 s\n",
            "trained RBF SVM__QuantileTransformer-Uniform in 3.45 s\n",
            "trained RBF SVM__PowerTransformer-Yeo-Johnson in 4.18 s\n",
            "trained RBF SVM__Normalizer in 0.35 s\n",
            "trained Linear SVM__No Normalizer in 30.92 s\n",
            "trained Linear SVM__StandardScaler in 0.70 s\n",
            "trained Linear SVM__MinMaxScaler in 0.59 s\n",
            "trained Linear SVM__MaxAbsScaler in 0.56 s\n",
            "trained Linear SVM__RobustScaler in 3.03 s\n",
            "trained Linear SVM__QuantileTransformer-Normal in 2.08 s\n",
            "trained Linear SVM__QuantileTransformer-Uniform in 1.82 s\n",
            "trained Linear SVM__PowerTransformer-Yeo-Johnson in 2.41 s\n",
            "trained Linear SVM__Normalizer in 0.87 s\n",
            "trained Gradient Boosting Classifier__No Normalizer in 243.90 s\n",
            "trained Gradient Boosting Classifier__StandardScaler in 240.50 s\n",
            "trained Gradient Boosting Classifier__MinMaxScaler in 241.77 s\n",
            "trained Gradient Boosting Classifier__MaxAbsScaler in 244.78 s\n",
            "trained Gradient Boosting Classifier__RobustScaler in 246.11 s\n",
            "trained Gradient Boosting Classifier__QuantileTransformer-Normal in 251.00 s\n",
            "trained Gradient Boosting Classifier__QuantileTransformer-Uniform in 254.65 s\n",
            "trained Gradient Boosting Classifier__PowerTransformer-Yeo-Johnson in 244.17 s\n",
            "trained Gradient Boosting Classifier__Normalizer in 225.10 s\n",
            "trained Decision Tree__No Normalizer in 0.49 s\n",
            "trained Decision Tree__StandardScaler in 0.58 s\n",
            "trained Decision Tree__MinMaxScaler in 0.49 s\n",
            "trained Decision Tree__MaxAbsScaler in 0.54 s\n",
            "trained Decision Tree__RobustScaler in 0.61 s\n",
            "trained Decision Tree__QuantileTransformer-Normal in 1.74 s\n",
            "trained Decision Tree__QuantileTransformer-Uniform in 1.48 s\n",
            "trained Decision Tree__PowerTransformer-Yeo-Johnson in 2.18 s\n",
            "trained Decision Tree__Normalizer in 0.31 s\n",
            "trained Random Forest__No Normalizer in 2.37 s\n",
            "trained Random Forest__StandardScaler in 2.34 s\n",
            "trained Random Forest__MinMaxScaler in 2.29 s\n",
            "trained Random Forest__MaxAbsScaler in 2.30 s\n",
            "trained Random Forest__RobustScaler in 2.44 s\n",
            "trained Random Forest__QuantileTransformer-Normal in 3.67 s\n",
            "trained Random Forest__QuantileTransformer-Uniform in 3.48 s\n",
            "trained Random Forest__PowerTransformer-Yeo-Johnson in 4.09 s\n",
            "trained Random Forest__Normalizer in 1.61 s\n"
          ],
          "name": "stdout"
        },
        {
          "output_type": "stream",
          "text": [
            "/usr/local/lib/python3.7/dist-packages/sklearn/neural_network/_multilayer_perceptron.py:571: ConvergenceWarning: Stochastic Optimizer: Maximum iterations (200) reached and the optimization hasn't converged yet.\n",
            "  % self.max_iter, ConvergenceWarning)\n"
          ],
          "name": "stderr"
        },
        {
          "output_type": "stream",
          "text": [
            "trained Neural Net__No Normalizer in 6.36 s\n"
          ],
          "name": "stdout"
        },
        {
          "output_type": "stream",
          "text": [
            "/usr/local/lib/python3.7/dist-packages/sklearn/neural_network/_multilayer_perceptron.py:571: ConvergenceWarning: Stochastic Optimizer: Maximum iterations (200) reached and the optimization hasn't converged yet.\n",
            "  % self.max_iter, ConvergenceWarning)\n"
          ],
          "name": "stderr"
        },
        {
          "output_type": "stream",
          "text": [
            "trained Neural Net__StandardScaler in 6.15 s\n"
          ],
          "name": "stdout"
        },
        {
          "output_type": "stream",
          "text": [
            "/usr/local/lib/python3.7/dist-packages/sklearn/neural_network/_multilayer_perceptron.py:571: ConvergenceWarning: Stochastic Optimizer: Maximum iterations (200) reached and the optimization hasn't converged yet.\n",
            "  % self.max_iter, ConvergenceWarning)\n"
          ],
          "name": "stderr"
        },
        {
          "output_type": "stream",
          "text": [
            "trained Neural Net__MinMaxScaler in 5.99 s\n"
          ],
          "name": "stdout"
        },
        {
          "output_type": "stream",
          "text": [
            "/usr/local/lib/python3.7/dist-packages/sklearn/neural_network/_multilayer_perceptron.py:571: ConvergenceWarning: Stochastic Optimizer: Maximum iterations (200) reached and the optimization hasn't converged yet.\n",
            "  % self.max_iter, ConvergenceWarning)\n"
          ],
          "name": "stderr"
        },
        {
          "output_type": "stream",
          "text": [
            "trained Neural Net__MaxAbsScaler in 5.99 s\n"
          ],
          "name": "stdout"
        },
        {
          "output_type": "stream",
          "text": [
            "/usr/local/lib/python3.7/dist-packages/sklearn/neural_network/_multilayer_perceptron.py:571: ConvergenceWarning: Stochastic Optimizer: Maximum iterations (200) reached and the optimization hasn't converged yet.\n",
            "  % self.max_iter, ConvergenceWarning)\n"
          ],
          "name": "stderr"
        },
        {
          "output_type": "stream",
          "text": [
            "trained Neural Net__RobustScaler in 6.55 s\n"
          ],
          "name": "stdout"
        },
        {
          "output_type": "stream",
          "text": [
            "/usr/local/lib/python3.7/dist-packages/sklearn/neural_network/_multilayer_perceptron.py:571: ConvergenceWarning: Stochastic Optimizer: Maximum iterations (200) reached and the optimization hasn't converged yet.\n",
            "  % self.max_iter, ConvergenceWarning)\n"
          ],
          "name": "stderr"
        },
        {
          "output_type": "stream",
          "text": [
            "trained Neural Net__QuantileTransformer-Normal in 7.37 s\n"
          ],
          "name": "stdout"
        },
        {
          "output_type": "stream",
          "text": [
            "/usr/local/lib/python3.7/dist-packages/sklearn/neural_network/_multilayer_perceptron.py:571: ConvergenceWarning: Stochastic Optimizer: Maximum iterations (200) reached and the optimization hasn't converged yet.\n",
            "  % self.max_iter, ConvergenceWarning)\n"
          ],
          "name": "stderr"
        },
        {
          "output_type": "stream",
          "text": [
            "trained Neural Net__QuantileTransformer-Uniform in 6.89 s\n"
          ],
          "name": "stdout"
        },
        {
          "output_type": "stream",
          "text": [
            "/usr/local/lib/python3.7/dist-packages/sklearn/neural_network/_multilayer_perceptron.py:571: ConvergenceWarning: Stochastic Optimizer: Maximum iterations (200) reached and the optimization hasn't converged yet.\n",
            "  % self.max_iter, ConvergenceWarning)\n"
          ],
          "name": "stderr"
        },
        {
          "output_type": "stream",
          "text": [
            "trained Neural Net__PowerTransformer-Yeo-Johnson in 8.16 s\n"
          ],
          "name": "stdout"
        },
        {
          "output_type": "stream",
          "text": [
            "/usr/local/lib/python3.7/dist-packages/sklearn/neural_network/_multilayer_perceptron.py:571: ConvergenceWarning: Stochastic Optimizer: Maximum iterations (200) reached and the optimization hasn't converged yet.\n",
            "  % self.max_iter, ConvergenceWarning)\n"
          ],
          "name": "stderr"
        },
        {
          "output_type": "stream",
          "text": [
            "trained Neural Net__Normalizer in 6.02 s\n",
            "trained Naive Bayes__No Normalizer in 0.01 s\n",
            "trained Naive Bayes__StandardScaler in 0.02 s\n",
            "trained Naive Bayes__MinMaxScaler in 0.02 s\n",
            "trained Naive Bayes__MaxAbsScaler in 0.02 s\n",
            "trained Naive Bayes__RobustScaler in 0.10 s\n",
            "trained Naive Bayes__QuantileTransformer-Normal in 1.21 s\n",
            "trained Naive Bayes__QuantileTransformer-Uniform in 0.96 s\n",
            "trained Naive Bayes__PowerTransformer-Yeo-Johnson in 1.67 s\n",
            "trained Naive Bayes__Normalizer in 0.01 s\n",
            "trained AdaBoost__No Normalizer in 3.90 s\n",
            "trained AdaBoost__StandardScaler in 3.87 s\n",
            "trained AdaBoost__MinMaxScaler in 3.79 s\n",
            "trained AdaBoost__MaxAbsScaler in 3.80 s\n",
            "trained AdaBoost__RobustScaler in 4.02 s\n",
            "trained AdaBoost__QuantileTransformer-Normal in 5.27 s\n",
            "trained AdaBoost__QuantileTransformer-Uniform in 5.07 s\n",
            "trained AdaBoost__PowerTransformer-Yeo-Johnson in 5.62 s\n",
            "trained AdaBoost__Normalizer in 2.81 s\n"
          ],
          "name": "stdout"
        },
        {
          "output_type": "stream",
          "text": [
            "/usr/local/lib/python3.7/dist-packages/sklearn/discriminant_analysis.py:691: UserWarning: Variables are collinear\n",
            "  warnings.warn(\"Variables are collinear\")\n"
          ],
          "name": "stderr"
        },
        {
          "output_type": "stream",
          "text": [
            "trained QDA__No Normalizer in 0.10 s\n"
          ],
          "name": "stdout"
        },
        {
          "output_type": "stream",
          "text": [
            "/usr/local/lib/python3.7/dist-packages/sklearn/discriminant_analysis.py:691: UserWarning: Variables are collinear\n",
            "  warnings.warn(\"Variables are collinear\")\n"
          ],
          "name": "stderr"
        },
        {
          "output_type": "stream",
          "text": [
            "trained QDA__StandardScaler in 0.11 s\n"
          ],
          "name": "stdout"
        },
        {
          "output_type": "stream",
          "text": [
            "/usr/local/lib/python3.7/dist-packages/sklearn/discriminant_analysis.py:691: UserWarning: Variables are collinear\n",
            "  warnings.warn(\"Variables are collinear\")\n"
          ],
          "name": "stderr"
        },
        {
          "output_type": "stream",
          "text": [
            "trained QDA__MinMaxScaler in 0.11 s\n"
          ],
          "name": "stdout"
        },
        {
          "output_type": "stream",
          "text": [
            "/usr/local/lib/python3.7/dist-packages/sklearn/discriminant_analysis.py:691: UserWarning: Variables are collinear\n",
            "  warnings.warn(\"Variables are collinear\")\n"
          ],
          "name": "stderr"
        },
        {
          "output_type": "stream",
          "text": [
            "trained QDA__MaxAbsScaler in 0.11 s\n"
          ],
          "name": "stdout"
        },
        {
          "output_type": "stream",
          "text": [
            "/usr/local/lib/python3.7/dist-packages/sklearn/discriminant_analysis.py:691: UserWarning: Variables are collinear\n",
            "  warnings.warn(\"Variables are collinear\")\n"
          ],
          "name": "stderr"
        },
        {
          "output_type": "stream",
          "text": [
            "trained QDA__RobustScaler in 0.20 s\n"
          ],
          "name": "stdout"
        },
        {
          "output_type": "stream",
          "text": [
            "/usr/local/lib/python3.7/dist-packages/sklearn/discriminant_analysis.py:691: UserWarning: Variables are collinear\n",
            "  warnings.warn(\"Variables are collinear\")\n"
          ],
          "name": "stderr"
        },
        {
          "output_type": "stream",
          "text": [
            "trained QDA__QuantileTransformer-Normal in 1.36 s\n"
          ],
          "name": "stdout"
        },
        {
          "output_type": "stream",
          "text": [
            "/usr/local/lib/python3.7/dist-packages/sklearn/discriminant_analysis.py:691: UserWarning: Variables are collinear\n",
            "  warnings.warn(\"Variables are collinear\")\n"
          ],
          "name": "stderr"
        },
        {
          "output_type": "stream",
          "text": [
            "trained QDA__QuantileTransformer-Uniform in 1.11 s\n"
          ],
          "name": "stdout"
        },
        {
          "output_type": "stream",
          "text": [
            "/usr/local/lib/python3.7/dist-packages/sklearn/discriminant_analysis.py:691: UserWarning: Variables are collinear\n",
            "  warnings.warn(\"Variables are collinear\")\n"
          ],
          "name": "stderr"
        },
        {
          "output_type": "stream",
          "text": [
            "trained QDA__PowerTransformer-Yeo-Johnson in 1.80 s\n"
          ],
          "name": "stdout"
        },
        {
          "output_type": "stream",
          "text": [
            "/usr/local/lib/python3.7/dist-packages/sklearn/discriminant_analysis.py:691: UserWarning: Variables are collinear\n",
            "  warnings.warn(\"Variables are collinear\")\n"
          ],
          "name": "stderr"
        },
        {
          "output_type": "stream",
          "text": [
            "trained QDA__Normalizer in 0.10 s\n",
            "trained Gaussian Process__No Normalizer in 92.23 s\n",
            "trained Gaussian Process__StandardScaler in 202.26 s\n",
            "trained Gaussian Process__MinMaxScaler in 130.16 s\n",
            "trained Gaussian Process__MaxAbsScaler in 130.15 s\n",
            "trained Gaussian Process__RobustScaler in 113.61 s\n",
            "trained Gaussian Process__QuantileTransformer-Normal in 655.15 s\n",
            "trained Gaussian Process__QuantileTransformer-Uniform in 91.99 s\n",
            "trained Gaussian Process__PowerTransformer-Yeo-Johnson in 212.69 s\n",
            "trained Gaussian Process__Normalizer in 150.81 s\n"
          ],
          "name": "stdout"
        },
        {
          "output_type": "display_data",
          "data": {
            "text/html": [
              "<div>\n",
              "<style scoped>\n",
              "    .dataframe tbody tr th:only-of-type {\n",
              "        vertical-align: middle;\n",
              "    }\n",
              "\n",
              "    .dataframe tbody tr th {\n",
              "        vertical-align: top;\n",
              "    }\n",
              "\n",
              "    .dataframe thead th {\n",
              "        text-align: right;\n",
              "    }\n",
              "</style>\n",
              "<table border=\"1\" class=\"dataframe\">\n",
              "  <thead>\n",
              "    <tr style=\"text-align: right;\">\n",
              "      <th></th>\n",
              "      <th>Classifier</th>\n",
              "      <th>Normalizer</th>\n",
              "      <th>Train_Score</th>\n",
              "      <th>Test_Score</th>\n",
              "      <th>Train_Time</th>\n",
              "    </tr>\n",
              "  </thead>\n",
              "  <tbody>\n",
              "    <tr>\n",
              "      <th>2</th>\n",
              "      <td>Logistic Regression</td>\n",
              "      <td>MinMaxScaler</td>\n",
              "      <td>0.98750</td>\n",
              "      <td>0.770000</td>\n",
              "      <td>16.172940</td>\n",
              "    </tr>\n",
              "    <tr>\n",
              "      <th>29</th>\n",
              "      <td>Linear SVM</td>\n",
              "      <td>MinMaxScaler</td>\n",
              "      <td>0.99500</td>\n",
              "      <td>0.760000</td>\n",
              "      <td>0.585726</td>\n",
              "    </tr>\n",
              "    <tr>\n",
              "      <th>3</th>\n",
              "      <td>Logistic Regression</td>\n",
              "      <td>MaxAbsScaler</td>\n",
              "      <td>0.99125</td>\n",
              "      <td>0.750000</td>\n",
              "      <td>54.579477</td>\n",
              "    </tr>\n",
              "    <tr>\n",
              "      <th>30</th>\n",
              "      <td>Linear SVM</td>\n",
              "      <td>MaxAbsScaler</td>\n",
              "      <td>0.99750</td>\n",
              "      <td>0.750000</td>\n",
              "      <td>0.561661</td>\n",
              "    </tr>\n",
              "    <tr>\n",
              "      <th>28</th>\n",
              "      <td>Linear SVM</td>\n",
              "      <td>StandardScaler</td>\n",
              "      <td>1.00000</td>\n",
              "      <td>0.742500</td>\n",
              "      <td>0.700425</td>\n",
              "    </tr>\n",
              "    <tr>\n",
              "      <th>...</th>\n",
              "      <td>...</td>\n",
              "      <td>...</td>\n",
              "      <td>...</td>\n",
              "      <td>...</td>\n",
              "      <td>...</td>\n",
              "    </tr>\n",
              "    <tr>\n",
              "      <th>106</th>\n",
              "      <td>Gaussian Process</td>\n",
              "      <td>PowerTransformer-Yeo-Johnson</td>\n",
              "      <td>1.00000</td>\n",
              "      <td>0.026667</td>\n",
              "      <td>212.685020</td>\n",
              "    </tr>\n",
              "    <tr>\n",
              "      <th>18</th>\n",
              "      <td>RBF SVM</td>\n",
              "      <td>No Normalizer</td>\n",
              "      <td>1.00000</td>\n",
              "      <td>0.025000</td>\n",
              "      <td>2.396608</td>\n",
              "    </tr>\n",
              "    <tr>\n",
              "      <th>99</th>\n",
              "      <td>Gaussian Process</td>\n",
              "      <td>No Normalizer</td>\n",
              "      <td>1.00000</td>\n",
              "      <td>0.025000</td>\n",
              "      <td>92.230726</td>\n",
              "    </tr>\n",
              "    <tr>\n",
              "      <th>104</th>\n",
              "      <td>Gaussian Process</td>\n",
              "      <td>QuantileTransformer-Normal</td>\n",
              "      <td>1.00000</td>\n",
              "      <td>0.025000</td>\n",
              "      <td>655.149354</td>\n",
              "    </tr>\n",
              "    <tr>\n",
              "      <th>23</th>\n",
              "      <td>RBF SVM</td>\n",
              "      <td>QuantileTransformer-Normal</td>\n",
              "      <td>1.00000</td>\n",
              "      <td>0.022500</td>\n",
              "      <td>3.693552</td>\n",
              "    </tr>\n",
              "  </tbody>\n",
              "</table>\n",
              "<p>108 rows × 5 columns</p>\n",
              "</div>"
            ],
            "text/plain": [
              "              Classifier                    Normalizer  ...  Test_Score  Train_Time\n",
              "2    Logistic Regression                  MinMaxScaler  ...    0.770000   16.172940\n",
              "29            Linear SVM                  MinMaxScaler  ...    0.760000    0.585726\n",
              "3    Logistic Regression                  MaxAbsScaler  ...    0.750000   54.579477\n",
              "30            Linear SVM                  MaxAbsScaler  ...    0.750000    0.561661\n",
              "28            Linear SVM                StandardScaler  ...    0.742500    0.700425\n",
              "..                   ...                           ...  ...         ...         ...\n",
              "106     Gaussian Process  PowerTransformer-Yeo-Johnson  ...    0.026667  212.685020\n",
              "18               RBF SVM                 No Normalizer  ...    0.025000    2.396608\n",
              "99      Gaussian Process                 No Normalizer  ...    0.025000   92.230726\n",
              "104     Gaussian Process    QuantileTransformer-Normal  ...    0.025000  655.149354\n",
              "23               RBF SVM    QuantileTransformer-Normal  ...    0.022500    3.693552\n",
              "\n",
              "[108 rows x 5 columns]"
            ]
          },
          "metadata": {
            "tags": []
          }
        }
      ]
    },
    {
      "cell_type": "code",
      "metadata": {
        "colab": {
          "base_uri": "https://localhost:8080/"
        },
        "id": "3YDkz_4_S98Y",
        "outputId": "d08bdc39-6ac9-48be-f89a-a0467dde12dd"
      },
      "source": [
        "print(train_users)\n",
        "print(test_users)"
      ],
      "execution_count": null,
      "outputs": [
        {
          "output_type": "stream",
          "text": [
            "['001', '003', '005', '006']\n",
            "['002', '004', '007']\n"
          ],
          "name": "stdout"
        }
      ]
    },
    {
      "cell_type": "code",
      "metadata": {
        "colab": {
          "base_uri": "https://localhost:8080/",
          "height": 419
        },
        "id": "3D1B_FAJqYx2",
        "outputId": "7791b303-1e97-482c-cd9c-808029b5b3d7"
      },
      "source": [
        "display_dict_models(dict_models)"
      ],
      "execution_count": null,
      "outputs": [
        {
          "output_type": "display_data",
          "data": {
            "text/html": [
              "<div>\n",
              "<style scoped>\n",
              "    .dataframe tbody tr th:only-of-type {\n",
              "        vertical-align: middle;\n",
              "    }\n",
              "\n",
              "    .dataframe tbody tr th {\n",
              "        vertical-align: top;\n",
              "    }\n",
              "\n",
              "    .dataframe thead th {\n",
              "        text-align: right;\n",
              "    }\n",
              "</style>\n",
              "<table border=\"1\" class=\"dataframe\">\n",
              "  <thead>\n",
              "    <tr style=\"text-align: right;\">\n",
              "      <th></th>\n",
              "      <th>Classifier</th>\n",
              "      <th>Normalizer</th>\n",
              "      <th>Train_Score</th>\n",
              "      <th>Test_Score</th>\n",
              "      <th>Train_Time</th>\n",
              "    </tr>\n",
              "  </thead>\n",
              "  <tbody>\n",
              "    <tr>\n",
              "      <th>28</th>\n",
              "      <td>Linear SVM</td>\n",
              "      <td>StandardScaler</td>\n",
              "      <td>1.000000</td>\n",
              "      <td>0.7250</td>\n",
              "      <td>1.222844</td>\n",
              "    </tr>\n",
              "    <tr>\n",
              "      <th>34</th>\n",
              "      <td>Linear SVM</td>\n",
              "      <td>PowerTransformer-Yeo-Johnson</td>\n",
              "      <td>1.000000</td>\n",
              "      <td>0.7225</td>\n",
              "      <td>3.450990</td>\n",
              "    </tr>\n",
              "    <tr>\n",
              "      <th>3</th>\n",
              "      <td>Logistic Regression</td>\n",
              "      <td>MaxAbsScaler</td>\n",
              "      <td>0.982500</td>\n",
              "      <td>0.7125</td>\n",
              "      <td>67.113403</td>\n",
              "    </tr>\n",
              "    <tr>\n",
              "      <th>30</th>\n",
              "      <td>Linear SVM</td>\n",
              "      <td>MaxAbsScaler</td>\n",
              "      <td>0.995833</td>\n",
              "      <td>0.7100</td>\n",
              "      <td>0.992157</td>\n",
              "    </tr>\n",
              "    <tr>\n",
              "      <th>70</th>\n",
              "      <td>Neural Net</td>\n",
              "      <td>PowerTransformer-Yeo-Johnson</td>\n",
              "      <td>1.000000</td>\n",
              "      <td>0.7075</td>\n",
              "      <td>11.366294</td>\n",
              "    </tr>\n",
              "    <tr>\n",
              "      <th>...</th>\n",
              "      <td>...</td>\n",
              "      <td>...</td>\n",
              "      <td>...</td>\n",
              "      <td>...</td>\n",
              "      <td>...</td>\n",
              "    </tr>\n",
              "    <tr>\n",
              "      <th>99</th>\n",
              "      <td>Gaussian Process</td>\n",
              "      <td>No Normalizer</td>\n",
              "      <td>1.000000</td>\n",
              "      <td>0.0250</td>\n",
              "      <td>207.879025</td>\n",
              "    </tr>\n",
              "    <tr>\n",
              "      <th>89</th>\n",
              "      <td>AdaBoost</td>\n",
              "      <td>Normalizer</td>\n",
              "      <td>0.050417</td>\n",
              "      <td>0.0250</td>\n",
              "      <td>4.315814</td>\n",
              "    </tr>\n",
              "    <tr>\n",
              "      <th>18</th>\n",
              "      <td>RBF SVM</td>\n",
              "      <td>No Normalizer</td>\n",
              "      <td>1.000000</td>\n",
              "      <td>0.0250</td>\n",
              "      <td>5.353339</td>\n",
              "    </tr>\n",
              "    <tr>\n",
              "      <th>104</th>\n",
              "      <td>Gaussian Process</td>\n",
              "      <td>QuantileTransformer-Normal</td>\n",
              "      <td>1.000000</td>\n",
              "      <td>0.0250</td>\n",
              "      <td>2110.813554</td>\n",
              "    </tr>\n",
              "    <tr>\n",
              "      <th>23</th>\n",
              "      <td>RBF SVM</td>\n",
              "      <td>QuantileTransformer-Normal</td>\n",
              "      <td>1.000000</td>\n",
              "      <td>0.0225</td>\n",
              "      <td>7.803838</td>\n",
              "    </tr>\n",
              "  </tbody>\n",
              "</table>\n",
              "<p>108 rows × 5 columns</p>\n",
              "</div>"
            ],
            "text/plain": [
              "              Classifier                    Normalizer  ...  Test_Score   Train_Time\n",
              "28            Linear SVM                StandardScaler  ...      0.7250     1.222844\n",
              "34            Linear SVM  PowerTransformer-Yeo-Johnson  ...      0.7225     3.450990\n",
              "3    Logistic Regression                  MaxAbsScaler  ...      0.7125    67.113403\n",
              "30            Linear SVM                  MaxAbsScaler  ...      0.7100     0.992157\n",
              "70            Neural Net  PowerTransformer-Yeo-Johnson  ...      0.7075    11.366294\n",
              "..                   ...                           ...  ...         ...          ...\n",
              "99      Gaussian Process                 No Normalizer  ...      0.0250   207.879025\n",
              "89              AdaBoost                    Normalizer  ...      0.0250     4.315814\n",
              "18               RBF SVM                 No Normalizer  ...      0.0250     5.353339\n",
              "104     Gaussian Process    QuantileTransformer-Normal  ...      0.0250  2110.813554\n",
              "23               RBF SVM    QuantileTransformer-Normal  ...      0.0225     7.803838\n",
              "\n",
              "[108 rows x 5 columns]"
            ]
          },
          "metadata": {
            "tags": []
          }
        }
      ]
    },
    {
      "cell_type": "markdown",
      "metadata": {
        "id": "x2DoRSohGRVD"
      },
      "source": [
        "#**Analysis_1** \n",
        "\n",
        "### Test set prediction result for each user"
      ]
    },
    {
      "cell_type": "markdown",
      "metadata": {
        "id": "tNMYMB39Jy8K"
      },
      "source": [
        "## **Code**"
      ]
    },
    {
      "cell_type": "code",
      "metadata": {
        "colab": {
          "base_uri": "https://localhost:8080/"
        },
        "id": "zle_p-jVGk9J",
        "outputId": "d8100393-1627-4a73-b641-bef5d03e4404"
      },
      "source": [
        "from sklearn.metrics import classification_report, confusion_matrix, accuracy_score\n",
        "from sklearn.utils import shuffle\n",
        "from sklearn.metrics import accuracy_score\n",
        "from sklearn.linear_model import LogisticRegression\n",
        "from sklearn.ensemble import RandomForestClassifier\n",
        "from sklearn.svm import SVC\n",
        "from sklearn.pipeline import Pipeline\n",
        "from sklearn.preprocessing import StandardScaler\n",
        "\n",
        "\n",
        "# selected_users = ['001', '002', '003']\n",
        "selected_users = users\n",
        "\n",
        "# Iterate over users as single test case\n",
        "for test_users in selected_users:\n",
        "  test_users = [test_users]\n",
        "  train_users = [x for x in selected_users if x not in test_users]\n",
        "\n",
        "  # Update X_train, y_train\n",
        "  X_train = pd.DataFrame()\n",
        "  y_train = np.array([])\n",
        "\n",
        "  if isinstance(train_users, list):\n",
        "    for user in train_users:\n",
        "      X_train = X_train.append(feature_sets[int(user)-1], ignore_index=True)\n",
        "      y_train = np.append(y_train, label_sets[int(user)-1])\n",
        "  else:\n",
        "    raise ValueError(\"Train set type must be a 'list'.\")\n",
        "  \n",
        "\n",
        "  # Update X_test, y_test\n",
        "  X_test = pd.DataFrame()\n",
        "  y_test = np.array([])\n",
        "\n",
        "  if isinstance(test_users, list):\n",
        "    for user in test_users:\n",
        "      X_test = X_test.append(feature_sets[int(user)-1], ignore_index=True)\n",
        "      y_test = np.append(y_test, label_sets[int(user)-1])\n",
        "  else:\n",
        "    raise ValueError(\"Test set type must be a 'list'.\")\n",
        "\n",
        "  X_train, y_train = shuffle(X_train, y_train, random_state=43)\n",
        "\n",
        "\n",
        "  accuracy = 0\n",
        "  num_iter = 5\n",
        "  failed_classes = set()\n",
        "  for i in range(num_iter):\n",
        "    clf = RandomForestClassifier(n_estimators=100)\n",
        "    clf.fit(X_train,y_train)\n",
        "    y_pred = clf.predict(X_test)\n",
        "    accuracy += accuracy_score(y_test,y_pred)\n",
        "    failed_classes = failed_classes.union(set(y_test.astype(int)) - set(y_pred.astype(int)))\n",
        "  accuracy /= num_iter\n",
        "\n",
        "  failed_classes = label_encoder.inverse_transform(list(failed_classes))\n",
        "\n",
        "\n",
        "  print('|' , end=' ')\n",
        "  print(*train_users, sep=\", \", end=' ')\n",
        "  print('|' , end=' ')\n",
        "  print(*test_users, end=' ')\n",
        "  print('|' , end=' ')\n",
        "  print(\"%0.2f\" %(accuracy), end=' ')\n",
        "  print('|' , end=' ')\n",
        "  print(*failed_classes, sep=\", \", end=' ')\n",
        "  print('|' , end='\\n')\n"
      ],
      "execution_count": null,
      "outputs": [
        {
          "output_type": "stream",
          "text": [
            "| 002, 003, 004, 005, 006, 007 | 001 | 0.90 | c, r |\n",
            "| 001, 003, 004, 005, 006, 007 | 002 | 0.91 | t |\n",
            "| 001, 002, 004, 005, 006, 007 | 003 | 0.86 | o |\n",
            "| 001, 002, 003, 005, 006, 007 | 004 | 0.70 | x, hungry, n, sorry, t |\n",
            "| 001, 002, 003, 004, 006, 007 | 005 | 0.80 | l, good, s, t |\n",
            "| 001, 002, 003, 004, 005, 007 | 006 | 0.78 | u, v, c, o |\n",
            "| 001, 002, 003, 004, 005, 006 | 007 | 0.62 | a, e, m, me, n, s, t, u, v, x, you |\n"
          ],
          "name": "stdout"
        }
      ]
    },
    {
      "cell_type": "markdown",
      "metadata": {
        "id": "iC7nMUO4Z-s7"
      },
      "source": [
        ""
      ]
    },
    {
      "cell_type": "markdown",
      "metadata": {
        "id": "S0qRjp3EJ2Qx"
      },
      "source": [
        "## Result"
      ]
    },
    {
      "cell_type": "markdown",
      "metadata": {
        "id": "qgvpU5u2Hh3D"
      },
      "source": [
        "\n",
        "\n",
        "\n",
        "---\n",
        "\n",
        "> Single User Test Set [UNFILTERED] [FLEX, GYR, ACC_world]\n",
        "\n",
        "---\n",
        "\n",
        "\n",
        "| Train Set | Test Set | Accuracy | Failed Classes |\n",
        "| :---: |:---:| :---: | :---: |\n",
        "| 002, 003, 004, 005, 006, 007 | 001 | 0.89 | r, t |\n",
        "| 001, 003, 004, 005, 006, 007 | 002 | 0.89 |  |\n",
        "| 001, 002, 004, 005, 006, 007 | 003 | 0.86 | t, o |\n",
        "| 001, 002, 003, 005, 006, 007 | 004 | 0.69 | n, hungry, sorry, t |\n",
        "| 001, 002, 003, 004, 006, 007 | 005 | 0.78 | l, good, t |\n",
        "| 001, 002, 003, 004, 005, 007 | 006 | 0.79 | u, c, o |\n",
        "| 001, 002, 003, 004, 005, 006 | 007 | 0.61 | a, v, x, e, n, s, t |\n",
        "\n",
        "\n",
        "\n",
        "---\n",
        "\n",
        "\n",
        "> Single User Test Set [FILTERED] [FLEX, GYR, ACC_world]\n",
        "\n",
        "---\n",
        "\n",
        "\n",
        "| Train Set | Test Set | Accuracy | Failed Classes |\n",
        "| :---: |:---:| :---: | :---: |\n",
        "| 002, 003, 004, 005, 006, 007 | 001 | 0.90 | r, t |\n",
        "| 001, 003, 004, 005, 006, 007 | 002 | 0.92 | t |\n",
        "| 001, 002, 004, 005, 006, 007 | 003 | 0.86 | t, o |\n",
        "| 001, 002, 003, 005, 006, 007 | 004 | 0.70 | x, n, hungry, t |\n",
        "| 001, 002, 003, 004, 006, 007 | 005 | 0.80 | l, good, s, t |\n",
        "| 001, 002, 003, 004, 005, 007 | 006 | 0.79 | u, v, c, d, o |\n",
        "| 001, 002, 003, 004, 005, 006 | 007 | 0.62 | a, e, m, n, s, t, u, v, x, you |\n",
        "\n",
        "\n",
        "---\n",
        "\n",
        "> Single User Test Set [FILTERED] [FLEX, GYR, ACC_raw]\n",
        "\n",
        "---\n",
        "\n",
        "| Train Set | Test Set | Accuracy | Failed Classes |\n",
        "| :---: |:---:| :---: | :---: |\n",
        "| 002, 003, 004, 005, 006, 007 | 001 | 0.86 | c, r, t |\n",
        "| 001, 003, 004, 005, 006, 007 | 002 | 0.89 |  |\n",
        "| 001, 002, 004, 005, 006, 007 | 003 | 0.87 |  |\n",
        "| 001, 002, 003, 005, 006, 007 | 004 | 0.72 | x, deaf, hungry, n |\n",
        "| 001, 002, 003, 004, 006, 007 | 005 | 0.81 | l, t |\n",
        "| 001, 002, 003, 004, 005, 007 | 006 | 0.84 | v, c, d, o |\n",
        "| 001, 002, 003, 004, 005, 006 | 007 | 0.64 | a, u, v, x, e, you, m, n, s, t |\n",
        "\n",
        "---\n",
        "\n",
        "> Single User Test Set and Variable User Train  [FILTERED] [FLEX, GYR, ACC_body]\n",
        "\n",
        "---\n",
        "| Train Set | Test Set | Accuracy | Failed Classes |\n",
        "| :---: |:---:| :---: | :---: |\n",
        "| 002, 003, 004, 005, 006, 007 | 001 | 0.89 | r, t |\n",
        "| 001, 003, 004, 005, 006, 007 | 002 | 0.93 | x |\n",
        "| 001, 002, 004, 005, 006, 007 | 003 | 0.87 | t, o |\n",
        "| 001, 002, 003, 005, 006, 007 | 004 | 0.69 | x, deaf, n, t, sorry, hungry |\n",
        "| 001, 002, 003, 004, 006, 007 | 005 | 0.81 | l, good, s, t |\n",
        "| 001, 002, 003, 004, 005, 007 | 006 | 0.80 | u, c, d, o |\n",
        "| 001, 002, 003, 004, 005, 006 | 007 | 0.62 | a, e, m, n, s, t, thankyou, v, x, you |\n",
        "\n",
        "---\n",
        "\n",
        "> Single User Test Set and Variable User Train  [SCALED] [FILTERED] [FLEX, GYR, ACC_world]\n",
        "\n",
        "---\n",
        "| Train Set | Test Set | Accuracy | Failed Classes |\n",
        "| :---: |:---:| :---: | :---: |\n",
        "| 002, 003, 004, 005, 006, 007 | 001 | 0.91 | r |\n",
        "| 001, 003, 004, 005, 006, 007 | 002 | 0.92 |  |\n",
        "| 001, 002, 004, 005, 006, 007 | 003 | 0.86 | t, o |\n",
        "| 001, 002, 003, 005, 006, 007 | 004 | 0.70 | x, hungry, n, sorry, t |\n",
        "| 001, 002, 003, 004, 006, 007 | 005 | 0.79 | l, good, s |\n",
        "| 001, 002, 003, 004, 005, 007 | 006 | 0.78 | u, k, c, d, o |\n",
        "| 001, 002, 003, 004, 005, 006 | 007 | 0.61 | a, deaf, e, m, me, n, s, t, v, x, you |\n",
        "\n",
        "---\n"
      ]
    },
    {
      "cell_type": "markdown",
      "metadata": {
        "id": "vzdGqp0OZ2vQ"
      },
      "source": [
        "###**Result**"
      ]
    },
    {
      "cell_type": "markdown",
      "metadata": {
        "id": "uIPjEN4RJcYJ"
      },
      "source": [
        "#**Analysis_2** \n",
        "\n",
        "### Test set prediction result for each test user for variable number of train users"
      ]
    },
    {
      "cell_type": "markdown",
      "metadata": {
        "id": "E3SnIxg8JtkV"
      },
      "source": [
        "## Code"
      ]
    },
    {
      "cell_type": "code",
      "metadata": {
        "colab": {
          "base_uri": "https://localhost:8080/",
          "height": 231
        },
        "id": "liv-R0P6JZ8C",
        "outputId": "aaa4506c-91f4-4536-c964-71f461eaccc4"
      },
      "source": [
        "from sklearn.ensemble import RandomForestClassifier\n",
        "from sklearn.metrics import classification_report, confusion_matrix, accuracy_score\n",
        "from sklearn.utils import shuffle\n",
        "from sklearn.preprocessing import MinMaxScaler\n",
        "\n",
        "# selected_users = ['001', '002', '003']\n",
        "selected_users = users\n",
        "\n",
        "# Iterate over users as single test case\n",
        "for test_users in selected_users:\n",
        "  test_users = [test_users]\n",
        "  train_users_total = [x for x in selected_users if x not in test_users]\n",
        "  train_users = []\n",
        "\n",
        "  for u in train_users_total:\n",
        "    train_users.append(u)\n",
        "\n",
        "    # Update X_train, y_train\n",
        "    X_train = pd.DataFrame()\n",
        "    y_train = np.array([])\n",
        "\n",
        "    if isinstance(train_users, list):\n",
        "      for user in train_users:\n",
        "        X_train = X_train.append(feature_sets[int(user)-1], ignore_index=True)\n",
        "        y_train = np.append(y_train, label_sets[int(user)-1])\n",
        "    else:\n",
        "      raise ValueError(\"Train set type must be a 'list'.\")\n",
        "    \n",
        "\n",
        "    # Update X_test, y_test\n",
        "    X_test = pd.DataFrame()\n",
        "    y_test = np.array([])\n",
        "\n",
        "    if isinstance(test_users, list):\n",
        "      for user in test_users:\n",
        "        X_test = X_test.append(feature_sets[int(user)-1], ignore_index=True)\n",
        "        y_test = np.append(y_test, label_sets[int(user)-1])\n",
        "    else:\n",
        "      raise ValueError(\"Test set type must be a 'list'.\")\n",
        "\n",
        "    X_train, y_train = shuffle(X_train, y_train, random_state=43)\n",
        "    \n",
        "    accuracy = 0\n",
        "    num_iter = 5\n",
        "    failed_classes = set()\n",
        "    for i in range(num_iter):\n",
        "      clf = RandomForestClassifier(n_estimators=100)\n",
        "      clf.fit(X_train,y_train)\n",
        "      y_pred = clf.predict(X_test)\n",
        "      accuracy += accuracy_score(y_test,y_pred)\n",
        "      failed_classes = failed_classes.union(set(y_test.astype(int)) - set(y_pred.astype(int)))\n",
        "    accuracy /= num_iter\n",
        "\n",
        "    failed_classes = label_encoder.inverse_transform(list(failed_classes))  \n",
        "\n",
        "    print('|' , end=' ')\n",
        "    print(*train_users, sep=\", \", end=' ')\n",
        "    print('|' , end=' ')\n",
        "    print(*test_users, end=' ')\n",
        "    print('|' , end=' ')\n",
        "    print(\"%0.2f\" %(accuracy), end=' ')\n",
        "    print('|' , end=' ')\n",
        "    print(*failed_classes, sep=\", \", end=' ')\n",
        "    print('|' , end='\\n')\n"
      ],
      "execution_count": null,
      "outputs": [
        {
          "output_type": "error",
          "ename": "NameError",
          "evalue": "ignored",
          "traceback": [
            "\u001b[0;31m---------------------------------------------------------------------------\u001b[0m",
            "\u001b[0;31mNameError\u001b[0m                                 Traceback (most recent call last)",
            "\u001b[0;32m<ipython-input-15-2fafb757300d>\u001b[0m in \u001b[0;36m<module>\u001b[0;34m()\u001b[0m\n\u001b[1;32m     21\u001b[0m     \u001b[0;32mif\u001b[0m \u001b[0misinstance\u001b[0m\u001b[0;34m(\u001b[0m\u001b[0mtrain_users\u001b[0m\u001b[0;34m,\u001b[0m \u001b[0mlist\u001b[0m\u001b[0;34m)\u001b[0m\u001b[0;34m:\u001b[0m\u001b[0;34m\u001b[0m\u001b[0;34m\u001b[0m\u001b[0m\n\u001b[1;32m     22\u001b[0m       \u001b[0;32mfor\u001b[0m \u001b[0muser\u001b[0m \u001b[0;32min\u001b[0m \u001b[0mtrain_users\u001b[0m\u001b[0;34m:\u001b[0m\u001b[0;34m\u001b[0m\u001b[0;34m\u001b[0m\u001b[0m\n\u001b[0;32m---> 23\u001b[0;31m         \u001b[0mX_train\u001b[0m \u001b[0;34m=\u001b[0m \u001b[0mX_train\u001b[0m\u001b[0;34m.\u001b[0m\u001b[0mappend\u001b[0m\u001b[0;34m(\u001b[0m\u001b[0mfeature_sets\u001b[0m\u001b[0;34m[\u001b[0m\u001b[0mint\u001b[0m\u001b[0;34m(\u001b[0m\u001b[0muser\u001b[0m\u001b[0;34m)\u001b[0m\u001b[0;34m-\u001b[0m\u001b[0;36m1\u001b[0m\u001b[0;34m]\u001b[0m\u001b[0;34m,\u001b[0m \u001b[0mignore_index\u001b[0m\u001b[0;34m=\u001b[0m\u001b[0;32mTrue\u001b[0m\u001b[0;34m)\u001b[0m\u001b[0;34m\u001b[0m\u001b[0;34m\u001b[0m\u001b[0m\n\u001b[0m\u001b[1;32m     24\u001b[0m         \u001b[0my_train\u001b[0m \u001b[0;34m=\u001b[0m \u001b[0mnp\u001b[0m\u001b[0;34m.\u001b[0m\u001b[0mappend\u001b[0m\u001b[0;34m(\u001b[0m\u001b[0my_train\u001b[0m\u001b[0;34m,\u001b[0m \u001b[0mlabel_sets\u001b[0m\u001b[0;34m[\u001b[0m\u001b[0mint\u001b[0m\u001b[0;34m(\u001b[0m\u001b[0muser\u001b[0m\u001b[0;34m)\u001b[0m\u001b[0;34m-\u001b[0m\u001b[0;36m1\u001b[0m\u001b[0;34m]\u001b[0m\u001b[0;34m)\u001b[0m\u001b[0;34m\u001b[0m\u001b[0;34m\u001b[0m\u001b[0m\n\u001b[1;32m     25\u001b[0m     \u001b[0;32melse\u001b[0m\u001b[0;34m:\u001b[0m\u001b[0;34m\u001b[0m\u001b[0;34m\u001b[0m\u001b[0m\n",
            "\u001b[0;31mNameError\u001b[0m: name 'feature_sets' is not defined"
          ]
        }
      ]
    },
    {
      "cell_type": "markdown",
      "metadata": {
        "id": "j09HaUObJ8cz"
      },
      "source": [
        "## Result"
      ]
    },
    {
      "cell_type": "markdown",
      "metadata": {
        "id": "liVB9f6KKNnl"
      },
      "source": [
        "\n",
        "---\n",
        "\n",
        "> Single User Test Set and Variable User Train  [UNFILTERED] [FLEX, GYR, ACC_world]\n",
        "\n",
        "---\n",
        "\n",
        "\n",
        "| Train Set | Test Set | Accuracy | Failed Classes |\n",
        "| :---: |:---:| :---: | :---: |\n",
        "| 002 | 001 | 0.57 | a, d, e, f, i, k, l, m, me, n, r, w |\n",
        "| 002, 003 | 001 | 0.82 | u, x, me, r, s |\n",
        "| 002, 003, 004 | 001 | 0.86 | u, x, me, r, s |\n",
        "| 002, 003, 004, 005 | 001 | 0.87 | r, s |\n",
        "| 002, 003, 004, 005, 006 | 001 | 0.88 | r, s, t |\n",
        "| 002, 003, 004, 005, 006, 007 | 001 | 0.88 | r |\n",
        "| 001 | 002 | 0.64 | b, v, x, me, r, i |\n",
        "| 001, 003 | 002 | 0.85 | x, r |\n",
        "| 001, 003, 004 | 002 | 0.89 | x |\n",
        "| 001, 003, 004, 005 | 002 | 0.89 | x |\n",
        "| 001, 003, 004, 005, 006 | 002 | 0.90 |  |\n",
        "| 001, 003, 004, 005, 006, 007 | 002 | 0.90 |  |\n",
        "| 001 | 003 | 0.67 | c, e, you, s |\n",
        "| 001, 002 | 003 | 0.83 | v, o, p, s, t |\n",
        "| 001, 002, 004 | 003 | 0.88 | s, o |\n",
        "| 001, 002, 004, 005 | 003 | 0.85 | t |\n",
        "| 001, 002, 004, 005, 006 | 003 | 0.85 | t, o |\n",
        "| 001, 002, 004, 005, 006, 007 | 003 | 0.86 | e, o, t |\n",
        "| 001 | 004 | 0.46 | c, fine, good, hungry, me, n, q, sorry, t, v, x, yes, you |\n",
        "| 001, 002 | 004 | 0.57 | x, deaf, you, yes, fine, good, hungry, me, n, t |\n",
        "| 001, 002, 003 | 004 | 0.64 | x, deaf, fine, good, hungry, n, sorry, t |\n",
        "| 001, 002, 003, 005 | 004 | 0.67 | n, t, fine, q, hungry |\n",
        "| 001, 002, 003, 005, 006 | 004 | 0.68 | x, n, hungry, hello, t |\n",
        "| 001, 002, 003, 005, 006, 007 | 004 | 0.67 | x, n, t, sorry, hungry |\n",
        "| 001 | 005 | 0.61 | k, l, n, good, t, thankyou |\n",
        "| 001, 002 | 005 | 0.78 | good |\n",
        "| 001, 002, 003 | 005 | 0.74 | k, l, good, t |\n",
        "| 001, 002, 003, 004 | 005 | 0.77 | l, good, t |\n",
        "| 001, 002, 003, 004, 006 | 005 | 0.81 | l, good, t |\n",
        "| 001, 002, 003, 004, 006, 007 | 005 | 0.79 | l, t |\n",
        "| 001 | 006 | 0.52 | c, you, good, me, n, o, q, t, thankyou |\n",
        "| 001, 002 | 006 | 0.67 | u, v, c, n, o |\n",
        "| 001, 002, 003 | 006 | 0.70 | u, v, c, k, o |\n",
        "| 001, 002, 003, 004 | 006 | 0.78 | u, v, c, k, o |\n",
        "| 001, 002, 003, 004, 005 | 006 | 0.80 | u, c, o |\n",
        "| 001, 002, 003, 004, 005, 007 | 006 | 0.79 | u, c, o |\n",
        "| 001 | 007 | 0.46 | a, d, e, g, i, m, me, n, q, r, s, sorry, t, thankyou, u, x, you |\n",
        "| 001, 002 | 007 | 0.53 | a, d, e, i, k, l, m, me, n, s, t, v, x, you |\n",
        "| 001, 002, 003 | 007 | 0.57 | a, e, l, m, me, n, q, s, t, v, x, you |\n",
        "| 001, 002, 003, 004 | 007 | 0.61 | a, x, e, m, n, s, t |\n",
        "| 001, 002, 003, 004, 005 | 007 | 0.60 | a, e, l, m, me, n, s, t, v, x, you |\n",
        "| 001, 002, 003, 004, 005, 006 | 007 | 0.62 | a, u, v, x, e, l, n, s, t |\n",
        "\n",
        "\n",
        "\n",
        "---\n",
        "\n",
        "> Single User Test Set and Variable User Train  [FILTERED] [FLEX, GYR, ACC_world]\n",
        "\n",
        "---\n",
        "\n",
        "\n",
        "| Train Set | Test Set | Accuracy | Failed Classes |\n",
        "| :---: |:---:| :---: | :---: |\n",
        "| 002 | 001 | 0.59 | a, w, e, k, l, m, me, n |\n",
        "| 002, 003 | 001 | 0.79 | u, x, d, m, me, r, s |\n",
        "| 002, 003, 004 | 001 | 0.86 | me, r, s |\n",
        "| 002, 003, 004, 005 | 001 | 0.89 | r, s |\n",
        "| 002, 003, 004, 005, 006 | 001 | 0.90 | r, t |\n",
        "| 002, 003, 004, 005, 006, 007 | 001 | 0.90 | r |\n",
        "| 001 | 002 | 0.60 | u, b, x, y, i, l, me, n, p, r, t |\n",
        "| 001, 003 | 002 | 0.85 | p, r |\n",
        "| 001, 003, 004 | 002 | 0.90 | x, t |\n",
        "| 001, 003, 004, 005 | 002 | 0.92 | x |\n",
        "| 001, 003, 004, 005, 006 | 002 | 0.90 |  |\n",
        "| 001, 003, 004, 005, 006, 007 | 002 | 0.91 |  |\n",
        "| 001 | 003 | 0.59 | v, c, y, you, hungry, p, q, s |\n",
        "| 001, 002 | 003 | 0.84 | p, s, t |\n",
        "| 001, 002, 004 | 003 | 0.87 |  |\n",
        "| 001, 002, 004, 005 | 003 | 0.84 | p |\n",
        "| 001, 002, 004, 005, 006 | 003 | 0.85 | p, t |\n",
        "| 001, 002, 004, 005, 006, 007 | 003 | 0.87 | t, o |\n",
        "| 001 | 004 | 0.40 | fine, good, hungry, k, me, n, q, sorry, t, u, v, y, yes, you |\n",
        "| 001, 002 | 004 | 0.59 | deaf, yes, you, fine, good, hello, hungry, me, n, sorry, t |\n",
        "| 001, 002, 003 | 004 | 0.64 | x, deaf, fine, good, hungry, n, sorry, t |\n",
        "| 001, 002, 003, 005 | 004 | 0.66 | n, hungry, t |\n",
        "| 001, 002, 003, 005, 006 | 004 | 0.69 | x, hello, hungry, n, t |\n",
        "| 001, 002, 003, 005, 006, 007 | 004 | 0.70 | x, n, hungry, t |\n",
        "| 001 | 005 | 0.58 | v, x, d, y, k, l, n, q, t |\n",
        "| 001, 002 | 005 | 0.73 | k, v, l, d, good |\n",
        "| 001, 002, 003 | 005 | 0.73 | v, good, k, l, s, t |\n",
        "| 001, 002, 003, 004 | 005 | 0.76 | good, l |\n",
        "| 001, 002, 003, 004, 006 | 005 | 0.79 | l, good, s, t |\n",
        "| 001, 002, 003, 004, 006, 007 | 005 | 0.79 | l |\n",
        "| 001 | 006 | 0.47 | c, d, x, you, good, k, me, t, thankyou |\n",
        "| 001, 002 | 006 | 0.70 | u, v, c, n, o |\n",
        "| 001, 002, 003 | 006 | 0.72 | u, v, c, k, o, q, t |\n",
        "| 001, 002, 003, 004 | 006 | 0.79 | u, v, c, k, o, s |\n",
        "| 001, 002, 003, 004, 005 | 006 | 0.79 | u, c, o |\n",
        "| 001, 002, 003, 004, 005, 007 | 006 | 0.78 | u, c, o |\n",
        "| 001 | 007 | 0.43 | a, b, d, e, g, i, m, me, n, q, r, s, t, thankyou, u, x, you |\n",
        "| 001, 002 | 007 | 0.52 | a, d, e, i, k, l, m, me, n, q, s, t, u, v, x, you |\n",
        "| 001, 002, 003 | 007 | 0.56 | a, e, l, m, me, n, q, s, t, u, v, x, you |\n",
        "| 001, 002, 003, 004 | 007 | 0.61 | a, e, m, me, n, q, s, t, thankyou, v, x, you |\n",
        "| 001, 002, 003, 004, 005 | 007 | 0.59 | a, deaf, e, m, me, n, s, t, v, x, you |\n",
        "| 001, 002, 003, 004, 005, 006 | 007 | 0.63 | a, u, v, x, e, you, m, n, s, t |\n",
        "\n",
        "\n",
        "---\n",
        "\n",
        "> Single User Test Set and Variable User Train  [FILTERED] [FLEX, GYR, ACC_raw]\n",
        "\n",
        "---\n",
        "| Train Set | Test Set | Accuracy | Failed Classes |\n",
        "| :---: |:---:| :---: | :---: |\n",
        "| 002 | 001 | 0.58 | a, w, f, i, m, me, n |\n",
        "| 002, 003 | 001 | 0.77 | x, d, m, me, r, s, t |\n",
        "| 002, 003, 004 | 001 | 0.85 | x, me, r, s |\n",
        "| 002, 003, 004, 005 | 001 | 0.87 | r, n |\n",
        "| 002, 003, 004, 005, 006 | 001 | 0.88 | r, t |\n",
        "| 002, 003, 004, 005, 006, 007 | 001 | 0.86 | c, r, t |\n",
        "| 001 | 002 | 0.55 | x, y, h, i, p, please, r |\n",
        "| 001, 003 | 002 | 0.86 | x, r |\n",
        "| 001, 003, 004 | 002 | 0.90 | x, t |\n",
        "| 001, 003, 004, 005 | 002 | 0.89 | x |\n",
        "| 001, 003, 004, 005, 006 | 002 | 0.88 | o |\n",
        "| 001, 003, 004, 005, 006, 007 | 002 | 0.90 |  |\n",
        "| 001 | 003 | 0.59 | y, d, you, e, hungry, n, p, s |\n",
        "| 001, 002 | 003 | 0.84 | v, c, s, t |\n",
        "| 001, 002, 004 | 003 | 0.89 | c, s |\n",
        "| 001, 002, 004, 005 | 003 | 0.85 | c |\n",
        "| 001, 002, 004, 005, 006 | 003 | 0.86 | t |\n",
        "| 001, 002, 004, 005, 006, 007 | 003 | 0.87 |  |\n",
        "| 001 | 004 | 0.44 | v, c, yes, you, f, hungry, me, n, t |\n",
        "| 001, 002 | 004 | 0.64 | yes, deaf, hungry, k, me, n, sorry, t |\n",
        "| 001, 002, 003 | 004 | 0.71 | x, deaf, hungry, n, sorry, t |\n",
        "| 001, 002, 003, 005 | 004 | 0.73 | c, x, deaf, hungry, n, t |\n",
        "| 001, 002, 003, 005, 006 | 004 | 0.73 | x, deaf, hungry, n |\n",
        "| 001, 002, 003, 005, 006, 007 | 004 | 0.72 | x, deaf, hungry, n, sorry, t |\n",
        "| 001 | 005 | 0.57 | x, y, d, good, k, l, p, t |\n",
        "| 001, 002 | 005 | 0.79 | l, d, t |\n",
        "| 001, 002, 003 | 005 | 0.78 | l, s, t |\n",
        "| 001, 002, 003, 004 | 005 | 0.80 | l, good, s |\n",
        "| 001, 002, 003, 004, 006 | 005 | 0.82 | l, me, good, t |\n",
        "| 001, 002, 003, 004, 006, 007 | 005 | 0.80 | l, t |\n",
        "| 001 | 006 | 0.52 | c, d, x, you, f, k, me, thankyou |\n",
        "| 001, 002 | 006 | 0.71 | u, v, c, you, n, o |\n",
        "| 001, 002, 003 | 006 | 0.79 | u, v, c, o |\n",
        "| 001, 002, 003, 004 | 006 | 0.84 | u, v, c, o, s |\n",
        "| 001, 002, 003, 004, 005 | 006 | 0.85 | c, o |\n",
        "| 001, 002, 003, 004, 005, 007 | 006 | 0.84 | v, c, d, o |\n",
        "| 001 | 007 | 0.41 | a, d, e, h, m, me, n, p, r, s, thankyou, u, x, you |\n",
        "| 001, 002 | 007 | 0.54 | a, e, hello, i, l, m, me, n, s, t, v, x, you |\n",
        "| 001, 002, 003 | 007 | 0.60 | a, e, i, l, m, n, s, t, v, x |\n",
        "| 001, 002, 003, 004 | 007 | 0.63 | a, v, x, e, hello, m, n, s, t |\n",
        "| 001, 002, 003, 004, 005 | 007 | 0.62 | a, deaf, e, m, me, n, s, t, v, x, you |\n",
        "| 001, 002, 003, 004, 005, 006 | 007 | 0.62 | a, v, x, e, m, n, s, t |\n",
        "\n",
        "---\n",
        "\n",
        "> Single User Test Set and Variable User Train  [FILTERED] [FLEX, GYR, ACC_body]\n",
        "\n",
        "---\n",
        "| Train Set | Test Set | Accuracy | Failed Classes |\n",
        "| :---: |:---:| :---: | :---: |\n",
        "| 002 | 001 | 0.59 | a, k, w, m, n |\n",
        "| 002, 003 | 001 | 0.79 | u, x, m, me, r, s |\n",
        "| 002, 003, 004 | 001 | 0.88 | x, me, r, s |\n",
        "| 002, 003, 004, 005 | 001 | 0.89 | r |\n",
        "| 002, 003, 004, 005, 006 | 001 | 0.89 | r, s, t |\n",
        "| 002, 003, 004, 005, 006, 007 | 001 | 0.89 | r, me, t |\n",
        "| 001 | 002 | 0.58 | v, b, x, y, i, p, r |\n",
        "| 001, 003 | 002 | 0.83 | p, r, x |\n",
        "| 001, 003, 004 | 002 | 0.90 | x, t |\n",
        "| 001, 003, 004, 005 | 002 | 0.89 |  |\n",
        "| 001, 003, 004, 005, 006 | 002 | 0.90 |  |\n",
        "| 001, 003, 004, 005, 006, 007 | 002 | 0.92 | x |\n",
        "| 001 | 003 | 0.57 | c, you, h, hungry, i, p, q, s |\n",
        "| 001, 002 | 003 | 0.84 | p, s, t |\n",
        "| 001, 002, 004 | 003 | 0.88 | s |\n",
        "| 001, 002, 004, 005 | 003 | 0.85 | c |\n",
        "| 001, 002, 004, 005, 006 | 003 | 0.85 | t |\n",
        "| 001, 002, 004, 005, 006, 007 | 003 | 0.88 | t, o |\n",
        "| 001 | 004 | 0.37 | good, hungry, k, me, n, q, sorry, t, thankyou, v, x, y, yes, you |\n",
        "| 001, 002 | 004 | 0.60 | deaf, you, hello, hungry, m, me, n, sorry, t |\n",
        "| 001, 002, 003 | 004 | 0.67 | x, deaf, yes, good, hello, hungry, n, sorry, t |\n",
        "| 001, 002, 003, 005 | 004 | 0.69 | deaf, hungry, n, t |\n",
        "| 001, 002, 003, 005, 006 | 004 | 0.70 | x, n, hungry |\n",
        "| 001, 002, 003, 005, 006, 007 | 004 | 0.69 | x, deaf, hungry, n, sorry, t |\n",
        "| 001 | 005 | 0.58 | v, x, y, good, l, n, t |\n",
        "| 001, 002 | 005 | 0.77 | good, l, s |\n",
        "| 001, 002, 003 | 005 | 0.77 | v, l, good, t |\n",
        "| 001, 002, 003, 004 | 005 | 0.79 | l, good, t |\n",
        "| 001, 002, 003, 004, 006 | 005 | 0.83 | l, good, s, t |\n",
        "| 001, 002, 003, 004, 006, 007 | 005 | 0.81 | l, good, s |\n",
        "| 001 | 006 | 0.43 | c, d, x, you, g, me, o, q, t, thankyou |\n",
        "| 001, 002 | 006 | 0.70 | u, v, c, you, o |\n",
        "| 001, 002, 003 | 006 | 0.75 | u, v, c, k, o, t |\n",
        "| 001, 002, 003, 004 | 006 | 0.79 | u, v, c, k, o |\n",
        "| 001, 002, 003, 004, 005 | 006 | 0.81 | u, c, o |\n",
        "| 001, 002, 003, 004, 005, 007 | 006 | 0.81 | u, c, d, o |\n",
        "| 001 | 007 | 0.42 | a, d, e, g, m, me, n, q, r, s, t, thankyou, u, x, you |\n",
        "| 001, 002 | 007 | 0.52 | a, d, e, hello, i, k, l, m, me, n, q, s, v, x, you |\n",
        "| 001, 002, 003 | 007 | 0.56 | a, e, l, m, me, n, q, s, t, u, v, x, you |\n",
        "| 001, 002, 003, 004 | 007 | 0.62 | a, e, hello, m, me, n, q, s, t, v, x, you |\n",
        "| 001, 002, 003, 004, 005 | 007 | 0.60 | a, deaf, e, m, me, n, s, t, v, x, you |\n",
        "| 001, 002, 003, 004, 005, 006 | 007 | 0.61 | a, e, m, n, s, t, thankyou, u, v, x, you |\n",
        "\n",
        "---"
      ]
    },
    {
      "cell_type": "markdown",
      "metadata": {
        "id": "VJDrEnJfO0LU"
      },
      "source": [
        "#**Analysis_3** \n",
        "\n",
        "### Test set prediction result for each user per batch classifier\n"
      ]
    },
    {
      "cell_type": "markdown",
      "metadata": {
        "id": "fPomRwHdO_uH"
      },
      "source": [
        "## **Code**"
      ]
    },
    {
      "cell_type": "code",
      "metadata": {
        "colab": {
          "base_uri": "https://localhost:8080/"
        },
        "cellView": "form",
        "id": "V7wkZnU_PCtP",
        "outputId": "ec101a51-6e11-4dfc-e6c7-9d5a98d989d4"
      },
      "source": [
        "from sklearn.model_selection import train_test_split, cross_val_score\n",
        "from sklearn.metrics import classification_report, confusion_matrix, accuracy_score\n",
        "from sklearn.decomposition import PCA\n",
        "from sklearn.preprocessing import StandardScaler, LabelEncoder\n",
        "from sklearn.linear_model import LogisticRegression\n",
        "from sklearn.svm import SVC\n",
        "from sklearn.neighbors import KNeighborsClassifier\n",
        "from sklearn import tree\n",
        "from sklearn.neural_network import MLPClassifier\n",
        "from sklearn.neighbors import KNeighborsClassifier\n",
        "from sklearn.ensemble import GradientBoostingClassifier, AdaBoostClassifier\n",
        "from sklearn.gaussian_process.kernels import RBF\n",
        "from sklearn.ensemble import RandomForestClassifier\n",
        "from sklearn.naive_bayes import GaussianNB\n",
        "from sklearn.discriminant_analysis import QuadraticDiscriminantAnalysis\n",
        "from sklearn.gaussian_process import GaussianProcessClassifier\n",
        "from sklearn.preprocessing import StandardScaler, MinMaxScaler, MaxAbsScaler, RobustScaler, QuantileTransformer, PowerTransformer, Normalizer\n",
        "\n",
        "\n",
        "dict_classifiers = {\n",
        "  \"Logistic Regression\": LogisticRegression(max_iter=1000,solver='saga'),\n",
        "  \"Nearest Neighbors\": KNeighborsClassifier(),\n",
        "  \"RBF SVM\": SVC(C=10000,gamma=0.1),\n",
        "  \"Linear SVM\": SVC(kernel='linear'),\n",
        "  \"Gradient Boosting Classifier\": GradientBoostingClassifier(n_estimators=1000),\n",
        "  \"Decision Tree\": tree.DecisionTreeClassifier(),\n",
        "  \"Random Forest\": RandomForestClassifier(n_estimators=100),\n",
        "  \"Neural Net\": MLPClassifier(alpha = 1),\n",
        "  \"Naive Bayes\": GaussianNB(),\n",
        "  \"AdaBoost\": AdaBoostClassifier(),\n",
        "  \"QDA\": QuadraticDiscriminantAnalysis(),\n",
        "  \"Gaussian Process\": GaussianProcessClassifier()\n",
        "}\n",
        "\n",
        "dict_normalizers = {\n",
        "  'No Normalizer': None,\n",
        "  'StandardScaler': StandardScaler(),\n",
        "  'MinMaxScaler': MinMaxScaler(),\n",
        "  'MaxAbsScaler': MaxAbsScaler(),\n",
        "  'RobustScaler': RobustScaler(),\n",
        "  'QuantileTransformer-Normal': QuantileTransformer(output_distribution='normal'),\n",
        "  'QuantileTransformer-Uniform': QuantileTransformer(output_distribution='uniform'),\n",
        "  'PowerTransformer-Yeo-Johnson': PowerTransformer(method='yeo-johnson'),\n",
        "  'Normalizer': Normalizer()\n",
        "}\n",
        "\n",
        "#@markdown ###Select classifier\n",
        "classifier = \"RBF SVM\" #@param [\"Logistic Regression\", \"Nearest Neighbors\", \"RBF SVM\", \"Linear SVM\", \"Gradient Boosting Classifier\", \"Decision Tree\", \"Random Forest\", \"Neural Net\", \"Naive Bayes\", \"AdaBoost\", \"QDA\", \"Gaussian Process\"]\n",
        "clf = dict_classifiers[classifier]\n",
        "\n",
        "\n",
        "# selected_users = ['001', '002', '003']\n",
        "selected_users = users\n",
        "data_list = []\n",
        "\n",
        "print(\"---\\n---\\n> Single User Test Set Normalizers Per Classifier [FILTERED] [FLEX, GYR, ACC_world] \\n---\\n---\\n\")\n",
        "print(\"---\\n**\" + classifier + \"**\\n---\")\n",
        "print('| Classifier | Normalizer | Train Set | Test Set | Train Score | Test Score | Train Time | Failed Classes |')\n",
        "print('|:---:|:---:|:---:|:---:|:---:|:---:|:---:|:---:|')\n",
        "\n",
        "\n",
        "# Iterate over users as single test case\n",
        "for test_users in selected_users:\n",
        "  test_users = [test_users]\n",
        "  train_users = [x for x in selected_users if x not in test_users]\n",
        "\n",
        "  # Update X_train, y_train\n",
        "  X_train = pd.DataFrame()\n",
        "  y_train = np.array([])\n",
        "\n",
        "  if isinstance(train_users, list):\n",
        "    for user in train_users:\n",
        "      X_train = X_train.append(feature_sets[int(user)-1], ignore_index=True)\n",
        "      y_train = np.append(y_train, label_sets[int(user)-1])\n",
        "  else:\n",
        "    raise ValueError(\"Train set type must be a 'list'.\")\n",
        "  \n",
        "\n",
        "  # Update X_test, y_test\n",
        "  X_test = pd.DataFrame()\n",
        "  y_test = np.array([])\n",
        "\n",
        "  if isinstance(test_users, list):\n",
        "    for user in test_users:\n",
        "      X_test = X_test.append(feature_sets[int(user)-1], ignore_index=True)\n",
        "      y_test = np.append(y_test, label_sets[int(user)-1])\n",
        "  else:\n",
        "    raise ValueError(\"Test set type must be a 'list'.\")\n",
        "\n",
        "  X_train, y_train = shuffle(X_train, y_train, random_state=43)\n",
        "\n",
        "    \n",
        "  for normalizer_name, normalizer in list(dict_normalizers.items()):\n",
        "    train_score = 0\n",
        "    test_score = 0\n",
        "    train_time = 0 \n",
        "    num_iter = 1\n",
        "    failed_classes = set()\n",
        "    for i in range(num_iter):\n",
        "      t_start = time.time()\n",
        "      pipe = Pipeline([('nomalizer', normalizer), ('clf', clf)])\n",
        "      pipe.fit(X_train, y_train)\n",
        "      t_end = time.time()\n",
        "\n",
        "      train_time += t_end - t_start\n",
        "      train_score += pipe.score(X_train, y_train)\n",
        "      y_pred = pipe.predict(X_test)\n",
        "      test_score += accuracy_score(y_test,y_pred)\n",
        "      failed_classes = failed_classes.union(set(y_test.astype(int)) - set(y_pred.astype(int)))\n",
        "    train_time /= num_iter\n",
        "    train_score /= num_iter\n",
        "    test_score /= num_iter\n",
        "    failed_classes = label_encoder.inverse_transform(list(failed_classes))\n",
        "\n",
        "    data_list.append([classifier, normalizer_name, train_users, test_users, \n",
        "                        train_score, test_score, train_time, failed_classes])\n",
        "\n",
        "    print('|' , end=' ')\n",
        "    print(classifier, end=' ')\n",
        "    print('|' , end=' ')\n",
        "    print(normalizer_name, end=' ')\n",
        "    print('|' , end=' ')\n",
        "    print(*train_users, sep=\", \", end=' ')\n",
        "    print('|' , end=' ')\n",
        "    print(*test_users, end=' ')\n",
        "    print('|' , end=' ')\n",
        "    print(\"%0.2f\" %(train_score), end=' ')\n",
        "    print('|' , end=' ')\n",
        "    print(\"%0.2f\" %(test_score), end=' ')\n",
        "    print('|' , end=' ')\n",
        "    print(\"%0.3f\" %(train_time), end=' ')\n",
        "    print('|' , end=' ')\n",
        "    print(*failed_classes, sep=\", \", end=' ')\n",
        "    print('|' , end='\\n')\n",
        "\n",
        "df = pd.DataFrame(data_list, columns=[\"Classifier\", \"Normalizer\", \n",
        "                                       \"Train Set\", \"Test Set\",\n",
        "                                       \"Train_Score\", \"Test_Score\", \n",
        "                                       \"Train_Time\", \"Failed Classes\"])\n",
        "  \n",
        "# df = df.sort_values(by=sort_by, ascending=False)\n",
        "# display(df)\n",
        "df.to_csv(\"/content/drive/MyDrive/Hand-Gesture-Recognition/Analysis_3_\" + classifier +\".csv\", index=False)\n",
        "\n",
        "\n"
      ],
      "execution_count": null,
      "outputs": [
        {
          "output_type": "stream",
          "text": [
            "---\n",
            "---\n",
            "> Single User Test Set Normalizers Per Classifier [FILTERED] [FLEX, GYR, ACC_world] \n",
            "---\n",
            "---\n",
            "\n",
            "---\n",
            "**RBF SVM**\n",
            "---\n",
            "| Classifier | Normalizer | Train Set | Test Set | Train Score | Test Score | Train Time | Failed Classes |\n",
            "|:---:|:---:|:---:|:---:|:---:|:---:|:---:|:---:|\n",
            "| RBF SVM | No Normalizer | 002, 003, 004, 005, 006, 007 | 001 | 1.00 | 0.03 | 5.386 | a, b, bad, c, d, deaf, e, f, fine, g, good, goodbye, h, hello, hungry, i, j, k, l, m, me, n, no, o, p, please, q, r, s, sorry, t, thankyou, u, v, w, x, y, yes, you |\n",
            "| RBF SVM | StandardScaler | 002, 003, 004, 005, 006, 007 | 001 | 1.00 | 0.21 | 5.771 | bad, deaf, fine, g, good, goodbye, hello, hungry, j, me, no, s, sorry, thankyou, yes, you, z |\n",
            "| RBF SVM | MinMaxScaler | 002, 003, 004, 005, 006, 007 | 001 | 1.00 | 0.88 | 1.995 | r |\n",
            "| RBF SVM | MaxAbsScaler | 002, 003, 004, 005, 006, 007 | 001 | 1.00 | 0.88 | 2.105 | r |\n",
            "| RBF SVM | RobustScaler | 002, 003, 004, 005, 006, 007 | 001 | 1.00 | 0.20 | 5.678 | bad, deaf, yes, f, fine, you, good, goodbye, hello, j, me, no, please, sorry, thankyou |\n",
            "| RBF SVM | QuantileTransformer-Normal | 002, 003, 004, 005, 006, 007 | 001 | 1.00 | 0.03 | 7.810 | b, bad, c, d, deaf, e, fine, g, good, goodbye, h, hello, hungry, i, j, k, me, n, no, o, please, s, sorry, t, thankyou, u, v, w, x, y, yes, you, z |\n",
            "| RBF SVM | QuantileTransformer-Uniform | 002, 003, 004, 005, 006, 007 | 001 | 1.00 | 0.80 | 7.387 | r, s |\n",
            "| RBF SVM | PowerTransformer-Yeo-Johnson | 002, 003, 004, 005, 006, 007 | 001 | 1.00 | 0.15 | 7.956 | bad, deaf, f, fine, good, goodbye, hello, hungry, j, me, no, s, sorry, thankyou, y, yes, you, z |\n",
            "| RBF SVM | Normalizer | 002, 003, 004, 005, 006, 007 | 001 | 0.85 | 0.50 | 0.911 | v, x, o, you, z, q, hungry |\n",
            "| RBF SVM | No Normalizer | 001, 003, 004, 005, 006, 007 | 002 | 1.00 | 0.03 | 5.382 | a, b, bad, c, d, deaf, e, f, fine, g, good, goodbye, h, hello, hungry, i, j, k, l, m, me, n, no, o, p, please, q, r, s, sorry, t, thankyou, u, v, w, x, y, yes, you |\n",
            "| RBF SVM | StandardScaler | 001, 003, 004, 005, 006, 007 | 002 | 1.00 | 0.28 | 5.791 | bad, deaf, yes, you, fine, z, good, goodbye, hello, hungry, me, no, please, sorry, thankyou |\n",
            "| RBF SVM | MinMaxScaler | 001, 003, 004, 005, 006, 007 | 002 | 1.00 | 0.85 | 2.020 |  |\n",
            "| RBF SVM | MaxAbsScaler | 001, 003, 004, 005, 006, 007 | 002 | 1.00 | 0.85 | 2.154 |  |\n",
            "| RBF SVM | RobustScaler | 001, 003, 004, 005, 006, 007 | 002 | 1.00 | 0.12 | 5.691 | bad, d, deaf, f, fine, g, good, goodbye, h, hello, i, j, me, no, please, sorry, thankyou, y, yes, you |\n",
            "| RBF SVM | QuantileTransformer-Normal | 001, 003, 004, 005, 006, 007 | 002 | 1.00 | 0.03 | 7.931 | a, b, bad, c, d, deaf, e, f, fine, good, goodbye, h, hello, hungry, i, j, k, l, me, n, no, p, please, q, r, s, sorry, t, thankyou, u, v, w, y, yes, you, z |\n",
            "| RBF SVM | QuantileTransformer-Uniform | 001, 003, 004, 005, 006, 007 | 002 | 1.00 | 0.81 | 7.447 |  |\n",
            "| RBF SVM | PowerTransformer-Yeo-Johnson | 001, 003, 004, 005, 006, 007 | 002 | 1.00 | 0.07 | 7.953 | bad, d, deaf, e, f, fine, good, goodbye, h, hello, hungry, j, me, n, no, please, sorry, t, thankyou, u, w, yes, you, z |\n",
            "| RBF SVM | Normalizer | 001, 003, 004, 005, 006, 007 | 002 | 0.85 | 0.45 | 0.899 | v, x, o, r, h, t |\n",
            "| RBF SVM | No Normalizer | 001, 002, 004, 005, 006, 007 | 003 | 1.00 | 0.03 | 5.373 | a, b, bad, c, d, deaf, e, f, fine, g, good, goodbye, h, hello, hungry, i, j, k, l, m, me, n, no, o, p, please, q, r, s, sorry, t, thankyou, u, v, w, x, y, yes, you |\n",
            "| RBF SVM | StandardScaler | 001, 002, 004, 005, 006, 007 | 003 | 1.00 | 0.16 | 5.748 | bad, deaf, yes, you, fine, z, good, goodbye, h, hello, hungry, me, no, o, thankyou |\n",
            "| RBF SVM | MinMaxScaler | 001, 002, 004, 005, 006, 007 | 003 | 1.00 | 0.84 | 1.971 |  |\n",
            "| RBF SVM | MaxAbsScaler | 001, 002, 004, 005, 006, 007 | 003 | 1.00 | 0.86 | 2.110 |  |\n",
            "| RBF SVM | RobustScaler | 001, 002, 004, 005, 006, 007 | 003 | 1.00 | 0.15 | 5.637 | bad, deaf, e, fine, good, goodbye, h, hello, j, me, no, p, please, sorry, thankyou, yes, you |\n",
            "| RBF SVM | QuantileTransformer-Normal | 001, 002, 004, 005, 006, 007 | 003 | 1.00 | 0.04 | 7.859 | b, bad, c, d, deaf, e, f, fine, good, goodbye, h, hello, hungry, i, j, k, me, n, no, o, p, please, q, s, t, thankyou, u, v, w, y, yes, you, z |\n",
            "| RBF SVM | QuantileTransformer-Uniform | 001, 002, 004, 005, 006, 007 | 003 | 1.00 | 0.80 | 7.395 |  |\n",
            "| RBF SVM | PowerTransformer-Yeo-Johnson | 001, 002, 004, 005, 006, 007 | 003 | 1.00 | 0.13 | 7.930 | bad, deaf, f, fine, good, goodbye, h, hello, hungry, j, me, no, o, q, t, thankyou, v, w, yes, you, z |\n",
            "| RBF SVM | Normalizer | 001, 002, 004, 005, 006, 007 | 003 | 0.86 | 0.38 | 0.878 | v, yes, fine, good, goodbye, s |\n",
            "| RBF SVM | No Normalizer | 001, 002, 003, 005, 006, 007 | 004 | 1.00 | 0.03 | 5.378 | a, b, bad, c, d, deaf, e, f, fine, g, good, goodbye, h, hello, hungry, i, j, k, l, m, me, n, no, o, p, please, q, r, s, sorry, t, thankyou, u, v, w, x, y, yes, you |\n",
            "| RBF SVM | StandardScaler | 001, 002, 003, 005, 006, 007 | 004 | 1.00 | 0.12 | 5.791 | bad, deaf, fine, good, goodbye, hello, hungry, m, me, n, no, o, please, q, sorry, t, thankyou, w, yes, you, z |\n",
            "| RBF SVM | MinMaxScaler | 001, 002, 003, 005, 006, 007 | 004 | 1.00 | 0.67 | 1.939 | u, yes, n, sorry, hungry |\n",
            "| RBF SVM | MaxAbsScaler | 001, 002, 003, 005, 006, 007 | 004 | 1.00 | 0.66 | 2.050 | u, yes, n, sorry, hungry |\n",
            "| RBF SVM | RobustScaler | 001, 002, 003, 005, 006, 007 | 004 | 1.00 | 0.03 | 5.642 | a, b, bad, c, d, deaf, e, f, fine, g, good, goodbye, h, hello, i, j, k, l, m, me, n, no, o, p, please, q, r, s, sorry, t, thankyou, u, w, x, y, yes, you |\n",
            "| RBF SVM | QuantileTransformer-Normal | 001, 002, 003, 005, 006, 007 | 004 | 1.00 | 0.03 | 7.884 | a, b, bad, c, d, deaf, e, fine, g, good, goodbye, h, hello, hungry, j, m, me, n, no, o, p, please, q, s, sorry, t, thankyou, u, v, w, y, yes, you, z |\n",
            "| RBF SVM | QuantileTransformer-Uniform | 001, 002, 003, 005, 006, 007 | 004 | 1.00 | 0.51 | 7.420 | a, u, yes, n, please, q, sorry |\n",
            "| RBF SVM | PowerTransformer-Yeo-Johnson | 001, 002, 003, 005, 006, 007 | 004 | 1.00 | 0.03 | 8.258 | a, bad, d, deaf, f, fine, good, goodbye, h, hello, hungry, i, j, k, me, no, o, p, please, q, sorry, t, thankyou, u, v, w, x, y, yes, you, z |\n",
            "| RBF SVM | Normalizer | 001, 002, 003, 005, 006, 007 | 004 | 0.87 | 0.37 | 0.846 | g, i, l, m, n, o, p, q |\n",
            "| RBF SVM | No Normalizer | 001, 002, 003, 004, 006, 007 | 005 | 1.00 | 0.03 | 5.386 | a, b, bad, c, d, deaf, e, f, fine, g, good, goodbye, h, hello, hungry, i, j, k, l, m, me, n, no, o, p, please, q, r, s, sorry, t, thankyou, u, v, w, x, y, yes, you |\n",
            "| RBF SVM | StandardScaler | 001, 002, 003, 004, 006, 007 | 005 | 1.00 | 0.17 | 5.771 | bad, deaf, fine, good, goodbye, hello, hungry, m, me, no, please, q, s, t, thankyou, yes, you, z |\n",
            "| RBF SVM | MinMaxScaler | 001, 002, 003, 004, 006, 007 | 005 | 1.00 | 0.80 | 1.995 |  |\n",
            "| RBF SVM | MaxAbsScaler | 001, 002, 003, 004, 006, 007 | 005 | 1.00 | 0.81 | 2.135 |  |\n",
            "| RBF SVM | RobustScaler | 001, 002, 003, 004, 006, 007 | 005 | 1.00 | 0.14 | 5.691 | bad, deaf, yes, you, fine, good, goodbye, j, me, no, please, q, s, thankyou |\n",
            "| RBF SVM | QuantileTransformer-Normal | 001, 002, 003, 004, 006, 007 | 005 | 1.00 | 0.04 | 7.916 | a, b, bad, c, d, deaf, fine, good, goodbye, hello, hungry, i, j, k, me, n, no, o, p, please, s, sorry, thankyou, v, w, y, yes, you, z |\n",
            "| RBF SVM | QuantileTransformer-Uniform | 001, 002, 003, 004, 006, 007 | 005 | 1.00 | 0.68 | 7.437 | m |\n",
            "| RBF SVM | PowerTransformer-Yeo-Johnson | 001, 002, 003, 004, 006, 007 | 005 | 1.00 | 0.15 | 7.960 | a, bad, deaf, fine, good, goodbye, hello, hungry, j, m, me, no, please, q, s, t, thankyou, yes, you, z |\n",
            "| RBF SVM | Normalizer | 001, 002, 003, 004, 006, 007 | 005 | 0.85 | 0.32 | 0.862 | bad, x, l, g, good, t |\n",
            "| RBF SVM | No Normalizer | 001, 002, 003, 004, 005, 007 | 006 | 1.00 | 0.03 | 5.401 | a, b, bad, c, d, deaf, e, f, fine, g, good, goodbye, h, hello, hungry, i, j, k, l, m, me, n, no, o, p, please, q, r, s, sorry, t, thankyou, u, v, w, x, y, yes, you |\n",
            "| RBF SVM | StandardScaler | 001, 002, 003, 004, 005, 007 | 006 | 1.00 | 0.18 | 5.754 | bad, deaf, fine, good, goodbye, hello, hungry, m, me, no, o, please, q, s, sorry, thankyou, you, z |\n",
            "| RBF SVM | MinMaxScaler | 001, 002, 003, 004, 005, 007 | 006 | 1.00 | 0.80 | 1.961 | v, c, o |\n",
            "| RBF SVM | MaxAbsScaler | 001, 002, 003, 004, 005, 007 | 006 | 1.00 | 0.81 | 2.119 | u, v, o |\n",
            "| RBF SVM | RobustScaler | 001, 002, 003, 004, 005, 007 | 006 | 1.00 | 0.15 | 5.699 | bad, deaf, fine, good, goodbye, hungry, j, me, n, no, o, please, q, s, sorry, thankyou, u, v, yes, you |\n",
            "| RBF SVM | QuantileTransformer-Normal | 001, 002, 003, 004, 005, 007 | 006 | 1.00 | 0.04 | 7.918 | b, bad, deaf, fine, good, goodbye, hello, hungry, i, j, k, l, me, no, please, q, s, sorry, t, thankyou, v, w, y, yes, you, z |\n",
            "| RBF SVM | QuantileTransformer-Uniform | 001, 002, 003, 004, 005, 007 | 006 | 1.00 | 0.73 | 7.430 | u, c, o |\n",
            "| RBF SVM | PowerTransformer-Yeo-Johnson | 001, 002, 003, 004, 005, 007 | 006 | 1.00 | 0.17 | 8.020 | bad, deaf, fine, good, goodbye, hello, hungry, j, me, no, o, please, q, s, sorry, t, thankyou, v, yes, you, z |\n",
            "| RBF SVM | Normalizer | 001, 002, 003, 004, 005, 007 | 006 | 0.87 | 0.32 | 0.886 | u, bad, you, z, fine, hello, l, o, please |\n",
            "| RBF SVM | No Normalizer | 001, 002, 003, 004, 005, 006 | 007 | 1.00 | 0.03 | 5.415 | a, b, bad, c, d, deaf, e, f, fine, g, good, goodbye, h, hello, hungry, i, j, k, l, m, me, n, no, o, p, please, q, r, s, sorry, t, thankyou, u, v, w, x, y, yes, you |\n",
            "| RBF SVM | StandardScaler | 001, 002, 003, 004, 005, 006 | 007 | 1.00 | 0.10 | 5.761 | b, bad, deaf, fine, g, good, goodbye, h, hello, hungry, j, l, m, me, no, please, q, s, sorry, thankyou, u, v, x, yes, you, z |\n",
            "| RBF SVM | MinMaxScaler | 001, 002, 003, 004, 005, 006 | 007 | 1.00 | 0.67 | 1.915 | l, x, e, s, t |\n",
            "| RBF SVM | MaxAbsScaler | 001, 002, 003, 004, 005, 006 | 007 | 1.00 | 0.68 | 2.062 | x, e, g, s, t |\n",
            "| RBF SVM | RobustScaler | 001, 002, 003, 004, 005, 006 | 007 | 1.00 | 0.10 | 5.729 | b, bad, deaf, fine, good, goodbye, hello, j, l, me, n, no, please, s, sorry, t, thankyou, v, x, yes, you |\n",
            "| RBF SVM | QuantileTransformer-Normal | 001, 002, 003, 004, 005, 006 | 007 | 1.00 | 0.02 | 7.938 | a, b, bad, c, d, deaf, f, fine, g, good, goodbye, hello, hungry, i, j, m, me, no, o, p, please, q, r, s, sorry, thankyou, u, x, yes, you, z |\n",
            "| RBF SVM | QuantileTransformer-Uniform | 001, 002, 003, 004, 005, 006 | 007 | 1.00 | 0.57 | 7.435 | v, x, e, g, s |\n",
            "| RBF SVM | PowerTransformer-Yeo-Johnson | 001, 002, 003, 004, 005, 006 | 007 | 1.00 | 0.06 | 7.942 | b, bad, deaf, f, fine, g, good, goodbye, h, hello, hungry, j, m, me, no, please, q, s, sorry, t, thankyou, u, v, w, x, yes, you, z |\n",
            "| RBF SVM | Normalizer | 001, 002, 003, 004, 005, 006 | 007 | 0.86 | 0.20 | 0.713 | u, b, e, h, hello, i, q, r, s, thankyou |\n"
          ],
          "name": "stdout"
        }
      ]
    }
  ]
}